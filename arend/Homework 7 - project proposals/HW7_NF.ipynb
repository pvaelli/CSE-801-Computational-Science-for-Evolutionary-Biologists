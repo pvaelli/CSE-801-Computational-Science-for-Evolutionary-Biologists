{
 "cells": [
  {
   "cell_type": "markdown",
   "metadata": {},
   "source": [
    "I would like to develop a model of gene expression over time that utilizes simple and boolean logic gates as a means of regulation.  This model will be used to address the following questions:\n",
    "    What occurs to the output intensity if the input intensity is altered?\n",
    "    How does the expression change over time when AND, OR, and NAND gates are applied?\n",
    "    While modeling these logic gates, how does adding a negative feedback loop alter the gene expression profile over     time?\n",
    "\n",
    "This model will lack the complexity of other models in that it will not take into account the turnover time of molecules and the biochemical interactions between molecules.  And it will probably lack sufficient calculus and differential equations...\n",
    "\n"
   ]
  },
  {
   "cell_type": "markdown",
   "metadata": {},
   "source": [
    "AH: in order to make a GRN right you need the differential equations to model the thing. However, there is something called a boolean threshold network and there is often the question under which circumstances they are chaotic and when they are stable. I think nobody looked into other type of logic networks. \n",
    "\n",
    "Making a GRN (gene regulatory network) alone is a worthy task, depending on how far you get, adding those question in might be a good idea."
   ]
  },
  {
   "cell_type": "code",
   "execution_count": null,
   "metadata": {
    "collapsed": true
   },
   "outputs": [],
   "source": []
  }
 ],
 "metadata": {
  "kernelspec": {
   "display_name": "Python 2",
   "language": "python",
   "name": "python2"
  },
  "language_info": {
   "codemirror_mode": {
    "name": "ipython",
    "version": 2
   },
   "file_extension": ".py",
   "mimetype": "text/x-python",
   "name": "python",
   "nbconvert_exporter": "python",
   "pygments_lexer": "ipython2",
   "version": "2.7.10"
  }
 },
 "nbformat": 4,
 "nbformat_minor": 0
}
