{
 "cells": [
  {
   "cell_type": "markdown",
   "metadata": {},
   "source": [
    "## Project Idea(s)"
   ]
  },
  {
   "cell_type": "markdown",
   "metadata": {},
   "source": [
    "1) Are millenials really having fewer babies?\n",
    "A report released by the Urban Institute found that millennial women are reproducing at the slowest pace of any generation in U.S. history.\n",
    "I would combine data from the US Census Bureau (collects data on fertility in several of its surveys) and the CDC National Health Statistics (estimates fertility rates gathered from information on birth certificates collected from each state).\n",
    "It would be interesting to compare overall mean fertility rates for women across the years (e.g.2000,2005,2020,2015, and compare the fertility rates across ethnicities.\n",
    "I think it would also be possible to extract data on the mean age of mother at first birth and see how this value has changed over the years (are millenials having kids later in life compared to previous generations?). The Gallup poll has some interesting results on people's attitudes regarding chidlbearing.\n",
    "\n",
    "2) The growing demographic of Latinos/Hispanics in the US------\n",
    "NPR releasted an article claiming: \"Let's turn now to California where newly released data from the Census Bureau shows Latinos now outnumber whites. California is not the first state where this has happened. It's already the case in New Mexico, but, of course, the numbers are so much bigger in California.\"\n",
    "Fact: Hispanics/Latinos are the largest growing ethnic group in the US.\n",
    "I want to analyze the population number (and growth) of Hispanics/Latinos compared to non-Hispanic whites across the years and possibly by state, using data from Census Bureau (e.g. compare Hispanic population in Virginia in 1998 and 2010; or compare proportion of overall US population that is Hispanic/Latino in 2000 vs. 2015, OR population growth of Hispanic/Latinos in 2005 compared to 2015--maybe there was a boom in growth one particular year).\n",
    "There are theories that negative treatment and racism against Hispanics/Latinos is due to their growing numbers in  the US. It would be interesting to couple census data with people's attitudes of Hispanics/Latinos in the US (data from gallup poll or twitter). In addition, will a growth in population necessarily translate to a growth in political power for Latinos?\n",
    "\n",
    "These two projects are way too complicated, so feel free to suggest a more manageable, but related project! \n",
    "I am also still interested in the original project we talked about (relationship status and blogger interests) or something in that vein. \n",
    "\n",
    "### In reality, I want my project to be fun, interesting, and simple!"
   ]
  },
  {
   "cell_type": "markdown",
   "metadata": {
    "collapsed": true
   },
   "source": [
    "Both projects require you to obtain the data, aggregate and then plot. The difficulty depends on how the data is presented to you. \n",
    "In the blogger case, you could try to correlate self reported interests, like: How does keywords like \"children\" \"education\" \"large family\" and so forth cross correlate\n",
    "\n",
    "The data I have is lists with name,gender,location, interests as csv files, in total for about 200 interest searches. So each of those 200 files lists up to 5000 blogger that have one of these interests - this data has location but not ethnicisity ... so it would either be about gender or about location .\n",
    "\n"
   ]
  },
  {
   "cell_type": "markdown",
   "metadata": {},
   "source": [
    "epigenetics"
   ]
  },
  {
   "cell_type": "code",
   "execution_count": null,
   "metadata": {
    "collapsed": true
   },
   "outputs": [],
   "source": []
  }
 ],
 "metadata": {
  "kernelspec": {
   "display_name": "Python 2",
   "language": "python",
   "name": "python2"
  },
  "language_info": {
   "codemirror_mode": {
    "name": "ipython",
    "version": 2
   },
   "file_extension": ".py",
   "mimetype": "text/x-python",
   "name": "python",
   "nbconvert_exporter": "python",
   "pygments_lexer": "ipython2",
   "version": "2.7.10"
  }
 },
 "nbformat": 4,
 "nbformat_minor": 0
}
