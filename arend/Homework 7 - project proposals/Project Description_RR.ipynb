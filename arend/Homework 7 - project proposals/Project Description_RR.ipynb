{
 "cells": [
  {
   "cell_type": "markdown",
   "metadata": {},
   "source": [
    "I plan on implementing a spatial simulation for some work I am doing, for my project. The model is relatively simple, but I want to implement it in a spatial context. The idea is to model snow leopard populations living in Trans-Himalayas, and examine effects of varying parameters on its equilibrium values. The snow leopard usually preys upon wild herbivores. However, humans living near snow leopard habitats have livestock. This livestock out-competes wild prey for resources, and starts occupying their habitat. This, in turn, results in snow leopards attacking livestock and feeding on them. To protect their livestock, people start killing snow leopards. This is a problem because snow leopard is an endangered species.For the model, I will have one differential equation each for the wild prey, snow leopard and livestock. Like the bunny-predator simulation, I will set up a spatial grid and simulate these equations. "
   ]
  },
  {
   "cell_type": "markdown",
   "metadata": {
    "collapsed": true
   },
   "source": [
    "AH: alternatively you define a payoff table that sets the payoffs for each agent in the simulation and then move this into the spacial domain\n",
    "\n",
    "Either way, straight forward problem."
   ]
  },
  {
   "cell_type": "code",
   "execution_count": null,
   "metadata": {
    "collapsed": true
   },
   "outputs": [],
   "source": [
    "What is the observed output\n"
   ]
  }
 ],
 "metadata": {
  "kernelspec": {
   "display_name": "Python 2",
   "language": "python",
   "name": "python2"
  },
  "language_info": {
   "codemirror_mode": {
    "name": "ipython",
    "version": 2
   },
   "file_extension": ".py",
   "mimetype": "text/x-python",
   "name": "python",
   "nbconvert_exporter": "python",
   "pygments_lexer": "ipython2",
   "version": "2.7.10"
  }
 },
 "nbformat": 4,
 "nbformat_minor": 0
}
