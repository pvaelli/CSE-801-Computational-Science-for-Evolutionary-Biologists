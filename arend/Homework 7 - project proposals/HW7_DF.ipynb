{
 "cells": [
  {
   "cell_type": "markdown",
   "metadata": {},
   "source": [
    "Similar to the childrens movie, Finding Nemo, where the two fish had to swim through a field of jellyfish to get to the other side, I want to create a model where two objects (fish) will swim through a field of obsticles (jellyfish). They will start on one end of the field, with walls on either side, and stop when they get to the other side. The goal of this modeling will be to test how different strategies of swimming effect the amount of time it takes to get through the field. One fish will be faster at moving straight forward while the other fish will have a higher probability of dodging an obsticle (aka better agility). Then, I will be able to change the parameters of the size of the field, number of obsticles, and probabilities of dodging to test how the success of each strategy changes."
   ]
  },
  {
   "cell_type": "markdown",
   "metadata": {
    "collapsed": true
   },
   "source": [
    "AH: Awesome, the theoretical mathematical background for this is percolation theory"
   ]
  },
  {
   "cell_type": "code",
   "execution_count": null,
   "metadata": {
    "collapsed": true
   },
   "outputs": [],
   "source": []
  }
 ],
 "metadata": {
  "kernelspec": {
   "display_name": "Python 2",
   "language": "python",
   "name": "python2"
  },
  "language_info": {
   "codemirror_mode": {
    "name": "ipython",
    "version": 2
   },
   "file_extension": ".py",
   "mimetype": "text/x-python",
   "name": "python",
   "nbconvert_exporter": "python",
   "pygments_lexer": "ipython2",
   "version": "2.7.10"
  }
 },
 "nbformat": 4,
 "nbformat_minor": 0
}
