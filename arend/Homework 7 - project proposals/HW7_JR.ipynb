{
 "cells": [
  {
   "cell_type": "markdown",
   "metadata": {},
   "source": [
    "I would like to try to model the time it take to develop a mutation that confers antibiotic resistance in the presence of an antibiotic in a microbial population. For example one antibiotic one homogenous population of bacteria that develops mutations to require resistance. If i can do this i would also like to look at fitness between populations and see if mutants are more or less fit than their ancestors. also how does changing mutation rate and antiobiotic resistance concentration effect this. "
   ]
  }
 ],
 "metadata": {
  "kernelspec": {
   "display_name": "Python 2",
   "language": "python",
   "name": "python2"
  },
  "language_info": {
   "codemirror_mode": {
    "name": "ipython",
    "version": 2
   },
   "file_extension": ".py",
   "mimetype": "text/x-python",
   "name": "python",
   "nbconvert_exporter": "python",
   "pygments_lexer": "ipython2",
   "version": "2.7.10"
  }
 },
 "nbformat": 4,
 "nbformat_minor": 0
}
