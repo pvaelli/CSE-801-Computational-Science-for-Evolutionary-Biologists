{
 "cells": [
  {
   "cell_type": "markdown",
   "metadata": {},
   "source": [
    "I wanted to do something that modeled cooperation. I know people have done that, but I haven't been able to figure out how I would make the organisms interact. I am still mulling this over. So my second idea has been to create a timer using x's. I would start with two triangles and then add parts. I could add a base and/or show the timer filling up."
   ]
  },
  {
   "cell_type": "markdown",
   "metadata": {},
   "source": [
    "AH: well, I know all about Game theory, so the first project has many possible ways of getting at an interesting game. Kyle proposed a similar question\n",
    "\n",
    "The timer thing I don't understand? Do you mean a sand clock simulation?"
   ]
  },
  {
   "cell_type": "code",
   "execution_count": null,
   "metadata": {
    "collapsed": true
   },
   "outputs": [],
   "source": []
  }
 ],
 "metadata": {
  "kernelspec": {
   "display_name": "Python 2",
   "language": "python",
   "name": "python2"
  },
  "language_info": {
   "codemirror_mode": {
    "name": "ipython",
    "version": 2
   },
   "file_extension": ".py",
   "mimetype": "text/x-python",
   "name": "python",
   "nbconvert_exporter": "python",
   "pygments_lexer": "ipython2",
   "version": "2.7.10"
  }
 },
 "nbformat": 4,
 "nbformat_minor": 0
}
