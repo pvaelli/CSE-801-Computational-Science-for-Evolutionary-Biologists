{
 "cells": [
  {
   "cell_type": "markdown",
   "metadata": {},
   "source": [
    "# Project Idea\n",
    "\n",
    "For my project, I was thinking it would be neat to model a food chain using the bunnies-raptor sytem. I would modify the code to include a randomly distributed food resource that the bunnies would eat if they landed on it. The rules would be the same for the raptor (half the time it moves and if it lands on a bunny it eats it and reproduces), but a bunny will only reproduce when it eats the food resource. I was thinking that the food resource could be randomly changed every time a bunny or raptor moves, as in a random cell (that doesn't contain a bunny or raptor) would be chosen and be changed from filled to empty or vice versa. Also, if you choose a random empty cell then it would become filled with food (these together are supposed to ensure that the food is replaced). I would plot this and show how the interactions between the species change as the initial number of bunnies and raptors are changed."
   ]
  },
  {
   "cell_type": "markdown",
   "metadata": {},
   "source": [
    "I'm not sure if this is too complex or too simple of a project. If I was able to do the proposed project and had the time I would maybe try to further it by adding another prey species and trying to make a diamond food web (where one prey is good at eating food and reproducing but bad at avoiding death by predators and the other is the opposite)."
   ]
  },
  {
   "cell_type": "markdown",
   "metadata": {
    "collapsed": true
   },
   "source": [
    "AH: Try to think about a hypothesis to test, like: \"Does Pred, Prey relation depend on the mobility of the extra food source?\" \"Can a stable eco system exist if the food only grows into adjacent cells?\"\n",
    "In the end you would run the model with different conditions and plot an outcome over these conditions (parameter sweep)\n",
    "I like the approach to increase complexity over project time."
   ]
  },
  {
   "cell_type": "code",
   "execution_count": null,
   "metadata": {
    "collapsed": true
   },
   "outputs": [],
   "source": []
  }
 ],
 "metadata": {
  "kernelspec": {
   "display_name": "Python 2",
   "language": "python",
   "name": "python2"
  },
  "language_info": {
   "codemirror_mode": {
    "name": "ipython",
    "version": 2
   },
   "file_extension": ".py",
   "mimetype": "text/x-python",
   "name": "python",
   "nbconvert_exporter": "python",
   "pygments_lexer": "ipython2",
   "version": "2.7.10"
  }
 },
 "nbformat": 4,
 "nbformat_minor": 0
}
