{
 "cells": [
  {
   "cell_type": "raw",
   "metadata": {},
   "source": []
  },
  {
   "cell_type": "markdown",
   "metadata": {},
   "source": [
    "# Cheaters in the Legume Rhizobia symbiosis\n"
   ]
  },
  {
   "cell_type": "markdown",
   "metadata": {},
   "source": [
    "I would like to create a model in python that focuses on partner selection between mutualistic organisms. In theory, organisms have the ability to preferentially select their partners in a mutualistic relationship, such as the legume rhizobia symbiosis. However, sometimes organisms cheat (game theory example). Using the legume rhizobia model, I would like to “investigate” how effective selective measures must be to drive cheater populations extinct. The model would use constant “pressure” or effectiveness of two parameters, partner fidelity feedback and sanctions, to “drive” populations out. However, it is believed that the prevalence of certain interactions (mixed nodules) increases the rate of cheating. I would like to set up a basic model that allows me to explore how much stronger the sanctioning mechanism must be to overcome the emergence of cheaters caused by the mixed nodule type. \n",
    "\n",
    "The idea is that mixed nodules will occur randomly x% of the time. And the sanctioning mechanism will be flawed x% of the time with partner fidelity feedback favoring cooperative organisms x% of the time. I would first find the relative equilibrium that the cheating population would fall to and then see how manipulating parameters (sanctions and the prevalence of mixed nodules) would effect the relative equilibrium value. \n",
    "\n",
    "Thoughts: I’m not sure if this way too complicated. However, I really like the idea of modeling partner selection interactions. I’m curious if I need to simplify this or if it is overall too complicated for me to model with my current python knowledge. \n"
   ]
  },
  {
   "cell_type": "markdown",
   "metadata": {
    "collapsed": true
   },
   "source": [
    "AH: \n",
    "Option 1 is to define a payoff table that specifies what each interaction partner receives as payoff and then go down the line of game theory\n",
    "Option 2 is to define a method of preferential selection and start modeling that. You would probably get a model for sexual selection you could then build on\n",
    "\n",
    "There is one other issue: The term \"selection measures\" is a vague concept, better would be to think in terms of cost and benefits or payoffs for interactions. Think of the problem this way: how would you change \"selection measures\"?\n",
    "\n"
   ]
  }
 ],
 "metadata": {
  "kernelspec": {
   "display_name": "Python 2",
   "language": "python",
   "name": "python2"
  },
  "language_info": {
   "codemirror_mode": {
    "name": "ipython",
    "version": 2
   },
   "file_extension": ".py",
   "mimetype": "text/x-python",
   "name": "python",
   "nbconvert_exporter": "python",
   "pygments_lexer": "ipython2",
   "version": "2.7.10"
  }
 },
 "nbformat": 4,
 "nbformat_minor": 0
}
