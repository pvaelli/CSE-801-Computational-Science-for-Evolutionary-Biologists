{
 "cells": [
  {
   "cell_type": "markdown",
   "metadata": {},
   "source": [
    "## Final indepenedent project \n",
    "\n",
    "Jie Wang\n",
    "\n",
    "_Fusarium virguliforme_ is a fungal pathogen causing severe diseases on soybean, which is responsible for almost 300 million dollar yield loss every year. Despite the devastating consequences caused by this disease, epidemiology of this disease is merely studied. From 2012 to 2014, I have colledted almost 550 isolates of this pathogen from multiple locations of most soybean producing areas in the United States in order to study the epidemiology of this pathogen using population genetic techniques. Currently, all the isolates were genotypes using microsatellite (also known as __simple sequence repeat (SSR)__) genetic markers. The genetic diversity and structure were estimated for each of the sampling population. Due to the asexual reproduction nature of this fungal pathogen, many population genetics analytic tools are not applicable for my data analysis because of assumption violations. Therefore, I would like to develop a simulation tool to predict the founding age of the newly established population.\n",
    "\n",
    "Microsatellites are the DNA based molecular markers that vary in length of its composed motif size ranged from 2-6 bp in length. The polymorphism of the marker is based on the repeat number of each microsatellite locus. I would run a simulation to test how many generations does it by starting from one genotype to achieve the level of current genetic diversity assuming no additional immigration."
   ]
  },
  {
   "cell_type": "markdown",
   "metadata": {
    "collapsed": true
   },
   "source": [
    "AH: Makes total sense, try to isolate single parameters that influence the diveristy like: total population size, mutation rate, death rate ... pick one of these parameters to perform a sweep. "
   ]
  },
  {
   "cell_type": "code",
   "execution_count": null,
   "metadata": {
    "collapsed": true
   },
   "outputs": [],
   "source": []
  }
 ],
 "metadata": {
  "kernelspec": {
   "display_name": "Python 2",
   "language": "python",
   "name": "python2"
  },
  "language_info": {
   "codemirror_mode": {
    "name": "ipython",
    "version": 2
   },
   "file_extension": ".py",
   "mimetype": "text/x-python",
   "name": "python",
   "nbconvert_exporter": "python",
   "pygments_lexer": "ipython2",
   "version": "2.7.10"
  }
 },
 "nbformat": 4,
 "nbformat_minor": 0
}
