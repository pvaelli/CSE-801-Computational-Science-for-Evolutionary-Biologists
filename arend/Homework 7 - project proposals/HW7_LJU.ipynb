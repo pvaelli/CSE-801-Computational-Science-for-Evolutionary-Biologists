{
 "cells": [
  {
   "cell_type": "markdown",
   "metadata": {
    "collapsed": true
   },
   "source": [
    "I was thinking it would be an interesting and fun challenge to program the game of chess. It wouldn't be too hard I believe to program automatic moves for the computer and perhaps the player would have to use a move function each turn.\n",
    "\n",
    "For something more related to biology or evolution two other ideas I had was to make a program that navigates a maze or minimizes steps to a key spot. Or create a fitness landscape where the ideal genome changes every generation (in a predictable or unpredictable way) and use this to see how diversity of genotypes changes in response. I could compare this to how diversity of genotypes changes over generations in the way we programmed fitness landscapes in class 13 and 14. "
   ]
  },
  {
   "cell_type": "markdown",
   "metadata": {},
   "source": [
    "AH: Chess is one of the things everyone should program once in their lives ... it is rather hard to actually make even a decent opponent, min max optimization is the issue here, but as long as you don't want to have a perfect opponent you can just \"hack away\" - you will learn a ton of code, and I have a couple of easy to code strategies that are worth trying out\n",
    "\n",
    "The maze solver is known as Deijkstra algorithm, you could however \"evolve\" the solution for a particular maze ...\n",
    "\n",
    "I did a project on diversity and open ended evolution where in one case you implement \"fit when rare\" and in the other case \"fit when abundant\" in the first place you get open ended evolution, in the other you converge on a single solution more or less immediately.\n",
    "\n",
    "The evolution projects have great outreach potential. The chess one is jumping into the deep end of programming, but we can make the easier. The maze solver is less fun than it sounds, but you could evolve the brain for maze solving ... \n",
    "\n",
    "There are also a couple of other simple \"game options\" for example make a strategy for the game 2048 or evolve a strategy for 2048 ... \n",
    "\n",
    "In essence: Do the thing that challenges you most, while being the one you are most interested in, since eithe project will be a challenge you need to \"endure\" for two month."
   ]
  },
  {
   "cell_type": "code",
   "execution_count": null,
   "metadata": {
    "collapsed": true
   },
   "outputs": [],
   "source": []
  }
 ],
 "metadata": {
  "kernelspec": {
   "display_name": "Python 2",
   "language": "python",
   "name": "python2"
  },
  "language_info": {
   "codemirror_mode": {
    "name": "ipython",
    "version": 2
   },
   "file_extension": ".py",
   "mimetype": "text/x-python",
   "name": "python",
   "nbconvert_exporter": "python",
   "pygments_lexer": "ipython2",
   "version": "2.7.10"
  }
 },
 "nbformat": 4,
 "nbformat_minor": 0
}
