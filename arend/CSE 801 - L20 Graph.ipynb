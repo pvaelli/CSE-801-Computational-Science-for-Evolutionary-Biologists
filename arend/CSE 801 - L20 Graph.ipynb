{
 "cells": [
  {
   "cell_type": "code",
   "execution_count": 1,
   "metadata": {
    "collapsed": false
   },
   "outputs": [
    {
     "name": "stdout",
     "output_type": "stream",
     "text": [
      "Populating the interactive namespace from numpy and matplotlib\n"
     ]
    }
   ],
   "source": [
    "%pylab inline"
   ]
  },
  {
   "cell_type": "code",
   "execution_count": 2,
   "metadata": {
    "collapsed": true
   },
   "outputs": [],
   "source": [
    "from pandas import *\n",
    "import random"
   ]
  },
  {
   "cell_type": "code",
   "execution_count": 29,
   "metadata": {
    "collapsed": false
   },
   "outputs": [
    {
     "name": "stdout",
     "output_type": "stream",
     "text": [
      "2 -> 10\n",
      "6 -> 6\n",
      "0 -> 8\n",
      "10 -> 7\n",
      "1 -> 0\n",
      "4 -> 2\n",
      "10 -> 4\n",
      "2 -> 6\n",
      "8 -> 6\n",
      "6 -> 3\n",
      "\n",
      "10\n",
      "set([0, 1, 2, 3, 4, 6, 7, 8, 10])\n",
      "[[0, 0, 0, 0, 0, 0, 0, 0, 1, 0, 0], [1, 0, 0, 0, 0, 0, 0, 0, 0, 0, 0], [0, 0, 0, 0, 0, 0, 1, 0, 0, 0, 1], [0, 0, 0, 0, 0, 0, 0, 0, 0, 0, 0], [0, 0, 1, 0, 0, 0, 0, 0, 0, 0, 0], [0, 0, 0, 0, 0, 0, 0, 0, 0, 0, 0], [0, 0, 0, 1, 0, 0, 1, 0, 0, 0, 0], [0, 0, 0, 0, 0, 0, 0, 0, 0, 0, 0], [0, 0, 0, 0, 0, 0, 1, 0, 0, 0, 0], [0, 0, 0, 0, 0, 0, 0, 0, 0, 0, 0], [0, 0, 0, 0, 1, 0, 0, 1, 0, 0, 0]]\n",
      "{0: [8], 1: [0], 2: [10, 6], 4: [2], 6: [6, 3], 8: [6], 10: [7, 4]}\n"
     ]
    },
    {
     "data": {
      "image/png": "[encoded data removed]",
      "text/plain": [
       "<matplotlib.figure.Figure at 0x1057d92d0>"
      ]
     },
     "metadata": {},
     "output_type": "display_data"
    }
   ],
   "source": [
    "class Graph():\n",
    "    def __init__(self):\n",
    "        self.edgeList=list()\n",
    "        \n",
    "    def addDirectedEdge(self,origin,target):\n",
    "        self.edgeList.append([origin,target])\n",
    "    \n",
    "    def addUndirectedEdge(self,node1,node2):\n",
    "        self.addDirectedEdge(node1,node2)\n",
    "        self.addDirectedEdge(node2,node1)\n",
    "        \n",
    "    #add step 2    \n",
    "    def show(self):\n",
    "        for i in self.edgeList:\n",
    "            print i\n",
    "            \n",
    "    def __str__(self):\n",
    "        S=\"\"\n",
    "        for i in self.edgeList:\n",
    "            S=S+\"{0} -> {1}\\n\".format(i[0],i[1])\n",
    "        return S\n",
    "        \n",
    "    #add step 3\n",
    "    def nrOfEdges(self):\n",
    "        return len(self.edgeList)\n",
    "    \n",
    "    #add step 4\n",
    "    def nodeList(self):\n",
    "        nodeL=set()\n",
    "        for edge in self.edgeList:\n",
    "            nodeL.add(edge[0])\n",
    "            nodeL.add(edge[1])\n",
    "        return nodeL\n",
    "    \n",
    "    def nrOfNodes(self):\n",
    "        return len(self.nodeList())\n",
    "    \n",
    "    #add step 5\n",
    "    def connectivityMatrix(self):\n",
    "        N=max(self.nodeList())\n",
    "        A=list()\n",
    "        for i in range(N+1):\n",
    "            A.append([0]*(N+1))\n",
    "        for edge in self.edgeList:\n",
    "            A[edge[0]][edge[1]]=A[edge[0]][edge[1]]+1\n",
    "        return A\n",
    "        \n",
    "    #add step 6\n",
    "    def nodeMap(self):\n",
    "        nm=dict()\n",
    "        for edge in self.edgeList:\n",
    "            if edge[0] not in nm:\n",
    "                nm[edge[0]]=list()\n",
    "            nm[edge[0]].append(edge[1])\n",
    "        return nm\n",
    "        \n",
    "myGraph=Graph()\n",
    "for i in range(10):\n",
    "    myGraph.addDirectedEdge(random.randint(0,10),random.randint(0,10))\n",
    "print myGraph\n",
    "#--\n",
    "print myGraph.nrOfEdges()\n",
    "\n",
    "print myGraph.nodeList()\n",
    "#--\n",
    "print myGraph.connectivityMatrix()\n",
    "imshow(myGraph.connectivityMatrix(),interpolation='nearest',cmap='gray')\n",
    "#--\n",
    "print myGraph.nodeMap()\n",
    "#-- \n"
   ]
  },
  {
   "cell_type": "code",
   "execution_count": 22,
   "metadata": {
    "collapsed": false
   },
   "outputs": [
    {
     "name": "stdout",
     "output_type": "stream",
     "text": [
      "10\n"
     ]
    }
   ],
   "source": [
    "print max(myGraph.nodeList())"
   ]
  },
  {
   "cell_type": "code",
   "execution_count": 3,
   "metadata": {
    "collapsed": false
   },
   "outputs": [
    {
     "name": "stdout",
     "output_type": "stream",
     "text": [
      "[1, 2, 'spam']\n",
      "[(1, 2)]\n"
     ]
    },
    {
     "data": {
      "text/plain": [
       "[(1, 2)]"
      ]
     },
     "execution_count": 3,
     "metadata": {},
     "output_type": "execute_result"
    }
   ],
   "source": [
    "import networkx as nx\n",
    "G=nx.Graph()\n",
    "G.add_node(\"spam\")\n",
    "G.add_edge(1,2)\n",
    "print(G.nodes())\n",
    "[1, 2, 'spam']\n",
    "print(G.edges())\n",
    "[(1, 2)]\n"
   ]
  },
  {
   "cell_type": "code",
   "execution_count": 6,
   "metadata": {
    "collapsed": false
   },
   "outputs": [],
   "source": [
    "G=nx.Graph()\n",
    "G.add_edges_from([(1,2),(1,3)])\n",
    "G.add_node(\"spam\")       # adds node \"spam\"\n",
    "components=nx.connected_components(G)"
   ]
  },
  {
   "cell_type": "code",
   "execution_count": 10,
   "metadata": {
    "collapsed": false
   },
   "outputs": [
    {
     "name": "stdout",
     "output_type": "stream",
     "text": [
      "[set([1, 2, 3]), set(['spam'])]\n"
     ]
    }
   ],
   "source": [
    "print list(components)"
   ]
  },
  {
   "cell_type": "code",
   "execution_count": 11,
   "metadata": {
    "collapsed": false
   },
   "outputs": [
    {
     "name": "stdout",
     "output_type": "stream",
     "text": [
      "{1: {1: [1], 2: [1, 2], 3: [1, 3]}, 2: {1: [2, 1], 2: [2], 3: [2, 1, 3]}, 3: {1: [3, 1], 2: [3, 1, 2], 3: [3]}, 'spam': {'spam': ['spam']}}\n"
     ]
    }
   ],
   "source": [
    "print nx.shortest_path(G)"
   ]
  },
  {
   "cell_type": "code",
   "execution_count": 12,
   "metadata": {
    "collapsed": false
   },
   "outputs": [
    {
     "name": "stdout",
     "output_type": "stream",
     "text": [
      "{1: {1: 0, 2: 1, 3: 1}, 2: {1: 1, 2: 0, 3: 2}, 3: {1: 1, 2: 2, 3: 0}, 'spam': {'spam': 0}}\n"
     ]
    }
   ],
   "source": [
    "print nx.shortest_path_length(G)"
   ]
  },
  {
   "cell_type": "code",
   "execution_count": 4,
   "metadata": {
    "collapsed": false
   },
   "outputs": [
    {
     "name": "stdout",
     "output_type": "stream",
     "text": [
      "set([1, 2, '3'])\n"
     ]
    }
   ],
   "source": []
  },
  {
   "cell_type": "code",
   "execution_count": 7,
   "metadata": {
    "collapsed": true
   },
   "outputs": [],
   "source": [
    "L=list()\n",
    "D=dict()\n",
    "S=set()"
   ]
  },
  {
   "cell_type": "code",
   "execution_count": 9,
   "metadata": {
    "collapsed": false
   },
   "outputs": [
    {
     "name": "stdout",
     "output_type": "stream",
     "text": [
      "[]\n",
      "{}\n",
      "set([])\n"
     ]
    }
   ],
   "source": [
    "print L\n",
    "print D\n",
    "print S"
   ]
  },
  {
   "cell_type": "code",
   "execution_count": 19,
   "metadata": {
    "collapsed": false
   },
   "outputs": [
    {
     "name": "stdout",
     "output_type": "stream",
     "text": [
      "set([2, 4, 'Arend', 'arend'])\n"
     ]
    }
   ],
   "source": [
    "S.add(4)\n",
    "S.add(2)\n",
    "S.add(\"arend\")\n",
    "print S"
   ]
  },
  {
   "cell_type": "code",
   "execution_count": 20,
   "metadata": {
    "collapsed": false
   },
   "outputs": [
    {
     "name": "stdout",
     "output_type": "stream",
     "text": [
      "set([2, 4, 'Arend', 'arend'])\n"
     ]
    }
   ],
   "source": [
    "S.add(2)\n",
    "print S"
   ]
  },
  {
   "cell_type": "code",
   "execution_count": 21,
   "metadata": {
    "collapsed": false
   },
   "outputs": [
    {
     "name": "stdout",
     "output_type": "stream",
     "text": [
      "2\n",
      "4\n",
      "Arend\n",
      "arend\n"
     ]
    }
   ],
   "source": [
    "for s in S:\n",
    "    print s"
   ]
  },
  {
   "cell_type": "code",
   "execution_count": 22,
   "metadata": {
    "collapsed": true
   },
   "outputs": [],
   "source": [
    "S.remove(\"arend\")"
   ]
  },
  {
   "cell_type": "code",
   "execution_count": 23,
   "metadata": {
    "collapsed": false
   },
   "outputs": [
    {
     "name": "stdout",
     "output_type": "stream",
     "text": [
      "set([2, 4, 'Arend'])\n"
     ]
    }
   ],
   "source": [
    "print S"
   ]
  },
  {
   "cell_type": "code",
   "execution_count": 24,
   "metadata": {
    "collapsed": false
   },
   "outputs": [
    {
     "ename": "KeyError",
     "evalue": "'arend'",
     "output_type": "error",
     "traceback": [
      "\u001b[0;31m---------------------------------------------------------------------------\u001b[0m",
      "\u001b[0;31mKeyError\u001b[0m                                  Traceback (most recent call last)",
      "\u001b[0;32m<ipython-input-24-c3036af945d1>\u001b[0m in \u001b[0;36m<module>\u001b[0;34m()\u001b[0m\n\u001b[0;32m----> 1\u001b[0;31m \u001b[0;32mprint\u001b[0m \u001b[0mS\u001b[0m\u001b[0;34m.\u001b[0m\u001b[0mremove\u001b[0m\u001b[0;34m(\u001b[0m\u001b[0;34m\"arend\"\u001b[0m\u001b[0;34m)\u001b[0m\u001b[0;34m\u001b[0m\u001b[0m\n\u001b[0m",
      "\u001b[0;31mKeyError\u001b[0m: 'arend'"
     ]
    }
   ],
   "source": [
    "print S.remove(\"arend\")"
   ]
  },
  {
   "cell_type": "code",
   "execution_count": 25,
   "metadata": {
    "collapsed": false
   },
   "outputs": [
    {
     "name": "stdout",
     "output_type": "stream",
     "text": [
      "one too many!\n"
     ]
    }
   ],
   "source": [
    "if \"Arend\" in S:\n",
    "    print \"one too many!\""
   ]
  },
  {
   "cell_type": "code",
   "execution_count": 28,
   "metadata": {
    "collapsed": false
   },
   "outputs": [
    {
     "name": "stdout",
     "output_type": "stream",
     "text": [
      "[[0, 1], [1, 2]]\n"
     ]
    }
   ],
   "source": [
    "edges=[]\n",
    "edges.append([0,1])\n",
    "edges.append([1,2])\n",
    "print edges"
   ]
  },
  {
   "cell_type": "code",
   "execution_count": 52,
   "metadata": {
    "collapsed": false
   },
   "outputs": [
    {
     "name": "stdout",
     "output_type": "stream",
     "text": [
      "{0: [1], 1: [2], 2: [1], 6: [7, 8, 9], 7: [6, 8, 9], 8: [6, 7, 9], 9: [6, 7, 8]}\n"
     ]
    },
    {
     "data": {
      "image/png": "[encoded data removed]",
      "text/plain": [
       "<matplotlib.figure.Figure at 0x105739950>"
      ]
     },
     "metadata": {},
     "output_type": "display_data"
    }
   ],
   "source": [
    "class Graph():\n",
    "    def __init__(self):\n",
    "        self.edgeList=list()\n",
    "    \n",
    "    def addDirectedEdge(self,origin,target):\n",
    "        self.edgeList.append([origin,target])\n",
    "      \n",
    "    def addUndirectedEdge(self,origin,target):\n",
    "        self.addDirectedEdge(origin,target)\n",
    "        self.addDirectedEdge(target,origin)\n",
    "    \n",
    "    def addClique(self,cliqueList):\n",
    "        for node1 in cliqueList:\n",
    "            for node2 in cliqueList:\n",
    "                if node1!=node2:\n",
    "                    self.addDirectedEdge(node1,node2)\n",
    "                    \n",
    "    def getNrOfEdges(self):\n",
    "        return len(self.edgeList)\n",
    "    \n",
    "    def getNrOfNodes(self):\n",
    "        return len(self.getAllNodes())\n",
    "        \n",
    "    def getAllNodes(self):\n",
    "        nodeSet=set()\n",
    "        for edge in self.edgeList:\n",
    "            nodeSet.add(edge[0])\n",
    "            nodeSet.add(edge[1])\n",
    "        return nodeSet  \n",
    "    \n",
    "    def getAdjacencyMatrix(self):\n",
    "        N=max(self.getAllNodes())+1\n",
    "        A=list()\n",
    "        for i in range(N):\n",
    "            A.append([0]*N)\n",
    "        for edge in self.edgeList:\n",
    "            A[edge[0]][edge[1]]=A[edge[0]][edge[1]]+1\n",
    "        return A\n",
    "        \n",
    "    def __str__(self):\n",
    "        S=\"\"\n",
    "        for edge in self.edgeList:\n",
    "            S=S+\"{0} -> {1}\\n\".format(edge[0],edge[1])\n",
    "        return S\n",
    "    \n",
    "    def getNodeMap(self):\n",
    "        nodeMap=dict()\n",
    "        for edge in self.edgeList:\n",
    "            if edge[0] not in nodeMap:\n",
    "                nodeMap[edge[0]]=list()\n",
    "            nodeMap[edge[0]].append(edge[1])\n",
    "        return nodeMap\n",
    "        \n",
    "myGraph=Graph()\n",
    "myGraph.addDirectedEdge(0,1)\n",
    "myGraph.addUndirectedEdge(1,2)\n",
    "myGraph.addClique([6,7,8,9])\n",
    "#print myGraph.getAdjacencyMatrix()\n",
    "imshow(myGraph.getAdjacencyMatrix(),interpolation=\"nearest\",cmap=\"gray\")\n",
    "print myGraph.getNodeMap()\n",
    "#print \"I have {0} edges in this Graph\".format(myGraph.getNrOfEdges())\n",
    "#print \"I have {0} nodes in this Graph\".format(myGraph.getNrOfNodes())\n",
    "#print \"the nodes are {0}\".format(myGraph.getAllNodes())\n",
    "#print myGraph"
   ]
  },
  {
   "cell_type": "code",
   "execution_count": 50,
   "metadata": {
    "collapsed": false
   },
   "outputs": [
    {
     "name": "stdout",
     "output_type": "stream",
     "text": [
      "{}\n",
      "{5: 3}\n",
      "set([59])\n"
     ]
    }
   ],
   "source": [
    "def testDictionary(D,S):\n",
    "    D[5]=3\n",
    "    S.add(59)\n",
    "    \n",
    "ld=dict()\n",
    "ls=set()\n",
    "print ld\n",
    "\n",
    "testDictionary(ld,ls)\n",
    "print ld\n",
    "print ls"
   ]
  },
  {
   "cell_type": "code",
   "execution_count": 53,
   "metadata": {
    "collapsed": true
   },
   "outputs": [],
   "source": [
    "import networkx"
   ]
  },
  {
   "cell_type": "code",
   "execution_count": null,
   "metadata": {
    "collapsed": true
   },
   "outputs": [],
   "source": []
  }
 ],
 "metadata": {
  "kernelspec": {
   "display_name": "Python 2",
   "language": "python",
   "name": "python2"
  },
  "language_info": {
   "codemirror_mode": {
    "name": "ipython",
    "version": 2
   },
   "file_extension": ".py",
   "mimetype": "text/x-python",
   "name": "python",
   "nbconvert_exporter": "python",
   "pygments_lexer": "ipython2",
   "version": "2.7.10"
  }
 },
 "nbformat": 4,
 "nbformat_minor": 0
}
