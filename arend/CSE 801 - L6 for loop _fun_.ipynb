{
 "cells": [
  {
   "cell_type": "code",
   "execution_count": 9,
   "metadata": {
    "collapsed": false
   },
   "outputs": [
    {
     "name": "stdout",
     "output_type": "stream",
     "text": [
      "Populating the interactive namespace from numpy and matplotlib\n"
     ]
    },
    {
     "name": "stderr",
     "output_type": "stream",
     "text": [
      "WARNING: pylab import has clobbered these variables: ['load', 'info', 'save', 'datetime', 'unique']\n",
      "`%matplotlib` prevents importing * from pylab and numpy\n"
     ]
    }
   ],
   "source": [
    "%pylab inline"
   ]
  },
  {
   "cell_type": "code",
   "execution_count": 1,
   "metadata": {
    "collapsed": true
   },
   "outputs": [],
   "source": [
    "n=0 # initialization\n",
    "while (n<10): # abort citerion\n",
    "    \n",
    "    # stuff to happen\n",
    "    \n",
    "    n=n+1 # incrementor\n"
   ]
  },
  {
   "cell_type": "code",
   "execution_count": 2,
   "metadata": {
    "collapsed": false
   },
   "outputs": [
    {
     "name": "stdout",
     "output_type": "stream",
     "text": [
      "0\n",
      "1\n",
      "2\n",
      "3\n",
      "4\n",
      "5\n",
      "6\n",
      "7\n",
      "8\n",
      "9\n"
     ]
    }
   ],
   "source": [
    "for i in range(10): # loop\n",
    "    print i #stuff to happen\n",
    "    # \"incrementor\""
   ]
  },
  {
   "cell_type": "code",
   "execution_count": 3,
   "metadata": {
    "collapsed": false
   },
   "outputs": [
    {
     "name": "stdout",
     "output_type": "stream",
     "text": [
      "[0, 1, 2, 3, 4, 5, 6, 7, 8, 9]\n"
     ]
    }
   ],
   "source": [
    "print list(range(10))"
   ]
  },
  {
   "cell_type": "code",
   "execution_count": 4,
   "metadata": {
    "collapsed": false
   },
   "outputs": [
    {
     "name": "stdout",
     "output_type": "stream",
     "text": [
      "1\n",
      "2\n",
      "4\n",
      "8\n",
      "99\n"
     ]
    }
   ],
   "source": [
    "myPersonalList=[1,2,4,8,99]\n",
    "\n",
    "for i in myPersonalList: # loop\n",
    "    print i #stuff to happen\n",
    "    # \"incrementor\""
   ]
  },
  {
   "cell_type": "code",
   "execution_count": 12,
   "metadata": {
    "collapsed": false
   },
   "outputs": [
    {
     "name": "stdout",
     "output_type": "stream",
     "text": [
      "12.3846153846\n",
      "12.0\n",
      "12\n"
     ]
    }
   ],
   "source": [
    "from pandas import *\n",
    "scores=[16,9,9,11,10,8,16,15,11,14,17,12,13]\n",
    "print mean(scores) # okay this is the cheap way of doing this,\n",
    "print median(scores)\n"
   ]
  },
  {
   "cell_type": "code",
   "execution_count": 14,
   "metadata": {
    "collapsed": false
   },
   "outputs": [
    {
     "name": "stdout",
     "output_type": "stream",
     "text": [
      "12.3846153846\n"
     ]
    }
   ],
   "source": [
    "#do it without the mean command!\n",
    "#this is the while option...\n",
    "n=0\n",
    "mySum=0.0\n",
    "while(n<len(scores)):\n",
    "    mySum=mySum+scores[n]\n",
    "    n=n+1\n",
    "print float(mySum)/float(len(scores))"
   ]
  },
  {
   "cell_type": "code",
   "execution_count": 15,
   "metadata": {
    "collapsed": false
   },
   "outputs": [
    {
     "name": "stdout",
     "output_type": "stream",
     "text": [
      "12.3846153846\n"
     ]
    }
   ],
   "source": [
    "mySum=0.0\n",
    "for elements in scores:\n",
    "    mySum=mySum+elements\n",
    "print float(mySum)/float(len(scores))"
   ]
  },
  {
   "cell_type": "code",
   "execution_count": 16,
   "metadata": {
    "collapsed": false
   },
   "outputs": [
    {
     "name": "stdout",
     "output_type": "stream",
     "text": [
      "12.3846153846\n"
     ]
    }
   ],
   "source": [
    "mySum=0.0\n",
    "for index in range(len(scores)):\n",
    "    mySum=mySum+scores[index]\n",
    "print float(mySum)/float(len(scores))  "
   ]
  },
  {
   "cell_type": "code",
   "execution_count": 17,
   "metadata": {
    "collapsed": false
   },
   "outputs": [
    {
     "name": "stdout",
     "output_type": "stream",
     "text": [
      "*\n",
      "*\n"
     ]
    }
   ],
   "source": [
    "print \"*\"\n",
    "print \"*\""
   ]
  },
  {
   "cell_type": "code",
   "execution_count": 18,
   "metadata": {
    "collapsed": false
   },
   "outputs": [
    {
     "name": "stdout",
     "output_type": "stream",
     "text": [
      "*\n",
      "**\n"
     ]
    }
   ],
   "source": [
    "s=\"*\"\n",
    "print s\n",
    "s=\"*\"+\"*\"\n",
    "print s\n",
    "s=\"*\"+\"*\"+\"*\"\n",
    "print s\n",
    "s=\"*\"+\"*\"+\"*\"+\"*\"\n",
    "print s\n",
    "\n",
    "s=s+\"*\""
   ]
  },
  {
   "cell_type": "code",
   "execution_count": 24,
   "metadata": {
    "collapsed": false
   },
   "outputs": [
    {
     "name": "stdout",
     "output_type": "stream",
     "text": [
      "**\n"
     ]
    }
   ],
   "source": [
    "#print str().join(['*','*'])"
   ]
  },
  {
   "cell_type": "code",
   "execution_count": 34,
   "metadata": {
    "collapsed": false
   },
   "outputs": [
    {
     "name": "stdout",
     "output_type": "stream",
     "text": [
      "1234\n"
     ]
    }
   ],
   "source": [
    "S=\"12345\"\n",
    "L=list(S)\n",
    "L.pop(len(S)-1)\n",
    "print str().join(L)"
   ]
  },
  {
   "cell_type": "code",
   "execution_count": 35,
   "metadata": {
    "collapsed": false
   },
   "outputs": [
    {
     "name": "stdout",
     "output_type": "stream",
     "text": [
      "*\n",
      "**\n",
      "***\n",
      "****\n",
      "*****\n"
     ]
    }
   ],
   "source": [
    "s='*'\n",
    "for i in range(5):\n",
    "    print s\n",
    "    s=s+\"*\""
   ]
  },
  {
   "cell_type": "code",
   "execution_count": 49,
   "metadata": {
    "collapsed": false
   },
   "outputs": [
    {
     "name": "stdout",
     "output_type": "stream",
     "text": [
      "*\n",
      "**\n",
      "***\n",
      "****\n",
      "*****\n"
     ]
    }
   ],
   "source": [
    "for i in range(1,6):\n",
    "    s=''\n",
    "    for j in range(i):\n",
    "        s=s+\"*\"\n",
    "    print s"
   ]
  },
  {
   "cell_type": "code",
   "execution_count": 41,
   "metadata": {
    "collapsed": false
   },
   "outputs": [
    {
     "name": "stdout",
     "output_type": "stream",
     "text": [
      "**********\n"
     ]
    }
   ],
   "source": [
    "def makeStringOfStars(N):\n",
    "    s=''\n",
    "    for i in range(N):\n",
    "        s=s+\"*\"\n",
    "    return s\n",
    "\n",
    "print makeStringOfStars(10)\n"
   ]
  },
  {
   "cell_type": "code",
   "execution_count": 43,
   "metadata": {
    "collapsed": false
   },
   "outputs": [
    {
     "name": "stdout",
     "output_type": "stream",
     "text": [
      "*****\n",
      "****\n",
      "***\n",
      "**\n",
      "*\n"
     ]
    }
   ],
   "source": [
    "for i in range(5):\n",
    "    print makeStringOfStars(5-i)"
   ]
  },
  {
   "cell_type": "code",
   "execution_count": 47,
   "metadata": {
    "collapsed": false
   },
   "outputs": [
    {
     "name": "stdout",
     "output_type": "stream",
     "text": [
      "*****\n",
      "****\n",
      "***\n",
      "**\n",
      "*\n"
     ]
    }
   ],
   "source": [
    "L=range(1,6)\n",
    "L.reverse()\n",
    "for i in L:\n",
    "    print makeStringOfStars(i)"
   ]
  },
  {
   "cell_type": "code",
   "execution_count": 59,
   "metadata": {
    "collapsed": false
   },
   "outputs": [
    {
     "name": "stdout",
     "output_type": "stream",
     "text": [
      "0 even\n",
      "0 0\n",
      "1 odd\n",
      "1 1\n",
      "2 even\n",
      "2 0\n"
     ]
    }
   ],
   "source": [
    "\n",
    "for i in range(3):\n",
    "    if (int(i/2)==float(i/2.0)):\n",
    "        print \"{0} even\".format(i)\n",
    "    else:\n",
    "        print \"{0} odd\".format(i)\n",
    "    print \"{0} {1}\".format(i,i&1)"
   ]
  },
  {
   "cell_type": "code",
   "execution_count": 61,
   "metadata": {
    "collapsed": false
   },
   "outputs": [
    {
     "name": "stdout",
     "output_type": "stream",
     "text": [
      "*O*O*O*\n"
     ]
    }
   ],
   "source": [
    "def makeBranchWithNBalls(N):\n",
    "    s=''\n",
    "    for n in range(N):\n",
    "        s=s+\"*O\"\n",
    "    s=s+\"*\" # otherwise it would look akwards...\n",
    "    return s\n",
    "print makeBranchWithNBalls(3)"
   ]
  },
  {
   "cell_type": "code",
   "execution_count": 69,
   "metadata": {
    "collapsed": true
   },
   "outputs": [],
   "source": [
    "def makeNBlanks(N):\n",
    "    s=''\n",
    "    for i in range(N):\n",
    "        s=s+' '\n",
    "    return s"
   ]
  },
  {
   "cell_type": "code",
   "execution_count": 72,
   "metadata": {
    "collapsed": false
   },
   "outputs": [
    {
     "name": "stdout",
     "output_type": "stream",
     "text": [
      "    *\n",
      "   ***\n",
      "  *O*O*\n",
      " *O*O*O*\n",
      "*O*O*O*O*\n"
     ]
    }
   ],
   "source": [
    "for i in range(5):\n",
    "    s=4-i\n",
    "    w=1+(i*2)\n",
    "    b=i\n",
    "    if (i==1):\n",
    "        branch=\"***\"\n",
    "    else:\n",
    "        branch=makeBranchWithNBalls(b)\n",
    "    spaces=makeNBlanks(s)\n",
    "    print spaces+branch"
   ]
  },
  {
   "cell_type": "code",
   "execution_count": null,
   "metadata": {
    "collapsed": true
   },
   "outputs": [],
   "source": []
  }
 ],
 "metadata": {
  "kernelspec": {
   "display_name": "Python 2",
   "language": "python",
   "name": "python2"
  },
  "language_info": {
   "codemirror_mode": {
    "name": "ipython",
    "version": 2
   },
   "file_extension": ".py",
   "mimetype": "text/x-python",
   "name": "python",
   "nbconvert_exporter": "python",
   "pygments_lexer": "ipython2",
   "version": "2.7.10"
  }
 },
 "nbformat": 4,
 "nbformat_minor": 0
}
