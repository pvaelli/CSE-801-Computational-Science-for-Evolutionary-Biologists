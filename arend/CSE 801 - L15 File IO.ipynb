{
 "cells": [
  {
   "cell_type": "code",
   "execution_count": 64,
   "metadata": {
    "collapsed": false
   },
   "outputs": [
    {
     "name": "stdout",
     "output_type": "stream",
     "text": [
      "Populating the interactive namespace from numpy and matplotlib\n"
     ]
    }
   ],
   "source": [
    "%pylab inline"
   ]
  },
  {
   "cell_type": "code",
   "execution_count": 42,
   "metadata": {
    "collapsed": false
   },
   "outputs": [],
   "source": [
    "import random\n",
    "F=open(\"example.csv\",\"wt\")\n",
    "F.write(\"N,temp,nr\\n\")\n",
    "for i in range(10):\n",
    "    F.write(\"{0},{1},{2}\\n\".format(i,random.randint(30,100)\n",
    "                                   ,random.randint(10,40)))\n",
    "F.close()"
   ]
  },
  {
   "cell_type": "code",
   "execution_count": 65,
   "metadata": {
    "collapsed": false
   },
   "outputs": [
    {
     "name": "stdout",
     "output_type": "stream",
     "text": [
      "N,temp,nr\n",
      "0,36,11\n",
      "1,66,14\n",
      "2,41,14\n",
      "3,96,24\n",
      "4,98,40\n",
      "5,81,38\n",
      "6,57,23\n",
      "7,82,30\n",
      "8,34,38\n",
      "9,89,39\n",
      "\n"
     ]
    }
   ],
   "source": [
    "F=open(\"example.csv\",\"rt\")\n",
    "theContent=F.read()\n",
    "F.close()\n",
    "print theContent"
   ]
  },
  {
   "cell_type": "code",
   "execution_count": 13,
   "metadata": {
    "collapsed": false
   },
   "outputs": [
    {
     "name": "stdout",
     "output_type": "stream",
     "text": [
      "N,temp,nr\n",
      "0,86,24\n",
      "1,44,39\n",
      "2,42,36\n",
      "3,84,30\n",
      "4,77,19\n",
      "5,43,34\n",
      "6,41,36\n",
      "7,87,39\n",
      "8,35,39\n",
      "9,67,28\n",
      "\n",
      "['N,temp,nr', '0,86,24', '1,44,39', '2,42,36', '3,84,30', '4,77,19', '5,43,34', '6,41,36', '7,87,39', '8,35,39', '9,67,28', '']\n"
     ]
    }
   ],
   "source": [
    "print theContent\n",
    "print theContent.split(\"\\n\")"
   ]
  },
  {
   "cell_type": "code",
   "execution_count": 15,
   "metadata": {
    "collapsed": false
   },
   "outputs": [
    {
     "name": "stdout",
     "output_type": "stream",
     "text": [
      "['0', '86', '24']\n",
      "['1', '44', '39']\n",
      "['2', '42', '36']\n",
      "['3', '84', '30']\n",
      "['4', '77', '19']\n",
      "['5', '43', '34']\n",
      "['6', '41', '36']\n",
      "['7', '87', '39']\n",
      "['8', '35', '39']\n",
      "['9', '67', '28']\n"
     ]
    }
   ],
   "source": [
    "rows=theContent.split(\"\\n\")\n",
    "for i in range(1,len(rows)-1):\n",
    "    elements=rows[i].split(',')\n",
    "    print elements"
   ]
  },
  {
   "cell_type": "code",
   "execution_count": 23,
   "metadata": {
    "collapsed": false
   },
   "outputs": [
    {
     "name": "stdout",
     "output_type": "stream",
     "text": [
      "[86.0, 44.0, 42.0, 84.0, 77.0, 43.0, 41.0, 87.0, 35.0, 67.0]\n"
     ]
    }
   ],
   "source": [
    "temps=list()\n",
    "rows=theContent.split(\"\\n\")\n",
    "for i in range(1,len(rows)-1):\n",
    "    elements=rows[i].split(',')\n",
    "    temps.append(float(elements[1]))\n",
    "print temps"
   ]
  },
  {
   "cell_type": "code",
   "execution_count": 24,
   "metadata": {
    "collapsed": false
   },
   "outputs": [
    {
     "data": {
      "text/plain": [
       "[<matplotlib.lines.Line2D at 0x105293f90>]"
      ]
     },
     "execution_count": 24,
     "metadata": {},
     "output_type": "execute_result"
    },
    {
     "data": {
      "image/png": "[encoded data removed]",
      "text/plain": [
       "<matplotlib.figure.Figure at 0x105051690>"
      ]
     },
     "metadata": {},
     "output_type": "display_data"
    }
   ],
   "source": [
    "plot(temps)"
   ]
  },
  {
   "cell_type": "code",
   "execution_count": 66,
   "metadata": {
    "collapsed": false
   },
   "outputs": [
    {
     "name": "stdout",
     "output_type": "stream",
     "text": [
      "[['0', '1', '2', '3', '4', '5', '6', '7', '8', '9'], ['36', '66', '41', '96', '98', '81', '57', '82', '34', '89'], ['11', '14', '14', '24', '40', '38', '23', '30', '38', '39']]\n"
     ]
    }
   ],
   "source": [
    "data=list()\n",
    "rows=theContent.split(\"\\n\")\n",
    "for i in range(1,len(rows)-1):\n",
    "    elements=rows[i].split(',')\n",
    "    if i==1:\n",
    "        for j in range(len(elements)):\n",
    "            data.append([])\n",
    "    for j in range(len(elements)):\n",
    "        data[j].append(elements[j])\n",
    "print data"
   ]
  },
  {
   "cell_type": "code",
   "execution_count": 67,
   "metadata": {
    "collapsed": false
   },
   "outputs": [
    {
     "name": "stdout",
     "output_type": "stream",
     "text": [
      "[['0', '1', '2', '3', '4', '5', '6', '7', '8', '9'], ['36', '66', '41', '96', '98', '81', '57', '82', '34', '89'], ['11', '14', '14', '24', '40', '38', '23', '30', '38', '39']]\n"
     ]
    }
   ],
   "source": [
    "print data"
   ]
  },
  {
   "cell_type": "code",
   "execution_count": 77,
   "metadata": {
    "collapsed": false
   },
   "outputs": [],
   "source": [
    "def saveMyTable(filename,data,columnNames):\n",
    "    F=open(filename,\"wt\")\n",
    "    for i in range(len(columnNames)):\n",
    "        if i==0:\n",
    "            F.write(columnNames[i])\n",
    "        else:\n",
    "            F.write(\",\"+columnNames[i])\n",
    "    F.write(\"\\n\")\n",
    "    #add your data output here ...\n",
    "    for i in range(len(data[0])):\n",
    "        for j in range(len(data)):\n",
    "            if j==0:\n",
    "                F.write(str(data[j][i]))\n",
    "            else:\n",
    "                F.write(\",\"+str(data[j][i]))\n",
    "        F.write(\"\\n\")\n",
    "    F.close()\n",
    "    \n",
    "saveMyTable(\"mySecondTable.csv\",data,[\"N\",\"temp\",\"nr\"])\n"
   ]
  },
  {
   "cell_type": "code",
   "execution_count": 78,
   "metadata": {
    "collapsed": false
   },
   "outputs": [
    {
     "name": "stdout",
     "output_type": "stream",
     "text": [
      "N,temp,nr\n",
      "0,36,11\n",
      "1,66,14\n",
      "2,41,14\n",
      "3,96,24\n",
      "4,98,40\n",
      "5,81,38\n",
      "6,57,23\n",
      "7,82,30\n",
      "8,34,38\n",
      "9,89,39\n",
      "\u001b[K\u001b[7m(END)\u001b[m\u001b[K"
     ]
    }
   ],
   "source": [
    "!less mySecondTable.csv"
   ]
  },
  {
   "cell_type": "code",
   "execution_count": 53,
   "metadata": {
    "collapsed": false
   },
   "outputs": [
    {
     "name": "stdout",
     "output_type": "stream",
     "text": [
      "Index([u'N', u'temp', u'nr'], dtype='object')\n",
      "24\n"
     ]
    },
    {
     "data": {
      "image/png": "[encoded data removed]",
      "text/plain": [
       "<matplotlib.figure.Figure at 0x10686d310>"
      ]
     },
     "metadata": {},
     "output_type": "display_data"
    }
   ],
   "source": [
    "from pandas import *\n",
    "data=read_csv(\"example.csv\")\n",
    "plot(data[\"nr\"])\n",
    "print data.keys()\n",
    "print data[\"nr\"][3]"
   ]
  },
  {
   "cell_type": "code",
   "execution_count": 48,
   "metadata": {
    "collapsed": true
   },
   "outputs": [],
   "source": [
    "data.to_csv(\"example2.csv\",index=False)\n"
   ]
  },
  {
   "cell_type": "code",
   "execution_count": 49,
   "metadata": {
    "collapsed": false
   },
   "outputs": [
    {
     "name": "stdout",
     "output_type": "stream",
     "text": [
      "N,temp,nr\n",
      "0,36,11\n",
      "1,66,14\n",
      "2,41,14\n",
      "3,96,24\n",
      "4,98,40\n",
      "5,81,38\n",
      "6,57,23\n",
      "7,82,30\n",
      "8,34,38\n",
      "9,89,39\n",
      "\u001b[K\u001b[7m(END)\u001b[m\u001b[K"
     ]
    }
   ],
   "source": [
    "!less example2.csv"
   ]
  },
  {
   "cell_type": "code",
   "execution_count": 59,
   "metadata": {
    "collapsed": false
   },
   "outputs": [
    {
     "name": "stdout",
     "output_type": "stream",
     "text": [
      "damn\n"
     ]
    }
   ],
   "source": []
  },
  {
   "cell_type": "code",
   "execution_count": 61,
   "metadata": {
    "collapsed": false
   },
   "outputs": [
    {
     "name": "stdout",
     "output_type": "stream",
     "text": [
      "this wasn't an int\n"
     ]
    }
   ],
   "source": []
  },
  {
   "cell_type": "code",
   "execution_count": null,
   "metadata": {
    "collapsed": true
   },
   "outputs": [],
   "source": []
  }
 ],
 "metadata": {
  "kernelspec": {
   "display_name": "Python 2",
   "language": "python",
   "name": "python2"
  },
  "language_info": {
   "codemirror_mode": {
    "name": "ipython",
    "version": 2
   },
   "file_extension": ".py",
   "mimetype": "text/x-python",
   "name": "python",
   "nbconvert_exporter": "python",
   "pygments_lexer": "ipython2",
   "version": "2.7.10"
  }
 },
 "nbformat": 4,
 "nbformat_minor": 0
}
