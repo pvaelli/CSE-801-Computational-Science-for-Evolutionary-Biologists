{
 "cells": [
  {
   "cell_type": "markdown",
   "metadata": {},
   "source": [
    "A GA (genetic algorithm) is a way to optimize something. \n",
    "\n",
    "Inheritance, variation, selection (for evolution). \n",
    "\n",
    "Needs a population (size) \n",
    "\n",
    "and the selection parameter is the which piece is more fit than the other. Measure of fitness. Translated genotype into a performance. Use performance to determine fitness. \n",
    "\n",
    "Variation (mutation) and comes with a mutation probability and some sort of change. \n",
    "\n",
    "Each organism is a single number between zero and infinity. If you have an organism that is 1.7 and one that is 3.4. Then the 3.4 one is twice as good (performance wise) than the 1.7 organism. \n",
    "\n",
    "Pick two organisms. The better one goes to the next generation. Keep doing this until the population is full. \n",
    "\n"
   ]
  },
  {
   "cell_type": "code",
   "execution_count": 5,
   "metadata": {
    "collapsed": false
   },
   "outputs": [
    {
     "name": "stdout",
     "output_type": "stream",
     "text": [
      "Populating the interactive namespace from numpy and matplotlib\n"
     ]
    }
   ],
   "source": [
    "%pylab inline"
   ]
  },
  {
   "cell_type": "code",
   "execution_count": 13,
   "metadata": {
    "collapsed": false
   },
   "outputs": [
    {
     "name": "stdout",
     "output_type": "stream",
     "text": [
      "0.5\n",
      "0.45578973976673043\n",
      "0.5\n",
      "0.5417538899804463\n",
      "0.5\n",
      "0.5\n",
      "0.5\n",
      "0.48142566055353436\n",
      "0.5\n",
      "0.5\n"
     ]
    }
   ],
   "source": [
    "def applyMutation(organism,mu): #with mutation rate applied\n",
    "    if (random.uniform(0.0,1.0)<mu): \n",
    "        return organism+random.uniform(-0.1,0.1)\n",
    "    return organism\n",
    "\n",
    "for i in list(range(10)):\n",
    "    print (applyMutation(0.5,0.2))\n"
   ]
  },
  {
   "cell_type": "markdown",
   "metadata": {},
   "source": [
    "# Tournament Selection"
   ]
  },
  {
   "cell_type": "code",
   "execution_count": 16,
   "metadata": {
    "collapsed": true
   },
   "outputs": [],
   "source": [
    "import random\n",
    "from pandas import *\n",
    "#create a population \n",
    "population=list()\n",
    "#populate list called population with 100 random numbers \n",
    "popSize=100 \n",
    "generations=100\n",
    "mutationRate=0.1 #the mutation rate\n",
    "\n",
    "meanW=list() #mean fitness\n",
    "maxW=list() #max fitness\n",
    "#counts from zero to pop size\n",
    "for n in list(range(popSize)):\n",
    "    #each organism is a random number 0.0 to 1.0\n",
    "    #fitness assigned\n",
    "    population.append(random.uniform(0.0,1.0))\n",
    "#going through a defined number of generations    \n",
    "for generation in list(range(generations)):\n",
    "    #creating a generation to fill\n",
    "    nextGeneration=list()\n",
    "    #pick two organisms (by the indices) \n",
    "    meanW.append(mean(population))\n",
    "    maxW.append(max(population))\n",
    "    #selecting random organisms to compete against each other until generation is the same size as original population\n",
    "    while len(nextGeneration)<popSize:\n",
    "        org1=random.randint(0,popSize-1)\n",
    "        org2=random.randint(0,popSize-1)\n",
    "        # can write it to make sure org2 is not hte same as org2 with a while loop \n",
    "        if population[org1]>population[org2]:\n",
    "            #org1 goes to the next gen\n",
    "            nextGeneration.append(applyMutation(population[org1],mutationRate)) #mutation rate applied\n",
    "        else:\n",
    "            nextGeneration.append(applyMutation(population[org2],mutationRate))\n",
    "    population=list(nextGeneration)\n",
    "    "
   ]
  },
  {
   "cell_type": "code",
   "execution_count": 17,
   "metadata": {
    "collapsed": false
   },
   "outputs": [
    {
     "name": "stdout",
     "output_type": "stream",
     "text": [
      "[2.9480675179112863, 2.797143080388517, 2.830717214678965, 2.877477317452372, 2.8666971174523583, 2.877477317452372, 2.7909458470879, 2.877477317452372, 2.830717214678965, 2.877477317452372, 2.8592827041705364, 2.8612882217266313, 2.999104343696071, 2.7909458470879, 2.802492078210035, 2.877477317452372, 2.7673548305770987, 2.7791411131385497, 2.9480675179112863, 2.7818128530401394, 2.877477317452372, 2.830717214678965, 2.7818128530401394, 2.7909458470879, 2.877477317452372, 2.830717214678965, 2.999104343696071, 2.830717214678965, 2.797143080388517, 2.830717214678965, 2.877477317452372, 2.7909458470879, 2.797143080388517, 2.877477317452372, 2.7909458470879, 2.959085116768786, 2.797143080388517, 2.830717214678965, 2.9480675179112863, 2.902607040392675, 2.848970423888658, 2.830717214678965, 2.7909458470879, 2.8748570038108503, 2.848970423888658, 2.877477317452372, 2.9480675179112863, 2.9480675179112863, 2.877477317452372, 2.8113767836255, 2.8612882217266313, 2.7818128530401394, 2.877477317452372, 2.7773073133942683, 2.999104343696071, 2.7909458470879, 2.902607040392675, 2.7909458470879, 2.695128055143769, 2.877477317452372, 2.7773073133942683, 2.8612882217266313, 2.7673548305770987, 2.902607040392675, 2.8592208031936934, 2.797143080388517, 2.7909458470879, 2.877477317452372, 2.877477317452372, 2.8553862883893832, 2.7773073133942683, 2.7909458470879, 2.7773073133942683, 2.839076701122503, 2.871914113875263, 2.999104343696071, 2.8612882217266313, 2.877477317452372, 2.8612882217266313, 2.7909458470879, 2.8612882217266313, 2.877477317452372, 2.830717214678965, 2.7909458470879, 2.7744976689636247, 2.877477317452372, 2.7773073133942683, 2.9480675179112863, 2.8724566264091793, 2.797143080388517, 2.7909458470879, 2.830717214678965, 2.8612882217266313, 2.7818128530401394, 2.830717214678965, 2.7773073133942683, 2.902607040392675, 2.877477317452372, 2.877477317452372, 2.7513153125179226]\n"
     ]
    },
    {
     "data": {
      "image/png": "[encoded data removed]",
      "text/plain": [
       "<matplotlib.figure.Figure at 0x107769e10>"
      ]
     },
     "metadata": {},
     "output_type": "display_data"
    }
   ],
   "source": [
    "plot(meanW,'g') #mean fitness of the population \n",
    "plot(maxW,'r') #max fitness of the population\n",
    "print (population)"
   ]
  },
  {
   "cell_type": "code",
   "execution_count": 3,
   "metadata": {
    "collapsed": false
   },
   "outputs": [
    {
     "name": "stdout",
     "output_type": "stream",
     "text": [
      "[0.7232006303848242, 0.21525886923209991, 0.8275347722341968, 0.6531133476986684, 0.3520913021887846, 0.1704083699835155, 0.8782700313978437, 0.7908629298318198, 0.2703479912427196, 0.25406288931530363, 0.955135698430937, 0.21718618227939002, 0.44899245297845614, 0.1419098945859536, 0.8391227987590963, 0.5343900084389096, 0.7482722084817083, 0.35734613571492024, 0.42348696865531676, 0.6133564832183099, 0.5233347721305848, 0.9218242285147334, 0.21037966767982652, 0.28400171924178885, 0.6505704498524644, 0.6966357471596505, 0.7577944670686648, 0.9313267183868855, 0.9998950582634333, 0.41443971989857853, 0.08827237116452646, 0.45839306852817463, 0.11173326596672972, 0.006618348700496046, 0.16663829293428878, 0.19826894309141052, 0.9582507195675073, 0.0858197675536666, 0.11605016053834016, 0.2897338377219216, 0.299397624652347, 0.34657124131814676, 0.5495837907611384, 0.7118102531591272, 0.26523632124505747, 0.48523076902166573, 0.229035744156317, 0.8445450540897338, 0.30493818476901813, 0.8298910420826164, 0.2671927398347952, 0.2439468983858173, 0.9918945254052246, 0.5682829345158691, 0.03227429871277643, 0.08201578136417209, 0.37953427516983096, 0.03691536479460966, 0.32221055137731824, 0.5507779285864105, 0.608060010643088, 0.23807125899300163, 0.5731715943417826, 0.9576730697971019, 0.061452676175796306, 0.09853772979926223, 0.45788899499629754, 0.26794829791369923, 0.875688394042107, 0.614820850986033, 0.3537491497543148, 0.8759843326402569, 0.6045538942788206, 0.441820839597324, 0.1282230217618715, 0.6579209337643689, 0.003665661339971149, 0.8070521990684577, 0.9718570335644664, 0.754658890145638, 0.0892692389858365, 0.7873319049888862, 0.5145772841902709, 0.3973485557499714, 0.23411450449729299, 0.36584936826365544, 0.3313481687226454, 0.6527320134044801, 0.4481096666643076, 0.32899450623973536, 0.17482213766239652, 0.8120129797609642, 0.4558508295970942, 0.15294764291744656, 0.26994943922312353, 0.9391532604522617, 0.10450128325030905, 0.11121004877752505, 0.0724482815551224, 0.7705158172870683]\n"
     ]
    }
   ],
   "source": [
    "print (population)"
   ]
  },
  {
   "cell_type": "markdown",
   "metadata": {},
   "source": [
    "# Elite Selection"
   ]
  },
  {
   "cell_type": "code",
   "execution_count": 18,
   "metadata": {
    "collapsed": false
   },
   "outputs": [
    {
     "data": {
      "text/plain": [
       "[<matplotlib.lines.Line2D at 0x107717048>]"
      ]
     },
     "execution_count": 18,
     "metadata": {},
     "output_type": "execute_result"
    },
    {
     "data": {
      "image/png": "[encoded data removed]",
      "text/plain": [
       "<matplotlib.figure.Figure at 0x107717a58>"
      ]
     },
     "metadata": {},
     "output_type": "display_data"
    }
   ],
   "source": [
    "import random\n",
    "from pandas import *\n",
    "#create a population \n",
    "population=list()\n",
    "#populate list called population with 100 random numbers \n",
    "popSize=100 \n",
    "generations=100\n",
    "mutationRate=0.1 #the mutation rate\n",
    "\n",
    "meanW=list() #mean fitness\n",
    "maxW=list() #max fitness\n",
    "#counts from zero to pop size\n",
    "for n in list(range(popSize)):\n",
    "    #each organism is a random number 0.0 to 1.0\n",
    "    #fitness assigned\n",
    "    population.append(random.uniform(0.0,1.0))\n",
    "#going through a defined number of generations    \n",
    "for generation in list(range(generations)):\n",
    "    #creating a generation to fill\n",
    "    nextGeneration=list()\n",
    "    #pick two organisms (by the indices) \n",
    "    meanW.append(mean(population))\n",
    "    maxW.append(max(population))\n",
    "   \n",
    "    #sorts the population from smallest to largest.\n",
    "    population.sort()\n",
    "    #last guy is the best\n",
    "    bestOrganism=population[popSize-1]\n",
    "    #selecting random organisms to compete against each other until generation is the same size as original population\n",
    "    while len(nextGeneration)<popSize:\n",
    "        nextGeneration.append(applyMutation(bestOrganism,mutationRate))\n",
    "    population=list(nextGeneration)\n",
    "\n",
    "plot(meanW,'g')\n",
    "plot(maxW,'r')\n",
    "    "
   ]
  },
  {
   "cell_type": "markdown",
   "metadata": {},
   "source": [
    "# Fitness proportional selection\n"
   ]
  },
  {
   "cell_type": "code",
   "execution_count": 19,
   "metadata": {
    "collapsed": false
   },
   "outputs": [
    {
     "data": {
      "text/plain": [
       "[<matplotlib.lines.Line2D at 0x107a58940>]"
      ]
     },
     "execution_count": 19,
     "metadata": {},
     "output_type": "execute_result"
    },
    {
     "data": {
      "image/png": "[encoded data removed]",
      "text/plain": [
       "<matplotlib.figure.Figure at 0x107769c88>"
      ]
     },
     "metadata": {},
     "output_type": "display_data"
    }
   ],
   "source": [
    "import random\n",
    "from pandas import *\n",
    "#create a population \n",
    "population=list()\n",
    "#populate list called population with 100 random numbers \n",
    "popSize=100 \n",
    "generations=100\n",
    "mutationRate=0.1 #the mutation rate\n",
    "\n",
    "meanW=list() #mean fitness\n",
    "maxW=list() #max fitness\n",
    "#counts from zero to pop size\n",
    "for n in list(range(popSize)):\n",
    "    #each organism is a random number 0.0 to 1.0\n",
    "    #fitness assigned\n",
    "    population.append(random.uniform(0.0,1.0))\n",
    "#going through a defined number of generations    \n",
    "for generation in list(range(generations)):\n",
    "    #creating a generation to fill\n",
    "    nextGeneration=list()\n",
    "    #pick two organisms (by the indices) \n",
    "    meanW.append(mean(population))\n",
    "    maxW.append(max(population))\n",
    "    \n",
    "    #selecting random organisms to compete against each other until generation is the same size as original population\n",
    "    sumOfFitness=sum(population)\n",
    "    while len(nextGeneration)<popSize:\n",
    "        R=random.uniform(0.0,sumOfFitness)\n",
    "        who=0 #looking at the lowest organism in the list \n",
    "        #as long as organism is larger than what we are looking at we have to....\n",
    "        while(R>population[who]):\n",
    "            #decrease R until R is smaller than the organims value\n",
    "            R=R-population[who]\n",
    "            who=who+1\n",
    "        nextGeneration.append(applyMutation(population[who],mutationRate))\n",
    "    population=list(nextGeneration)\n",
    "    \n",
    "plot(meanW,'g')\n",
    "plot(maxW,'r')"
   ]
  },
  {
   "cell_type": "markdown",
   "metadata": {},
   "source": [
    "# Rejection Method"
   ]
  },
  {
   "cell_type": "code",
   "execution_count": 22,
   "metadata": {
    "collapsed": false
   },
   "outputs": [
    {
     "data": {
      "text/plain": [
       "[<matplotlib.lines.Line2D at 0x107dd8160>]"
      ]
     },
     "execution_count": 22,
     "metadata": {},
     "output_type": "execute_result"
    },
    {
     "data": {
      "image/png": "[encoded data removed]",
      "text/plain": [
       "<matplotlib.figure.Figure at 0x107dd8198>"
      ]
     },
     "metadata": {},
     "output_type": "display_data"
    }
   ],
   "source": [
    "import random\n",
    "from pandas import *\n",
    "#create a population \n",
    "population=list()\n",
    "#populate list called population with 100 random numbers \n",
    "popSize=100 \n",
    "generations=100\n",
    "mutationRate=0.1 #the mutation rate\n",
    "\n",
    "meanW=list() #mean fitness\n",
    "maxW=list() #max fitness\n",
    "#counts from zero to pop size\n",
    "for n in list(range(popSize)):\n",
    "    #each organism is a random number 0.0 to 1.0\n",
    "    #fitness assigned\n",
    "    population.append(random.uniform(0.0,1.0))\n",
    "#going through a defined number of generations    \n",
    "for generation in list(range(generations)):\n",
    "    #creating a generation to fill\n",
    "    nextGeneration=list()\n",
    "    #pick two organisms (by the indices) \n",
    "    meanW.append(mean(population))\n",
    "    maxW.append(max(population))\n",
    "    highestFitness=max(population)\n",
    "    maxW.append(highestFitness)\n",
    "    \n",
    "    while len(nextGeneration)<popSize:\n",
    "        who=random.randint(0,popSize-1)\n",
    "        while(random.uniform(0.0,1.0)>(population[who]/highestFitness)):\n",
    "            who=random.randint(0,popSize-1)\n",
    "        nextGeneration.append(applyMutation(population[who],mutationRate))\n",
    "    population=list(nextGeneration)\n",
    "    \n",
    "plot(meanW,'g')\n",
    "plot(maxW,'r')"
   ]
  },
  {
   "cell_type": "markdown",
   "metadata": {},
   "source": []
  }
 ],
 "metadata": {
  "kernelspec": {
   "display_name": "Python 3",
   "language": "python",
   "name": "python3"
  },
  "language_info": {
   "codemirror_mode": {
    "name": "ipython",
    "version": 3
   },
   "file_extension": ".py",
   "mimetype": "text/x-python",
   "name": "python",
   "nbconvert_exporter": "python",
   "pygments_lexer": "ipython3",
   "version": "3.4.3"
  }
 },
 "nbformat": 4,
 "nbformat_minor": 0
}
