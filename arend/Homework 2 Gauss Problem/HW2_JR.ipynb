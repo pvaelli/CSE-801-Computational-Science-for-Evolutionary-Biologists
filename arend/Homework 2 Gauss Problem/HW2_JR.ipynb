{
 "cells": [
  {
   "cell_type": "code",
   "execution_count": 51,
   "metadata": {
    "collapsed": false
   },
   "outputs": [
    {
     "name": "stdout",
     "output_type": "stream",
     "text": [
      " Victory\n"
     ]
    }
   ],
   "source": [
    "L= [1,-1, -1, 2]\n",
    "n=0\n",
    "Length=1\n",
    "Sum=0\n",
    "Status = 0\n",
    "while Length<(len(L))or Length!=len(L):\n",
    "    Sum = L[n]+L[Length]\n",
    "    n= n+1\n",
    "    Length =Length+1\n",
    "    if (Sum > 2) or (Sum < -2): \n",
    "        Status = \" Oh no you're Dead! 0 Tokens... Insert 2 coins to continue\"\n",
    "        print Status\n",
    "if (((Sum < 2) and (Sum > -2)) and (Status != \" Oh no you're Dead! 0 Tokens... Insert 2 coins to continue\")):\n",
    "    Status = \" Victory\"\n",
    "    print Status\n",
    "\n",
    "    \n",
    "    \n",
    "    "
   ]
  },
  {
   "cell_type": "code",
   "execution_count": null,
   "metadata": {
    "collapsed": true
   },
   "outputs": [],
   "source": []
  }
 ],
 "metadata": {
  "kernelspec": {
   "display_name": "Python 2",
   "language": "python",
   "name": "python2"
  },
  "language_info": {
   "codemirror_mode": {
    "name": "ipython",
    "version": 2
   },
   "file_extension": ".py",
   "mimetype": "text/x-python",
   "name": "python",
   "nbconvert_exporter": "python",
   "pygments_lexer": "ipython2",
   "version": "2.7.10"
  }
 },
 "nbformat": 4,
 "nbformat_minor": 0
}
