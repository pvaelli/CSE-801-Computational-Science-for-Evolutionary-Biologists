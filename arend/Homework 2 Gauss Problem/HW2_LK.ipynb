{
 "cells": [
  {
   "cell_type": "code",
   "execution_count": 25,
   "metadata": {
    "collapsed": false
   },
   "outputs": [
    {
     "name": "stdout",
     "output_type": "stream",
     "text": [
      "I will fall off the mountain.\n"
     ]
    }
   ],
   "source": [
    "L=[1,1,-1,1,-1,1,-1]\n",
    "position=0\n",
    "n=0\n",
    "while (n<len(L)) and (position<2) and (position>-2):\n",
    "    position=position+L[n]\n",
    "    n=n+1\n",
    "if (position>1) or (position<-1):\n",
    "    print \"I will fall off the mountain.\"\n",
    "else:\n",
    "    print \"I will not fall off the mountain.\""
   ]
  },
  {
   "cell_type": "code",
   "execution_count": 26,
   "metadata": {
    "collapsed": false
   },
   "outputs": [
    {
     "name": "stdout",
     "output_type": "stream",
     "text": [
      "Taking every 2nd direction will cause me to fall off the mountain.\n"
     ]
    }
   ],
   "source": [
    "L=[1,1,-1,-1,1,-1,-1,-1]\n",
    "position=0\n",
    "n=-1\n",
    "step=2\n",
    "while ((n+step)<len(L)) and (position<2) and (position>-2):\n",
    "    position=position+L[(n+step)]\n",
    "    n=n+step\n",
    "if (step==2):\n",
    "    suffix=\"nd\"\n",
    "else:\n",
    "    if (step==3):\n",
    "        suffix=\"rd\"\n",
    "    else:\n",
    "        if (step==1):\n",
    "            suffix=\"st\"\n",
    "        else:\n",
    "            suffix=\"th\"\n",
    "if (position>1) or (position<-1):\n",
    "    print \"Taking every {0}{1} direction will cause me to fall off the mountain.\".format(step,suffix)\n",
    "else:\n",
    "    print \"Taking every {0}{1} direction will not cause me to fall off the mountain.\".format(step,suffix)\n",
    "    #I get bored sometimes.   "
   ]
  },
  {
   "cell_type": "code",
   "execution_count": null,
   "metadata": {
    "collapsed": true
   },
   "outputs": [],
   "source": []
  },
  {
   "cell_type": "code",
   "execution_count": null,
   "metadata": {
    "collapsed": true
   },
   "outputs": [],
   "source": []
  }
 ],
 "metadata": {
  "kernelspec": {
   "display_name": "Python 2",
   "language": "python",
   "name": "python2"
  },
  "language_info": {
   "codemirror_mode": {
    "name": "ipython",
    "version": 2
   },
   "file_extension": ".py",
   "mimetype": "text/x-python",
   "name": "python",
   "nbconvert_exporter": "python",
   "pygments_lexer": "ipython2",
   "version": "2.7.10"
  }
 },
 "nbformat": 4,
 "nbformat_minor": 0
}
