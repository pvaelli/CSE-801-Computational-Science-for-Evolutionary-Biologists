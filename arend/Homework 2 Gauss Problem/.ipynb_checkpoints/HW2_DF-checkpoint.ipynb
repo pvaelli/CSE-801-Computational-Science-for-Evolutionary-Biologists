{
 "cells": [
  {
   "cell_type": "code",
   "execution_count": 2,
   "metadata": {
    "collapsed": false
   },
   "outputs": [
    {
     "name": "stdout",
     "output_type": "stream",
     "text": [
      "do not use\n"
     ]
    }
   ],
   "source": [
    "L=[1,-1,1,-1,1,-1,1,-1,1,-1,1,-1,1,1,1,1]\n",
    "\n",
    "\n",
    "def listSum(x,a):\n",
    "    while x<len(L):\n",
    "        a=L[x]+a\n",
    "        if (-2<a<2):\n",
    "            x=x+1\n",
    "        else:\n",
    "            x=x+len(L)\n",
    "    return a\n",
    "\n",
    "total=0\n",
    "trials=0\n",
    "if (listSum(trials,total)<-1) or (listSum(trials,total)>1):\n",
    "    print \"do not use\"\n",
    "else:\n",
    "    print \"okay to use\""
   ]
  },
  {
   "cell_type": "code",
   "execution_count": null,
   "metadata": {
    "collapsed": true
   },
   "outputs": [],
   "source": []
  }
 ],
 "metadata": {
  "kernelspec": {
   "display_name": "Python 2",
   "language": "python",
   "name": "python2"
  },
  "language_info": {
   "codemirror_mode": {
    "name": "ipython",
    "version": 2
   },
   "file_extension": ".py",
   "mimetype": "text/x-python",
   "name": "python",
   "nbconvert_exporter": "python",
   "pygments_lexer": "ipython2",
   "version": "2.7.10"
  }
 },
 "nbformat": 4,
 "nbformat_minor": 0
}
