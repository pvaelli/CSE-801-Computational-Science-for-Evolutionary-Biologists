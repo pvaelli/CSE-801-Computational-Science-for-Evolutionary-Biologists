{
 "cells": [
  {
   "cell_type": "code",
   "execution_count": 7,
   "metadata": {
    "collapsed": false
   },
   "outputs": [
    {
     "name": "stdout",
     "output_type": "stream",
     "text": [
      "You will die if you follow this list.\n",
      "-2\n"
     ]
    }
   ],
   "source": [
    "L=[-1,1,-1,1,1,-1,-1,1,-1,1,-1,-1]\n",
    "\n",
    "def location(L):\n",
    "    myLocation=0\n",
    "    n=0\n",
    "    a=0\n",
    "    while(-1<=myLocation<=1) and (n<len(L)):\n",
    "        k=L[a]\n",
    "        if (k==-1):\n",
    "            myLocation=myLocation-1\n",
    "        else:\n",
    "            myLocation=myLocation+1\n",
    "        n=n+1\n",
    "        a=a+1\n",
    "    return myLocation\n",
    "\n",
    "\n",
    "\n",
    "def testGauss(L):\n",
    "    if (location(L)>1) or (location(L)<-1):\n",
    "        print \"You will die if you follow this list.\"\n",
    "    else:\n",
    "        print \"You can safely follow this list.\"\n",
    "    return location(L)\n",
    "        \n",
    "print testGauss(L)"
   ]
  },
  {
   "cell_type": "code",
   "execution_count": null,
   "metadata": {
    "collapsed": true
   },
   "outputs": [],
   "source": []
  }
 ],
 "metadata": {
  "kernelspec": {
   "display_name": "Python 2",
   "language": "python",
   "name": "python2"
  },
  "language_info": {
   "codemirror_mode": {
    "name": "ipython",
    "version": 2
   },
   "file_extension": ".py",
   "mimetype": "text/x-python",
   "name": "python",
   "nbconvert_exporter": "python",
   "pygments_lexer": "ipython2",
   "version": "2.7.10"
  }
 },
 "nbformat": 4,
 "nbformat_minor": 0
}
