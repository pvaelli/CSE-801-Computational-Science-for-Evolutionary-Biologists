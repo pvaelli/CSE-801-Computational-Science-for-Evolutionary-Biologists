{
 "cells": [
  {
   "cell_type": "code",
   "execution_count": 12,
   "metadata": {
    "collapsed": false
   },
   "outputs": [
    {
     "name": "stdout",
     "output_type": "stream",
     "text": [
      "Unsafe\n"
     ]
    }
   ],
   "source": [
    "s = [-1,1,-1,1,1,-1,-1,-1]\n",
    "def checkGaussian(sequence):\n",
    "    n=0\n",
    "    total=0\n",
    "    while n<len(sequence):\n",
    "        total=total+sequence[n]\n",
    "        if (total>1) or (total<-1):\n",
    "            print(\"Unsafe\")\n",
    "            n=len(sequence)\n",
    "        n=n+1\n",
    "    if (total==1) or (total==0) or (total==-1):\n",
    "        print (\"Safe\")\n",
    "checkGaussian(s) "
   ]
  },
  {
   "cell_type": "code",
   "execution_count": null,
   "metadata": {
    "collapsed": true
   },
   "outputs": [],
   "source": []
  }
 ],
 "metadata": {
  "kernelspec": {
   "display_name": "Python 3",
   "language": "python",
   "name": "python3"
  },
  "language_info": {
   "codemirror_mode": {
    "name": "ipython",
    "version": 3
   },
   "file_extension": ".py",
   "mimetype": "text/x-python",
   "name": "python",
   "nbconvert_exporter": "python",
   "pygments_lexer": "ipython3",
   "version": "3.4.3"
  }
 },
 "nbformat": 4,
 "nbformat_minor": 0
}
