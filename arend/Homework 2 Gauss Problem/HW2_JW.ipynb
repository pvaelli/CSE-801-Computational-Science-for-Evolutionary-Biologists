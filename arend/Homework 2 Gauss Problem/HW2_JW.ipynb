{
 "cells": [
  {
   "cell_type": "code",
   "execution_count": 4,
   "metadata": {
    "collapsed": false
   },
   "outputs": [
    {
     "name": "stdout",
     "output_type": "stream",
     "text": [
      "Survived, you are at position: -1\n"
     ]
    }
   ],
   "source": [
    "# Gauss problem\n",
    "steps = \"+-+-+-+--\"\n",
    "stepL = list(steps)\n",
    "pos = 0\n",
    "n = 0\n",
    "for n in range(len(stepL)):\n",
    "    if stepL[n] == \"+\":\n",
    "        pos = pos + 1\n",
    "    elif stepL[n] == \"-\":\n",
    "        pos = pos - 1\n",
    "    if (pos < -1 or pos > 1):\n",
    "        print \"Dropped, you are at position: {}\".format(pos)\n",
    "        break\n",
    "    elif (n == len(stepL)-1):\n",
    "        print \"Survived, you are at position: {}\".format(pos)"
   ]
  },
  {
   "cell_type": "code",
   "execution_count": null,
   "metadata": {
    "collapsed": true
   },
   "outputs": [],
   "source": []
  }
 ],
 "metadata": {
  "kernelspec": {
   "display_name": "Python 2",
   "language": "python",
   "name": "python2"
  },
  "language_info": {
   "codemirror_mode": {
    "name": "ipython",
    "version": 2
   },
   "file_extension": ".py",
   "mimetype": "text/x-python",
   "name": "python",
   "nbconvert_exporter": "python",
   "pygments_lexer": "ipython2",
   "version": "2.7.10"
  }
 },
 "nbformat": 4,
 "nbformat_minor": 0
}
