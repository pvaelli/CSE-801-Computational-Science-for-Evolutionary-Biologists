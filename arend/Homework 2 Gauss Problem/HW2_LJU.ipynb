{
 "cells": [
  {
   "cell_type": "code",
   "execution_count": 8,
   "metadata": {
    "collapsed": false
   },
   "outputs": [
    {
     "name": "stdout",
     "output_type": "stream",
     "text": [
      "you live\n"
     ]
    }
   ],
   "source": [
    "list=[-1,1,1,-1]\n",
    "\n",
    "def gauss(m):\n",
    "    n=0\n",
    "    s = m[n]\n",
    "    while (-1<=s<=1) and (n<(len(m)-1)):\n",
    "        n=n+1 \n",
    "        s = s + m[n]\n",
    "    if (s<-1) or (s>1): \n",
    "        print \"you die\"\n",
    "    else:\n",
    "        print \"you live\"\n",
    "\n",
    "gauss(list)"
   ]
  },
  {
   "cell_type": "code",
   "execution_count": null,
   "metadata": {
    "collapsed": true
   },
   "outputs": [],
   "source": []
  }
 ],
 "metadata": {
  "kernelspec": {
   "display_name": "Python 2",
   "language": "python",
   "name": "python2"
  },
  "language_info": {
   "codemirror_mode": {
    "name": "ipython",
    "version": 2
   },
   "file_extension": ".py",
   "mimetype": "text/x-python",
   "name": "python",
   "nbconvert_exporter": "python",
   "pygments_lexer": "ipython2",
   "version": "2.7.10"
  }
 },
 "nbformat": 4,
 "nbformat_minor": 0
}
