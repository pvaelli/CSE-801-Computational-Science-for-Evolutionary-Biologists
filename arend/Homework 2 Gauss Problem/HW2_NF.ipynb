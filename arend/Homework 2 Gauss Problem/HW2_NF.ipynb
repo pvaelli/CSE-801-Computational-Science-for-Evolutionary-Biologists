{
 "cells": [
  {
   "cell_type": "code",
   "execution_count": 1,
   "metadata": {
    "collapsed": false
   },
   "outputs": [
    {
     "name": "stdout",
     "output_type": "stream",
     "text": [
      "I will fall off the mountain and die if I take these 11 steps!\n"
     ]
    }
   ],
   "source": [
    "a=\"++++-\" ##input sequence of +- here\n",
    "def GaussGame():\n",
    "    h=0\n",
    "    n=1\n",
    "    location=0\n",
    "    while(n<=len(a)):\n",
    "        if a[h]==\"+\":\n",
    "            location = location + 1\n",
    "        else:\n",
    "            location = location - 1\n",
    "        h=h+1\n",
    "        n=n+1\n",
    "        if location < -1 or location > 1:\n",
    "            print \"I will fall off the mountain and die if I take these {} steps!\".format(len(a))\n",
    "            break\n",
    "    else:\n",
    "        return 'I will not fall off the mountain if I take these {} steps.'.format(len(a))\n",
    "GaussGame()"
   ]
  },
  {
   "cell_type": "code",
   "execution_count": 5,
   "metadata": {
    "collapsed": false
   },
   "outputs": [
    {
     "name": "stdout",
     "output_type": "stream",
     "text": [
      "I will fall off the mountain and die if I take these 7 steps!\n"
     ]
    }
   ],
   "source": [
    "a=\"++--++-\"##input sequence of +- here\n",
    "GaussGame() ##GaussGame function will return if I live or die"
   ]
  }
 ],
 "metadata": {
  "kernelspec": {
   "display_name": "Python 2",
   "language": "python",
   "name": "python2"
  },
  "language_info": {
   "codemirror_mode": {
    "name": "ipython",
    "version": 2
   },
   "file_extension": ".py",
   "mimetype": "text/x-python",
   "name": "python",
   "nbconvert_exporter": "python",
   "pygments_lexer": "ipython2",
   "version": "2.7.10"
  }
 },
 "nbformat": 4,
 "nbformat_minor": 0
}
