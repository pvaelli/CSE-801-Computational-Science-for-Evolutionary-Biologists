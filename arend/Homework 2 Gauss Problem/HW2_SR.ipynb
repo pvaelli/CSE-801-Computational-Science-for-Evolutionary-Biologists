{
 "cells": [
  {
   "cell_type": "code",
   "execution_count": 13,
   "metadata": {
    "collapsed": false
   },
   "outputs": [
    {
     "name": "stdout",
     "output_type": "stream",
     "text": [
      "Live\n",
      "Live\n",
      "Live\n",
      "Live\n",
      "Live\n"
     ]
    }
   ],
   "source": [
    "list=[-1,1,-1,1,-1,1]\n",
    "def gauss(b):\n",
    "    n=0\n",
    "    starting=0 #b[n]\n",
    "    while (-1<=starting<=1) and (n<(len(b))):\n",
    "        starting=starting+b[n]\n",
    "        \n",
    "        if (starting<-1) or (starting>1):\n",
    "            print (\"Death\")\n",
    "        else: \n",
    "            print (\"Live\")\n",
    "\n",
    "        n=n+1\n",
    "gauss(list)"
   ]
  },
  {
   "cell_type": "markdown",
   "metadata": {},
   "source": [
    "I mostly figured this out by matching ideas to notes I had taken in class but I feel like I do not fully understand some of the terms still. \n",
    "\n",
    "THe main one being defining the function at the beginning. Was this necessary or was it simply done so if we want to embed this specifc process inside another line of code it can be done easier? \n",
    "\n",
    "Also, I believe what I did was define a function, set parameters, and then tell the function that it started at 0 since n=0 in the beginning. Then after testing each term n= whatever the new position is?\n",
    "\n",
    "I also don't fully understand the (n<len(b))-1) that I placed in the while statement. What I think is that this piece informs the program to test each term the length of the list (Because that's what my notes say). \n",
    "\n",
    "I apologize if this was not an effective way to communicate my confusion. Since I completed the assignment I thought it might be best to chat after class or a convenient time for you. Thanks! "
   ]
  }
 ],
 "metadata": {
  "kernelspec": {
   "display_name": "Python 2",
   "language": "python",
   "name": "python2"
  },
  "language_info": {
   "codemirror_mode": {
    "name": "ipython",
    "version": 2
   },
   "file_extension": ".py",
   "mimetype": "text/x-python",
   "name": "python",
   "nbconvert_exporter": "python",
   "pygments_lexer": "ipython2",
   "version": "2.7.10"
  }
 },
 "nbformat": 4,
 "nbformat_minor": 0
}
