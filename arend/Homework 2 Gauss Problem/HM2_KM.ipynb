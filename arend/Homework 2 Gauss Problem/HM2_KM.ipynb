{
 "cells": [
  {
   "cell_type": "code",
   "execution_count": 81,
   "metadata": {
    "collapsed": false
   },
   "outputs": [
    {
     "name": "stdout",
     "output_type": "stream",
     "text": [
      "your sequence is murderous, you jerk!\n"
     ]
    }
   ],
   "source": [
    "L=(1,-1,1,-1,1,1,1)\n",
    "location=0\n",
    "location=location+sum(L)\n",
    "\n",
    "if location==1 or location==-1 or location==0:\n",
    "    print \"your sequence is chill.\"\n",
    "else:\n",
    "        print \"your sequence is murderous, you jerk!\"\n",
    "##This doesn't count if you fall off the mountain on the way to your end state! No good! \n"
   ]
  },
  {
   "cell_type": "code",
   "execution_count": 10,
   "metadata": {
    "collapsed": false
   },
   "outputs": [
    {
     "name": "stdout",
     "output_type": "stream",
     "text": [
      "Your sequence is murderous, you jerk! You would have me fall on step 6.\n"
     ]
    }
   ],
   "source": [
    "##Second try. \n",
    "L=(1,-1,1,-1,1,1,1)\n",
    "c=0\n",
    "location=0\n",
    "while (c<len(L)) and (location<2) and (location>-2):\n",
    "    location=location+L[c]\n",
    "    c=c+1   \n",
    "if (location==1) or (location==-1) or location==0:\n",
    "    print \"Your sequence is chill.\"\n",
    "else:\n",
    "    print \"Your sequence is murderous, you jerk! You would have me fall on step {0}.\".format(c)\n"
   ]
  },
  {
   "cell_type": "code",
   "execution_count": null,
   "metadata": {
    "collapsed": true
   },
   "outputs": [],
   "source": []
  },
  {
   "cell_type": "code",
   "execution_count": null,
   "metadata": {
    "collapsed": true
   },
   "outputs": [],
   "source": []
  },
  {
   "cell_type": "code",
   "execution_count": null,
   "metadata": {
    "collapsed": true
   },
   "outputs": [],
   "source": []
  },
  {
   "cell_type": "code",
   "execution_count": null,
   "metadata": {
    "collapsed": true
   },
   "outputs": [],
   "source": []
  },
  {
   "cell_type": "code",
   "execution_count": null,
   "metadata": {
    "collapsed": true
   },
   "outputs": [],
   "source": []
  },
  {
   "cell_type": "code",
   "execution_count": null,
   "metadata": {
    "collapsed": true
   },
   "outputs": [],
   "source": []
  },
  {
   "cell_type": "code",
   "execution_count": null,
   "metadata": {
    "collapsed": true
   },
   "outputs": [],
   "source": [
    "if position>1 or position <-1:\n",
    "    print \"something is wrong\"\n",
    "if (position==1) or (position==-1) or position==0:\n",
    "    print \"your sequence is chill.\"\n",
    "else:\n",
    "    print \"your sequence is murderous, you jerk!\""
   ]
  },
  {
   "cell_type": "code",
   "execution_count": null,
   "metadata": {
    "collapsed": true
   },
   "outputs": [],
   "source": []
  }
 ],
 "metadata": {
  "kernelspec": {
   "display_name": "Python 2",
   "language": "python",
   "name": "python2"
  },
  "language_info": {
   "codemirror_mode": {
    "name": "ipython",
    "version": 2
   },
   "file_extension": ".py",
   "mimetype": "text/x-python",
   "name": "python",
   "nbconvert_exporter": "python",
   "pygments_lexer": "ipython2",
   "version": "2.7.10"
  }
 },
 "nbformat": 4,
 "nbformat_minor": 0
}
