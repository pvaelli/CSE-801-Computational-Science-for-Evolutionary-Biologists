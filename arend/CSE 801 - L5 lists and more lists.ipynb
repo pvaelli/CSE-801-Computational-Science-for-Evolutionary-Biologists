{
 "cells": [
  {
   "cell_type": "code",
   "execution_count": 3,
   "metadata": {
    "collapsed": false
   },
   "outputs": [
    {
     "name": "stdout",
     "output_type": "stream",
     "text": [
      "[1, 2, -1]\n",
      "1\n",
      "[2, -1]\n"
     ]
    }
   ],
   "source": [
    "L=[]\n",
    "L=list()\n",
    "L.append(1)\n",
    "L.append(2)\n",
    "L.append(-1)\n",
    "print L\n",
    "print L.pop(0)\n",
    "print L"
   ]
  },
  {
   "cell_type": "code",
   "execution_count": 8,
   "metadata": {
    "collapsed": false
   },
   "outputs": [
    {
     "name": "stdout",
     "output_type": "stream",
     "text": [
      "[1, 2, -1, 1]\n",
      "[2, -1, 1]\n",
      "[2, -1]\n"
     ]
    },
    {
     "ename": "ValueError",
     "evalue": "list.remove(x): x not in list",
     "output_type": "error",
     "traceback": [
      "\u001b[0;31m---------------------------------------------------------------------------\u001b[0m",
      "\u001b[0;31mValueError\u001b[0m                                Traceback (most recent call last)",
      "\u001b[0;32m<ipython-input-8-6a505989bcde>\u001b[0m in \u001b[0;36m<module>\u001b[0;34m()\u001b[0m\n\u001b[1;32m     10\u001b[0m \u001b[0mL\u001b[0m\u001b[0;34m.\u001b[0m\u001b[0mremove\u001b[0m\u001b[0;34m(\u001b[0m\u001b[0;36m1\u001b[0m\u001b[0;34m)\u001b[0m\u001b[0;34m\u001b[0m\u001b[0m\n\u001b[1;32m     11\u001b[0m \u001b[0;32mprint\u001b[0m \u001b[0mL\u001b[0m\u001b[0;34m\u001b[0m\u001b[0m\n\u001b[0;32m---> 12\u001b[0;31m \u001b[0mL\u001b[0m\u001b[0;34m.\u001b[0m\u001b[0mremove\u001b[0m\u001b[0;34m(\u001b[0m\u001b[0;36m0\u001b[0m\u001b[0;34m)\u001b[0m\u001b[0;34m\u001b[0m\u001b[0m\n\u001b[0m",
      "\u001b[0;31mValueError\u001b[0m: list.remove(x): x not in list"
     ]
    }
   ],
   "source": [
    "L=[]\n",
    "L=list()\n",
    "L.append(1)\n",
    "L.append(2)\n",
    "L.append(-1)\n",
    "L.append(1)\n",
    "print L\n",
    "L.remove(1)\n",
    "print L\n",
    "L.remove(1)\n",
    "print L\n",
    "L.remove(0)"
   ]
  },
  {
   "cell_type": "code",
   "execution_count": 9,
   "metadata": {
    "collapsed": false
   },
   "outputs": [
    {
     "ename": "IndexError",
     "evalue": "pop from empty list",
     "output_type": "error",
     "traceback": [
      "\u001b[0;31m---------------------------------------------------------------------------\u001b[0m",
      "\u001b[0;31mIndexError\u001b[0m                                Traceback (most recent call last)",
      "\u001b[0;32m<ipython-input-9-f4b2a1c8c0ac>\u001b[0m in \u001b[0;36m<module>\u001b[0;34m()\u001b[0m\n\u001b[1;32m      2\u001b[0m \u001b[0mL\u001b[0m\u001b[0;34m.\u001b[0m\u001b[0mpop\u001b[0m\u001b[0;34m(\u001b[0m\u001b[0;36m0\u001b[0m\u001b[0;34m)\u001b[0m\u001b[0;34m\u001b[0m\u001b[0m\n\u001b[1;32m      3\u001b[0m \u001b[0mL\u001b[0m\u001b[0;34m.\u001b[0m\u001b[0mpop\u001b[0m\u001b[0;34m(\u001b[0m\u001b[0;36m0\u001b[0m\u001b[0;34m)\u001b[0m\u001b[0;34m\u001b[0m\u001b[0m\n\u001b[0;32m----> 4\u001b[0;31m \u001b[0mL\u001b[0m\u001b[0;34m.\u001b[0m\u001b[0mpop\u001b[0m\u001b[0;34m(\u001b[0m\u001b[0;36m0\u001b[0m\u001b[0;34m)\u001b[0m\u001b[0;34m\u001b[0m\u001b[0m\n\u001b[0m",
      "\u001b[0;31mIndexError\u001b[0m: pop from empty list"
     ]
    }
   ],
   "source": [
    "L=[1,2]\n",
    "L.pop(0)\n",
    "L.pop(0)\n",
    "L.pop(0)"
   ]
  },
  {
   "cell_type": "code",
   "execution_count": 15,
   "metadata": {
    "collapsed": false
   },
   "outputs": [
    {
     "name": "stdout",
     "output_type": "stream",
     "text": [
      "1\n"
     ]
    }
   ],
   "source": [
    "L=[\"person A\",\"dude\",\"who is it?\",\"dude\"]\n",
    "print L.index(\"dude\")\n",
    "if (\"Arend\" in L):\n",
    "    print \"Arend in list\"\n",
    "#print L.index(\"Arend\")"
   ]
  },
  {
   "cell_type": "code",
   "execution_count": 19,
   "metadata": {
    "collapsed": false
   },
   "outputs": [
    {
     "name": "stdout",
     "output_type": "stream",
     "text": [
      "['person A', 'dude', 'who is it?', 'dude']\n",
      "['person A', 'hi', 'dude', 'who is it?', 'dude']\n"
     ]
    }
   ],
   "source": [
    "L=[\"person A\",\"dude\",\"who is it?\",\"dude\"]\n",
    "print L\n",
    "L.insert(1,\"hi\")\n",
    "print L"
   ]
  },
  {
   "cell_type": "code",
   "execution_count": 33,
   "metadata": {
    "collapsed": false
   },
   "outputs": [
    {
     "name": "stdout",
     "output_type": "stream",
     "text": [
      "[5, 6, 7, 8, 9]\n"
     ]
    }
   ],
   "source": [
    "L=range(5,10)\n",
    "print L"
   ]
  },
  {
   "cell_type": "code",
   "execution_count": 34,
   "metadata": {
    "collapsed": false
   },
   "outputs": [
    {
     "name": "stdout",
     "output_type": "stream",
     "text": [
      "[9, 8, 7, 6, 5]\n"
     ]
    }
   ],
   "source": [
    "L.reverse()\n",
    "print L"
   ]
  },
  {
   "cell_type": "code",
   "execution_count": 35,
   "metadata": {
    "collapsed": false
   },
   "outputs": [
    {
     "name": "stdout",
     "output_type": "stream",
     "text": [
      "[5, 6, 7, 8, 9]\n"
     ]
    }
   ],
   "source": [
    "L.sort()\n",
    "print L"
   ]
  },
  {
   "cell_type": "code",
   "execution_count": 36,
   "metadata": {
    "collapsed": false
   },
   "outputs": [
    {
     "name": "stdout",
     "output_type": "stream",
     "text": [
      "[0, 1, 1, 2, 3, 3, 3, 4, 5, 6]\n"
     ]
    }
   ],
   "source": [
    "L=[5,6,1,2,3,1,3,4,3,0]\n",
    "L.sort()\n",
    "print L"
   ]
  },
  {
   "cell_type": "code",
   "execution_count": 41,
   "metadata": {
    "collapsed": false
   },
   "outputs": [
    {
     "name": "stdout",
     "output_type": "stream",
     "text": [
      "[8.9, 56, '&#', '1267', 'Arend', 'B', 'Darwin', 'dude']\n"
     ]
    }
   ],
   "source": [
    "L=[\"Arend\",\"dude\",\"B\",\"Darwin\",\"1267\",\"&#\",56,8.9]\n",
    "L.sort()\n",
    "print L"
   ]
  },
  {
   "cell_type": "markdown",
   "metadata": {},
   "source": [
    "### create the following list\n",
    "    [1,2,4,8,16,...256]"
   ]
  },
  {
   "cell_type": "code",
   "execution_count": 50,
   "metadata": {
    "collapsed": false
   },
   "outputs": [
    {
     "name": "stdout",
     "output_type": "stream",
     "text": [
      "[1, 2, 4, 8, 16, 32, 64, 128, 256]\n"
     ]
    }
   ],
   "source": [
    "L=list()\n",
    "n=1\n",
    "m=1\n",
    "while(n<10):\n",
    "    L.append(m)\n",
    "    m=m*2\n",
    "    n=n+1\n",
    "print L"
   ]
  },
  {
   "cell_type": "code",
   "execution_count": 56,
   "metadata": {
    "collapsed": false
   },
   "outputs": [
    {
     "name": "stdout",
     "output_type": "stream",
     "text": [
      "[1, 2, 4, 8, 16, 32, 64, 128, 256]\n",
      "[256, 128, 64, 32, 16, 8, 4, 2, 1]\n"
     ]
    }
   ],
   "source": [
    "T=list(L)\n",
    "L.reverse()\n",
    "print L\n",
    "print T"
   ]
  },
  {
   "cell_type": "code",
   "execution_count": 52,
   "metadata": {
    "collapsed": false
   },
   "outputs": [
    {
     "name": "stdout",
     "output_type": "stream",
     "text": [
      "9\n",
      "10\n"
     ]
    }
   ],
   "source": [
    "1,256,2,128,4,64,8,32...256,1"
   ]
  },
  {
   "cell_type": "code",
   "execution_count": 60,
   "metadata": {
    "collapsed": false
   },
   "outputs": [
    {
     "name": "stdout",
     "output_type": "stream",
     "text": [
      "[1, 256, 2, 128, 4, 64, 8, 32, 16, 16, 32, 8, 64, 4, 128, 2, 256, 1]\n",
      "[]\n",
      "[]\n"
     ]
    }
   ],
   "source": [
    "L1=[1, 2, 4, 8, 16, 32, 64, 128, 256]\n",
    "L2=[256, 128, 64, 32, 16, 8, 4, 2, 1]\n",
    "N=[]\n",
    "while(len(L1)>0):\n",
    "    N.append(L1.pop(0))\n",
    "    N.append(L2.pop(0))\n",
    "print N\n",
    "print L1\n",
    "print L2"
   ]
  },
  {
   "cell_type": "code",
   "execution_count": 61,
   "metadata": {
    "collapsed": false
   },
   "outputs": [
    {
     "name": "stdout",
     "output_type": "stream",
     "text": [
      "[1, 256, 2, 128, 4, 64, 8, 32, 16, 16, 32, 8, 64, 4, 128, 2]\n",
      "[1, 2, 4, 8, 16, 32, 64, 128, 256]\n",
      "[256, 128, 64, 32, 16, 8, 4, 2, 1]\n"
     ]
    }
   ],
   "source": [
    "L1=[1, 2, 4, 8, 16, 32, 64, 128, 256]\n",
    "L2=[256, 128, 64, 32, 16, 8, 4, 2, 1]\n",
    "N=[]\n",
    "i=0\n",
    "while(i<8):\n",
    "    N.append(L1[i])\n",
    "    N.append(L2[i])\n",
    "    i=i+1\n",
    "print N\n",
    "print L1\n",
    "print L2"
   ]
  },
  {
   "cell_type": "code",
   "execution_count": 62,
   "metadata": {
    "collapsed": false
   },
   "outputs": [
    {
     "name": "stdout",
     "output_type": "stream",
     "text": [
      "[1, 256, 2, 128, 4, 64, 8, 32, 16, 16, 32, 8, 64, 4, 128, 2, 256, 1]\n"
     ]
    }
   ],
   "source": [
    "L1=[1, 2, 4, 8, 16, 32, 64, 128, 256]\n",
    "L2=[256, 128, 64, 32, 16, 8, 4, 2, 1]\n",
    "N=list(L1)\n",
    "n=1\n",
    "while(len(L2)>0):\n",
    "    N.insert(n,L2.pop(0))\n",
    "    n=n+2\n",
    "print N"
   ]
  },
  {
   "cell_type": "code",
   "execution_count": null,
   "metadata": {
    "collapsed": true
   },
   "outputs": [],
   "source": []
  }
 ],
 "metadata": {
  "kernelspec": {
   "display_name": "Python 2",
   "language": "python",
   "name": "python2"
  },
  "language_info": {
   "codemirror_mode": {
    "name": "ipython",
    "version": 2
   },
   "file_extension": ".py",
   "mimetype": "text/x-python",
   "name": "python",
   "nbconvert_exporter": "python",
   "pygments_lexer": "ipython2",
   "version": "2.7.10"
  }
 },
 "nbformat": 4,
 "nbformat_minor": 0
}
