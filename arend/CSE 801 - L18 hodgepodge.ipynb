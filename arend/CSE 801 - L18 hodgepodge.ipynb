{
 "cells": [
  {
   "cell_type": "code",
   "execution_count": 3,
   "metadata": {
    "collapsed": false
   },
   "outputs": [
    {
     "name": "stdout",
     "output_type": "stream",
     "text": [
      "Populating the interactive namespace from numpy and matplotlib\n"
     ]
    }
   ],
   "source": [
    "%pylab inline"
   ]
  },
  {
   "cell_type": "code",
   "execution_count": 8,
   "metadata": {
    "collapsed": false
   },
   "outputs": [
    {
     "name": "stdout",
     "output_type": "stream",
     "text": [
      "no it isn't\n"
     ]
    }
   ],
   "source": [
    "def isInOrder(myList):\n",
    "    for i in range(len(myList)-1):\n",
    "        if (myList[i]>myList[i+1]):\n",
    "            return False\n",
    "    return True\n",
    "\n",
    "if isInOrder([1,3,2]):\n",
    "    print \"yeah in order!\"\n",
    "else:\n",
    "    print \"no it isn't\"\n"
   ]
  },
  {
   "cell_type": "code",
   "execution_count": 9,
   "metadata": {
    "collapsed": true
   },
   "outputs": [],
   "source": [
    "L=[5,8,1,2,7]"
   ]
  },
  {
   "cell_type": "code",
   "execution_count": 20,
   "metadata": {
    "collapsed": false
   },
   "outputs": [
    {
     "name": "stdout",
     "output_type": "stream",
     "text": [
      "[1, 2, 5, 7, 8]\n"
     ]
    }
   ],
   "source": [
    "import random\n",
    "\n",
    "def randomizeList(myList):\n",
    "    newList=[]\n",
    "    while len(myList)>0:\n",
    "        newList.append(myList.pop(random.randint(0,len(myList)-1)))\n",
    "    return newList\n",
    "\n",
    "L=[5,8,1,2,7]\n",
    "while( not isInOrder(L)):\n",
    "    L=randomizeList(L)\n",
    "print L"
   ]
  },
  {
   "cell_type": "code",
   "execution_count": 28,
   "metadata": {
    "collapsed": false
   },
   "outputs": [
    {
     "name": "stdout",
     "output_type": "stream",
     "text": [
      "6.97494792938\n"
     ]
    }
   ],
   "source": [
    "import time\n",
    "L=[]\n",
    "N=5000\n",
    "for i in range(N):\n",
    "    L.append(random.randint(0,N))\n",
    "start = time.time()\n",
    "for i in range(len(L)):\n",
    "    for j in range(len(L)-1-i):\n",
    "        if L[j]>L[j+1]:\n",
    "            dummy=L[j]\n",
    "            L[j]=L[j+1]\n",
    "            L[j+1]=dummy\n",
    "            \n",
    "end = time.time()\n",
    "print (end-start)\n"
   ]
  },
  {
   "cell_type": "markdown",
   "metadata": {},
   "source": [
    "### Complementary C++ code:\n",
    "    #include <iostream>\n",
    "    #include <stdio.h>\n",
    "    #include <stdlib.h>\n",
    "    #include <vector>\n",
    "\n",
    "    #include <time.h>\n",
    "\n",
    "    using namespace std;\n",
    "\n",
    "    const int N=20000;\n",
    "\n",
    "    int main(int argc, const char * argv[]) {\n",
    "\n",
    "        vector<int> L;\n",
    "        L.clear();\n",
    "        for(int i=0;i<N;i++){ // for i in range(N):\n",
    "            L.push_back(rand()%N);\n",
    "        }\n",
    "\t\n",
    "        printf(\"Before sorting:\\n\");\n",
    "\n",
    "        for(int i=0;i<10;i++){\n",
    "            printf(\"%i,\",L[i]);\n",
    "        }\n",
    "        printf(\"\\n\");\n",
    "\n",
    "        time_t startTime;\n",
    "        time_t endTime;\n",
    "        startTime=time(NULL);\n",
    "        for(int i=0;i<L.size();i++){\n",
    "            for(int j=0;j<L.size()-i-1;j++){\n",
    "                if(L[j]>L[j+1]){\n",
    "                    int dummy=L[j];\n",
    "                    L[j]=L[j+1];\n",
    "                    L[j+1]=dummy;\n",
    "                }\n",
    "            }\n",
    "        }\n",
    "        endTime=time(NULL);\n",
    "        printf(\"elapsed seconds: %f\\n\",difftime(endTime,startTime));\n",
    "\n",
    "\n",
    "        printf(\"After sorting:\\n\");\n",
    "        for(int i=0;i<10;i++){\n",
    "            printf(\"%i,\",L[i]);\n",
    "        }\n",
    "        printf(\"\\n\");\n",
    "        return 0;\n",
    "    }\n"
   ]
  },
  {
   "cell_type": "code",
   "execution_count": null,
   "metadata": {
    "collapsed": true
   },
   "outputs": [],
   "source": []
  }
 ],
 "metadata": {
  "kernelspec": {
   "display_name": "Python 2",
   "language": "python",
   "name": "python2"
  },
  "language_info": {
   "codemirror_mode": {
    "name": "ipython",
    "version": 2
   },
   "file_extension": ".py",
   "mimetype": "text/x-python",
   "name": "python",
   "nbconvert_exporter": "python",
   "pygments_lexer": "ipython2",
   "version": "2.7.10"
  }
 },
 "nbformat": 4,
 "nbformat_minor": 0
}
