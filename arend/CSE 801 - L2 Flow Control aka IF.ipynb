{
 "cells": [
  {
   "cell_type": "code",
   "execution_count": 4,
   "metadata": {
    "collapsed": false
   },
   "outputs": [
    {
     "name": "stdout",
     "output_type": "stream",
     "text": [
      "a was larger than b, yeah!\n"
     ]
    }
   ],
   "source": [
    "b=10\n",
    "a=20\n",
    "if (a>b):\n",
    "    print \"a was larger than b, yeah!\"\n",
    "if (b>a):\n",
    "    print \"a wasn't larger than b, too bad!\"   "
   ]
  },
  {
   "cell_type": "code",
   "execution_count": 11,
   "metadata": {
    "collapsed": false
   },
   "outputs": [
    {
     "name": "stdout",
     "output_type": "stream",
     "text": [
      "a was larger than b, yeah!\n",
      "they are unequal!\n"
     ]
    }
   ],
   "source": [
    "b=10\n",
    "a=20\n",
    "if (a>b):\n",
    "    print \"a was larger than b, yeah!\"\n",
    "if (b>a):\n",
    "    print \"a wasn't larger than b, too bad!\"\n",
    "if (b==a):\n",
    "    print \"they are equal!\"\n",
    "if (a!=b):\n",
    "    print \"they are unequal!\"\n"
   ]
  },
  {
   "cell_type": "code",
   "execution_count": 15,
   "metadata": {
    "collapsed": false
   },
   "outputs": [
    {
     "ename": "IndentationError",
     "evalue": "expected an indented block (<ipython-input-15-5590626255f5>, line 4)",
     "output_type": "error",
     "traceback": [
      "\u001b[0;36m  File \u001b[0;32m\"<ipython-input-15-5590626255f5>\"\u001b[0;36m, line \u001b[0;32m4\u001b[0m\n\u001b[0;31m    print \"a was larger than b, yeah!\"\u001b[0m\n\u001b[0m        ^\u001b[0m\n\u001b[0;31mIndentationError\u001b[0m\u001b[0;31m:\u001b[0m expected an indented block\n"
     ]
    }
   ],
   "source": [
    "b=10\n",
    "a=20\n",
    "if (a>b):\n",
    "    print \"a was larger than b, yeah!\"\n",
    "else:\n",
    "    print \"a wasn't larger than b, too bad!\"\n"
   ]
  },
  {
   "cell_type": "code",
   "execution_count": 18,
   "metadata": {
    "collapsed": false
   },
   "outputs": [
    {
     "name": "stdout",
     "output_type": "stream",
     "text": [
      "a wasn't larger than b, too bad!\n",
      "I am in the other block\n"
     ]
    }
   ],
   "source": [
    "b=20\n",
    "a=10\n",
    "if (a>b):\n",
    "    print \"a was larger than b, yeah!\"\n",
    "    print \"This line belongs to the upper block\"\n",
    "else:\n",
    "    print \"a wasn't larger than b, too bad!\"\n",
    "    print \"I am in the other block\"\n"
   ]
  },
  {
   "cell_type": "code",
   "execution_count": 20,
   "metadata": {
    "collapsed": false
   },
   "outputs": [
    {
     "name": "stdout",
     "output_type": "stream",
     "text": [
      "a wasn't larger than b, too bad!\n",
      "I am in the other block\n",
      "a isn't equal to c\n"
     ]
    }
   ],
   "source": [
    "b=20\n",
    "a=10\n",
    "c=30\n",
    "if (a>b):\n",
    "    print \"a was larger than b, yeah!\"\n",
    "    print \"This line belongs to the upper block\"\n",
    "else:\n",
    "    print \"a wasn't larger than b, too bad!\"\n",
    "    print \"I am in the other block\"\n",
    "    if (a==c):\n",
    "        print \"a is equal to c\"\n",
    "    else:\n",
    "        print \"a isn't equal to c\""
   ]
  },
  {
   "cell_type": "markdown",
   "metadata": {},
   "source": [
    "## Exercise\n",
    "    a will be assigned any of the 4 values 0..3\n",
    "    a=0,1,2,3\n",
    "    you need to print out the literal way of doing it! Like this:\n",
    "    \"a is one\"\n",
    "    \"a is a three\"\n",
    "    ..."
   ]
  },
  {
   "cell_type": "code",
   "execution_count": 21,
   "metadata": {
    "collapsed": false
   },
   "outputs": [
    {
     "name": "stdout",
     "output_type": "stream",
     "text": [
      "was two\n"
     ]
    }
   ],
   "source": [
    "a=2\n",
    "if (a==0):\n",
    "    print \"was zero\"\n",
    "if (a==1):\n",
    "    print \"was one\"\n",
    "if (a==2):\n",
    "    print \"was two\"\n",
    "if (a==3):\n",
    "    print \"was three\""
   ]
  },
  {
   "cell_type": "code",
   "execution_count": 25,
   "metadata": {
    "collapsed": false
   },
   "outputs": [
    {
     "name": "stdout",
     "output_type": "stream",
     "text": [
      "was zero\n"
     ]
    }
   ],
   "source": [
    "a=0\n",
    "if (a==0):\n",
    "    print \"was zero\"\n",
    "else:\n",
    "    if (a==1):\n",
    "        print \"was one\"\n",
    "    else: \n",
    "        if (a==2):\n",
    "            print \"was two\"\n",
    "        else:\n",
    "            if (a==3):\n",
    "                print \"was three\""
   ]
  },
  {
   "cell_type": "code",
   "execution_count": 26,
   "metadata": {
    "collapsed": false
   },
   "outputs": [
    {
     "name": "stdout",
     "output_type": "stream",
     "text": [
      "was zero\n"
     ]
    }
   ],
   "source": [
    "a=0\n",
    "if (a==0):\n",
    "    print \"was zero\"\n",
    "else:\n",
    "    if (a==1):\n",
    "        print \"was one\"\n",
    "    else: \n",
    "        if (a==2):\n",
    "            print \"was two\"\n",
    "        else:\n",
    "            # Smart idea, you don't need to check, a must be 3!!!\n",
    "            print \"was three\""
   ]
  },
  {
   "cell_type": "code",
   "execution_count": 36,
   "metadata": {
    "collapsed": false
   },
   "outputs": [
    {
     "name": "stdout",
     "output_type": "stream",
     "text": [
      "zero or lower\n"
     ]
    }
   ],
   "source": [
    "a=-2\n",
    "if (a>1):\n",
    "    if (a>2):\n",
    "        print \"larger or three\"\n",
    "    else:\n",
    "        print \"two\"\n",
    "else:\n",
    "    if (a<1):\n",
    "        print \"zero or lower\"\n",
    "    else:\n",
    "        print \"one\""
   ]
  },
  {
   "cell_type": "code",
   "execution_count": 37,
   "metadata": {
    "collapsed": false
   },
   "outputs": [
    {
     "name": "stdout",
     "output_type": "stream",
     "text": [
      "one of them is a 10\n"
     ]
    }
   ],
   "source": [
    "a=10\n",
    "b=20\n",
    "if (a==10) or (b==10):\n",
    "    print \"one of them is a 10\"\n",
    "    "
   ]
  },
  {
   "cell_type": "code",
   "execution_count": 39,
   "metadata": {
    "collapsed": false
   },
   "outputs": [
    {
     "name": "stdout",
     "output_type": "stream",
     "text": [
      "one of them is 10\n"
     ]
    }
   ],
   "source": [
    "c=10\n",
    "if (a==10) or (b==10) or (c==10):\n",
    "    print \"one of them is 10\""
   ]
  },
  {
   "cell_type": "code",
   "execution_count": 40,
   "metadata": {
    "collapsed": false
   },
   "outputs": [
    {
     "name": "stdout",
     "output_type": "stream",
     "text": [
      "both of them are a 10\n"
     ]
    }
   ],
   "source": [
    "a=10\n",
    "b=10\n",
    "if (a==10) and (b==10):\n",
    "    print \"both of them are a 10\"\n",
    "    "
   ]
  },
  {
   "cell_type": "code",
   "execution_count": 47,
   "metadata": {
    "collapsed": false
   },
   "outputs": [
    {
     "name": "stdout",
     "output_type": "stream",
     "text": [
      "was true\n",
      "(a==10 AND b==10) or c==20\n"
     ]
    }
   ],
   "source": [
    "a=20\n",
    "b=10\n",
    "c=20\n",
    "if (a==10) and (b==10) or (c==20):\n",
    "    print \"was true\"\n",
    "if ((a==10) and (b==10)) or (c==20):\n",
    "    print \"(a==10 AND b==10) or c==20\"\n",
    "if (a==10) and ((b==10) or (c==20)):\n",
    "    print \"a==10 AND (b==10 or c==20)\""
   ]
  },
  {
   "cell_type": "code",
   "execution_count": 48,
   "metadata": {
    "collapsed": false
   },
   "outputs": [],
   "source": [
    "a=10\n",
    "if (a!=10) and not (a!=10):\n",
    "    print \"what?\""
   ]
  },
  {
   "cell_type": "code",
   "execution_count": 49,
   "metadata": {
    "collapsed": false
   },
   "outputs": [
    {
     "name": "stdout",
     "output_type": "stream",
     "text": [
      "what?\n"
     ]
    }
   ],
   "source": [
    "a=10\n",
    "if (a!=10) or not (a!=10):\n",
    "    print \"what?\""
   ]
  },
  {
   "cell_type": "code",
   "execution_count": 50,
   "metadata": {
    "collapsed": false
   },
   "outputs": [
    {
     "name": "stdout",
     "output_type": "stream",
     "text": [
      "yes!\n"
     ]
    }
   ],
   "source": [
    "b=10\n",
    "a=20\n",
    "if (a>=10) and (b<=20):\n",
    "    print \"yes!\""
   ]
  },
  {
   "cell_type": "markdown",
   "metadata": {},
   "source": [
    "#### http://www.pythontutor.com/visualize.html"
   ]
  },
  {
   "cell_type": "markdown",
   "metadata": {},
   "source": [
    "a is going to be a number between 0 and 2 [0,2]\n",
    "b is going to be a number between 0 and 3\n",
    "\n",
    "find the difference between both numbers without using math!"
   ]
  },
  {
   "cell_type": "code",
   "execution_count": 53,
   "metadata": {
    "collapsed": false
   },
   "outputs": [
    {
     "name": "stdout",
     "output_type": "stream",
     "text": [
      "1.0\n"
     ]
    }
   ],
   "source": [
    "#don't do this: or any other type of math opperation!\n",
    "a=2\n",
    "b=1\n",
    "print sqrt((a-b)*(a-b))"
   ]
  },
  {
   "cell_type": "markdown",
   "metadata": {},
   "source": [
    "Once completed save this in the dropbox, use the following naming convention\n",
    "HW1_AH\n",
    "HW for homework, 1 for number one, and AH for Arend Hintze, first name last name\n",
    "\n",
    "Deliver until Monday Evening 5pm!\n"
   ]
  },
  {
   "cell_type": "code",
   "execution_count": 58,
   "metadata": {
    "collapsed": false
   },
   "outputs": [],
   "source": [
    "import random\n",
    "a=random.randint(0,2)\n",
    "b=random.randint(0,3)"
   ]
  },
  {
   "cell_type": "code",
   "execution_count": null,
   "metadata": {
    "collapsed": false
   },
   "outputs": [],
   "source": []
  }
 ],
 "metadata": {
  "kernelspec": {
   "display_name": "Python 2",
   "language": "python",
   "name": "python2"
  },
  "language_info": {
   "codemirror_mode": {
    "name": "ipython",
    "version": 2
   },
   "file_extension": ".py",
   "mimetype": "text/x-python",
   "name": "python",
   "nbconvert_exporter": "python",
   "pygments_lexer": "ipython2",
   "version": "2.7.10"
  }
 },
 "nbformat": 4,
 "nbformat_minor": 0
}
