{
 "cells": [
  {
   "cell_type": "markdown",
   "metadata": {},
   "source": [
    "### Description\n",
    "    Imagine a tv game show. You have to choose one of three doors. You know that behind one door there will be the\n",
    "    million dollar win, while the other two have a goat behind them. Once you choose one of the doors, the game host\n",
    "    will reveil one other door that has a goal behind it.\n",
    "    You now have to choose between remaining with the door you initially chose, or do you want to switch doors?\n",
    "    \n",
    "    Model the entire process, and sample from the possible options to derive the answer"
   ]
  },
  {
   "cell_type": "code",
   "execution_count": 1,
   "metadata": {
    "collapsed": false
   },
   "outputs": [
    {
     "name": "stdout",
     "output_type": "stream",
     "text": [
      "Populating the interactive namespace from numpy and matplotlib\n"
     ]
    }
   ],
   "source": [
    "%pylab inline"
   ]
  },
  {
   "cell_type": "code",
   "execution_count": 2,
   "metadata": {
    "collapsed": false
   },
   "outputs": [
    {
     "name": "stdout",
     "output_type": "stream",
     "text": [
      "staying gives you 32.0 % change of success\n",
      "switching gives you a 63.69090909090909 % change of success\n"
     ]
    }
   ],
   "source": [
    "from pandas import * \n",
    "import random\n",
    "total=list()\n",
    "\n",
    "\n",
    "#staying\n",
    "for i in list(range(1000)):\n",
    "    L=[0,0,1]\n",
    "    random.shuffle(L)\n",
    "    loadTheDoors=random.randint(0,2) \n",
    "    stay=L.index(1)\n",
    "    if (loadTheDoors==stay):\n",
    "        total.append(float(1))\n",
    "    else:\n",
    "        total.append(float(0))\n",
    "percent=(sum(total)/len(total))*100\n",
    "print (\"staying gives you {0} % change of success\".format(round(percent)))\n",
    "\n",
    "        #moving\n",
    "for i in range(10000):\n",
    "    L=[0,0,1]\n",
    "    random.shuffle(L)\n",
    "    loadTheDoors=random.randint(0,2) \n",
    "    stay=L.index(1)\n",
    "    opendoor=random.randint(0,2)\n",
    "    while (opendoor==loadTheDoors) or (opendoor==stay):\n",
    "        opendoor=random.randint(0,2)\n",
    "    third=random.randint(0,2)\n",
    "    while (third==opendoor) or (third==loadTheDoors):\n",
    "        third=random.randint(0,2)\n",
    "    if (third==stay):\n",
    "        total.append(float(1))\n",
    "    else:\n",
    "        total.append(float(0))\n",
    "        \n",
    "\n",
    "percentSecond=(sum(total)/len(total))*100\n",
    "print (\"switching gives you a {0} % change of success\".format(percentSecond))\n",
    "\n"
   ]
  },
  {
   "cell_type": "markdown",
   "metadata": {},
   "source": [
    "I don't think I understand when functions should be created and then used. Does this help if we are repeating similar code for different things? \n",
    "\n",
    "Also, unsure how to make graphs. \n",
    "\n",
    "The internet helped me a lot with this one. "
   ]
  },
  {
   "cell_type": "code",
   "execution_count": null,
   "metadata": {
    "collapsed": true
   },
   "outputs": [],
   "source": []
  }
 ],
 "metadata": {
  "kernelspec": {
   "display_name": "Python 3",
   "language": "python",
   "name": "python3"
  },
  "language_info": {
   "codemirror_mode": {
    "name": "ipython",
    "version": 3
   },
   "file_extension": ".py",
   "mimetype": "text/x-python",
   "name": "python",
   "nbconvert_exporter": "python",
   "pygments_lexer": "ipython3",
   "version": "3.4.3"
  }
 },
 "nbformat": 4,
 "nbformat_minor": 0
}
