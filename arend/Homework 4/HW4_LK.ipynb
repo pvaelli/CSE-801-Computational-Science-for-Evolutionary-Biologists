{
 "cells": [
  {
   "cell_type": "code",
   "execution_count": 5,
   "metadata": {
    "collapsed": false
   },
   "outputs": [
    {
     "name": "stdout",
     "output_type": "stream",
     "text": [
      "Populating the interactive namespace from numpy and matplotlib\n"
     ]
    }
   ],
   "source": [
    "%pylab inline"
   ]
  },
  {
   "cell_type": "code",
   "execution_count": 6,
   "metadata": {
    "collapsed": false
   },
   "outputs": [
    {
     "name": "stdout",
     "output_type": "stream",
     "text": [
      "Switching is the better strategy 66.6222% of the time.\n"
     ]
    },
    {
     "data": {
      "text/plain": [
       "[0.8, 3, 0, 100]"
      ]
     },
     "execution_count": 6,
     "metadata": {},
     "output_type": "execute_result"
    },
    {
     "data": {
      "image/png": "[encoded data removed]",
      "text/plain": [
       "<matplotlib.figure.Figure at 0x4f654d0>"
      ]
     },
     "metadata": {},
     "output_type": "display_data"
    }
   ],
   "source": [
    "import random\n",
    "switch=0\n",
    "stay=0\n",
    "total=1000000\n",
    "for i in range(total):\n",
    "    money=random.randint(0,2)\n",
    "    selection=random.randint(0,2)\n",
    "    if (money==selection):\n",
    "        stay=stay+1\n",
    "    else:\n",
    "        switch=switch+1\n",
    "percswit=(float(switch)/float(total))*100\n",
    "percstay=(float(stay)/float(total))*100\n",
    "if switch>stay:\n",
    "    print \"Switching is the better strategy {0}% of the time.\".format(percswit)\n",
    "else:\n",
    "    print \"Staying is the better strategy {0}% of the time.\".format(percstay)\n",
    "bar([1,2],[(percstay),(percswit)])\n",
    "xticks([1.4,2.4],[\"stay\",\"switch\"])\n",
    "ylabel(\"Percentage\")\n",
    "axis([0.8,3,0,100])"
   ]
  },
  {
   "cell_type": "code",
   "execution_count": null,
   "metadata": {
    "collapsed": true
   },
   "outputs": [],
   "source": []
  },
  {
   "cell_type": "code",
   "execution_count": null,
   "metadata": {
    "collapsed": true
   },
   "outputs": [],
   "source": []
  }
 ],
 "metadata": {
  "kernelspec": {
   "display_name": "Python 2",
   "language": "python",
   "name": "python2"
  },
  "language_info": {
   "codemirror_mode": {
    "name": "ipython",
    "version": 2
   },
   "file_extension": ".py",
   "mimetype": "text/x-python",
   "name": "python",
   "nbconvert_exporter": "python",
   "pygments_lexer": "ipython2",
   "version": "2.7.10"
  }
 },
 "nbformat": 4,
 "nbformat_minor": 0
}
