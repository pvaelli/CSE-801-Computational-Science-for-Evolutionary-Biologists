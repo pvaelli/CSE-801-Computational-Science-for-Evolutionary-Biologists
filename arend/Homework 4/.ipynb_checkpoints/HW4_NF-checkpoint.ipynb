{
 "cells": [
  {
   "cell_type": "code",
   "execution_count": null,
   "metadata": {
    "collapsed": true
   },
   "outputs": [],
   "source": [
    "def OpenDoor():\n",
    "    if l[2]==\"C\":\n",
    "        l.pop(1)\n",
    "    else:\n",
    "        l.pop(2)\n",
    "\n",
    "def WL():\n",
    "    if l[0]==\"C\":\n",
    "        w.append(1)\n",
    "    else:\n",
    "        L.append(1)"
   ]
  },
  {
   "cell_type": "code",
   "execution_count": 1,
   "metadata": {
    "collapsed": false
   },
   "outputs": [
    {
     "name": "stdout",
     "output_type": "stream",
     "text": [
      "After 10000 trials, the Stay strategy yields a 32.89% success rate, while the Switch strategy yields a 67.11% success rate.  Therfore, the best strategy is to switch.\n"
     ]
    }
   ],
   "source": [
    "def Percentage(part,whole):\n",
    "    return 100 * float(part)/float(whole)\n",
    "import random\n",
    "##tallies the # of times I win if i stay at door number 1\n",
    "w=[]\n",
    "##tallies the # of times i lose if i stay at door number 1\n",
    "L=[]\n",
    "n=10000\n",
    "for i in range(n):\n",
    "    ##list of doors. l[0]== Door Number 1, l[1]== Door Number 2, 1[2]==Door Number 3. G= goat, C= cash\n",
    "    l=[\"C\",\"G\",\"G\"]\n",
    "    ##randomly reorganizes the list\n",
    "    random.shuffle(l)\n",
    "    ##Make sure host opens door with a goat and not the money\n",
    "    ##if door #3 is the money, open door number 2 (goat).  if not, then open door number 3 (goat)\n",
    "    if l[2]==\"C\":\n",
    "        l.pop(1)\n",
    "    else:\n",
    "        l.pop(2)\n",
    "    ##if door number 1 has the money, add a \"1\" to the winner list, \n",
    "    if l[0]==\"C\":\n",
    "        w.append(1)\n",
    "    ##if door 1 does not have the money, add a \"1\" to the loser list\n",
    "    else:\n",
    "        L.append(1)\n",
    "        \n",
    "stay=Percentage(sum(w),(sum(w)+sum(L)))\n",
    "switch=100-(Percentage(sum(w),(sum(w)+sum(L))))\n",
    "s=\"stay\"\n",
    "S=\"switch\"\n",
    "print \"After {0} trials, the Stay strategy yields a {1}% success rate, \\\n",
    "while the Switch strategy yields a {2}% success rate.  Therfore, the best strategy is to {3}\\\n",
    ".\".format(n, stay, switch, S)"
   ]
  },
  {
   "cell_type": "code",
   "execution_count": 8,
   "metadata": {
    "collapsed": false
   },
   "outputs": [
    {
     "name": "stdout",
     "output_type": "stream",
     "text": [
      "['G', 'C', 'G']\n",
      "0\n",
      "0\n"
     ]
    }
   ],
   "source": [
    "def Percentage(part,whole):\n",
    "    return 100 * float(part)/float(whole)\n",
    "import random\n",
    "w=[]##tallies the # of times I win if i stay at door number 1\n",
    "L=[]##tallies the # of times i lose if i stay at door number 1\n",
    "n=100\n",
    "for i in range(n):\n",
    "    l=[\"C\",\"G\",\"G\"]##list of doors. l[0]== Door Number 1, l[1]== Door Number 2, 1[2]==Door Number 3. G= goat, C= cash\n",
    "    random.shuffle(l)##randomly reorganizes the list\n",
    "    while (l[2]==\"C\") and (l[0]==\"C\"):\n",
    "        l.pop(2)\n",
    "        w.append(1)\n",
    "print l\n",
    "print sum(w)\n",
    "print sum(L)"
   ]
  }
 ],
 "metadata": {
  "kernelspec": {
   "display_name": "Python 2",
   "language": "python",
   "name": "python2"
  },
  "language_info": {
   "codemirror_mode": {
    "name": "ipython",
    "version": 2
   },
   "file_extension": ".py",
   "mimetype": "text/x-python",
   "name": "python",
   "nbconvert_exporter": "python",
   "pygments_lexer": "ipython2",
   "version": "2.7.10"
  }
 },
 "nbformat": 4,
 "nbformat_minor": 0
}
