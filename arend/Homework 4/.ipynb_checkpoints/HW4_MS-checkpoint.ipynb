{
 "cells": [
  {
   "cell_type": "code",
   "execution_count": 7,
   "metadata": {
    "collapsed": false
   },
   "outputs": [
    {
     "ename": "SyntaxError",
     "evalue": "invalid syntax (<ipython-input-7-68891b11fb73>, line 4)",
     "output_type": "error",
     "traceback": [
      "\u001b[1;36m  File \u001b[1;32m\"<ipython-input-7-68891b11fb73>\"\u001b[1;36m, line \u001b[1;32m4\u001b[0m\n\u001b[1;33m    else:\u001b[0m\n\u001b[1;37m       ^\u001b[0m\n\u001b[1;31mSyntaxError\u001b[0m\u001b[1;31m:\u001b[0m invalid syntax\n"
     ]
    }
   ],
   "source": []
  },
  {
   "cell_type": "code",
   "execution_count": 2,
   "metadata": {
    "collapsed": false
   },
   "outputs": [
    {
     "name": "stdout",
     "output_type": "stream",
     "text": [
      "66.88%!!! You should switch!\n"
     ]
    }
   ],
   "source": [
    "#switch\n",
    "\n",
    "import random\n",
    "winners=0\n",
    "for i in range(10000):\n",
    "    List=[0,0,1]\n",
    "    random.shuffle(List)\n",
    "    position=random.randint(0,2)\n",
    "    value=List[position]\n",
    "#show goat   \n",
    "    open=random.randint(0,2)\n",
    "    while open==position or List[open]==1:\n",
    "         open=random.randint(0,2)\n",
    "#switch\n",
    "    switch=random.randint(0,2)\n",
    "    while switch==open or switch==position:\n",
    "        switch=random.randint(0,2)\n",
    "    winners=winners+List[switch]\n",
    "    \n",
    "percent=float(winners)/100\n",
    "print str(percent)+\"%!!! You should switch!\""
   ]
  },
  {
   "cell_type": "code",
   "execution_count": 3,
   "metadata": {
    "collapsed": false
   },
   "outputs": [
    {
     "name": "stdout",
     "output_type": "stream",
     "text": [
      "33.87% You would be better off switching\n"
     ]
    }
   ],
   "source": [
    "#stay\n",
    "\n",
    "import random\n",
    "winners=0\n",
    "for i in range(10000):\n",
    "    List=[0,0,1]\n",
    "    random.shuffle(List)\n",
    "    position=random.randint(0,2)\n",
    "    value=List[position]\n",
    "#show goat   \n",
    "    open=random.randint(0,2)\n",
    "    while open==position or List[open]==1:\n",
    "         open=random.randint(0,2)\n",
    "#stay\n",
    "    if value==1:\n",
    "        winners=winners+1\n",
    "    \n",
    "percent=float(winners)/100\n",
    "print str(percent)+\"% You would be better off switching\""
   ]
  },
  {
   "cell_type": "code",
   "execution_count": null,
   "metadata": {
    "collapsed": true
   },
   "outputs": [],
   "source": []
  }
 ],
 "metadata": {
  "kernelspec": {
   "display_name": "Python 3",
   "language": "python",
   "name": "python3"
  },
  "language_info": {
   "codemirror_mode": {
    "name": "ipython",
    "version": 3
   },
   "file_extension": ".py",
   "mimetype": "text/x-python",
   "name": "python",
   "nbconvert_exporter": "python",
   "pygments_lexer": "ipython3",
   "version": "3.4.3"
  }
 },
 "nbformat": 4,
 "nbformat_minor": 0
}
