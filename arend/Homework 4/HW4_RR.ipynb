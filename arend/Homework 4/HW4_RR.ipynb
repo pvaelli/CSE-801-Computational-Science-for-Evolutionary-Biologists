{
 "cells": [
  {
   "cell_type": "code",
   "execution_count": 24,
   "metadata": {
    "collapsed": false
   },
   "outputs": [
    {
     "name": "stdout",
     "output_type": "stream",
     "text": [
      "0.343\n",
      "0.657\n"
     ]
    }
   ],
   "source": [
    "import random\n",
    "\n",
    "wonSwitching=0\n",
    "wonSticking=0\n",
    "count=0\n",
    "\n",
    "while (count<1000):\n",
    "    reality=[0,0,0]\n",
    "    car=random.randint(0,2)\n",
    "    i=0\n",
    "    #initialize the list\n",
    "    while(i<3):\n",
    "        if (i!=car):\n",
    "            reality[i]=0\n",
    "        else:\n",
    "            reality[i]=1\n",
    "        i=i+1\n",
    "    #player makes a choice    \n",
    "    myChoice=random.randint(0,2)\n",
    "    i=0\n",
    "    #goat is shown by host\n",
    "    while (i<3):\n",
    "        if (i!=myChoice) and (reality[i]==0):\n",
    "            goat=i\n",
    "        i=i+1\n",
    "    i=0\n",
    "    while (i<3):\n",
    "        if (i!=myChoice) and (i!=goat):\n",
    "            other=i\n",
    "        i=i+1\n",
    "\n",
    "#switch\n",
    "    myNewChoice=other\n",
    "    if (reality[myNewChoice]==1):\n",
    "        wonSwitching=wonSwitching+1\n",
    "\n",
    "#stick\n",
    "    if (reality[myChoice]==1):\n",
    "        wonSticking=wonSticking+1\n",
    "    count=count+1\n",
    "\n",
    "print (wonSticking/1000)\n",
    "print (wonSwitching/1000)\n",
    "    "
   ]
  },
  {
   "cell_type": "code",
   "execution_count": null,
   "metadata": {
    "collapsed": true
   },
   "outputs": [],
   "source": []
  },
  {
   "cell_type": "code",
   "execution_count": null,
   "metadata": {
    "collapsed": true
   },
   "outputs": [],
   "source": []
  }
 ],
 "metadata": {
  "kernelspec": {
   "display_name": "Python 3",
   "language": "python",
   "name": "python3"
  },
  "language_info": {
   "codemirror_mode": {
    "name": "ipython",
    "version": 3
   },
   "file_extension": ".py",
   "mimetype": "text/x-python",
   "name": "python",
   "nbconvert_exporter": "python",
   "pygments_lexer": "ipython3",
   "version": "3.4.3"
  }
 },
 "nbformat": 4,
 "nbformat_minor": 0
}
