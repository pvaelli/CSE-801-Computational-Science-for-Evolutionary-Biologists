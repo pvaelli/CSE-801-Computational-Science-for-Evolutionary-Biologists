{
 "cells": [
  {
   "cell_type": "code",
   "execution_count": 1,
   "metadata": {
    "collapsed": false
   },
   "outputs": [
    {
     "name": "stdout",
     "output_type": "stream",
     "text": [
      "Populating the interactive namespace from numpy and matplotlib\n"
     ]
    }
   ],
   "source": [
    "%pylab inline"
   ]
  },
  {
   "cell_type": "code",
   "execution_count": 2,
   "metadata": {
    "collapsed": true
   },
   "outputs": [],
   "source": [
    "from pandas import *"
   ]
  },
  {
   "cell_type": "code",
   "execution_count": 3,
   "metadata": {
    "collapsed": false
   },
   "outputs": [
    {
     "name": "stdout",
     "output_type": "stream",
     "text": [
      "you should always move\n",
      "people who stayed won 33% of the time, and people who moved won 49% of the time\n"
     ]
    },
    {
     "data": {
      "text/plain": [
       "<Container object of 2 artists>"
      ]
     },
     "execution_count": 3,
     "metadata": {},
     "output_type": "execute_result"
    },
    {
     "data": {
      "image/png": "[encoded data removed]",
      "text/plain": [
       "<matplotlib.figure.Figure at 0x106f1a790>"
      ]
     },
     "metadata": {},
     "output_type": "display_data"
    }
   ],
   "source": [
    "import random\n",
    "\n",
    "stay=list()\n",
    "move=list()\n",
    "\n",
    "def createGame():\n",
    "    L=list()\n",
    "    for i in range(3):\n",
    "        L.append(0)\n",
    "    n=random.randint(0,2)\n",
    "    L.insert(n,1)\n",
    "    L.pop(n+1)\n",
    "    return L\n",
    "\n",
    "for m in range(10000000):\n",
    "    if random.randint(0,1)==0:\n",
    "        stay.append(createGame().pop(random.randint(0,2)))\n",
    "    else:\n",
    "        currentGame=createGame()\n",
    "        currentGame.remove(0)\n",
    "        move.append(currentGame.pop(random.randint(0,1)))\n",
    "\n",
    "stayTotal=sum(stay)\n",
    "moveTotal=sum(move)\n",
    "\n",
    "if ((100*stayTotal)/len(stay))<((100*moveTotal)/len(move)):\n",
    "    print \"you should always move\"\n",
    "else:\n",
    "    if ((100*stayTotal)/len(stay))==((100*moveTotal)/len(move)):\n",
    "        print \"I don't know how the hell this happened\"\n",
    "    else:\n",
    "        print \"you should always stay\"\n",
    "\n",
    "print \"people who stayed won {0}% of the time, and people who moved won {1}% of the time\".format(((100*stayTotal)/len(stay)),((100*moveTotal)/len(move)))\n",
    "bar([1,2],[((100*stayTotal)/len(stay)),((100*moveTotal)/len(move))])"
   ]
  },
  {
   "cell_type": "code",
   "execution_count": null,
   "metadata": {
    "collapsed": true
   },
   "outputs": [],
   "source": []
  }
 ],
 "metadata": {
  "kernelspec": {
   "display_name": "Python 2",
   "language": "python",
   "name": "python2"
  },
  "language_info": {
   "codemirror_mode": {
    "name": "ipython",
    "version": 2
   },
   "file_extension": ".py",
   "mimetype": "text/x-python",
   "name": "python",
   "nbconvert_exporter": "python",
   "pygments_lexer": "ipython2",
   "version": "2.7.10"
  }
 },
 "nbformat": 4,
 "nbformat_minor": 0
}
