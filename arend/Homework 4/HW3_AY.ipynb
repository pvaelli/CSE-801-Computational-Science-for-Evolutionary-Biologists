{
 "cells": [
  {
   "cell_type": "code",
   "execution_count": 3,
   "metadata": {
    "collapsed": false
   },
   "outputs": [
    {
     "name": "stdout",
     "output_type": "stream",
     "text": [
      "The chance of winning when you stay is 32.8%\n",
      "The chance of winning when you switch is 67.2%\n",
      "[0, 1, 0]\n"
     ]
    }
   ],
   "source": [
    "import random\n",
    "\n",
    "N=1000\n",
    "numberOfWins=0\n",
    "numberWinsSwitching=0\n",
    "\n",
    "for i in range(N):\n",
    "    #make a random list with two 0s and a 1 (the 1 represents a million dollars)\n",
    "    doors=[0,0,1]\n",
    "    random.shuffle(doors)\n",
    "\n",
    "    #pick one of the doors to be yours\n",
    "    locationOfDoor=random.randint(0,2) #index of door in list\n",
    "    yourDoorValue=doors[locationOfDoor] #value behind the door\n",
    "\n",
    "    #open a door with a goat (aka ignore door)\n",
    "    openedDoor=random.randint(0,2) #location of door that's opened\n",
    "    switch=random.randint(0,2)\n",
    "    while (openedDoor==locationOfDoor) or (doors[openedDoor]==1): \n",
    "        openedDoor=random.randint(0,2) #ensures don't open your door or door with a 1\n",
    "        \n",
    "    #switch door    \n",
    "    while (switch==locationOfDoor) or (switch==openedDoor):\n",
    "        switch=random.randint(0,2) #switches your door with other while ignoring opened door\n",
    "        \n",
    "    #how often you win when you switch or stay\n",
    "    numberWinsSwitching=numberWinsSwitching+doors[switch]\n",
    "    numberWinsStaying=(N-numberWinsSwitching)        \n",
    "    \n",
    "print \"The chance of winning when you stay is \"+str((float(numberWinsStaying)/N)*100)+\"%\"\n",
    "print \"The chance of winning when you switch is \"+str((float(numberWinsSwitching)/N)*100)+\"%\"\n",
    "print doors\n"
   ]
  },
  {
   "cell_type": "code",
   "execution_count": null,
   "metadata": {
    "collapsed": true
   },
   "outputs": [],
   "source": []
  }
 ],
 "metadata": {
  "kernelspec": {
   "display_name": "Python 2",
   "language": "python",
   "name": "python2"
  },
  "language_info": {
   "codemirror_mode": {
    "name": "ipython",
    "version": 2
   },
   "file_extension": ".py",
   "mimetype": "text/x-python",
   "name": "python",
   "nbconvert_exporter": "python",
   "pygments_lexer": "ipython2",
   "version": "2.7.10"
  }
 },
 "nbformat": 4,
 "nbformat_minor": 0
}
