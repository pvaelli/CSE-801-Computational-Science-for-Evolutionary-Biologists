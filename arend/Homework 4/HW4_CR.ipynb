{
 "cells": [
  {
   "cell_type": "code",
   "execution_count": 4,
   "metadata": {
    "collapsed": false
   },
   "outputs": [
    {
     "name": "stdout",
     "output_type": "stream",
     "text": [
      "If you always stay with your original answer, you have a 33.0 % change of winning\n",
      "If you always switch your original answer, you have a 63.0 % change of winning\n"
     ]
    }
   ],
   "source": [
    "from pandas import *\n",
    "import random\n",
    "points=[]\n",
    "\n",
    "#calculating probabiltity of always staying\n",
    "for i in range(1000):\n",
    "    L=[0,0,1]\n",
    "    random.shuffle(L)\n",
    "    randomindex=random.randint(0,2) \n",
    "    car=L.index(1)\n",
    "    if (randomindex==car):\n",
    "        points.append(float(1))\n",
    "    else:\n",
    "        points.append(float(0))\n",
    "\n",
    "percent=(sum(points)/len(points))*100\n",
    "print \"If you always stay with your original answer, you have a {0} % change of winning\".format(round(percent))\n",
    "\n",
    "#calculating probability of always changing answer\n",
    "for i in range(10000):\n",
    "    L=[0,0,1]\n",
    "    random.shuffle(L)\n",
    "    randomindex=random.randint(0,2) \n",
    "    car=L.index(1)\n",
    "    opendoor=random.randint(0,2)\n",
    "    while (opendoor==randomindex) or (opendoor==car):\n",
    "        opendoor=random.randint(0,2)\n",
    "    thirddoor=random.randint(0,2)\n",
    "    while (thirddoor==opendoor) or (thirddoor==randomindex):\n",
    "        thirddoor=random.randint(0,2)\n",
    "    if (thirddoor==car):\n",
    "        points.append(float(1))\n",
    "    else:\n",
    "        points.append(float(0))\n",
    "\n",
    "percent2=(sum(points)/len(points))*100\n",
    "print \"If you always switch your original answer, you have a {0} % change of winning\".format(round(percent2))"
   ]
  },
  {
   "cell_type": "code",
   "execution_count": null,
   "metadata": {
    "collapsed": true
   },
   "outputs": [],
   "source": []
  }
 ],
 "metadata": {
  "kernelspec": {
   "display_name": "Python 2",
   "language": "python",
   "name": "python2"
  },
  "language_info": {
   "codemirror_mode": {
    "name": "ipython",
    "version": 2
   },
   "file_extension": ".py",
   "mimetype": "text/x-python",
   "name": "python",
   "nbconvert_exporter": "python",
   "pygments_lexer": "ipython2",
   "version": "2.7.10"
  }
 },
 "nbformat": 4,
 "nbformat_minor": 0
}
