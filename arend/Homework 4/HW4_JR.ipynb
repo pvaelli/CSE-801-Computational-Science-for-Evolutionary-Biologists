{
 "cells": [
  {
   "cell_type": "code",
   "execution_count": 52,
   "metadata": {
    "collapsed": false
   },
   "outputs": [
    {
     "name": "stdout",
     "output_type": "stream",
     "text": [
      "Populating the interactive namespace from numpy and matplotlib\n"
     ]
    },
    {
     "name": "stderr",
     "output_type": "stream",
     "text": [
      "WARNING: pylab import has clobbered these variables: ['random']\n",
      "`%matplotlib` prevents importing * from pylab and numpy\n"
     ]
    }
   ],
   "source": [
    "%pylab inline"
   ]
  },
  {
   "cell_type": "code",
   "execution_count": 53,
   "metadata": {
    "collapsed": true
   },
   "outputs": [],
   "source": [
    "from pandas import *"
   ]
  },
  {
   "cell_type": "code",
   "execution_count": 76,
   "metadata": {
    "collapsed": false
   },
   "outputs": [
    {
     "name": "stdout",
     "output_type": "stream",
     "text": [
      "['GOOOAT', '$$$', 'GOOOAT#2']\n"
     ]
    },
    {
     "data": {
      "text/plain": [
       "<Container object of 2 artists>"
      ]
     },
     "execution_count": 76,
     "metadata": {},
     "output_type": "execute_result"
    },
    {
     "data": {
      "image/png": "[encoded data removed]",
      "text/plain": [
       "<matplotlib.figure.Figure at 0x22c0f128>"
      ]
     },
     "metadata": {},
     "output_type": "display_data"
    }
   ],
   "source": [
    "import random \n",
    "\n",
    "Doors= [0,0,0]\n",
    "def populatedoors(withWhat,howMany):\n",
    "    for n in range(howMany):\n",
    "        x=random.randint(0,2)\n",
    "        while Doors[x] != 0:\n",
    "                x=random.randint(0,2)\n",
    "        Doors[x]=withWhat\n",
    "    return Doors\n",
    "A=0\n",
    "B=0\n",
    "nPrize = 1\n",
    "nGoats = 1\n",
    "\n",
    "Doors= populatedoors(\"$$$\",nPrize)\n",
    "Doors= populatedoors(\"GOOOAT\",nGoats)\n",
    "Doors= populatedoors(\"GOOOAT#2\",nGoats)\n",
    "\n",
    "print Doors\n",
    "\n",
    "  \n",
    "for n in range (1000000):\n",
    "    #Option A - Stay\n",
    "    #Pick Random Door\n",
    "    Pick=Doors[random.randint(0,2)]\n",
    "    ##Increase variable A if we win!\n",
    "    if Pick == \"$$$\":\n",
    "        A=A+1\n",
    "    #Option B - Move\n",
    "    #Pick Random Door\n",
    "    Pick=Doors[random.randint(0,2)]\n",
    "    Pick_1=Doors[random.randint(0,2)]\n",
    "    ##Show me a Goat that's not the Door I picked\n",
    "    while (Pick_1 == Pick) or (Pick_1 == \"$$$\"):\n",
    "        Pick_1=Doors[random.randint(0,2)]\n",
    "    ## Pick the other Random Door that Hasn't been shown yet\n",
    "    Pick_2=Doors[random.randint(0,2)]\n",
    "    while (Pick_2 == Pick) or (Pick_2 == Pick_1):\n",
    "        Pick_2=Doors[random.randint(0,2)]\n",
    "    ## Increase the Variable B if we win! \n",
    "    if Pick_2 == \"$$$\":\n",
    "        B=B+1\n",
    "## Plot both outcomes \n",
    "bar([1,2],[A,B])\n",
    "    \n",
    "\n",
    "\n",
    "\n",
    "\n",
    "\n",
    "\n",
    "\n",
    "\n",
    "\n"
   ]
  },
  {
   "cell_type": "markdown",
   "metadata": {},
   "source": [
    "The Data suggests that you should always move! - Wow!! "
   ]
  },
  {
   "cell_type": "code",
   "execution_count": null,
   "metadata": {
    "collapsed": true
   },
   "outputs": [],
   "source": []
  }
 ],
 "metadata": {
  "kernelspec": {
   "display_name": "Python 2",
   "language": "python",
   "name": "python2"
  },
  "language_info": {
   "codemirror_mode": {
    "name": "ipython",
    "version": 2
   },
   "file_extension": ".py",
   "mimetype": "text/x-python",
   "name": "python",
   "nbconvert_exporter": "python",
   "pygments_lexer": "ipython2",
   "version": "2.7.10"
  }
 },
 "nbformat": 4,
 "nbformat_minor": 0
}
