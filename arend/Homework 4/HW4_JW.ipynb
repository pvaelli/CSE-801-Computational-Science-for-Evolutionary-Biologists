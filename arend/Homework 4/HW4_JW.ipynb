{
 "cells": [
  {
   "cell_type": "code",
   "execution_count": 58,
   "metadata": {
    "collapsed": false
   },
   "outputs": [
    {
     "name": "stdout",
     "output_type": "stream",
     "text": [
      "1000 simulations\n",
      "if you choose to switch, the winning chance is 67.5%\n",
      "if you choose to stay, the winning chance is 32.5%\n"
     ]
    }
   ],
   "source": [
    "import random\n",
    "def pickDoor():\n",
    "    return random.randint(1,3)\n",
    "def removeDoor(prizeDoor,selectDoor):\n",
    "    rDoor = pickDoor()\n",
    "    while rDoor == prizeDoor or rDoor == selectDoor:\n",
    "         rDoor = pickDoor()\n",
    "    return rDoor\n",
    "\n",
    "win = 0\n",
    "lose = 0\n",
    "rep = 1000\n",
    "for i in range(rep):\n",
    "    prizeDoor = pickDoor()\n",
    "    selectDoor = pickDoor()\n",
    "    removedDoor = removeDoor(prizeDoor,selectDoor)\n",
    "    selectDoor = 6 - removedDoor - selectDoor\n",
    "    if selectDoor == prizeDoor:\n",
    "        win += 1\n",
    "    else:\n",
    "        lose += 1\n",
    "switchWinChance = (float(win)/float(win+lose))*100\n",
    "print \"{} simulations\".format(rep)       \n",
    "print \"if you choose to switch, the winning chance is {}%\".format(switchWinChance)\n",
    "print \"if you choose to stay, the winning chance is {}%\".format(100 - switchWinChance)"
   ]
  },
  {
   "cell_type": "code",
   "execution_count": null,
   "metadata": {
    "collapsed": true
   },
   "outputs": [],
   "source": []
  }
 ],
 "metadata": {
  "kernelspec": {
   "display_name": "Python 2",
   "language": "python",
   "name": "python2"
  },
  "language_info": {
   "codemirror_mode": {
    "name": "ipython",
    "version": 2
   },
   "file_extension": ".py",
   "mimetype": "text/x-python",
   "name": "python",
   "nbconvert_exporter": "python",
   "pygments_lexer": "ipython2",
   "version": "2.7.10"
  }
 },
 "nbformat": 4,
 "nbformat_minor": 0
}
