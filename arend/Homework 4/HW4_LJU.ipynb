{
 "cells": [
  {
   "cell_type": "code",
   "execution_count": 34,
   "metadata": {
    "collapsed": false,
    "scrolled": true
   },
   "outputs": [
    {
     "name": "stdout",
     "output_type": "stream",
     "text": [
      "66.76%\n"
     ]
    }
   ],
   "source": [
    "#what is the chance of winning if you switch? \n",
    "\n",
    "import random\n",
    "\n",
    "wins=0\n",
    "for i in range(10000):\n",
    "    doors = [0,0,1] #create doors\n",
    "    random.shuffle(doors) #shuffle doors\n",
    "    pickin = random.randint(0,2) #pick an index for doors\n",
    "    pick = doors[pickin] #save the value for that index \n",
    "    open = random.randint(0,2) #randomly generate one of the index\n",
    "    while (open == pickin) or (doors[open]==1): #if that index is equal to pick, OR the value of that index is equal to 1 pop it\n",
    "        open = random.randint(0,2) #regenerate\n",
    "    switch = random.randint(0,2) #pick the third door\n",
    "    while (switch==open) or (switch==pickin): #create a while loop so that you make sure the third door is not one of the first two\n",
    "        switch= random.randint(0,2) # if it was one of the first two, pick a new index\n",
    "    wins = wins + doors[switch] # sum up the number of times you win \n",
    "chance= float(wins)/100\n",
    "print str(chance)+\"%\"\n",
    "\n",
    "\n"
   ]
  },
  {
   "cell_type": "code",
   "execution_count": 35,
   "metadata": {
    "collapsed": false
   },
   "outputs": [
    {
     "name": "stdout",
     "output_type": "stream",
     "text": [
      "32.66%\n"
     ]
    }
   ],
   "source": [
    "#what is the chance of winning if you stay? \n",
    "\n",
    "import random\n",
    "\n",
    "wins=0\n",
    "for i in range(10000):\n",
    "    doors = [0,0,1] #create doors\n",
    "    random.shuffle(doors) #shuffle doors\n",
    "    pickin = random.randint(0,2) #pick an index for doors\n",
    "    pick = doors[pickin] #save the value for that index \n",
    "    open = random.randint(0,2) #randomly generate one of the index\n",
    "    while (open == pickin) or (doors[open]==1): #if that index is equal to pick, OR the value of that index is equal to 1 pop it\n",
    "        open = random.randint(0,2) #regenerate\n",
    "    switch = random.randint(0,2)\n",
    "    while (switch==open) or (switch==pickin):\n",
    "        switch= random.randint(0,2)\n",
    "    wins = wins + doors[pickin] \n",
    "    \n",
    "chance= float(wins)/100\n",
    "print str(chance)+\"%\""
   ]
  },
  {
   "cell_type": "code",
   "execution_count": null,
   "metadata": {
    "collapsed": true
   },
   "outputs": [],
   "source": []
  }
 ],
 "metadata": {
  "kernelspec": {
   "display_name": "Python 2",
   "language": "python",
   "name": "python2"
  },
  "language_info": {
   "codemirror_mode": {
    "name": "ipython",
    "version": 2
   },
   "file_extension": ".py",
   "mimetype": "text/x-python",
   "name": "python",
   "nbconvert_exporter": "python",
   "pygments_lexer": "ipython2",
   "version": "2.7.10"
  }
 },
 "nbformat": 4,
 "nbformat_minor": 0
}
