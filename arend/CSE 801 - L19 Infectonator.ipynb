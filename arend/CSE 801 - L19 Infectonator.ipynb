{
 "cells": [
  {
   "cell_type": "code",
   "execution_count": 15,
   "metadata": {
    "collapsed": false
   },
   "outputs": [
    {
     "name": "stdout",
     "output_type": "stream",
     "text": [
      "Populating the interactive namespace from numpy and matplotlib\n"
     ]
    },
    {
     "name": "stderr",
     "output_type": "stream",
     "text": [
      "WARNING: pylab import has clobbered these variables: ['load', 'info', 'save', 'f', 'random', 'datetime', 'unique']\n",
      "`%matplotlib` prevents importing * from pylab and numpy\n"
     ]
    }
   ],
   "source": [
    "%pylab inline"
   ]
  },
  {
   "cell_type": "code",
   "execution_count": 13,
   "metadata": {
    "collapsed": true
   },
   "outputs": [],
   "source": [
    "from pandas import *\n",
    "import random"
   ]
  },
  {
   "cell_type": "code",
   "execution_count": 28,
   "metadata": {
    "collapsed": false
   },
   "outputs": [],
   "source": [
    "class Agent():\n",
    "    def __init__(self,area):\n",
    "        self.x=0\n",
    "        self.y=0\n",
    "        self.state=0\n",
    "        # 0 = uninfected\n",
    "        # 1 = infected\n",
    "        # 2 = healed/immune\n",
    "        while(area[self.x][self.y]!=None):\n",
    "            self.x=random.randint(0,len(area)-1)\n",
    "            self.y=random.randint(0,len(area[0])-1)\n",
    "    \n",
    "    def update(self,area):\n",
    "        xm=[0,1,0,-1]\n",
    "        ym=[-1,0,1,0]\n",
    "        direction=random.randint(0,4)\n",
    "        tx=self.x+xm[direction]\n",
    "        ty=self.y+ym[direction]\n",
    "        if tx<0 or ty<0 or tx>len(area)-1 or ty>len(area)-1:\n",
    "            pass\n",
    "        else:\n",
    "            if self.state==0: #uninfected\n",
    "                area[self.x][self.y]=None\n",
    "                self.x=self.x+xm[direction]\n",
    "                self.y=self.y+ym[direction]\n",
    "                area[self.x][self.y]=self\n",
    "            else:\n",
    "                if self.state==1: #infected\n",
    "                    if area[tx][ty]!=None:\n",
    "                        if area[tx][ty].state==0:\n",
    "                            if random.uniform(0.0,1.0)>0.7:\n",
    "                                area[tx][ty].state=1\n",
    "                    else:\n",
    "                        area[self.x][self.y]=None\n",
    "                        self.x=self.x+xm[direction]\n",
    "                        self.y=self.y+ym[direction]\n",
    "                        area[self.x][self.y]=self\n",
    "                        if(random.uniform(0.0,1.0)<0.01):\n",
    "                            self.state=2\n",
    "                else:\n",
    "                    if self.state==2:\n",
    "                        if(random.uniform(0.0,1.0)<0.01):\n",
    "                            self.state=0\n"
   ]
  },
  {
   "cell_type": "code",
   "execution_count": 29,
   "metadata": {
    "collapsed": false
   },
   "outputs": [],
   "source": [
    "area=[]\n",
    "image=[]\n",
    "xDim=100\n",
    "yDim=100\n",
    "for i in range(xDim):\n",
    "    area.append([])\n",
    "    image.append([])\n",
    "    for j in range(yDim):\n",
    "        area[i].append(None)\n",
    "        image[i].append(0)\n",
    "        \n",
    "agents=[]\n",
    "for i in range(5000):\n",
    "    A=Agent(area)\n",
    "    area[A.x][A.y]=A\n",
    "    agents.append(A)"
   ]
  },
  {
   "cell_type": "code",
   "execution_count": 77,
   "metadata": {
    "collapsed": false
   },
   "outputs": [
    {
     "data": {
      "text/plain": [
       "<matplotlib.image.AxesImage at 0x10ae1e110>"
      ]
     },
     "execution_count": 77,
     "metadata": {},
     "output_type": "execute_result"
    },
    {
     "data": {
      "image/png": "[encoded data removed]",
      "text/plain": [
       "<matplotlib.figure.Figure at 0x10ad583d0>"
      ]
     },
     "metadata": {},
     "output_type": "display_data"
    }
   ],
   "source": [
    "agents[0].state=1\n",
    "for i in range(500):\n",
    "    for agent in agents:\n",
    "        agent.update(area)\n",
    "for i in range(len(image)):\n",
    "    for j in range(len(image[0])):\n",
    "        image[i][j]=4\n",
    "for agent in agents:\n",
    "    image[agent.x][agent.y]=agent.state\n",
    "imshow(image,interpolation='nearest')"
   ]
  },
  {
   "cell_type": "code",
   "execution_count": 5,
   "metadata": {
    "collapsed": false
   },
   "outputs": [
    {
     "name": "stdout",
     "output_type": "stream",
     "text": [
      "8\n",
      "None\n",
      "7\n"
     ]
    }
   ],
   "source": [
    "def f(a):\n",
    "    a=a+1\n",
    "    print a\n",
    "    \n",
    "myVar=7\n",
    "print f(myVar)\n",
    "print myVar"
   ]
  },
  {
   "cell_type": "code",
   "execution_count": 3,
   "metadata": {
    "collapsed": false
   },
   "outputs": [
    {
     "name": "stdout",
     "output_type": "stream",
     "text": [
      "[1, 2]\n",
      "56\n",
      "[56, 2]\n"
     ]
    }
   ],
   "source": [
    "def l(myList):\n",
    "    myList[0]=56\n",
    "    print myList[0]\n",
    "    \n",
    "localList=[1,2]\n",
    "print localList\n",
    "l(localList)\n",
    "print localList"
   ]
  },
  {
   "cell_type": "code",
   "execution_count": 47,
   "metadata": {
    "collapsed": true
   },
   "outputs": [],
   "source": [
    "class Agent():\n",
    "    def __init__(self,area):\n",
    "        self.state=1 #one means healthy\n",
    "        self.x=random.randint(0,len(area)-1)\n",
    "        self.y=random.randint(0,len(area[0])-1)\n",
    "        while(area[self.x][self.y]!=None):\n",
    "            self.x=random.randint(0,len(area)-1)\n",
    "            self.y=random.randint(0,len(area[0])-1)\n",
    "        area[self.x][self.y]=self\n",
    "          \n",
    "    def update(self,area):\n",
    "        xOffset=[0,1,0,-1]\n",
    "        yOffset=[-1,0,1,0]\n",
    "        direction=random.randint(0,4)\n",
    "        tx=self.x+xOffset[direction]\n",
    "        ty=self.y+yOffset[direction]\n",
    "        if tx<0 or ty<0 or tx>len(area)-1 or ty>len(area[0])-1:\n",
    "            pass\n",
    "        else:\n",
    "            if self.state==1: #healthy!\n",
    "                if area[tx][ty]==None:\n",
    "                    area[self.x][self.y]=None\n",
    "                    self.x=tx\n",
    "                    self.y=ty\n",
    "                    area[self.x][self.y]=self\n",
    "            else:\n",
    "                if self.state==2: #sick\n",
    "                    if area[tx][ty]!=None:\n",
    "                        if area[tx][ty].state==1: #healthy victim\n",
    "                            if random.uniform(0.0,1.0)<0.7:\n",
    "                                area[tx][ty].state=2 #infected!\n",
    "                    else:\n",
    "                        area[self.x][self.y]=None\n",
    "                        self.x=tx\n",
    "                        self.y=ty\n",
    "                        area[self.x][self.y]=self\n",
    "                    if random.uniform(0.0,1.0)<0.01:\n",
    "                        self.state=3 #immune!\n",
    "                else:#immune\n",
    "                    if random.uniform(0.0,1.0)<0.01:\n",
    "                        self.state=1 #healthy again!\n"
   ]
  },
  {
   "cell_type": "code",
   "execution_count": 49,
   "metadata": {
    "collapsed": false
   },
   "outputs": [
    {
     "data": {
      "image/png": "[encoded data removed]",
      "text/plain": [
       "<matplotlib.figure.Figure at 0x107e0bbd0>"
      ]
     },
     "metadata": {},
     "output_type": "display_data"
    },
    {
     "data": {
      "image/png": "[encoded data removed]",
      "text/plain": [
       "<matplotlib.figure.Figure at 0x107ee67d0>"
      ]
     },
     "metadata": {},
     "output_type": "display_data"
    }
   ],
   "source": [
    "xDim=100\n",
    "yDim=100\n",
    "\n",
    "density=0.5\n",
    "area=list()\n",
    "image=list()\n",
    "\n",
    "for x in range(xDim):\n",
    "    area.append(list())\n",
    "    image.append(list())\n",
    "    for y in range(yDim):\n",
    "        area[x].append(None)\n",
    "        image[x].append(0)\n",
    "        \n",
    "agents=list()\n",
    "for a in range(int(xDim*yDim*density)):\n",
    "    agents.append(Agent(area))\n",
    "\n",
    "agents[0].state=2\n",
    "\n",
    "data=[[],[],[],[]]\n",
    "for t in range(500):\n",
    "    count=[0,0,0,0]\n",
    "    for agent in agents:\n",
    "        agent.update(area)\n",
    "        count[agent.state]=count[agent.state]+1\n",
    "    for i in range(4):\n",
    "        data[i].append(count[i])\n",
    "        \n",
    "for agent in agents:\n",
    "    image[agent.x][agent.y]=agent.state\n",
    "    \n",
    "imshow(image,interpolation='nearest')\n",
    "figure()\n",
    "for i in [1,2,3]:\n",
    "    plot(data[i])"
   ]
  },
  {
   "cell_type": "code",
   "execution_count": null,
   "metadata": {
    "collapsed": true
   },
   "outputs": [],
   "source": []
  }
 ],
 "metadata": {
  "kernelspec": {
   "display_name": "Python 2",
   "language": "python",
   "name": "python2"
  },
  "language_info": {
   "codemirror_mode": {
    "name": "ipython",
    "version": 2
   },
   "file_extension": ".py",
   "mimetype": "text/x-python",
   "name": "python",
   "nbconvert_exporter": "python",
   "pygments_lexer": "ipython2",
   "version": "2.7.10"
  }
 },
 "nbformat": 4,
 "nbformat_minor": 0
}
