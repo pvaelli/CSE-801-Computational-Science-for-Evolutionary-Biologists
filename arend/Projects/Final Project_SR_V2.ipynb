{
 "cells": [
  {
   "cell_type": "markdown",
   "metadata": {},
   "source": [
    "# Project Proposal \n",
    "\"Modeling the sustained existence of cheating rhizobial partners in the legume-rhizobia symbiosis\" "
   ]
  },
  {
   "cell_type": "markdown",
   "metadata": {},
   "source": [
    "Legumes have evolved a symbiotic relationship with a group of bacteria known collectively as rhizobia. The basis of this interaction is the exchange of resources. Legumes are unable to use diatomic nitrogen, the most readily available form of nitrogen, directly from the soil. To aquire nitrogen, these plants develop mutualistic interactions with rhizobia in which the rhizobia infect root systems of plants and form nodules where they fix diatomic nitrogen into a biologically useful form and the plants allocate phytosynthetically produced carbon to the bacterial partners. \n",
    "\n",
    "However, some rhizobial partners are inherently less benefical and fail to produce as much if any nitrogen as their mutualistic counterparts. In order to combat this, leguminous plants have developed a response theorized as \"sanctioning.\" This process somehow restricts the growth of the cheating organisms during early stages of the mutualism. However, the process driving this dynamic is not understood. Furthermore, it is not known why cheaters are still present in soil microbial populations when legumes are preferentially allocating resources to beneficial partners. \n",
    "\n",
    "I propose to model the interaction between these two partners to begin to understand if other potentially destabilizing effects must be in play that allow the cheaters to continue propoagating. Below, I will first model the interaction showing the theorized rate of fixing (beneficial), cheating (non-beneficial), and mixed (nodules containing both types of rhizobia) infection. The goals are as follows: \n",
    "1. To see if cheating populations will be driven out in models that allow the repopulation of cheaters through mixed nodules alone. \n",
    "2. Observe how the rate of mixed infections alters the dynamic observed in goal 1. \n",
    "3. Observe if variable sanctioning mechanisms could result in further sustaining the cheating populations. "
   ]
  },
  {
   "cell_type": "markdown",
   "metadata": {},
   "source": [
    "# Expected Results\n",
    "1. Cheaters will be sustained with higher rates of mixed infection events. \n",
    "2. Sanctioning mechanisms can effectively drive rhizobial populations extinct when employed partially on mixed nodules. "
   ]
  },
  {
   "cell_type": "markdown",
   "metadata": {},
   "source": [
    "# Variable Definitions \n",
    "N=nodule number\n",
    "\n",
    "Co=cooperators \n",
    "\n",
    "Ch=cheaters\n",
    "\n",
    "Mx=mixed nodules\n",
    "\n",
    "microbialPopulation= starting microbial population \n"
   ]
  },
  {
   "cell_type": "code",
   "execution_count": 1,
   "metadata": {
    "collapsed": false
   },
   "outputs": [
    {
     "name": "stdout",
     "output_type": "stream",
     "text": [
      "Populating the interactive namespace from numpy and matplotlib\n"
     ]
    }
   ],
   "source": [
    "%pylab inline"
   ]
  },
  {
   "cell_type": "code",
   "execution_count": 2,
   "metadata": {
    "collapsed": true
   },
   "outputs": [],
   "source": [
    "import random \n",
    "from pandas import *\n",
    "from random import shuffle "
   ]
  },
  {
   "cell_type": "markdown",
   "metadata": {},
   "source": [
    "First, an intitial micorbial soil population must be generated. Below demonstrates an intial community that contains 50% cooperating rhizobial partners and 50% cheating rhizobial partners. "
   ]
  },
  {
   "cell_type": "code",
   "execution_count": 3,
   "metadata": {
    "collapsed": true
   },
   "outputs": [],
   "source": [
    "#Initial parameters \n",
    "popSizeLimit = 10000 #limit for microbial population total \n",
    "coRelease = 50 #cooperators released when fix nodule senesces \n",
    "chRelease = 5 #cheaters released when nonfix nodule senesces \n",
    "mxCoRelease = 25 #cooperators released when mixed nodule senesces \n",
    "mcChRelease = 25 #cheaters released when mixed nodules senesces \n",
    "N = 50 #total number allowed nodules per plant \n",
    "Co = 30 #number fix nodules intial \n",
    "Ch = 10 #number of nonfix nodules initial \n",
    "Mx = 10 #number of mix nodules initial "
   ]
  },
  {
   "cell_type": "code",
   "execution_count": 4,
   "metadata": {
    "collapsed": false
   },
   "outputs": [
    {
     "ename": "NameError",
     "evalue": "name 'cooperators' is not defined",
     "output_type": "error",
     "traceback": [
      "\u001b[0;31m---------------------------------------------------------------------------\u001b[0m",
      "\u001b[0;31mNameError\u001b[0m                                 Traceback (most recent call last)",
      "\u001b[0;32m<ipython-input-4-2f7a36b0e2dc>\u001b[0m in \u001b[0;36m<module>\u001b[0;34m()\u001b[0m\n\u001b[1;32m     12\u001b[0m \u001b[0;34m\u001b[0m\u001b[0m\n\u001b[1;32m     13\u001b[0m \u001b[0;34m\u001b[0m\u001b[0m\n\u001b[0;32m---> 14\u001b[0;31m \u001b[0mrhizobialPopulation\u001b[0m\u001b[0;34m=\u001b[0m \u001b[0;34m(\u001b[0m\u001b[0mcooperators\u001b[0m \u001b[0;34m+\u001b[0m \u001b[0mCheaters\u001b[0m\u001b[0;34m)\u001b[0m\u001b[0;34m\u001b[0m\u001b[0m\n\u001b[0m\u001b[1;32m     15\u001b[0m \u001b[0mrandom\u001b[0m\u001b[0;34m.\u001b[0m\u001b[0mshuffle\u001b[0m\u001b[0;34m(\u001b[0m\u001b[0mrhizobialPopulation\u001b[0m\u001b[0;34m)\u001b[0m\u001b[0;34m\u001b[0m\u001b[0m\n\u001b[1;32m     16\u001b[0m \u001b[0;34m\u001b[0m\u001b[0m\n",
      "\u001b[0;31mNameError\u001b[0m: name 'cooperators' is not defined"
     ]
    }
   ],
   "source": [
    "class population():\n",
    "    def __init__(self): \n",
    "        self.cooperators=list()\n",
    "        self.cheaters=list()\n",
    "        \n",
    "    def rhizobialPop(self,Co,Ch):\n",
    "        for i in range(Co):\n",
    "            self.cooperators.append(0)\n",
    "        for j in range(Ch):\n",
    "            self.cheaters.append(1)\n",
    "        \n",
    "\n",
    "\n",
    "rhizobialPopulation= (cooperators + Cheaters) \n",
    "random.shuffle(rhizobialPopulation)\n",
    "\n",
    "print (rhizobialPopulation.count(0))\n",
    "print (rhizobialPopulation.count(1))\n",
    "print (rhizobialPopulation)"
   ]
  },
  {
   "cell_type": "code",
   "execution_count": null,
   "metadata": {
    "collapsed": true
   },
   "outputs": [],
   "source": [
    "\n",
    "for i in range(5000):\n",
    "    Cooperators.append(0)\n",
    "for j in range(5000):\n",
    "    Cheaters.append(1)"
   ]
  },
  {
   "cell_type": "markdown",
   "metadata": {},
   "source": [
    "Generate Payoff table "
   ]
  },
  {
   "cell_type": "code",
   "execution_count": 24,
   "metadata": {
    "collapsed": false
   },
   "outputs": [
    {
     "name": "stdout",
     "output_type": "stream",
     "text": [
      "1\n",
      "0\n"
     ]
    }
   ],
   "source": [
    "print (max(rhizobialPopulation))\n",
    "print (min(rhizobialPopulation))\n"
   ]
  },
  {
   "cell_type": "code",
   "execution_count": 30,
   "metadata": {
    "collapsed": false
   },
   "outputs": [
    {
     "name": "stdout",
     "output_type": "stream",
     "text": [
      "10000\n",
      "5110\n",
      "4890\n"
     ]
    }
   ],
   "source": [
    "Co=30\n",
    "Ch=10\n",
    "Mx=10 \n",
    "\n",
    "nodules=list()\n",
    "for n in range(Co): #ratio cooperators\n",
    "    nodules.append(0)\n",
    "for i in range(Ch): #ratio cheaters\n",
    "    nodules.append(1)\n",
    "for j in range(Mx): # ratio mixed\n",
    "    nodules.append(2)\n",
    "\n",
    "\n",
    "\n",
    "    \n",
    "def nodSenesce(coR,chR,mxR): #release rates for cooperators, cheaters, and mix\n",
    "        a=0\n",
    "        releasedRhizobia=list()\n",
    "        while(a<len(nodules)):\n",
    "            if nodules[a]==0:\n",
    "                for i in range(coR):\n",
    "                    releasedRhizobia.append(0)\n",
    "            if nodules[a]==1:\n",
    "                for j in range(chR):\n",
    "                    releasedRhizobia.append(1)\n",
    "            if nodules[a]==2:\n",
    "                    for k in range(mxR):\n",
    "                        releasedRhizobia.append(0)\n",
    "                        releasedRhizobia.append(1)\n",
    "            a=a+1\n",
    "        return releasedRhizobia\n",
    "    \n",
    "    \n",
    "dynamicPop = ((nodSenesce(8,2,5)) + rhizobialPopulation)\n",
    "random.shuffle(dynamicPop)\n",
    "if len(dynamicPop)>popSizeLimit:\n",
    "    dynamicPop = dynamicPop[:-(len(dynamicPop)-(popSizeLimit))]\n",
    "\n",
    "print (len(dynamicPop))       \n",
    "print (dynamicPop.count(0))\n",
    "print (dynamicPop.count(1))\n",
    "\n"
   ]
  },
  {
   "cell_type": "code",
   "execution_count": null,
   "metadata": {
    "collapsed": true
   },
   "outputs": [],
   "source": []
  }
 ],
 "metadata": {
  "kernelspec": {
   "display_name": "Python 2",
   "language": "python",
   "name": "python2"
  },
  "language_info": {
   "codemirror_mode": {
    "name": "ipython",
    "version": 2
   },
   "file_extension": ".py",
   "mimetype": "text/x-python",
   "name": "python",
   "nbconvert_exporter": "python",
   "pygments_lexer": "ipython2",
   "version": "2.7.10"
  }
 },
 "nbformat": 4,
 "nbformat_minor": 0
}
