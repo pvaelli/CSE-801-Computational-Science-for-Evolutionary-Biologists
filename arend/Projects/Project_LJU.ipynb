{
 "cells": [
  {
   "cell_type": "markdown",
   "metadata": {},
   "source": [
    "## Maze Generator and Solver\n",
    "This project aims to create an agent that can solve any maze. The first half of the code involves generating random mazes of any size (which was actually the more difficult part of the project). The only boundaries are that the generated maze will always be square and the maze dimensions must be odd in order for the maze to \"fill up\". There is no theoretical  upper bound on maze size but mazes larger than 150pixels may take more than a minute to generate. The smallest maze possible is 9x9 because mazes of size 7x7 and below simpy don't have enough space to generate tunnels (since tunnels are generated 2 pixels at a time to ensure that there is always space (walls) between all tunnels and maze perimeter is 2 pixels thick so that the \"pick new spot\" function (which decides where to tunnel) doesn't go out of bounds. Start spots are always on the left wall and end spots are picked randomly from dead ends that touch walls other than the start spot.\n",
    "\n",
    "I hard coded the rat with a solving algorithm where the rat will explore forward and only retrace its own path (go backwards) when it hits a dead end. The rat's track can then be used to quickly find the shortest possible path. This code is therefore most useful for generating random mazes of varying sizes and subsequently returning the single shortest path for that maze. Generated mazes have only one solution.  "
   ]
  },
  {
   "cell_type": "code",
   "execution_count": 1,
   "metadata": {
    "collapsed": true
   },
   "outputs": [],
   "source": [
    "#figure out how to show solving as an animation?\n",
    "\n",
    "#NOTE: \n",
    "#THIS CODE IS FOR ALL SQUARE ODD MAZE SIZES \n",
    "#THIS CODE HAS WORKING/TESTING JUNK REMOVED "
   ]
  },
  {
   "cell_type": "code",
   "execution_count": 2,
   "metadata": {
    "collapsed": false
   },
   "outputs": [
    {
     "name": "stdout",
     "output_type": "stream",
     "text": [
      "Populating the interactive namespace from numpy and matplotlib\n"
     ]
    }
   ],
   "source": [
    "%pylab inline"
   ]
  },
  {
   "cell_type": "code",
   "execution_count": 3,
   "metadata": {
    "collapsed": true
   },
   "outputs": [],
   "source": [
    "from pandas import*\n",
    "import random"
   ]
  },
  {
   "cell_type": "markdown",
   "metadata": {},
   "source": [
    "# Step One: creating the maze area (matrix)\n",
    "First I started with creating a matrix to form the outline or area for the maze to be generated in. By default the matrix is filled with 1s which will eventually form the walls for maze \"tunnels\". I created a border designated by 2s. Initially I had the walls just be one pixel thick, but I encountered out of bound errors when adding the maze tunnels  because the tunnels always go foward two spots at a time. Therefore I made the walls 2 pixels thick. \n",
    "\n",
    "I also made the maze square, in order to ensure they are always square the user may only enter a single dimension when generating a maze."
   ]
  },
  {
   "cell_type": "code",
   "execution_count": 4,
   "metadata": {
    "collapsed": false
   },
   "outputs": [
    {
     "data": {
      "text/plain": [
       "<matplotlib.image.AxesImage at 0x10710e950>"
      ]
     },
     "execution_count": 4,
     "metadata": {},
     "output_type": "execute_result"
    },
    {
     "data": {
      "image/png": "[encoded data removed]",
      "text/plain": [
       "<matplotlib.figure.Figure at 0x106f3dc90>"
      ]
     },
     "metadata": {},
     "output_type": "display_data"
    }
   ],
   "source": [
    "#this is a function used in the ratmaze function below that simply creates the empty area of the maze\n",
    "#create a maze with wall spaces equal to 2 and area spaces equal to 1 \n",
    "def createmaze(dim): #will only make square mazes \n",
    "    yDim=dim\n",
    "    xDim=dim\n",
    "    maze=list() #create the area \n",
    "    for y in range(yDim):\n",
    "        maze.append(list())\n",
    "        for x in range(xDim):\n",
    "            maze[y].append(1) #fill the maze with solid walls (1s)\n",
    "\n",
    "#for x to to be on x-axis and y on y-axis the list notation is [y][x] or [row][column]\n",
    "        \n",
    "#add walls\n",
    "    for x in range(xDim): #create a border by filling edge with 2s\n",
    "        maze[0][x]=2\n",
    "        maze[1][x]=2\n",
    "        maze[yDim-1][x]=2\n",
    "        maze[yDim-2][x]=2\n",
    "    \n",
    "    for y in range(yDim): #create a border by filling edge with 2s \n",
    "        maze[y][0]=2\n",
    "        maze[y][1]=2\n",
    "        maze[y][xDim-1]=2\n",
    "        maze[y][xDim-2]=2\n",
    "\n",
    "    return maze\n",
    "\n",
    "#test \n",
    "imshow(createmaze(51), \"gray\", interpolation=\"nearest\") #test"
   ]
  },
  {
   "cell_type": "markdown",
   "metadata": {},
   "source": [
    "# Step Two: picking a direction to make a tunnel \n",
    "Before a tunnel could be made I needed to write a piece of code that would pick a direction. To reduce the risk of dead-ends I put the probability of picking a new direction at 50%. However, the old direction is still included in the list of new directions so the real probability is ~40%. I used the random integer generator to generate 0s and 1s. When a 0 is generated a new direction will be chosen, when a 1 is generated the direction will stay the same.   \n",
    "\n",
    "In order to avoid back-tracking, the new direction cannot included the opposite direction. I.e. if the code is making tunnels to the north, it cannot make another tunnel section to the south."
   ]
  },
  {
   "cell_type": "code",
   "execution_count": 5,
   "metadata": {
    "collapsed": false
   },
   "outputs": [
    {
     "name": "stdout",
     "output_type": "stream",
     "text": [
      "[0, 0, 2, 0, 2, 0, 3, 0, 0, 0, 0, 0, 0, 0, 3, 0, 0, 0, 3, 0]\n"
     ]
    }
   ],
   "source": [
    "#function used in dig function below (dig function used to make maze tunnels and branches)\n",
    "def picknd(d): #pick a new direction based on old direction \n",
    "    if random.randint(0,1)<0.50: #pick a new direction only half the time (when a 0 is generated as opposed to a 1)\n",
    "        if d==0:\n",
    "            nd=random.choice([0,2,3]) #don't go backwards\n",
    "        if d==1:\n",
    "            nd=random.choice([1,2,3])\n",
    "        if d==2:\n",
    "            nd=random.choice([0,1,2])\n",
    "        if d==3:\n",
    "            nd=random.choice([0,1,3])\n",
    "    else: #otherwise keep going the same direction \n",
    "        nd=d\n",
    "\n",
    "    #while (d==0 and nd==1) or (d==1 and nd==0) or (d==2 and nd==3) or (d==3 and nd==2):\n",
    "        #don't go backwards!! \n",
    "        #nd=random.randint(0,3) #if nd is backwards pick a different nd\n",
    "      \n",
    "    return nd\n",
    "\n",
    "#test\n",
    "nds=list() #lets pick 20 \"new directions\"\n",
    "for i in range(20):\n",
    "    nds.append(picknd(0)) #let's use a current direction of 0 \n",
    "print nds\n",
    "#when the direction is 0, about 60% of the time the direction stays 0, the other 40%\n",
    "#it becomes 2 or 3. It never becomes 1, because 1 would be turning around\n",
    "#new direction is limited to left, right, and forward"
   ]
  },
  {
   "cell_type": "markdown",
   "metadata": {},
   "source": [
    "# Step Three: making a single path \n",
    "After the maze area is generated and direction is decided I worked on a code to make a single linear tunnel. I arbitrarily decided to start on the western wall. In order to maintain \"walls\" between \"tunnels\" tunneling only happens on even indices.\n",
    "\n",
    "Even with the low probability of turning, usually a dead-end happens fairly quickly so this code includes a check to see if it is possible to move forward. When a dead-end is created the code stops. \n",
    "\n",
    "Ultimately this single linear tunnel code is also used to create branches off of the inital linear path. \n",
    "\n",
    "This function for making a linear \"tunnel\" takes in the maze area created above and starting x and y locations. It uses the picknd function internally. "
   ]
  },
  {
   "cell_type": "code",
   "execution_count": 6,
   "metadata": {
    "collapsed": false
   },
   "outputs": [
    {
     "name": "stdout",
     "output_type": "stream",
     "text": [
      "26\n",
      "2\n"
     ]
    },
    {
     "data": {
      "image/png": "[encoded data removed]",
      "text/plain": [
       "<matplotlib.figure.Figure at 0x1071a9650>"
      ]
     },
     "metadata": {},
     "output_type": "display_data"
    }
   ],
   "source": [
    "#this is a function used in the tunnel2 function below \n",
    "#dig code makes a single linear tunnel by checking two forward AND moving two forward by changing 1s to 0s\n",
    "def dig(maze,x,y):\n",
    "    d=random.randint(0,3) #pick a random start direction\n",
    "    yc=[-1,1,0,0] #y coordinates for north, south, east west\n",
    "    xc=[0,0,1,-1] #x coordinates for north, south, east west\n",
    "    while (maze[y+yc[0]*2][x+xc[0]*2])==1 or (maze[y+yc[1]*2][x+xc[1]*2])==1 or (maze[y+yc[2]*2][x+xc[2]*2])==1 or (maze[y+yc[3]*2][x+xc[3]*2])==1: \n",
    "    #while any one of the four directions is a 1 then try to move\n",
    "    #otherwise no movement digging happens \n",
    "        ny=y+yc[d]\n",
    "        nx=x+xc[d]\n",
    "        if maze[ny][nx]==1: #make sure you won't go out of index by checking 1 forward first \n",
    "            if maze[ny+yc[d]][nx+xc[d]]==1:\n",
    "            #if next two spaces are clear for current direction \n",
    "                maze[ny][nx]=0 #tunnel there \n",
    "                maze[ny+yc[d]][nx+xc[d]]=0 #tunnel foward twice \n",
    "                y=ny+yc[d] #update location to 2 forward\n",
    "                x=nx+xc[d] #update location to 2 forward\n",
    "                d=picknd(d) #then pick another direction\n",
    "            else:\n",
    "                d=picknd(d)\n",
    "        else: \n",
    "            d=picknd(d) #if the next two spots are NOT empty, pick a new location\n",
    "        #will keep picking a new direction until find a spot that is occupied by a 1 \n",
    "        #if there are no 1s in all 4 directions then nothing happens as specified by while loop\n",
    "        \n",
    "#testing dig code to make a maze of any size \n",
    "dim=51\n",
    "mazeZ=createmaze(dim)\n",
    "#start at [50%][0] real coordinates: (0,50%)\n",
    "starty=random.randrange(2,dim-2,2) #start on random an even space \n",
    "startx=2#start on the edge \n",
    "mazeZ[starty][startx]=0 #make that space a 0\n",
    "dig(mazeZ,startx,starty) #requires the maze and the start location\n",
    "imshow(mazeZ,\"GnBu\",interpolation=\"nearest\")\n",
    "print starty\n",
    "print startx"
   ]
  },
  {
   "cell_type": "markdown",
   "metadata": {},
   "source": [
    "# Step Four: Adding branches to the linear tunnel\n",
    "Here I created a function called tunnel2 that uses the dig function to first make a single linear tunnel as above. Then the function searches all tunnels (all 0s) to choose a spot to make a branch from. New branches will continue to be generated until the maze is full (i.e. there are no possible spots to make branches from). \n",
    "\n",
    "The first function below is check which is used in tunnel2 to see if the randomly chosen spot on already generated tunnels actually has a place to make a new tunnel.\n",
    "\n",
    "The second function below is mazefull which is used in tunnel2 to see if the maze is full. If the maze is full it will stop attempting to make branches. "
   ]
  },
  {
   "cell_type": "code",
   "execution_count": 7,
   "metadata": {
    "collapsed": false
   },
   "outputs": [
    {
     "name": "stdout",
     "output_type": "stream",
     "text": [
      "28\n",
      "2\n"
     ]
    },
    {
     "data": {
      "image/png": "[encoded data removed]",
      "text/plain": [
       "<matplotlib.figure.Figure at 0x106f7d5d0>"
      ]
     },
     "metadata": {},
     "output_type": "display_data"
    }
   ],
   "source": [
    "#make tunnels with multiple branches within the maze area (function for ratmaze function below)\n",
    "\n",
    "def check(maze,by,bx): #check to make sure the chosen location has a place to go\n",
    "    yc=[-1,1,0,0] #y coordinates for north, south, east west\n",
    "    xc=[0,0,1,-1] #x coordinates \n",
    "    bn=maze[by+yc[0]+yc[0]][bx+xc[0]+xc[0]]\n",
    "    bs=maze[by+yc[1]+yc[1]][bx+xc[1]+xc[1]]\n",
    "    be=maze[by+yc[2]+yc[2]][bx+xc[2]+xc[2]]\n",
    "    bw=maze[by+yc[3]+yc[3]][bx+xc[3]+xc[3]]   \n",
    "    if bn==1 or bs==1 or be==1 or bw==1:\n",
    "        return True\n",
    "    else:\n",
    "        return False \n",
    "\n",
    "def mazefull(maze,xDim,yDim): #function to check if the maze is full so code knows when to stop\n",
    "        truespots=list()\n",
    "        for y in range(2,yDim,2): #specific to a 49x49  maze\n",
    "            for x in range(2,xDim,2): #specific to a 49x49 maze\n",
    "                if maze[y][x]==0:\n",
    "                    if check(maze,y,x)==True:\n",
    "                        truespots.append(1)\n",
    "        if len(truespots)==0:\n",
    "            return True\n",
    "        else:\n",
    "            return False\n",
    "\n",
    "def tunnel2(maze,x,y,xDim,yDim): #need maze area, start x, start y\n",
    "    dig(maze,x,y) #dig the first linear tunnel until hit a dead end \n",
    "    #all code below this is for then using dig code to add branches \n",
    "    #make sure  branch spot has a potential direction \n",
    "        \n",
    "    while mazefull(maze,xDim,yDim)==False: #while maze is not full dig branches   \n",
    "        #pick x and y coordinates to dig another tunnel \n",
    "        by=random.randrange(2,yDim,2) #specific to a 49x49 maze\n",
    "        bx=random.randrange(2,xDim,2) #specific to a 49x49 maze \n",
    "        #keeping picking 0s that have potential directions to branch until you find one \n",
    "        while maze[by][bx]!=0 or check(maze,by,bx)==False and mazefull(maze,xDim,yDim)==False:\n",
    "        #while spot is not a zero or spot is closed and the whole maze is not full pick a new spot to branch:\n",
    "            by=random.randrange(2,yDim,2)\n",
    "            bx=random.randrange(2,xDim,2) \n",
    "        dig(maze,bx,by) #attempt to dig (if there is nowhere to dig, dig will not execute)\n",
    "    \n",
    "    return maze\n",
    "        \n",
    "#testing tunnel2 code to make a maze of any size \n",
    "dim=51\n",
    "yDim=dim\n",
    "xDim=dim\n",
    "mazeZ=createmaze(dim)\n",
    "#start at [50%][0] real coordinates: (0,50%)\n",
    "starty=random.randrange(2,dim-2,2) #start on random an even space \n",
    "startx=2#start on the edge \n",
    "mazeZ[starty][startx]=0 #make that space a 0\n",
    "tunnel2(mazeZ,startx,starty,xDim,yDim) #requires the maze and the start location\n",
    "imshow(mazeZ,\"GnBu\",interpolation=\"nearest\")\n",
    "print starty\n",
    "print startx"
   ]
  },
  {
   "cell_type": "markdown",
   "metadata": {},
   "source": [
    "# Step Five: Pick the end location \n",
    "The start location is always located on the western wall (x=2 and y is random even number). Before an agent can solve the maze I needed to define the end location. I wanted the end to be on a wall and intuitevely it seemed to me that a dead-end is a better end spot than a continous tunnel next to the wall. This is because an endspot in the middle of a length of a tunnel means that all tunnel after the endspot is essentially pointless. If the endspot is on a dead-end the agent could theoretically explore the entire maze before reaching the end location. This way no tunnel in the maze is \"unexplorable\". \n",
    "\n",
    "This function searches all the dead-ends that are touching the wall (adjacent to a 2 in the matrix), adds them to a list and randomly picks one. "
   ]
  },
  {
   "cell_type": "code",
   "execution_count": 8,
   "metadata": {
    "collapsed": false
   },
   "outputs": [
    {
     "name": "stdout",
     "output_type": "stream",
     "text": [
      "[[2, 8], [48, 42]]\n",
      "(28, 2)\n"
     ]
    }
   ],
   "source": [
    "#function to pick an endspot (piece of ratmaze function below)\n",
    "def findend(maze,starty,startx,yDim,xDim): #function to pick an endspot\n",
    "    endspots=list()\n",
    "    for y in range(2,yDim-1,2): \n",
    "        for x in range(2,xDim-1,2): \n",
    "            if maze[y][x]==0:\n",
    "                yc=[-1,1,0,0] #y coordinates for north, south, east west\n",
    "                xc=[0,0,1,-1] #x coordinates \n",
    "                bn=maze[y+yc[0]][x+xc[0]] #spot north of spot\n",
    "                bs=maze[y+yc[1]][x+xc[1]] #spot south of spot\n",
    "                be=maze[y+yc[2]][x+xc[2]] #spot east of spot\n",
    "                bw=maze[y+yc[3]][x+xc[3]] #spot west of spot\n",
    "                if bn==2 or bs==2 or be==2 or bw==2: #if one touching spot is a 2\n",
    "                    #if one and only one location next to this spot is a 0\n",
    "                    if ((bn==0 and bs!=0 and be!=0 and bw!=0) or (bn!=0 and bs==0 and be!=0 and bw!=0) or (bn!=0 and bs!=0 and be==0 and bw!=0) or (bn!=0 and bs!=0 and be!=0 and bw==0)) and (y!=starty and x!=startx):\n",
    "                        endspots.append([y,x]) #make a list of all possible end spots\n",
    "    return endspots\n",
    "\n",
    "#test with mazeZ, starty, and startx as used in previous tests above \n",
    "print findend(mazeZ,starty,startx,yDim,xDim) #prints potential end locations \n",
    "print (starty,startx)\n",
    "#end locations should be dead-ends that are touching the maze \"wall\" \n",
    "#end locations should not equal the start location! \n",
    "#note that the start location (second list) is not included in list of endspots (first list)."
   ]
  },
  {
   "cell_type": "markdown",
   "metadata": {},
   "source": [
    "# Step Six: Assemble the maze in one function\n",
    "Here I took all the functions from above and assembled them into a single function that will return the maze in addition to the start and end location indices. Here is where I make sure that the user can only make mazes of an odd number and that are at least 9x9. Mazes smaller than 9x9 run into errors finding the endspot. Mazes as small as 9x9 do still have endspot problems, but this code will generate a new maze if there are no possible endspots such that this function will always return a maze. \n",
    "\n",
    "It returns a list that looks like this (maze,[starty][startx],[endy][endx]). \n",
    "\n",
    "Maze Area (tunnel walls): 1\n",
    "\n",
    "Maze Perimeter: 2 \n",
    "\n",
    "Maze Tunnels: 0\n",
    "\n",
    "Maze Start and End: 3"
   ]
  },
  {
   "cell_type": "code",
   "execution_count": 21,
   "metadata": {
    "collapsed": false
   },
   "outputs": [
    {
     "ename": "KeyboardInterrupt",
     "evalue": "",
     "output_type": "error",
     "traceback": [
      "\u001b[0;31m---------------------------------------------------------------------------\u001b[0m",
      "\u001b[0;31mKeyboardInterrupt\u001b[0m                         Traceback (most recent call last)",
      "\u001b[0;32m<ipython-input-21-8122f53aa2de>\u001b[0m in \u001b[0;36m<module>\u001b[0;34m()\u001b[0m\n\u001b[1;32m     40\u001b[0m \u001b[0;31m#some way to make the function just return the maze by default and return start and end\u001b[0m\u001b[0;34m\u001b[0m\u001b[0;34m\u001b[0m\u001b[0m\n\u001b[1;32m     41\u001b[0m \u001b[0;31m#coordinates if called specifically?\u001b[0m\u001b[0;34m\u001b[0m\u001b[0;34m\u001b[0m\u001b[0m\n\u001b[0;32m---> 42\u001b[0;31m \u001b[0mmazeD\u001b[0m\u001b[0;34m=\u001b[0m\u001b[0mratmaze\u001b[0m\u001b[0;34m(\u001b[0m\u001b[0;36m501\u001b[0m\u001b[0;34m)\u001b[0m\u001b[0;34m\u001b[0m\u001b[0m\n\u001b[0m\u001b[1;32m     43\u001b[0m \u001b[0;32mprint\u001b[0m \u001b[0mmazeD\u001b[0m\u001b[0;34m[\u001b[0m\u001b[0;36m1\u001b[0m\u001b[0;34m]\u001b[0m \u001b[0;31m#print start\u001b[0m\u001b[0;34m\u001b[0m\u001b[0m\n\u001b[1;32m     44\u001b[0m \u001b[0;32mprint\u001b[0m \u001b[0mmazeD\u001b[0m\u001b[0;34m[\u001b[0m\u001b[0;36m2\u001b[0m\u001b[0;34m]\u001b[0m \u001b[0;31m#print end\u001b[0m\u001b[0;34m\u001b[0m\u001b[0m\n",
      "\u001b[0;32m<ipython-input-21-8122f53aa2de>\u001b[0m in \u001b[0;36mratmaze\u001b[0;34m(dim)\u001b[0m\n\u001b[1;32m     17\u001b[0m \u001b[0;34m\u001b[0m\u001b[0m\n\u001b[1;32m     18\u001b[0m             \u001b[0;31m#tunnel\u001b[0m\u001b[0;34m\u001b[0m\u001b[0;34m\u001b[0m\u001b[0m\n\u001b[0;32m---> 19\u001b[0;31m             \u001b[0mtunnel2\u001b[0m\u001b[0;34m(\u001b[0m\u001b[0mmaze\u001b[0m\u001b[0;34m,\u001b[0m\u001b[0mstartx\u001b[0m\u001b[0;34m,\u001b[0m\u001b[0mstarty\u001b[0m\u001b[0;34m,\u001b[0m\u001b[0mxDim\u001b[0m\u001b[0;34m,\u001b[0m\u001b[0myDim\u001b[0m\u001b[0;34m)\u001b[0m\u001b[0;34m\u001b[0m\u001b[0m\n\u001b[0m\u001b[1;32m     20\u001b[0m \u001b[0;34m\u001b[0m\u001b[0m\n\u001b[1;32m     21\u001b[0m             \u001b[0;31m#check that maze actually has at least one endspot\u001b[0m\u001b[0;34m\u001b[0m\u001b[0;34m\u001b[0m\u001b[0m\n",
      "\u001b[0;32m<ipython-input-7-f81393ea0f1d>\u001b[0m in \u001b[0;36mtunnel2\u001b[0;34m(maze, x, y, xDim, yDim)\u001b[0m\n\u001b[1;32m     30\u001b[0m     \u001b[0;31m#make sure  branch spot has a potential direction\u001b[0m\u001b[0;34m\u001b[0m\u001b[0;34m\u001b[0m\u001b[0m\n\u001b[1;32m     31\u001b[0m \u001b[0;34m\u001b[0m\u001b[0m\n\u001b[0;32m---> 32\u001b[0;31m     \u001b[0;32mwhile\u001b[0m \u001b[0mmazefull\u001b[0m\u001b[0;34m(\u001b[0m\u001b[0mmaze\u001b[0m\u001b[0;34m,\u001b[0m\u001b[0mxDim\u001b[0m\u001b[0;34m,\u001b[0m\u001b[0myDim\u001b[0m\u001b[0;34m)\u001b[0m\u001b[0;34m==\u001b[0m\u001b[0mFalse\u001b[0m\u001b[0;34m:\u001b[0m \u001b[0;31m#while maze is not full dig branches\u001b[0m\u001b[0;34m\u001b[0m\u001b[0m\n\u001b[0m\u001b[1;32m     33\u001b[0m         \u001b[0;31m#pick x and y coordinates to dig another tunnel\u001b[0m\u001b[0;34m\u001b[0m\u001b[0;34m\u001b[0m\u001b[0m\n\u001b[1;32m     34\u001b[0m         \u001b[0mby\u001b[0m\u001b[0;34m=\u001b[0m\u001b[0mrandom\u001b[0m\u001b[0;34m.\u001b[0m\u001b[0mrandrange\u001b[0m\u001b[0;34m(\u001b[0m\u001b[0;36m2\u001b[0m\u001b[0;34m,\u001b[0m\u001b[0myDim\u001b[0m\u001b[0;34m,\u001b[0m\u001b[0;36m2\u001b[0m\u001b[0;34m)\u001b[0m \u001b[0;31m#specific to a 49x49 maze\u001b[0m\u001b[0;34m\u001b[0m\u001b[0m\n",
      "\u001b[0;32m<ipython-input-7-f81393ea0f1d>\u001b[0m in \u001b[0;36mmazefull\u001b[0;34m(maze, xDim, yDim)\u001b[0m\n\u001b[1;32m     18\u001b[0m             \u001b[0;32mfor\u001b[0m \u001b[0mx\u001b[0m \u001b[0;32min\u001b[0m \u001b[0mrange\u001b[0m\u001b[0;34m(\u001b[0m\u001b[0;36m2\u001b[0m\u001b[0;34m,\u001b[0m\u001b[0mxDim\u001b[0m\u001b[0;34m,\u001b[0m\u001b[0;36m2\u001b[0m\u001b[0;34m)\u001b[0m\u001b[0;34m:\u001b[0m \u001b[0;31m#specific to a 49x49 maze\u001b[0m\u001b[0;34m\u001b[0m\u001b[0m\n\u001b[1;32m     19\u001b[0m                 \u001b[0;32mif\u001b[0m \u001b[0mmaze\u001b[0m\u001b[0;34m[\u001b[0m\u001b[0my\u001b[0m\u001b[0;34m]\u001b[0m\u001b[0;34m[\u001b[0m\u001b[0mx\u001b[0m\u001b[0;34m]\u001b[0m\u001b[0;34m==\u001b[0m\u001b[0;36m0\u001b[0m\u001b[0;34m:\u001b[0m\u001b[0;34m\u001b[0m\u001b[0m\n\u001b[0;32m---> 20\u001b[0;31m                     \u001b[0;32mif\u001b[0m \u001b[0mcheck\u001b[0m\u001b[0;34m(\u001b[0m\u001b[0mmaze\u001b[0m\u001b[0;34m,\u001b[0m\u001b[0my\u001b[0m\u001b[0;34m,\u001b[0m\u001b[0mx\u001b[0m\u001b[0;34m)\u001b[0m\u001b[0;34m==\u001b[0m\u001b[0mTrue\u001b[0m\u001b[0;34m:\u001b[0m\u001b[0;34m\u001b[0m\u001b[0m\n\u001b[0m\u001b[1;32m     21\u001b[0m                         \u001b[0mtruespots\u001b[0m\u001b[0;34m.\u001b[0m\u001b[0mappend\u001b[0m\u001b[0;34m(\u001b[0m\u001b[0;36m1\u001b[0m\u001b[0;34m)\u001b[0m\u001b[0;34m\u001b[0m\u001b[0m\n\u001b[1;32m     22\u001b[0m         \u001b[0;32mif\u001b[0m \u001b[0mlen\u001b[0m\u001b[0;34m(\u001b[0m\u001b[0mtruespots\u001b[0m\u001b[0;34m)\u001b[0m\u001b[0;34m==\u001b[0m\u001b[0;36m0\u001b[0m\u001b[0;34m:\u001b[0m\u001b[0;34m\u001b[0m\u001b[0m\n",
      "\u001b[0;32m<ipython-input-7-f81393ea0f1d>\u001b[0m in \u001b[0;36mcheck\u001b[0;34m(maze, by, bx)\u001b[0m\n\u001b[1;32m      6\u001b[0m     \u001b[0mbn\u001b[0m\u001b[0;34m=\u001b[0m\u001b[0mmaze\u001b[0m\u001b[0;34m[\u001b[0m\u001b[0mby\u001b[0m\u001b[0;34m+\u001b[0m\u001b[0myc\u001b[0m\u001b[0;34m[\u001b[0m\u001b[0;36m0\u001b[0m\u001b[0;34m]\u001b[0m\u001b[0;34m+\u001b[0m\u001b[0myc\u001b[0m\u001b[0;34m[\u001b[0m\u001b[0;36m0\u001b[0m\u001b[0;34m]\u001b[0m\u001b[0;34m]\u001b[0m\u001b[0;34m[\u001b[0m\u001b[0mbx\u001b[0m\u001b[0;34m+\u001b[0m\u001b[0mxc\u001b[0m\u001b[0;34m[\u001b[0m\u001b[0;36m0\u001b[0m\u001b[0;34m]\u001b[0m\u001b[0;34m+\u001b[0m\u001b[0mxc\u001b[0m\u001b[0;34m[\u001b[0m\u001b[0;36m0\u001b[0m\u001b[0;34m]\u001b[0m\u001b[0;34m]\u001b[0m\u001b[0;34m\u001b[0m\u001b[0m\n\u001b[1;32m      7\u001b[0m     \u001b[0mbs\u001b[0m\u001b[0;34m=\u001b[0m\u001b[0mmaze\u001b[0m\u001b[0;34m[\u001b[0m\u001b[0mby\u001b[0m\u001b[0;34m+\u001b[0m\u001b[0myc\u001b[0m\u001b[0;34m[\u001b[0m\u001b[0;36m1\u001b[0m\u001b[0;34m]\u001b[0m\u001b[0;34m+\u001b[0m\u001b[0myc\u001b[0m\u001b[0;34m[\u001b[0m\u001b[0;36m1\u001b[0m\u001b[0;34m]\u001b[0m\u001b[0;34m]\u001b[0m\u001b[0;34m[\u001b[0m\u001b[0mbx\u001b[0m\u001b[0;34m+\u001b[0m\u001b[0mxc\u001b[0m\u001b[0;34m[\u001b[0m\u001b[0;36m1\u001b[0m\u001b[0;34m]\u001b[0m\u001b[0;34m+\u001b[0m\u001b[0mxc\u001b[0m\u001b[0;34m[\u001b[0m\u001b[0;36m1\u001b[0m\u001b[0;34m]\u001b[0m\u001b[0;34m]\u001b[0m\u001b[0;34m\u001b[0m\u001b[0m\n\u001b[0;32m----> 8\u001b[0;31m     \u001b[0mbe\u001b[0m\u001b[0;34m=\u001b[0m\u001b[0mmaze\u001b[0m\u001b[0;34m[\u001b[0m\u001b[0mby\u001b[0m\u001b[0;34m+\u001b[0m\u001b[0myc\u001b[0m\u001b[0;34m[\u001b[0m\u001b[0;36m2\u001b[0m\u001b[0;34m]\u001b[0m\u001b[0;34m+\u001b[0m\u001b[0myc\u001b[0m\u001b[0;34m[\u001b[0m\u001b[0;36m2\u001b[0m\u001b[0;34m]\u001b[0m\u001b[0;34m]\u001b[0m\u001b[0;34m[\u001b[0m\u001b[0mbx\u001b[0m\u001b[0;34m+\u001b[0m\u001b[0mxc\u001b[0m\u001b[0;34m[\u001b[0m\u001b[0;36m2\u001b[0m\u001b[0;34m]\u001b[0m\u001b[0;34m+\u001b[0m\u001b[0mxc\u001b[0m\u001b[0;34m[\u001b[0m\u001b[0;36m2\u001b[0m\u001b[0;34m]\u001b[0m\u001b[0;34m]\u001b[0m\u001b[0;34m\u001b[0m\u001b[0m\n\u001b[0m\u001b[1;32m      9\u001b[0m     \u001b[0mbw\u001b[0m\u001b[0;34m=\u001b[0m\u001b[0mmaze\u001b[0m\u001b[0;34m[\u001b[0m\u001b[0mby\u001b[0m\u001b[0;34m+\u001b[0m\u001b[0myc\u001b[0m\u001b[0;34m[\u001b[0m\u001b[0;36m3\u001b[0m\u001b[0;34m]\u001b[0m\u001b[0;34m+\u001b[0m\u001b[0myc\u001b[0m\u001b[0;34m[\u001b[0m\u001b[0;36m3\u001b[0m\u001b[0;34m]\u001b[0m\u001b[0;34m]\u001b[0m\u001b[0;34m[\u001b[0m\u001b[0mbx\u001b[0m\u001b[0;34m+\u001b[0m\u001b[0mxc\u001b[0m\u001b[0;34m[\u001b[0m\u001b[0;36m3\u001b[0m\u001b[0;34m]\u001b[0m\u001b[0;34m+\u001b[0m\u001b[0mxc\u001b[0m\u001b[0;34m[\u001b[0m\u001b[0;36m3\u001b[0m\u001b[0;34m]\u001b[0m\u001b[0;34m]\u001b[0m\u001b[0;34m\u001b[0m\u001b[0m\n\u001b[1;32m     10\u001b[0m     \u001b[0;32mif\u001b[0m \u001b[0mbn\u001b[0m\u001b[0;34m==\u001b[0m\u001b[0;36m1\u001b[0m \u001b[0;32mor\u001b[0m \u001b[0mbs\u001b[0m\u001b[0;34m==\u001b[0m\u001b[0;36m1\u001b[0m \u001b[0;32mor\u001b[0m \u001b[0mbe\u001b[0m\u001b[0;34m==\u001b[0m\u001b[0;36m1\u001b[0m \u001b[0;32mor\u001b[0m \u001b[0mbw\u001b[0m\u001b[0;34m==\u001b[0m\u001b[0;36m1\u001b[0m\u001b[0;34m:\u001b[0m\u001b[0;34m\u001b[0m\u001b[0m\n",
      "\u001b[0;31mKeyboardInterrupt\u001b[0m: "
     ]
    }
   ],
   "source": [
    "#final code for function that assembles the complete maze including start and end spots \n",
    "def ratmaze(dim): #will make a random maze as long as dim is odd\n",
    "    if dim%2==0: \n",
    "        print \"error: maze dimension must be an odd number\"\n",
    "    else: \n",
    "        if dim<8: #mazes of size 7 fail to generate (9 is smallest).\n",
    "            print \"error: maze must be at least 9x9\"\n",
    "        else:\n",
    "            yDim=dim #must be odd number for maze to fill up completely to edges \n",
    "            xDim=dim #must be odd number for maze to fill up completely to edges \n",
    "            maze=createmaze(dim)\n",
    "\n",
    "            #start at [50%][0] real coordinates: (0,50%)\n",
    "            starty=random.randrange(2,yDim-2,2) #start on an even y space\n",
    "            startx=2#start on the edge (even)\n",
    "            maze[starty][startx]=0 #make start space a 0\n",
    "\n",
    "            #tunnel\n",
    "            tunnel2(maze,startx,starty,xDim,yDim)\n",
    "\n",
    "            #check that maze actually has at least one endspot\n",
    "            endspots=findend(maze,starty,startx,yDim,xDim)\n",
    "            while len(endspots)==0: #if there is no endspot available make a new maze \n",
    "                #make a new maze\n",
    "                maze=createmaze(dim)\n",
    "                starty=random.randrange(2,yDim-2,2)\n",
    "                startx=2\n",
    "                maze[starty][startx]=0\n",
    "                tunnel2(maze,startx,starty,xDim,yDim)\n",
    "                endspots=findend(maze,starty,startx,yDim,xDim)\n",
    "\n",
    "            #return start and end of maze \n",
    "            end=endspots[random.randint(0,len(endspots)-1)]\n",
    "            start=[starty,startx]\n",
    "            maze[start[0]][start[1]]=3 #make start spot a 3\n",
    "            maze[end[0]][end[1]]=3 #make end spot a 3 \n",
    "            return (maze,start,end) #return the maze and the start and end locations of the maze \n",
    "\n",
    "#test to make sure code works \n",
    "#some way to make the function just return the maze by default and return start and end\n",
    "#coordinates if called specifically? \n",
    "mazeD=ratmaze(501)\n",
    "print mazeD[1] #print start\n",
    "print mazeD[2] #print end\n",
    "imshow(mazeD[0], \"GnBu\",interpolation=\"nearest\") #check (maze is first element returned)\n",
    "#this takes about four second to execute on my computer "
   ]
  },
  {
   "cell_type": "code",
   "execution_count": 10,
   "metadata": {
    "collapsed": false
   },
   "outputs": [
    {
     "name": "stdout",
     "output_type": "stream",
     "text": [
      "error: maze dimension must be an odd number\n"
     ]
    }
   ],
   "source": [
    "#test an even number\n",
    "badmaze=ratmaze(80) #maze must be an odd number"
   ]
  },
  {
   "cell_type": "markdown",
   "metadata": {},
   "source": [
    "# Step Seven: Make the rat (agent)\n",
    "Now that we've finally assembled our maze I need to create the rat to solve the maze. The rat's current location will be indicated with a 5. \n",
    "\n",
    "The rat starts in the start maze location. When the rat is initialized with a particular maze the start location will change to a 5. The rat has several functions.\n",
    "\n",
    "Function solve: \n",
    "First the rat can solve the maze after being intialized. The path the rat uses to explore tunnels will be indicated with 4s. When the rat hits a dead end it backtracks and the backtracked path is indicated with 6s. If the rat is adjacent to a 0, it will explore the 0 and will only explore 4s if it's hit a dead end. It's path locations are saved in a list named Track. rat.Track will return this list. The solve function will also return the total number of steps it took to solve the maze. The rat stops exploring when it's self location is a 3. (since start location is turned into a 5, the only location in the entire maze that is a 3 is the end). \n",
    "\n",
    "Function reset: \n",
    "Next the rat can be reset. The maze's tunnels are reverted to 0s and the rat's current location is returned to the start location. the rat.Track is saved unless the solve function is executed a second time, in which case it is over-written. \n",
    "\n",
    "Function learn: \n",
    "After resetting the rat can be told to solve the maze a second time. Or the rat can \"learn\" the maze with the learn function where it will delete all back-tracking (6s) from it's track. Removing the 6s results in a single linear path of 4s from the start to end location. \n",
    "\n",
    "Executing rat.solve, rat.reset, rat.learn will immediately return the solution to a maze making this an excellent maze solving tool. The rat class will only accept mazes in the form of a list that contains the maze, the start location, and the end location. "
   ]
  },
  {
   "cell_type": "code",
   "execution_count": 11,
   "metadata": {
    "collapsed": false
   },
   "outputs": [
    {
     "data": {
      "image/png": "[encoded data removed]",
      "text/plain": [
       "<matplotlib.figure.Figure at 0x107698910>"
      ]
     },
     "metadata": {},
     "output_type": "display_data"
    }
   ],
   "source": [
    "#create the rat! \n",
    "\n",
    "#0 tunnel\n",
    "#1 tunnel wall\n",
    "#2 maze wall\n",
    "#3 maze end (and start until rat is placed in maze)\n",
    "#4 rat's tracks\n",
    "#5 rat's current location\n",
    "#6 rat's double tracks \n",
    "\n",
    "#this class can show you its current X and Y, it's Track (once solved) and the solution (once solved and maze reset).\n",
    "\n",
    "class rat:\n",
    "    def __init__(self,mazeA):\n",
    "    #initalize rat \n",
    "        self.Y=mazeA[1][0]\n",
    "        self.X=mazeA[1][1]\n",
    "        self.maze=mazeA[0]\n",
    "        self.maze[self.Y][self.X]=5 #mark where the rat currently is with a 5 \n",
    "        self.starty=mazeA[1][0]\n",
    "        self.startx=mazeA[1][1]\n",
    "        self.endy=mazeA[2][0]\n",
    "        self.endx=mazeA[2][1]\n",
    "        imshow(self.maze, \"GnBu\", interpolation=\"nearest\")\n",
    "\n",
    "    def solve(self):\n",
    "        self.Track=list()\n",
    "        self.Track.append([self.Y,self.X])\n",
    "        while self.maze[self.Y][self.X]!=3:\n",
    "            yc=[-1,1,0,0] #y coordinates for north, south, east west\n",
    "            xc=[0,0,1,-1] #x coordinates \n",
    "            n=self.maze[self.Y+yc[0]][self.X+xc[0]] #spot north of spot\n",
    "            s=self.maze[self.Y+yc[1]][self.X+xc[1]] #spot south of spot\n",
    "            e=self.maze[self.Y+yc[2]][self.X+xc[2]] #spot east of spot\n",
    "            w=self.maze[self.Y+yc[3]][self.X+xc[3]] #spot west of spot\n",
    "\n",
    "            #if adjacent spot is a 3 move there and finish!  \n",
    "            if n==3 or s==3 or e==3 or w==3:\n",
    "                d=random.randint(0,3)\n",
    "                while self.maze[self.Y+yc[d]][self.X+xc[d]]!=3:\n",
    "                    #keep picking a random direction until you get one that is equal to three \n",
    "                    d=random.randint(0,3)\n",
    "                self.maze[self.Y][self.X]=4 #make old spot a 4 for tracking\n",
    "                self.Y=self.Y+yc[d]\n",
    "                self.X=self.X+xc[d]\n",
    "                self.Track.append([self.Y,self.X])\n",
    "\n",
    "            if self.maze[self.Y][self.X]!=3: #if the rat's current location is not a three, move! \n",
    "\n",
    "                numberdirections=list()\n",
    "                if n==0:\n",
    "                    numberdirections.append(1)\n",
    "                if s==0:\n",
    "                    numberdirections.append(1)\n",
    "                if e==0:\n",
    "                    numberdirections.append(1)\n",
    "                if w==0:\n",
    "                    numberdirections.append(1)\n",
    "\n",
    "                #if only one direction to go, go there\n",
    "                if len(numberdirections)==1: \n",
    "                    if (n==0 and s!=0 and e!=0 and w!=0): #if north is the only possible way to go, go there\n",
    "                        d=0\n",
    "                    if (n!=0 and s==0 and e!=0 and w!=0):\n",
    "                        d=1\n",
    "                    if (n!=0 and s!=0 and e==0 and w!=0):\n",
    "                        d=2\n",
    "                    if (n!=0 and s!=0 and e!=0 and w==0):\n",
    "                        d=3\n",
    "                    self.maze[self.Y][self.X]=4 #make old spot a 4 for tracking\n",
    "                    self.Y=self.Y+yc[d]\n",
    "                    self.X=self.X+xc[d]\n",
    "                    self.Track.append([self.Y,self.X])\n",
    "                    self.maze[self.Y][self.X]=5 #make new spot the rat \n",
    "\n",
    "                #if more than one direction to go randomly pick one of them\n",
    "                if len(numberdirections)>1: \n",
    "                    d=random.randint(0,3) #pick a random direction\n",
    "                    while self.maze[self.Y+yc[d]][self.X+xc[d]]!=0:\n",
    "                        #keep picking a random direction until you get one that is equal to zero \n",
    "                        d=random.randint(0,3)\n",
    "                    self.maze[self.Y][self.X]=4 #make old spot a 4 for tracking\n",
    "                    self.Y=self.Y+yc[d]\n",
    "                    self.X=self.X+xc[d]\n",
    "                    self.Track.append([self.Y,self.X])\n",
    "                    self.maze[self.Y][self.X]=5 #make new spot the rat \n",
    "\n",
    "                #if there is nowhere to go backtrack!     \n",
    "                if len(numberdirections)==0: \n",
    "                    d=random.randint(0,3)\n",
    "                    while self.maze[self.Y+yc[d]][self.X+xc[d]]!=4: #make new direction the spot that is old track\n",
    "                        d=random.randint(0,3)\n",
    "                    #move to old spot (backtrack)\n",
    "                    self.maze[self.Y][self.X]=6 #make old spot a 6 for backtracked\n",
    "                    self.Y=self.Y+yc[d]\n",
    "                    self.X=self.X+xc[d]\n",
    "                    self.Track.append([self.Y,self.X])\n",
    "                    self.maze[self.Y][self.X]=5 #make new spot the rat \n",
    "            else: \n",
    "                print \"found the cheese in \"+str(len(self.Track))+\" steps!\"\n",
    "        imshow(self.maze, \"GnBu\", interpolation=\"nearest\")\n",
    "        \n",
    "        #record the solution \n",
    "        self.solution=list()\n",
    "        #for each place in the track that is not a backtrack add to to a new list for the shortest path\n",
    "        for i in range(len(self.Track)):\n",
    "            if self.maze[self.Track[i][0]][self.Track[i][1]]!=6:\n",
    "                self.solution.append(self.Track[i])\n",
    "        #return self.solution\n",
    "    \n",
    "    def reset(self):\n",
    "        for i in range((len(self.Track)-1)):\n",
    "            self.maze[self.Track[i][0]][self.Track[i][1]]=0 #make the whole track 0s again\n",
    "            self.maze[self.Y][self.X]=0 #including the last spot \n",
    "        #self.maze[self.starty][self.startx]=5 #make start a 5 with rat \n",
    "        self.maze[self.endy][self.endx]=3 #make end a 3 \n",
    "        self.Y=self.starty #reset starting position back to start\n",
    "        self.X=self.startx #reset starting position back to start \n",
    "        self.maze[self.Y][self.X]=5 #make self a 5 \n",
    "        imshow(self.maze, \"GnBu\", interpolation=\"nearest\")\n",
    "            \n",
    "    def learn(self): #must reset the maze first \n",
    "        for i in range(len(self.solution)-1):\n",
    "            self.maze[self.solution[i][0]][self.solution[i][1]]=4 #fill maze with 4s for solution\n",
    "        self.maze[self.starty][self.startx]=3 #mark start with a 3\n",
    "        self.maze[self.endy][self.endx]=3 #mark end with a 3\n",
    "        imshow(self.maze, \"GnBu\", interpolation=\"nearest\")\n",
    "        print \"the shortest path is \"+str(len(self.solution))+\" steps!\"\n",
    "            \n",
    "#test\n",
    "ratty=rat(mazeD) #mazeD was used to test the ratmaze function\n",
    "#NOTE: mazeZ used in prior examples will not work because mazeZ is JUST the maze whereas mazeD is a list of three things: the maze, the start, and the end spots \n",
    "#0 tunnel (lightest color)\n",
    "#1 tunnel wall\n",
    "#2 maze wall\n",
    "#3 maze end (and start until rat is placed in maze)\n",
    "#4 rat's tracks\n",
    "#5 rat's current location (darkest color)\n",
    "#6 rat's double tracks \n",
    "            "
   ]
  },
  {
   "cell_type": "markdown",
   "metadata": {},
   "source": [
    "# Step Eight: Executing the project\n",
    "In the following cells I will actually execute all the code above together. First I will make a maze and put the rat in the maze. I also printed the start and end coordinates. "
   ]
  },
  {
   "cell_type": "code",
   "execution_count": 12,
   "metadata": {
    "collapsed": false
   },
   "outputs": [
    {
     "name": "stdout",
     "output_type": "stream",
     "text": [
      "[30, 2]\n",
      "[2, 20]\n"
     ]
    },
    {
     "data": {
      "image/png": "[encoded data removed]",
      "text/plain": [
       "<matplotlib.figure.Figure at 0x1071a92d0>"
      ]
     },
     "metadata": {},
     "output_type": "display_data"
    }
   ],
   "source": [
    "#actual execution of project \n",
    "\n",
    "algernonsmaze=ratmaze(71) #make the maze\n",
    "print algernonsmaze[1] #print start coordinates (Y,X)\n",
    "print algernonsmaze[2] #print end coordinates (Y,X)\n",
    "algernon=rat(algernonsmaze)  # put the rat in the generated maze \n",
    "#rat's current location is entered as 5"
   ]
  },
  {
   "cell_type": "markdown",
   "metadata": {},
   "source": [
    "### Step 8.2 Now I will have the rat solve the maze.\n",
    "The darkest color is a 6, which indicates backtracking. The second darkest color indicates the single correct solution to the maze. "
   ]
  },
  {
   "cell_type": "code",
   "execution_count": 13,
   "metadata": {
    "collapsed": false
   },
   "outputs": [
    {
     "name": "stdout",
     "output_type": "stream",
     "text": [
      "found the cheese in 1651 steps!\n"
     ]
    },
    {
     "data": {
      "image/png": "[encoded data removed]",
      "text/plain": [
       "<matplotlib.figure.Figure at 0x107269cd0>"
      ]
     },
     "metadata": {},
     "output_type": "display_data"
    }
   ],
   "source": [
    "algernon.solve()\n",
    "#excuting the solve function will make the rat will go through the maze until it finds a 3 (end location)\n",
    "#it will also report how many steps it took to reach the end "
   ]
  },
  {
   "cell_type": "markdown",
   "metadata": {},
   "source": [
    "### Step 8.3 Some things that can be called from the rat class \n",
    "By default when solving the rat class will return number of steps to solve but you can also call this by looking at the length of the track. The solution is also saved when the solve function is executed and it can be called as well. The length of the single shortest path (solution) can also be called. Finally the rat's current location can be asked for and this should be the end coordinates to the maze.  "
   ]
  },
  {
   "cell_type": "code",
   "execution_count": 14,
   "metadata": {
    "collapsed": false
   },
   "outputs": [
    {
     "name": "stdout",
     "output_type": "stream",
     "text": [
      "steps to solve: 1651\n",
      "[[30, 2], [30, 3], [30, 4], [30, 4], [30, 4], [30, 5], [30, 6], [30, 6], [30, 7], [30, 8], [30, 9], [30, 10], [31, 10], [32, 10], [33, 10], [34, 10], [35, 10], [36, 10], [37, 10], [38, 10], [39, 10], [40, 10], [40, 11], [40, 12], [40, 13], [40, 14], [40, 15], [40, 16], [40, 17], [40, 18], [40, 19], [40, 20], [40, 21], [40, 22], [39, 22], [38, 22], [38, 22], [38, 21], [38, 20], [37, 20], [36, 20], [35, 20], [34, 20], [33, 20], [32, 20], [32, 20], [32, 19], [32, 18], [33, 18], [34, 18], [35, 18], [36, 18], [37, 18], [38, 18], [38, 17], [38, 16], [38, 15], [38, 14], [38, 13], [38, 12], [37, 12], [36, 12], [35, 12], [34, 12], [34, 13], [34, 14], [35, 14], [36, 14], [36, 15], [36, 16], [35, 16], [34, 16], [33, 16], [32, 16], [32, 15], [32, 14], [31, 14], [30, 14], [29, 14], [28, 14], [27, 14], [26, 14], [25, 14], [24, 14], [24, 15], [24, 16], [24, 17], [24, 18], [24, 19], [24, 20], [24, 21], [24, 22], [24, 23], [24, 24], [24, 25], [24, 26], [24, 27], [24, 28], [25, 28], [26, 28], [26, 27], [26, 26], [27, 26], [28, 26], [28, 26], [29, 26], [30, 26], [31, 26], [32, 26], [32, 27], [32, 28], [32, 29], [32, 30], [32, 31], [32, 32], [32, 33], [32, 34], [32, 35], [32, 36], [32, 37], [32, 38], [32, 39], [32, 40], [31, 40], [30, 40], [29, 40], [28, 40], [27, 40], [26, 40], [25, 40], [24, 40], [23, 40], [22, 40], [22, 41], [22, 42], [22, 43], [22, 44], [22, 45], [22, 46], [22, 47], [22, 48], [22, 48], [22, 49], [22, 50], [22, 50], [22, 51], [22, 52], [22, 53], [22, 54], [22, 55], [22, 56], [22, 57], [22, 58], [22, 59], [22, 60], [22, 61], [22, 62], [22, 63], [22, 64], [22, 65], [22, 66], [22, 67], [22, 68], [21, 68], [20, 68], [19, 68], [18, 68], [18, 68], [18, 67], [18, 66], [18, 65], [18, 64], [19, 64], [20, 64], [20, 63], [20, 62], [20, 62], [20, 61], [20, 60], [20, 59], [20, 58], [20, 57], [20, 56], [20, 55], [20, 54], [19, 54], [18, 54], [18, 55], [18, 56], [17, 56], [16, 56], [15, 56], [14, 56], [13, 56], [12, 56], [11, 56], [10, 56], [10, 55], [10, 54], [10, 53], [10, 52], [10, 51], [10, 50], [9, 50], [8, 50], [8, 49], [8, 48], [8, 47], [8, 46], [8, 45], [8, 44], [8, 44], [8, 44], [8, 43], [8, 42], [8, 41], [8, 40], [8, 39], [8, 38], [8, 37], [8, 36], [8, 35], [8, 34], [8, 33], [8, 32], [7, 32], [6, 32], [5, 32], [4, 32], [4, 31], [4, 30], [4, 29], [4, 28], [3, 28], [2, 28], [2, 27], [2, 26], [3, 26], [4, 26], [5, 26], [6, 26], [6, 25], [6, 24], [7, 24], [8, 24], [9, 24], [10, 24], [10, 25], [10, 26], [10, 26], [11, 26], [12, 26], [13, 26], [14, 26], [14, 25], [14, 24], [13, 24], [12, 24], [12, 23], [12, 22], [11, 22], [10, 22], [9, 22], [8, 22], [7, 22], [6, 22], [5, 22], [4, 22], [4, 21], [4, 20], [3, 20], [2, 20]]\n",
      "shortest path: 272\n",
      "(2, 20)\n"
     ]
    }
   ],
   "source": [
    "#this is just an example of some types of information we can extract from class:rat\n",
    "print \"steps to solve: \"+str(len(algernon.Track)) #this will also return the number of steps to find the cheese\n",
    "print algernon.solution #this will return the final solution\n",
    "print \"shortest path: \"+str(len(algernon.solution)) #what's the shortest path? \n",
    "print (algernon.Y,algernon.X) #this wil show current location (Y,X), should be end coordinates"
   ]
  },
  {
   "cell_type": "markdown",
   "metadata": {},
   "source": [
    "### Step 8.4 Reset the maze\n",
    "Resetting the maze does not erase the track or the solution. It just clears the maze itself and returns the locatio of the rat to the start location. "
   ]
  },
  {
   "cell_type": "code",
   "execution_count": 15,
   "metadata": {
    "collapsed": false
   },
   "outputs": [
    {
     "data": {
      "image/png": "[encoded data removed]",
      "text/plain": [
       "<matplotlib.figure.Figure at 0x1078a0390>"
      ]
     },
     "metadata": {},
     "output_type": "display_data"
    }
   ],
   "source": [
    "#you can reset the maze to see how many steps a second try takes \n",
    "algernon.reset()"
   ]
  },
  {
   "cell_type": "markdown",
   "metadata": {},
   "source": [
    "### Step 8.5 Solve it again.\n",
    "Solving the maze again the rat's track will almost certainly be different. The maze MUST be reset before the rat can solve it a second time. "
   ]
  },
  {
   "cell_type": "code",
   "execution_count": 16,
   "metadata": {
    "collapsed": false
   },
   "outputs": [
    {
     "name": "stdout",
     "output_type": "stream",
     "text": [
      "found the cheese in 1143 steps!\n"
     ]
    },
    {
     "data": {
      "image/png": "[encoded data removed]",
      "text/plain": [
       "<matplotlib.figure.Figure at 0x107829b10>"
      ]
     },
     "metadata": {},
     "output_type": "display_data"
    }
   ],
   "source": [
    "algernon.solve() #after resetting try solving again!"
   ]
  },
  {
   "cell_type": "markdown",
   "metadata": {},
   "source": [
    "### Step 8.6 Show the solution \n",
    "In order to show the solution in the maze without all the backtracking you must reset the maze and then execute the learn function. The learn function does not actually save the solution. The solution is saved during the solve function. The learn function just shows the solution. I.e. the rat perfectly remembers the correct solution and when asked to learn the maze, will show you the single shortest path. "
   ]
  },
  {
   "cell_type": "code",
   "execution_count": 17,
   "metadata": {
    "collapsed": false
   },
   "outputs": [
    {
     "name": "stdout",
     "output_type": "stream",
     "text": [
      "the shortest path is 266 steps!\n"
     ]
    },
    {
     "data": {
      "image/png": "[encoded data removed]",
      "text/plain": [
       "<matplotlib.figure.Figure at 0x107950fd0>"
      ]
     },
     "metadata": {},
     "output_type": "display_data"
    }
   ],
   "source": [
    "algernon.reset() #clear the maze again\n",
    "algernon.learn() #and show the shortest path (solution) "
   ]
  },
  {
   "cell_type": "markdown",
   "metadata": {},
   "source": [
    "# Step Nine: Final testing\n",
    "Executing all these functions consecutively will return a random maze of a specified size with the single solution shown. It will also print the number of steps to solve, and the length of the final solution. "
   ]
  },
  {
   "cell_type": "code",
   "execution_count": 22,
   "metadata": {
    "collapsed": false
   },
   "outputs": [
    {
     "name": "stdout",
     "output_type": "stream",
     "text": [
      "found the cheese in 2397 steps!\n",
      "the shortest path is 332 steps!\n"
     ]
    },
    {
     "data": {
      "image/png": "[encoded data removed]",
      "text/plain": [
       "<matplotlib.figure.Figure at 0x107a26550>"
      ]
     },
     "metadata": {},
     "output_type": "display_data"
    }
   ],
   "source": [
    "maze2=ratmaze(91) #generate maze of dimension 11x11\n",
    "luna=rat(maze2) #put rat in generated maze\n",
    "luna.solve() #solve it\n",
    "luna.reset() #reset it\n",
    "luna.learn() #show shortest path \n",
    "#this is all the code you need to show the solution a random maze \n",
    "#with a maze of size 99 this takes about 4 seconds \n",
    "#a maze of size 121 took about 20 seconds to solve \n",
    "#I didn't have the patience to test a maze larger than 251 (501 was taking more than twenty minutes)"
   ]
  },
  {
   "cell_type": "code",
   "execution_count": null,
   "metadata": {
    "collapsed": true
   },
   "outputs": [],
   "source": []
  }
 ],
 "metadata": {
  "kernelspec": {
   "display_name": "Python 2",
   "language": "python",
   "name": "python2"
  },
  "language_info": {
   "codemirror_mode": {
    "name": "ipython",
    "version": 2
   },
   "file_extension": ".py",
   "mimetype": "text/x-python",
   "name": "python",
   "nbconvert_exporter": "python",
   "pygments_lexer": "ipython2",
   "version": "2.7.10"
  }
 },
 "nbformat": 4,
 "nbformat_minor": 0
}
