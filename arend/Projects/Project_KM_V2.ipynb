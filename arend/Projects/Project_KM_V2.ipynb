{
 "cells": [
  {
   "cell_type": "code",
   "execution_count": 1,
   "metadata": {
    "collapsed": false
   },
   "outputs": [
    {
     "name": "stdout",
     "output_type": "stream",
     "text": [
      "Populating the interactive namespace from numpy and matplotlib\n"
     ]
    }
   ],
   "source": [
    "%pylab inline"
   ]
  },
  {
   "cell_type": "markdown",
   "metadata": {},
   "source": [
    "# Project Description: \n",
    "This is a simple model to simulate the spread of fires in a forest. The inspiration for the model comes from many texts and is alluded to often in the complexity literature. I am recreating the model here to demonstrate the model in python and see how initial conditions (forest density, lightning strikes) determine the dynamics and outcome of the system. \n",
    "\n",
    "The model assumes a grid like structure where values for each square in the grid represent the state of the square. A square can either be a tree, a tree on fire, charred, or empty. The density of the forest is the count of trees/total area. Fire is spread through a von Neumann neighborhood where if any of the four neighbors are on fire, and the current spot is a tree, it will erupt in flames. Every time step this continues. \n",
    "There are some parameters that have to be set by the user, namely the initial forest density and if the model allows regrowth of trees in spots that have been burnt out. If regrowth is allowed the probability of regrowth is based on the starting density. \n",
    "\n",
    "In the analysis, I have sampled the model to calculate average trees burned while varying both the initial forest density and the amount of lightening strikes.  Then I vary them at the same time to see the join impact. \n",
    "\n",
    "\n",
    " "
   ]
  },
  {
   "cell_type": "code",
   "execution_count": 357,
   "metadata": {
    "collapsed": true
   },
   "outputs": [],
   "source": [
    "import random\n",
    "import warnings\n",
    "from pandas import *\n",
    "import matplotlib.patches as mpatches\n",
    "import matplotlib.pyplot as plt"
   ]
  },
  {
   "cell_type": "markdown",
   "metadata": {},
   "source": [
    "The cells that represent the forest in the model are implemented using object oriented programing. Below each cell is asigned a state, a growth potential, and a location in the forest. \n",
    "\n",
    "Methods are simply updating--> where the cell looks to its neighbors and changes states, and lightning strikes, which happen at the begining of the model. \n",
    "\n"
   ]
  },
  {
   "cell_type": "code",
   "execution_count": 358,
   "metadata": {
    "collapsed": true
   },
   "outputs": [],
   "source": [
    "class Agent():\n",
    "    states= {\"Open\":0, \"Tree\":1, \"Fire\":2, \"Charred\":3}\n",
    "    \n",
    "    def __init__(self,area,density):\n",
    "        if random.uniform(0,1) < density:\n",
    "            self.state=1\n",
    "        else:\n",
    "            self.state=0\n",
    "        self.counter=0\n",
    "        self.growth=random.uniform(0,1)\n",
    "        self.x=random.randint(0,len(area)-1)\n",
    "        self.y=random.randint(0,len(area[0])-1)\n",
    "        while(area[self.x][self.y]!=None):\n",
    "            self.x=random.randint(0,len(area)-1)\n",
    "            self.y=random.randint(0,len(area[0])-1)\n",
    "        area[self.x][self.y]=self\n",
    "\n",
    "\n",
    "    def Update(self,state,counter,density):\n",
    "        if self.state==3:\n",
    "            self.state=0\n",
    "        else:\n",
    "            if self.state==0:\n",
    "                self.state=.5\n",
    "            else:\n",
    "                if self.state==1:#if it is a tree\n",
    "                    if self.x!=(len(area)-1): #find out if it on the end\n",
    "                        if area[self.x+1][self.y].state==2:# or area[self.x+1][self.y].state==3: # if it is not on the end, neighbor is on fire , catch fire\n",
    "                            self.state=2\n",
    "                            self.counter=self.counter+1\n",
    "                    if self.x!=0:\n",
    "                        if area[self.x-1][self.y].state==2:# or area[self.x-1][self.y].state==3:\n",
    "                            self.state=2\n",
    "                            self.counter=self.counter+1\n",
    "                    if self.y!=(len(area))-1:\n",
    "                        if area[self.y+1][self.x].state==2:# or area[self.y+1][self.x].state==3:\n",
    "                            self.state=2\n",
    "                            self.counter=self.counter+1\n",
    "                    if self.y!=0:\n",
    "                        if area[self.y-1][self.x].state==2:# or area[self.y-1][self.x].state==3:\n",
    "                            self.state=2\n",
    "                            self.counter=self.counter+1\n",
    "                else: \n",
    "                    if self.state==2:\n",
    "                        self.state=3\n",
    "                    else:\n",
    "                        if self.state==.5 and Regrow==True:\n",
    "                            if random.uniform(0,1) < (density):\n",
    "                                self.state=1\n",
    "                            else: \n",
    "                                self.state=0\n",
    "            \n",
    "    def lightning(self,state): # if lightning hits a tree, it catches on fire\n",
    "        if self.state==1:\n",
    "        self.state=2\n",
    "        \n",
    "    def __str__(self):\n",
    "        return \"{0} is my state and I am at {1},{2}\".format(self.state, self.x, self.y)\n"
   ]
  },
  {
   "cell_type": "markdown",
   "metadata": {},
   "source": [
    "This next funciton is a function that resets and implements the model. "
   ]
  },
  {
   "cell_type": "code",
   "execution_count": 367,
   "metadata": {
    "collapsed": false
   },
   "outputs": [],
   "source": [
    "def runModel(iterations,strikes,xDim,density,images,regrow,graphEvery):\n",
    "    LIST=list()\n",
    "    states=list()\n",
    "    global area\n",
    "    area=list()\n",
    "    yDim=xDim\n",
    "    view=list()\n",
    "    global Regrow #probably a better way to do this, but it just allows this to be reset from outside of the function\n",
    "    if regrow==True:\n",
    "        Regrow=True\n",
    "    else:\n",
    "        Regrow=False\n",
    "\n",
    "    for x in range(xDim): # create the forest area\n",
    "        area.append(list())\n",
    "        view.append(list())\n",
    "        for y in range(yDim):\n",
    "            area[x].append(None)\n",
    "            view[x].append(0)\n",
    "        \n",
    "    for i in range(xDim):# populate the forest with cells \n",
    "        LIST.append(list())\n",
    "        for j in range(yDim):\n",
    "            LIST[i].append(Agent(area,density)) # add a cell to every slot in the forest\n",
    "        \n",
    "    for i in range(xDim): # document the state of each cell \n",
    "        for j in range(yDim):\n",
    "            states.append(LIST[i][j])\n",
    "    ####End of setup \n",
    "    \n",
    "    ## these lists capture data for plotting \n",
    "    trees=list()\n",
    "    fires=list()\n",
    "    empty=list()\n",
    "    charred=list()\n",
    "    # each iteration of the model has its own data space\n",
    "    for iteration in range(iterations):\n",
    "        trees.append([])\n",
    "        fires.append([])\n",
    "        empty.append([])\n",
    "        charred.append([])\n",
    "    # documenting the state of each cell for an image\n",
    "    for i in range(xDim*yDim):\n",
    "        view[states[i].x][states[i].y]=states[i].state\n",
    "        \n",
    "#The below commented plot shows the spread of the fire on an image. If doing multiple runs of the mode, it is best to leave commented\n",
    "        \n",
    "    #imshow(view, interpolation=\"nearest\", vmin=0, vmax=3)\n",
    "    #cbar = plt.colorbar()\n",
    "    #cbar.ax.set_yticklabels(['Open','','', 'Tree','','','Fire','','' ,'Charred'])\n",
    "    #cbar.set_label('state of cell', rotation=270)\n",
    "    #figure()\n",
    "    \n",
    "    \n",
    "# applying lightning strikes to a location. Location was assigned randomly so 'i' works \n",
    "# the lightning strikes happen at the start of the simulation\n",
    "    for s in range(strikes):\n",
    "        states[i].lightning(states[i].state)\n",
    "        \n",
    "# after the lightning strike, the fire begins to spread\n",
    "    for run in range(iterations):\n",
    "        tTree=list() # create temporary data holders\n",
    "        tFire=list()\n",
    "        tEmpty=list()\n",
    "        tCharred=list()\n",
    "        for i in range(xDim*yDim): # Spread the fire based on nieghbor's state\n",
    "            states[i].Update(states[i].state,states[i].counter,density)\n",
    "        for i in range(xDim*yDim):\n",
    "            view[states[i].x][states[i].y]=states[i].state\n",
    "            if states[i].state==1:\n",
    "                tTree.append(1)\n",
    "            else:\n",
    "                if states[i].state==2: #or states[i].state==3:\n",
    "                    tFire.append(1)\n",
    "                else:\n",
    "                    if states[i].state==3:\n",
    "                        tCharred.append(1)\n",
    "                    else:\n",
    "                        if states[i].state==0 or states[i].state==.5:\n",
    "                            tEmpty.append(1)\n",
    "    #this is a relic function to stop the model when the fire went out, uncessary now.    \n",
    "        #if len(tFire)<2:\n",
    "            #print \"Fire extinquished at {0}\".format(run)\n",
    "            #raise Exception('fire went out')\n",
    "            #return\n",
    "            #return \n",
    "# calculate the percent density of the forest after each update\n",
    "        trees[run]=(float(sum(tTree))/(xDim*yDim)*100)\n",
    "        fires[run]=(float(sum(tFire))/(xDim*yDim)*100)\n",
    "        charred[run]=(float(sum(tCharred))/(xDim*yDim)*100)\n",
    "        empty[run]=(float(sum(tEmpty))/(xDim*yDim)*100)\n",
    "            #if sum(fires[run])<1:\n",
    "            #print \"Fire extinguished in {0} runs\".format(run)\n",
    "            #exit()\n",
    "# if the user wants to see the simulation, true will show (slow)\n",
    "        if images==True:\n",
    "            imshow(view, interpolation=\"nearest\", vmin=0, vmax=3)\n",
    "            cbar = plt.colorbar()\n",
    "            cbar.ax.set_yticklabels(['Open','','', 'Tree','','','Fire','','' ,'Charred'])\n",
    "            cbar.set_label('state of cell', rotation=270)\n",
    "            figure()\n",
    "    #figure()\n",
    "    # plot of results, if true, you will see a plot after every model run. \n",
    "    if graphEvery==True:\n",
    "        plt.plot(fires, 'r', trees, 'g', charred, 'b', empty ,'y')\n",
    "        xlabel(\"Time\")\n",
    "        ylabel(\"Percent of Forest\")\n",
    "        red_patch = mpatches.Patch(color='red', label='Burning')\n",
    "        green_patch = mpatches.Patch(color='green', label='Trees')\n",
    "        yellow_patch = mpatches.Patch(color='yellow', label='Open')\n",
    "        plt.legend(bbox_to_anchor=(1.05, 1), loc=2, borderaxespad=0.)\n",
    "        plt.legend(handles=[red_patch, yellow_patch, green_patch])\n",
    "        plt.title('Graph 1: Changes in Forest')\n",
    "        figure()\n",
    "    global FIRES\n",
    "    FIRES=fires\n",
    "    \n",
    "    \n",
    "    \n"
   ]
  },
  {
   "cell_type": "markdown",
   "metadata": {},
   "source": [
    "# Results\n",
    "Below you will see the results of a model run with a 55% starting density and 8 lightning strikes. With regrowth on, 55% becomes an interesting density to run the model. As you see below, the model can have a burning fire that quickly overtakes the forest and then the forest grows back. Or, as the next run shows, the model can get into an oscillation pattern where fires and forests oscilate around 30-35% percent.  \n",
    " "
   ]
  },
  {
   "cell_type": "code",
   "execution_count": 389,
   "metadata": {
    "collapsed": false
   },
   "outputs": [
    {
     "data": {
      "image/png": "[encoded data removed]",
      "text/plain": [
       "<matplotlib.figure.Figure at 0x10dc916d0>"
      ]
     },
     "metadata": {},
     "output_type": "display_data"
    },
    {
     "data": {
      "text/plain": [
       "<matplotlib.figure.Figure at 0x10c471f10>"
      ]
     },
     "metadata": {},
     "output_type": "display_data"
    }
   ],
   "source": [
    "runModel(40,8,100,0.33,False,True,True)#runs,strikes,dimension,density# add images T/F add Growth T/F, Graphs/t/f\n"
   ]
  },
  {
   "cell_type": "markdown",
   "metadata": {
    "collapsed": false
   },
   "source": [
    "CAUTION: Don't run the next cell. It takes over an hour, but was an important part of the analysis. \n",
    "The following cell runs the model 50 times with 50 iterations each for the 16 different varying conditions simultaneaously. It then plots the averages for each 50 iterations for the % of forest burned. \n",
    "The follow graph shows the impact of the initial conditions on a heat map. "
   ]
  },
  {
   "cell_type": "code",
   "execution_count": 414,
   "metadata": {
    "collapsed": false
   },
   "outputs": [
    {
     "name": "stdout",
     "output_type": "stream",
     "text": [
      "0 0\n",
      "0 1\n",
      "0 2\n",
      "0 3\n",
      "0 4\n",
      "0 5\n",
      "0 6\n",
      "0 7\n",
      "0 8\n",
      "1 0\n",
      "1 1\n",
      "1 2\n",
      "1 3\n",
      "1 4\n",
      "1 5\n",
      "1 6\n",
      "1 7\n",
      "1 8\n",
      "2 0\n",
      "2 1\n",
      "2 2\n",
      "2 3\n",
      "2 4\n",
      "2 5\n",
      "2 6\n",
      "2 7\n",
      "2 8\n",
      "3 0\n",
      "3 1\n",
      "3 2\n",
      "3 3\n",
      "3 4\n",
      "3 5\n",
      "3 6\n",
      "3 7\n",
      "3 8\n",
      "4 0\n",
      "4 1\n",
      "4 2\n",
      "4 3\n",
      "4 4\n",
      "4 5\n",
      "4 6\n",
      "4 7\n",
      "4 8\n",
      "5 0\n",
      "5 1\n",
      "5 2\n",
      "5 3\n",
      "5 4\n",
      "5 5\n",
      "5 6\n",
      "5 7\n",
      "5 8\n",
      "6 0\n",
      "6 1\n",
      "6 2\n",
      "6 3\n",
      "6 4\n",
      "6 5\n",
      "6 6\n",
      "6 7\n",
      "6 8\n",
      "[[0.037400000000000003, 0.034500000000000003, 0.035333333333333335, 0.033050000000000003, 0.033080000000000005, 0.034099999999999998, 0.034028571428571429, 0.034075000000000001, 0.034444444444444451], [0.14499999999999999, 0.11580000000000001, 0.12606666666666666, 0.12040000000000001, 0.11976000000000001, 0.12756666666666666, 0.12308571428571428, 0.11927500000000002, 0.11573333333333333], [1.1481999999999999, 1.079, 1.1163999999999998, 1.0757999999999999, 1.0824800000000001, 1.0618333333333334, 1.0625142857142857, 1.0446249999999999, 1.0352444444444444], [28.904200000000007, 25.785599999999999, 25.991333333333333, 26.439649999999997, 26.571639999999999, 26.518366666666669, 26.432199999999995, 26.751774999999999, 26.624444444444446], [54.961999999999996, 57.3461, 57.709866666666663, 58.094599999999993, 57.991680000000002, 57.82906666666667, 58.295314285714291, 58.500749999999996, 58.56464444444444], [71.318600000000004, 72.489699999999999, 72.569666666666677, 72.950850000000003, 73.160880000000006, 73.26003333333334, 72.929257142857153, 72.847975000000005, 72.93084444444446], [84.820599999999999, 84.870399999999989, 84.863733333333315, 84.866500000000002, 84.85011999999999, 84.566866666666655, 84.616, 84.635400000000004, 84.661422222222214]]\n"
     ]
    }
   ],
   "source": [
    "## DO NOT RUN UNLESS YOU HATE 1+ hours to wait! ! ! ! \n",
    "### MORE ANALYSIS BELOW \n",
    "# vary density and Strikes together for heat map \n",
    "#for density 25-85%\n",
    "# for strikes \n",
    "D=[.25,.35,.45,.55,.65,.75,.85]\n",
    "S=[1,2,3,4,5,6,7,8,9]\n",
    "data=list()\n",
    "\n",
    "for density in range(len(D)):\n",
    "    data.append([])\n",
    "    countfires=list()\n",
    "    averages=list()\n",
    "    for strike in range(len(S)):\n",
    "        data[density].append(None)\n",
    "        for i in range(50):\n",
    "            runModel(50,S[strike],100,D[density],False,False,False)\n",
    "            countfires.append([])\n",
    "            countfires[i]=(FIRES)\n",
    "            averages.append(sum(countfires[i]))\n",
    "    \n",
    "        data[density][strike]=numpy.mean(averages)\n",
    "        print density,strike # to make sure the loop worked. Would remove, but I don't want to run it again.\n",
    "print data  "
   ]
  },
  {
   "cell_type": "code",
   "execution_count": 416,
   "metadata": {
    "collapsed": false
   },
   "outputs": [
    {
     "data": {
      "text/plain": [
       "<matplotlib.image.AxesImage at 0x10d0c27d0>"
      ]
     },
     "execution_count": 416,
     "metadata": {},
     "output_type": "execute_result"
    },
    {
     "data": {
      "image/png": "[encoded data removed]",
      "text/plain": [
       "<matplotlib.figure.Figure at 0x10e6c4950>"
      ]
     },
     "metadata": {},
     "output_type": "display_data"
    }
   ],
   "source": [
    "plt.imshow(data)"
   ]
  },
  {
   "cell_type": "code",
   "execution_count": 417,
   "metadata": {
    "collapsed": false
   },
   "outputs": [
    {
     "name": "stdout",
     "output_type": "stream",
     "text": [
      "0 0\n",
      "0 1\n",
      "0 2\n",
      "0 3\n",
      "0 4\n",
      "0 5\n",
      "0 6\n",
      "1 0\n",
      "1 1\n",
      "1 2\n",
      "1 3\n",
      "1 4\n",
      "1 5\n",
      "1 6\n",
      "2 0\n",
      "2 1\n",
      "2 2\n",
      "2 3\n",
      "2 4\n",
      "2 5\n",
      "2 6\n",
      "3 0\n",
      "3 1\n",
      "3 2\n",
      "3 3\n",
      "3 4\n",
      "3 5\n",
      "3 6\n",
      "4 0\n",
      "4 1\n",
      "4 2\n",
      "4 3\n",
      "4 4\n",
      "4 5\n",
      "4 6\n",
      "5 0\n",
      "5 1\n",
      "5 2\n",
      "5 3\n",
      "5 4\n",
      "5 5\n",
      "5 6\n",
      "6 0\n",
      "6 1\n",
      "6 2\n",
      "6 3\n",
      "6 4\n",
      "6 5\n",
      "6 6\n"
     ]
    },
    {
     "data": {
      "text/plain": [
       "<matplotlib.image.AxesImage at 0x10e23fc10>"
      ]
     },
     "execution_count": 417,
     "metadata": {},
     "output_type": "execute_result"
    },
    {
     "data": {
      "image/png": "[encoded data removed]",
      "text/plain": [
       "<matplotlib.figure.Figure at 0x1109fe610>"
      ]
     },
     "metadata": {},
     "output_type": "display_data"
    }
   ],
   "source": [
    "# vary density and Strikes together for heat map \n",
    "#for density 20-80%\n",
    "# with growth on \n",
    "D=[.25,.35,.45,.55,.65,.75,.85]\n",
    "S=[1,2,3,4,5,6,7]\n",
    "data=list()\n",
    "\n",
    "for density in range(len(D)):\n",
    "    data.append([])\n",
    "    countfires=list()\n",
    "    averages=list()\n",
    "    for strike in range(len(S)):\n",
    "        data[density].append(None)\n",
    "        for i in range(50):\n",
    "            runModel(50,S[strike],100,D[density],False,True,False)\n",
    "            countfires.append([])\n",
    "            countfires[i]=(FIRES)\n",
    "            averages.append(sum(countfires[i]))\n",
    "    \n",
    "        data[density][strike]=numpy.mean(averages)\n",
    "        print density,strike\n",
    "imshow(data)"
   ]
  },
  {
   "cell_type": "markdown",
   "metadata": {},
   "source": [
    "The following heat maps demonstrates what happens when running the model while varying the starting density of the forest and the amount of strikes. \n",
    "\n",
    "The Y axis is increasing the density of the forest. \n",
    "The X axis is increasing the amount of strikes \n",
    "\n",
    "The first graph demonstrates what happens with when the forest cannot regrow. The graph shows that increasing the amount of strikes is not too important to the amount of forest that is burned, but increasing the density of the forest is vital. \n",
    "\n",
    "The second growth is allowed. \n",
    "This graph is more interesting in that, mid- level densities have more fires, which if you run the model with the images on you see that this allows for a slower fire, and smaller fires that burn while trees are growing. Highly dense forests burn straight through with the forest growing behind the fire’s leading edge. \n"
   ]
  },
  {
   "cell_type": "code",
   "execution_count": 436,
   "metadata": {
    "collapsed": false
   },
   "outputs": [
    {
     "data": {
      "text/plain": [
       "<matplotlib.figure.Figure at 0x10c67b350>"
      ]
     },
     "execution_count": 436,
     "metadata": {},
     "output_type": "execute_result"
    },
    {
     "data": {
      "image/png": "[encoded data removed]",
      "text/plain": [
       "<matplotlib.figure.Figure at 0x10f541050>"
      ]
     },
     "metadata": {},
     "output_type": "display_data"
    },
    {
     "data": {
      "text/plain": [
       "<matplotlib.figure.Figure at 0x10c67b350>"
      ]
     },
     "metadata": {},
     "output_type": "display_data"
    }
   ],
   "source": [
    "## fire heat map with regrowth \n",
    "## NEED AXIS TITLES AND scale? ? \n",
    "imshow(data, interpolation=\"nearest\")\n",
    "plt.title(\"Fire Heat Map with Regrowth\")\n",
    "\n",
    "cbar = plt.colorbar()\n",
    "cbar.ax.set_yticklabels(['<10%','','', '30%','','','70%','','' ,''])\n",
    "cbar.set_label('Average Forest Burned', rotation=270)\n",
    "figure()"
   ]
  },
  {
   "cell_type": "markdown",
   "metadata": {},
   "source": [
    "# Conclusions: \n",
    "\n",
    "Varying the intital amount of lightning strikes does not determine the outcome of the forest fire, however the density of the forest at starting is infact very important as one would assume. \n",
    "\n",
    "For future work the model could use a more stochastic time aspect of lightening strikes, allowing them to happen at any point in the model simulaiton. I would also like build functionality to have the growth rate for each cell to depend on some intial endowment and how long it has been since the last time it burned. This could possibily yeild interesting results on the resilence of a forest system that depends on fire for rebirth. \n",
    "\n",
    "\n"
   ]
  },
  {
   "cell_type": "code",
   "execution_count": null,
   "metadata": {
    "collapsed": true
   },
   "outputs": [],
   "source": []
  },
  {
   "cell_type": "code",
   "execution_count": null,
   "metadata": {
    "collapsed": true
   },
   "outputs": [],
   "source": []
  },
  {
   "cell_type": "code",
   "execution_count": null,
   "metadata": {
    "collapsed": false
   },
   "outputs": [],
   "source": []
  },
  {
   "cell_type": "code",
   "execution_count": null,
   "metadata": {
    "collapsed": false
   },
   "outputs": [],
   "source": []
  },
  {
   "cell_type": "code",
   "execution_count": null,
   "metadata": {
    "collapsed": false
   },
   "outputs": [],
   "source": []
  },
  {
   "cell_type": "code",
   "execution_count": null,
   "metadata": {
    "collapsed": true
   },
   "outputs": [],
   "source": []
  },
  {
   "cell_type": "code",
   "execution_count": null,
   "metadata": {
    "collapsed": false
   },
   "outputs": [],
   "source": []
  },
  {
   "cell_type": "code",
   "execution_count": null,
   "metadata": {
    "collapsed": true
   },
   "outputs": [],
   "source": []
  },
  {
   "cell_type": "code",
   "execution_count": null,
   "metadata": {
    "collapsed": false
   },
   "outputs": [],
   "source": []
  },
  {
   "cell_type": "code",
   "execution_count": null,
   "metadata": {
    "collapsed": true
   },
   "outputs": [],
   "source": []
  },
  {
   "cell_type": "code",
   "execution_count": null,
   "metadata": {
    "collapsed": true
   },
   "outputs": [],
   "source": []
  },
  {
   "cell_type": "code",
   "execution_count": null,
   "metadata": {
    "collapsed": false
   },
   "outputs": [],
   "source": []
  },
  {
   "cell_type": "code",
   "execution_count": null,
   "metadata": {
    "collapsed": true
   },
   "outputs": [],
   "source": []
  },
  {
   "cell_type": "code",
   "execution_count": null,
   "metadata": {
    "collapsed": true
   },
   "outputs": [],
   "source": []
  },
  {
   "cell_type": "code",
   "execution_count": null,
   "metadata": {
    "collapsed": true
   },
   "outputs": [],
   "source": []
  }
 ],
 "metadata": {
  "kernelspec": {
   "display_name": "Python 2",
   "language": "python",
   "name": "python2"
  },
  "language_info": {
   "codemirror_mode": {
    "name": "ipython",
    "version": 2
   },
   "file_extension": ".py",
   "mimetype": "text/x-python",
   "name": "python",
   "nbconvert_exporter": "python",
   "pygments_lexer": "ipython2",
   "version": "2.7.10"
  }
 },
 "nbformat": 4,
 "nbformat_minor": 0
}
