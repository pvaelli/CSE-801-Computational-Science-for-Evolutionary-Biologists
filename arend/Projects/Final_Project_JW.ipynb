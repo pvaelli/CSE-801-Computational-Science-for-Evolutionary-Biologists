{
 "cells": [
  {
   "cell_type": "markdown",
   "metadata": {},
   "source": [
    "## Final indepenedent project CSE801\n",
    "## Title: Population genetics simulation for the haploid fungal species using microsatellite markers \n",
    "\n",
    "## Introduction\n",
    "\n",
    "Jie Wang\n",
    "\n",
    "_Fusarium virguliforme_ is a fungal pathogen causing severe diseases on soybean, which is responsible for almost 300 million dollar yield loss every year. Despite the devastating consequences caused by this disease, epidemiology of this disease is merely studied. From 2012 to 2014, I have colledted almost 550 isolates of this pathogen from multiple locations of most soybean producing areas in the United States in order to study the epidemiology of this pathogen using population genetic techniques. Currently, all the isolates were genotypes using microsatellite (also known as __simple sequence repeat (SSR)__) genetic markers. The genetic diversity and structure were estimated for each of the sampling population. Due to the asexual reproduction nature of this fungal pathogen, many population genetics analytic tools are not applicable for my data analysis because of assumption violations. Therefore, I would like to develop a simulation tool to predict the founding age of the newly established population.\n",
    "\n",
    "Microsatellites are the DNA based molecular markers that vary in length of its composed motif size ranged from 2-6 bp in length. The polymorphism of the marker is based on the repeat number of each microsatellite locus. I would run a simulation to test how many generations does it by starting from one genotype to achieve the level of current genetic diversity assuming no additional immigration."
   ]
  },
  {
   "cell_type": "markdown",
   "metadata": {
    "collapsed": true
   },
   "source": [
    "### Comments from AH\n",
    ">AH: Makes total sense, try to isolate single parameters that influence the diveristy like: total population size, mutation rate, death rate ... pick one of these parameters to perform a sweep. "
   ]
  },
  {
   "cell_type": "markdown",
   "metadata": {},
   "source": [
    "##  Expected functions to be relized:\n",
    "* simulate sweep by year\n",
    "* introduce mutation using stepwise mutation model (SMM)\n",
    "\n",
    "### A few common parameters:\n",
    "\n",
    "* Mutation rate: 10e-4 per generation\n",
    "* Allele list example: [1,2,3,4]\n",
    "* Mutation is randomly happened on one locus by changing the locus length of 1\n",
    "* mutated allele list example: [2,2,3,4]\n",
    "\n",
    "Total population contains hundreds"
   ]
  },
  {
   "cell_type": "code",
   "execution_count": 1,
   "metadata": {
    "collapsed": false
   },
   "outputs": [
    {
     "name": "stdout",
     "output_type": "stream",
     "text": [
      "Populating the interactive namespace from numpy and matplotlib\n"
     ]
    }
   ],
   "source": [
    "# import modules used in this project\n",
    "%pylab inline\n",
    "import random\n",
    "import collections \n",
    "import math\n",
    "import numpy as np       # imported for array manipulation\n",
    "import time              # estimate runtime\n",
    "import copy\n",
    "from pandas import *     # Figures and data manipulation"
   ]
  },
  {
   "cell_type": "markdown",
   "metadata": {},
   "source": [
    "### Initial Parameters"
   ]
  },
  {
   "cell_type": "code",
   "execution_count": 2,
   "metadata": {
    "collapsed": false
   },
   "outputs": [],
   "source": [
    "# predefined variable numbers\n",
    "numOfLoci    =   4          # number of loci\n",
    "deathRate    =   0.8        # spore overwintering death rate\n",
    "mutationRate =   0.0005     # between 10e-3 and 10e-4\n",
    "alleleRange  =   (10, 40)   # allowed allele size range for microsatellite\n",
    "popSizeLimit =   10 ** 5    # population size limit for one location\n",
    "sweepRatio   =   0.88       # default death ratio for a sweep"
   ]
  },
  {
   "cell_type": "markdown",
   "metadata": {},
   "source": [
    "### Isolate Class\n",
    "Describe a isolate  \n",
    "Desired functions():  \n",
    "1. reproduce w/ mutation  \n",
    "2. reproduce w/o mutation  \n",
    "    "
   ]
  },
  {
   "cell_type": "code",
   "execution_count": 3,
   "metadata": {
    "collapsed": false,
    "scrolled": true
   },
   "outputs": [],
   "source": [
    "# create class for describe a fungal isolate\n",
    "class Isolate():\n",
    "    def __init__(self, randomAllele = True, alleles = []):\n",
    "        self.numLoci = numOfLoci\n",
    "        self.isolateID = \"\"\n",
    "        self.geoLocation = \"\"\n",
    "        if randomAllele:\n",
    "            self.alleleList = random.sample(range(alleleRange[0],alleleRange[1]), numOfLoci)\n",
    "        else:\n",
    "            self.alleleList = alleles        \n",
    "        self.genotype = \"MLG: \" + \".\".join(map(str,self.alleleList))\n",
    "        \n",
    "    def reproduceWithoutMutation(self):\n",
    "        if self.alleleList != []:\n",
    "            return self\n",
    "        else:\n",
    "            print \"Error Msg: No allele list assigned to this isolate\"\n",
    "    \n",
    "    def reproduceWithMutation(self):\n",
    "        if self.alleleList != []:\n",
    "            alleleLength = len(self.alleleList)\n",
    "            mutationLocus = random.randint(0, alleleLength-1) # randomly select one locus\n",
    "            while self.alleleList[mutationLocus] < 5 : # allele size has to be more than 5\n",
    "                mutationLocus = random.randint(0, alleleLength-1) \n",
    "            if random.uniform(0,1) < 0.50: # equal chance to increase or decrease length by 1\n",
    "                self.alleleList[mutationLocus] += 1\n",
    "            else:\n",
    "                self.alleleList[mutationLocus] -= 1\n",
    "            return self\n",
    "        else:\n",
    "            print \"Error Msg: No aselfllele list assigned to this isolate\"\n",
    "    \n",
    "#     def __str__(self):\n",
    "#         return self.genotype"
   ]
  },
  {
   "cell_type": "markdown",
   "metadata": {},
   "source": [
    "### Population class\n",
    "Describe a population\n",
    "Desired functions():  \n",
    "1. sweep\n",
    "2. start a population with certain number of individuals\n",
    "3. reproduce a given number of generation\n",
    "4, calculate allele frequency and can plot allele frequency if needed\n",
    "5, "
   ]
  },
  {
   "cell_type": "code",
   "execution_count": 4,
   "metadata": {
    "collapsed": false
   },
   "outputs": [],
   "source": [
    "class Population():\n",
    "    def __init__(self):\n",
    "        self.isolateList = list()\n",
    "        # create a list with 4 empty lists\n",
    "        self.lociList = [[] for _ in range(numOfLoci)]\n",
    "        # create genotype list\n",
    "        self.genotypeList = []\n",
    "        # find unique genotypes\n",
    "        self.uniqueMLG = []\n",
    "\n",
    "    def addIsolate(self, isolate):\n",
    "        self.isolateList.append(isolate)\n",
    "        self.genotypeList.append(isolate.genotype)\n",
    "        \n",
    "    def getAlleleFreq(self):\n",
    "        for i in range(0, numOfLoci):\n",
    "            for ind in self.isolateList:\n",
    "                self.lociList[i].append(ind.alleleList[i])\n",
    "        lociSum = []\n",
    "        sizesSum = []\n",
    "        for i in range(0, len(self.lociList)):\n",
    "            # alleleFreq = collections.Counter(X[i])\n",
    "            locus, sizes = zip(*collections.Counter(self.lociList[i]).items())\n",
    "            lociSum.append(locus)\n",
    "            sizesSum.append(sizes)\n",
    "        return(lociSum, sizesSum) \n",
    "    \n",
    "    def graphAlleleFreq(self, locus = 0, pltTitle = \"Allele Frequency\"):\n",
    "        alleleFreq = self.getAlleleFreq() \n",
    "        labels = alleleFreq[0][locus]\n",
    "        values = alleleFreq[1][locus]\n",
    "        indexes = np.arange(len(labels))\n",
    "        width = 0.5\n",
    "        plt.bar(indexes, values, width)\n",
    "        plt.xticks(indexes + width * 0.7, labels)\n",
    "        plt.xlabel(\"Allele Sizes (Locus{})\".format(locus))\n",
    "        plt.ylabel(\"Frequency\")\n",
    "        plt.title(pltTitle)\n",
    "        plt.show()\n",
    "                    \n",
    "    def sweepPop(self, deathRate = sweepRatio, verbose = False):\n",
    "        # functionm to simulate sweep\n",
    "        # randomly kill 80-90% of its individuals\n",
    "        if verbose:\n",
    "            print \"Reach population size limit, {0} individuals ({1}%) were removed\\\n",
    "            \".format(int(len(self.isolateList)*deathRate),round(deathRate*100,2))\n",
    "        # randomly \n",
    "        for i in range(0,int(len(self.isolateList)*deathRate)):\n",
    "            self.isolateList.pop(random.randrange(len(self.isolateList)))\n",
    "        self.updateGenotypeList()\n",
    "    \n",
    "    def reproduceNumGens(self, numGen):\n",
    "        for gen in range(0, numGen):\n",
    "            if len(self.isolateList) > popSizeLimit:\n",
    "                # print \"reach population size limit\"\n",
    "                rate = random.uniform(0.75,0.85)\n",
    "                self.sweepPop(deathRate = rate,verbose = True)\n",
    "            for ind in range(0, len(self.isolateList)):\n",
    "                if random.uniform(0,1.0) < mutationRate:\n",
    "                    # print \"there is a mutation.\"\n",
    "                    tempind = self.isolateList[ind].reproduceWithMutation()\n",
    "                    self.addIsolate(tempind)\n",
    "                else:\n",
    "                    tempind = self.isolateList[ind].reproduceWithoutMutation()\n",
    "                    self.addIsolate(tempind)\n",
    "        # print \"update GenotypeList\"\n",
    "        self.updateGenotypeList()\n",
    "        \n",
    "    def updateGenotypeList(self):\n",
    "        self.genotypeList = [\"MLG: \" + \".\".join(map(str,isolateX.alleleList)) for isolateX in self.isolateList]\n",
    "        self.uniqueMLG = list(sorted(set(self.genotypeList)))\n",
    "        \n",
    "    def diversityIndex(self):\n",
    "        self.updateGenotypeList()\n",
    "        freqL2 = []\n",
    "        ShannonH = float()\n",
    "        sumGenotypes = len(self.genotypeList)\n",
    "        MLG, genoFreq = zip(*collections.Counter(self.genotypeList).items())\n",
    "        for freq in genoFreq:\n",
    "            freqL2.append((float(freq)/float(sumGenotypes))**2)\n",
    "            hI = float(freq)*log(float(freq))\n",
    "            ShannonH += hI\n",
    "        diversitySimpson = float(sum(freqL2))\n",
    "        diversityST = 1/diversitySimpson\n",
    "        diversityShannon = -ShannonH \n",
    "        return(diversityST, diversitySimpson, diversityShannon)\n",
    "    \n",
    "    def __str__(self):\n",
    "        ST, simpson, shannon = self.diversityIndex()\n",
    "        return \"There are {0} isolates in current population\\n\\\n",
    "Genotypic diversity(MLG): {1}\\n\\\n",
    "Genotypic diversity(Stoddart Taylor): {2}\\n\\\n",
    "Genotypic diversity(Simpson): {3}\\n\\\n",
    "Genotypic diversity(Shannon-Wiener): {4}\\n\\\n",
    "\".format(len(self.isolateList), len(self.uniqueMLG), ST, simpson,shannon)\n"
   ]
  },
  {
   "cell_type": "markdown",
   "metadata": {},
   "source": [
    "### Simulations"
   ]
  },
  {
   "cell_type": "code",
   "execution_count": 5,
   "metadata": {
    "collapsed": false,
    "scrolled": false
   },
   "outputs": [
    {
     "name": "stdout",
     "output_type": "stream",
     "text": [
      "There are 2000 isolates in current population\n",
      "Genotypic diversity(MLG): 1991\n",
      "Genotypic diversity(Stoddart Taylor): 1982.16055501\n",
      "Genotypic diversity(Simpson): 0.0005045\n",
      "Genotypic diversity(Shannon-Wiener): -12.4766492501\n",
      "\n",
      "Reach population size limit, 102488 individuals (80.07%) were removed            \n",
      "Reach population size limit, 79965 individuals (78.36%) were removed            \n",
      "1 year passed\n",
      "Reach population size limit, 149578 individuals (84.67%) were removed            \n",
      "Reach population size limit, 90530 individuals (83.56%) were removed            \n",
      "Reach population size limit, 120953 individuals (84.87%) were removed            \n",
      "Reach population size limit, 131229 individuals (76.09%) were removed            \n",
      "Reach population size limit, 136686 individuals (82.85%) were removed            \n",
      "2 years passed, 18 more years left        \n",
      "Reach population size limit, 85171 individuals (75.28%) were removed            \n",
      "Reach population size limit, 89554 individuals (80.04%) were removed            \n",
      "Reach population size limit, 144361 individuals (80.78%) were removed            \n",
      "Reach population size limit, 116489 individuals (84.8%) were removed            \n",
      "3 years passed, 17 more years left        \n",
      "Reach population size limit, 133774 individuals (80.07%) were removed            \n",
      "Reach population size limit, 112400 individuals (84.41%) were removed            \n",
      "Reach population size limit, 127598 individuals (76.83%) were removed            \n",
      "Reach population size limit, 118896 individuals (77.24%) were removed            \n",
      "4 years passed, 16 more years left        \n",
      "Reach population size limit, 112984 individuals (80.63%) were removed            \n",
      "Reach population size limit, 85579 individuals (78.82%) were removed            \n",
      "Reach population size limit, 143659 individuals (78.09%) were removed            \n",
      "Reach population size limit, 131890 individuals (81.78%) were removed            \n",
      "Reach population size limit, 93420 individuals (79.5%) were removed            \n",
      "5 years passed, 15 more years left        \n",
      "Reach population size limit, 154963 individuals (80.4%) were removed            \n",
      "Reach population size limit, 115633 individuals (76.53%) were removed            \n",
      "Reach population size limit, 111930 individuals (78.92%) were removed            \n",
      "Reach population size limit, 92319 individuals (77.17%) were removed            \n",
      "Reach population size limit, 84018 individuals (76.93%) were removed            \n",
      "6 years passed, 14 more years left        \n",
      "Reach population size limit, 84507 individuals (83.83%) were removed            \n",
      "Reach population size limit, 110377 individuals (84.64%) were removed            \n",
      "Reach population size limit, 134287 individuals (83.8%) were removed            \n",
      "7 years passed, 13 more years left        \n",
      "Reach population size limit, 83060 individuals (79.99%) were removed            \n",
      "Reach population size limit, 132239 individuals (79.53%) were removed            \n",
      "Reach population size limit, 103659 individuals (76.15%) were removed            \n",
      "Reach population size limit, 104215 individuals (80.23%) were removed            \n",
      "8 years passed, 12 more years left        \n",
      "Reach population size limit, 85434 individuals (83.18%) were removed            \n",
      "Reach population size limit, 114800 individuals (83.07%) were removed            \n",
      "Reach population size limit, 146532 individuals (78.3%) were removed            \n",
      "Reach population size limit, 133219 individuals (82.02%) were removed            \n",
      "9 years passed, 11 more years left        \n",
      "Reach population size limit, 94100 individuals (80.57%) were removed            \n",
      "Reach population size limit, 152781 individuals (84.18%) were removed            \n",
      "Reach population size limit, 97144 individuals (84.55%) were removed            \n",
      "Reach population size limit, 112166 individuals (79.0%) were removed            \n",
      "10 years passed, 10 more years left        \n",
      "Reach population size limit, 91486 individuals (76.7%) were removed            \n",
      "Reach population size limit, 87375 individuals (78.61%) were removed            \n",
      "Reach population size limit, 144027 individuals (75.74%) were removed            \n",
      "Reach population size limit, 156549 individuals (84.85%) were removed            \n",
      "11 years passed, 9 more years left        \n",
      "Reach population size limit, 90061 individuals (80.55%) were removed            \n",
      "Reach population size limit, 147523 individuals (84.81%) were removed            \n",
      "Reach population size limit, 80674 individuals (76.34%) were removed            \n",
      "12 years passed, 8 more years left        \n",
      "Reach population size limit, 82382 individuals (82.35%) were removed            \n",
      "Reach population size limit, 119652 individuals (84.7%) were removed            \n",
      "Reach population size limit, 143433 individuals (82.96%) were removed            \n",
      "Reach population size limit, 95684 individuals (81.19%) were removed            \n",
      "13 years passed, 7 more years left        \n",
      "Reach population size limit, 135516 individuals (76.41%) were removed            \n",
      "Reach population size limit, 125976 individuals (75.29%) were removed            \n",
      "Reach population size limit, 139079 individuals (84.12%) were removed            \n",
      "Reach population size limit, 87309 individuals (83.1%) were removed            \n",
      "14 years passed, 6 more years left        \n",
      "Reach population size limit, 107815 individuals (75.92%) were removed            \n",
      "Reach population size limit, 107416 individuals (78.54%) were removed            \n",
      "Reach population size limit, 89249 individuals (76.01%) were removed            \n",
      "Reach population size limit, 88020 individuals (78.1%) were removed            \n",
      "15 years passed, 5 more years left        \n",
      "Reach population size limit, 161873 individuals (81.99%) were removed            \n",
      "Reach population size limit, 108903 individuals (76.55%) were removed            \n",
      "Reach population size limit, 105367 individuals (78.95%) were removed            \n",
      "Reach population size limit, 84370 individuals (75.08%) were removed            \n",
      "Reach population size limit, 94673 individuals (84.52%) were removed            \n",
      "16 years passed, 4 more years left        \n",
      "Reach population size limit, 112445 individuals (81.08%) were removed            \n",
      "Reach population size limit, 83812 individuals (79.87%) were removed            \n",
      "Reach population size limit, 134789 individuals (79.75%) were removed            \n",
      "Reach population size limit, 113761 individuals (83.07%) were removed            \n",
      "Reach population size limit, 149099 individuals (80.41%) were removed            \n",
      "17 years passed, 3 more years left        \n",
      "Reach population size limit, 120909 individuals (83.2%) were removed            \n",
      "Reach population size limit, 148431 individuals (75.97%) were removed            \n",
      "Reach population size limit, 157399 individuals (83.81%) were removed            \n",
      "Reach population size limit, 91344 individuals (75.09%) were removed            \n",
      "18 years passed, 2 more years left        \n",
      "Reach population size limit, 102173 individuals (84.28%) were removed            \n",
      "Reach population size limit, 116720 individuals (76.55%) were removed            \n",
      "Reach population size limit, 121150 individuals (84.72%) were removed            \n",
      "Reach population size limit, 145794 individuals (83.38%) were removed            \n",
      "Reach population size limit, 89322 individuals (76.82%) were removed            \n",
      "19 years passed, 1 more years left        \n",
      "Reach population size limit, 81487 individuals (75.57%) were removed            \n",
      "Reach population size limit, 87326 individuals (82.87%) were removed            \n",
      "Reach population size limit, 114300 individuals (79.14%) were removed            \n",
      "20 years passed, 0 more years left        \n",
      "There are 120528 isolates in current population\n",
      "Genotypic diversity(MLG): 624\n",
      "Genotypic diversity(Stoddart Taylor): 329.615856341\n",
      "Genotypic diversity(Simpson): 0.00303383463132\n",
      "Genotypic diversity(Shannon-Wiener): -680060.61736\n",
      "\n",
      "--- Job is done! ---\n",
      "--- 152s seconds passed ---\n"
     ]
    }
   ],
   "source": [
    "start_time = time.time()\n",
    "# initilize parameter and store list\n",
    "initialPopSize = 2000\n",
    "simulationYear = 20\n",
    "numOfGenotypeL = []\n",
    "StoTaylorL = []\n",
    "SimpsonL =[]\n",
    "ShannonL = []\n",
    "\n",
    "# initial population with 2k isolates\n",
    "Pop = Population()\n",
    "for i in range(initialPopSize):\n",
    "    Pop.addIsolate(Isolate())\n",
    "initialPop = copy.deepcopy(Pop)\n",
    "div1, div2, div3 = Pop.diversityIndex()\n",
    "Pop.updateGenotypeList()\n",
    "numOfGenotypeL.append(len(Pop.uniqueMLG))\n",
    "StoTaylorL.append(div1)\n",
    "SimpsonL.append(div2)\n",
    "ShannonL.append(div3)\n",
    "print Pop\n",
    "\n",
    "for numYear in range(simulationYear): # do not simulate for too many years\n",
    "    # determine how many generation per year\n",
    "    numOfGen = random.randint(8,12)\n",
    "    Pop.reproduceNumGens(numOfGen)\n",
    "    Pop.updateGenotypeList()\n",
    "    d1, d2, d3 = Pop.diversityIndex()\n",
    "    numOfGenotypeL.append(len(Pop.uniqueMLG))\n",
    "    StoTaylorL.append(d1)\n",
    "    SimpsonL.append(d2)\n",
    "    ShannonL.append(d3)\n",
    "    if numYear < 1:\n",
    "        print \"{0} year passed\".format(numYear+1)\n",
    "    elif numYear >= 1:\n",
    "        print \"{0} years passed, {1} more years left\\\n",
    "        \".format(numYear+1, simulationYear-numYear-1)\n",
    "print Pop\n",
    "print \"--- Job is done! ---\"\n",
    "print \"--- {0}s seconds passed ---\".format(int(time.time() - start_time))"
   ]
  },
  {
   "cell_type": "markdown",
   "metadata": {},
   "source": [
    "#### The 20 years' simulation will take about 200 seconds.\n",
    "\n",
    "### Plots for genotypic diversity over time"
   ]
  },
  {
   "cell_type": "code",
   "execution_count": 6,
   "metadata": {
    "collapsed": false
   },
   "outputs": [
    {
     "data": {
      "image/png": "[encoded data removed]",
      "text/plain": [
       "<matplotlib.figure.Figure at 0x7f96a8ca5150>"
      ]
     },
     "metadata": {},
     "output_type": "display_data"
    }
   ],
   "source": [
    "y1 = numOfGenotypeL\n",
    "y2 = StoTaylorL\n",
    "y3 = ShannonL\n",
    "\n",
    "x = range(0,numYear+2)\n",
    "\n",
    "plt.subplot(3, 1, 1)\n",
    "plt.plot(x, y1, 'yo-')\n",
    "plt.title('Genotypic diversity impacted by genetic drift')\n",
    "plt.ylabel('Num of MLGs')\n",
    "\n",
    "plt.subplot(3, 1, 2)\n",
    "plt.plot(x, y2, 'r.-')\n",
    "plt.ylabel('Stoddart Taylor Index')\n",
    "\n",
    "plt.subplot(3, 1, 3)\n",
    "plt.plot(x, y3, 'r.-')\n",
    "plt.xlabel('time (y)')\n",
    "plt.ylabel('Shannon-Wienner Index')\n",
    "\n",
    "plt.show()"
   ]
  },
  {
   "cell_type": "markdown",
   "metadata": {},
   "source": [
    "### change of the allele frequency at a given loci"
   ]
  },
  {
   "cell_type": "code",
   "execution_count": 7,
   "metadata": {
    "collapsed": false
   },
   "outputs": [
    {
     "data": {
      "image/png": "[encoded data removed]",
      "text/plain": [
       "<matplotlib.figure.Figure at 0x7f96a7fefc50>"
      ]
     },
     "metadata": {},
     "output_type": "display_data"
    },
    {
     "data": {
      "image/png": "[encoded data removed]",
      "text/plain": [
       "<matplotlib.figure.Figure at 0x7f96a9efc050>"
      ]
     },
     "metadata": {},
     "output_type": "display_data"
    }
   ],
   "source": [
    "initialPop.graphAlleleFreq(1, pltTitle = \"Initial population\")\n",
    "Pop.graphAlleleFreq(1, pltTitle = \"After {} years\".format(numYear+1))"
   ]
  },
  {
   "cell_type": "markdown",
   "metadata": {},
   "source": [
    "### Conclusions\n",
    "This simulation decribed a population with genetic drift and sponteneous mutation with assumptions of no other evolutionary forces. The genotypic diversity kept decreasing along with the time. However, this simulation contradict with the temporal sampling data genotypic diversity level observed in the field. Therefore, there should be other significant evolutionary forces that maintained a high genotypic diversity level."
   ]
  },
  {
   "cell_type": "markdown",
   "metadata": {},
   "source": [
    "# Please do not evaluate the following code.\n",
    "### Jie's Sandbox for testing codes"
   ]
  },
  {
   "cell_type": "code",
   "execution_count": 397,
   "metadata": {
    "collapsed": false
   },
   "outputs": [
    {
     "name": "stdout",
     "output_type": "stream",
     "text": [
      "MLG: 22.22.22.22\n"
     ]
    }
   ],
   "source": [
    "isolateTest = Isolate(randomAllele=False, alleles=[22,22,22,22])\n",
    "print isolateTest.genotype"
   ]
  },
  {
   "cell_type": "code",
   "execution_count": 448,
   "metadata": {
    "collapsed": false,
    "scrolled": false
   },
   "outputs": [
    {
     "name": "stdout",
     "output_type": "stream",
     "text": [
      "There are 2001 isolates in current population\n",
      "Genotypic diversity(MLG): 1998\n",
      "Genotypic diversity(Stoddart Taylor): 1995.01793722\n",
      "Genotypic diversity(Simpson): 0.000501248626062\n",
      "Genotypic diversity(Shannon-Wiener): -4.15888308336\n",
      "\n"
     ]
    },
    {
     "data": {
      "image/png": "[encoded data removed]",
      "text/plain": [
       "<matplotlib.figure.Figure at 0x7fae888354d0>"
      ]
     },
     "metadata": {},
     "output_type": "display_data"
    },
    {
     "name": "stdout",
     "output_type": "stream",
     "text": [
      "Reach population size limit 108619 individuals (84.82%) were removed            \n",
      "Reach population size limit 120852 individuals (77.69%) were removed            \n",
      "Reach population size limit 111229 individuals (80.12%) were removed            \n",
      "Reach population size limit 87426 individuals (79.18%) were removed            \n",
      "Reach population size limit 144135 individuals (78.38%) were removed            \n",
      "Reach population size limit 129931 individuals (81.71%) were removed            \n",
      "Reach population size limit 96608 individuals (83.05%) were removed            \n",
      "Reach population size limit 130045 individuals (82.45%) were removed            \n",
      "Reach population size limit 93833 individuals (84.74%) were removed            \n",
      "Reach population size limit 114905 individuals (84.99%) were removed            \n",
      "Reach population size limit 125194 individuals (77.14%) were removed            \n",
      "Reach population size limit 122888 individuals (82.8%) were removed            \n",
      "Reach population size limit 77307 individuals (75.73%) were removed            \n",
      "Reach population size limit 149023 individuals (75.19%) were removed            \n",
      "Reach population size limit 162002 individuals (82.38%) were removed            \n",
      "Reach population size limit 109795 individuals (79.24%) were removed            \n",
      "Reach population size limit 94292 individuals (81.93%) were removed            \n",
      "Reach population size limit 137419 individuals (82.58%) were removed            \n",
      "Reach population size limit 89887 individuals (77.54%) were removed            \n",
      "There are 52074 isolates in current population\n",
      "Genotypic diversity(MLG): 1558\n",
      "Genotypic diversity(Stoddart Taylor): 938.571316429\n",
      "Genotypic diversity(Simpson): 0.00106544913796\n",
      "Genotypic diversity(Shannon-Wiener): -198634.01856\n",
      "\n",
      "--- 36.1541690826 seconds ---\n"
     ]
    }
   ],
   "source": [
    "start_time = time.time()\n",
    "# Test code\n",
    "population1 =  Population()\n",
    "population1.addIsolate(Isolate())\n",
    "\n",
    "for i in range(2000):\n",
    "    population1.addIsolate(Isolate())\n",
    "population1.updateGenotypeList()\n",
    "print population1\n",
    "#print population1.genotypeList\n",
    "\n",
    "alleleFreq = population1.getAlleleFreq() \n",
    "\n",
    "for i in [1]:\n",
    "    labels = alleleFreq[0][i]\n",
    "    values = alleleFreq[1][i]\n",
    "\n",
    "    indexes = np.arange(len(labels))\n",
    "    width = 0.5\n",
    "    plt.bar(indexes, values, width)\n",
    "    plt.xticks(indexes + width * 0.7, labels)\n",
    "    plt.show()\n",
    "# print \"{}, and \\n{}, {}\".format(population1, population1.isolateList[1],  population1.isolateList[0])\n",
    "\n",
    "population1.reproduceNumGens(50)\n",
    "\n",
    "alleleFreq = population1.getAlleleFreq() \n",
    "\n",
    "print population1\n",
    "\n",
    "\n",
    "print(\"--- %s seconds ---\" % (time.time() - start_time))"
   ]
  },
  {
   "cell_type": "code",
   "execution_count": 22,
   "metadata": {
    "collapsed": false
   },
   "outputs": [
    {
     "name": "stdout",
     "output_type": "stream",
     "text": [
      "[0, 1, 2, 3, 4, 5, 6, 7, 8, 9]\n",
      "14\n",
      "[25, 31, 30, 20]\n"
     ]
    }
   ],
   "source": [
    "# count frequency from a list of integers\n",
    "x = collections.Counter([20,20,20])\n",
    "x.most_common(1)\n",
    "print range(0,10)\n",
    "\n",
    "L = [20,20,20,20]\n",
    "L1 = [10,20,30,20]\n",
    "L2 = [10,11,23,33]\n",
    "grandL = [L, L1, L2]\n",
    "# print random.sample(xrange(len(grandL)), int(len(grandL)*0.95))\n",
    "#         sweepList = random.sample(xrange(len(self.isolateList)), \n",
    "#                                   int(len(self.isolateList)*deathRate))\n",
    "for x in range(1):\n",
    "    print random.randrange(20)\n",
    "    \n",
    "print random.sample(range(10,40), 4)"
   ]
  },
  {
   "cell_type": "code",
   "execution_count": 20,
   "metadata": {
    "collapsed": false,
    "scrolled": true
   },
   "outputs": [
    {
     "name": "stdout",
     "output_type": "stream",
     "text": [
      "(415, 370, 600, 165, 366, 940, 947, 581, 1293, 921, 355, 371, 783, 545, 538, 743, 703, 539, 369, 376, 707, 525, 561, 387, 899, 185, 937, 549, 195)\n"
     ]
    }
   ],
   "source": [
    "print "
   ]
  },
  {
   "cell_type": "code",
   "execution_count": 115,
   "metadata": {
    "collapsed": false
   },
   "outputs": [
    {
     "name": "stdout",
     "output_type": "stream",
     "text": [
      "[[], [], [], []]\n",
      "[[20, 10, 10], [20, 20, 11], [20, 30, 23], [20, 20, 33]]\n",
      "3072\n",
      "(10, 20) (2, 1)\n",
      "(11, 20) (1, 2)\n",
      "(20, 30, 23) (1, 1, 1)\n",
      "(33, 20) (1, 2)\n",
      "[0 1] (1, 2)\n"
     ]
    },
    {
     "data": {
      "image/png": "[encoded data removed]",
      "text/plain": [
       "<matplotlib.figure.Figure at 0xb9e24e0>"
      ]
     },
     "metadata": {},
     "output_type": "display_data"
    }
   ],
   "source": [
    "# create a empty list with four sub empty lists\n",
    "# and put the number based on the number of \n",
    "L = [20,20,20,20]\n",
    "L1 = [10,20,30,20]\n",
    "L2 = [10,11,23,33]\n",
    "grandL = [L, L1, L2]\n",
    "X = [[] for _ in range(4)]\n",
    "print X\n",
    "\n",
    "for i in range(0,len(grandL)):\n",
    "    for j in range(0,len(grandL[1])):\n",
    "        X[j].append(grandL[i][j])\n",
    "print X\n",
    "for gen in range(0,10):\n",
    "    for ind in range(0,len(grandL)):\n",
    "        grandL.append(grandL[ind])\n",
    "print len(grandL)\n",
    "\n",
    "for i in range(0, len(X)):\n",
    "    # alleleFreq = collections.Counter(X[i])\n",
    "    labels, values = zip(*collections.Counter(X[i]).items())\n",
    "    print labels, values\n",
    "\n",
    "indexes = np.arange(len(labels))\n",
    "width = 1\n",
    "print indexes, values\n",
    "plt.bar(indexes, values, width)\n",
    "plt.xticks(indexes + width * 0.5, labels)\n",
    "plt.show()\n"
   ]
  },
  {
   "cell_type": "code",
   "execution_count": 444,
   "metadata": {
    "collapsed": false
   },
   "outputs": [
    {
     "name": "stdout",
     "output_type": "stream",
     "text": [
      "[0, 1, 2, 3, 4, 5]\n",
      "[1997, 1995, 1964, 1889, 1803, 1679]\n"
     ]
    }
   ],
   "source": [
    "print range(0,numYear+2)\n",
    "print numOfGenotypeL"
   ]
  },
  {
   "cell_type": "code",
   "execution_count": null,
   "metadata": {
    "collapsed": true
   },
   "outputs": [],
   "source": []
  }
 ],
 "metadata": {
  "kernelspec": {
   "display_name": "Python 2",
   "language": "python",
   "name": "python2"
  },
  "language_info": {
   "codemirror_mode": {
    "name": "ipython",
    "version": 2
   },
   "file_extension": ".py",
   "mimetype": "text/x-python",
   "name": "python",
   "nbconvert_exporter": "python",
   "pygments_lexer": "ipython2",
   "version": "2.7.6"
  }
 },
 "nbformat": 4,
 "nbformat_minor": 0
}
