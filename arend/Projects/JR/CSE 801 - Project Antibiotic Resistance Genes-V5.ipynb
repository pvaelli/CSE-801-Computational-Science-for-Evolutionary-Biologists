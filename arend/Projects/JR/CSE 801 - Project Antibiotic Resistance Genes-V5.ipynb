{
 "cells": [
  {
   "cell_type": "code",
   "execution_count": 266,
   "metadata": {
    "collapsed": false
   },
   "outputs": [
    {
     "name": "stdout",
     "output_type": "stream",
     "text": [
      "Populating the interactive namespace from numpy and matplotlib\n"
     ]
    },
    {
     "name": "stderr",
     "output_type": "stream",
     "text": [
      "WARNING: pylab import has clobbered these variables: ['random', 'datetime', 'load', 'save', 'unique', 'info']\n",
      "`%matplotlib` prevents importing * from pylab and numpy\n"
     ]
    }
   ],
   "source": [
    "%pylab inline"
   ]
  },
  {
   "cell_type": "code",
   "execution_count": 267,
   "metadata": {
    "collapsed": false
   },
   "outputs": [],
   "source": [
    "from pandas import *\n",
    "import random"
   ]
  },
  {
   "cell_type": "code",
   "execution_count": 268,
   "metadata": {
    "collapsed": false
   },
   "outputs": [
    {
     "name": "stdout",
     "output_type": "stream",
     "text": [
      "[0.65, 0.91, 0.91, 0.9, 0.85, 0.3, 0.85, 0.91, 0.91, 0.99, 0.78, 0.85, 0.6, 0.76, 0.95, 0.91, 0.99, 0.9, 0.91, 0.96]\n"
     ]
    }
   ],
   "source": [
    "#This block of code defines the varibales for the simulation. There are three different classes of bacteria and two behavior sets. \n",
    "#These are then appended to list_of_Values() which is handed to the classes during intialiization and define_variables functions. \n",
    "#These values should be changed from 0-1. 0.9 being a 10% chance of an action occuring. \n",
    "\n",
    "list_of_values=list()\n",
    "Suscestible_Replication_Rate = 0.65\n",
    "Suscestible_Mutation_Rate = 0.91\n",
    "Suscestible_Death_Rate = 0.91\n",
    "AntiB_Suscestible_Replication_Rate = 0.90\n",
    "AntiB_Suscestible_Mutation_Rate = 0.85\n",
    "AntiB_Suscestible_Death_Rate = 0.3\n",
    "list_of_values.append(Suscestible_Replication_Rate)\n",
    "list_of_values.append(Suscestible_Mutation_Rate)\n",
    "list_of_values.append(Suscestible_Death_Rate)\n",
    "list_of_values.append(AntiB_Suscestible_Replication_Rate)\n",
    "list_of_values.append(AntiB_Suscestible_Mutation_Rate)\n",
    "list_of_values.append(AntiB_Suscestible_Death_Rate)\n",
    "\n",
    " \n",
    "    \n",
    "Intermediate_Replication_Rate = 0.85\n",
    "Intermediate_Mutation_Rate = 0.91\n",
    "Intermediate_Death_Rate = 0.91\n",
    "Intermediate_Horizontal_Gene_Transfer_Rate = .99\n",
    "AntiB_Intermediate_Replication_Rate = 0.78\n",
    "AntiB_Intermediate_Mutation_Rate = 0.85\n",
    "AntiB_Intermediate_Death_Rate = 0.6\n",
    "AntiB_Intermediate_Horizontal_Gene_Transfer_Rate = .76\n",
    "list_of_values.append(Intermediate_Replication_Rate)\n",
    "list_of_values.append(Intermediate_Mutation_Rate)\n",
    "list_of_values.append(Intermediate_Death_Rate)\n",
    "list_of_values.append(Intermediate_Horizontal_Gene_Transfer_Rate)\n",
    "list_of_values.append(AntiB_Intermediate_Replication_Rate)\n",
    "list_of_values.append(AntiB_Intermediate_Mutation_Rate)\n",
    "list_of_values.append(AntiB_Intermediate_Death_Rate)\n",
    "list_of_values.append(AntiB_Intermediate_Horizontal_Gene_Transfer_Rate)\n",
    "  \n",
    "Resistant_Replication_Rate = 0.95\n",
    "Resistant_Death_Rate = 0.91\n",
    "Resistant_Horizontal_Gene_Transfer_Rate = .99\n",
    "AntiB_Resistant_Replication_Rate = 0.90\n",
    "AntiB_Resistant_Death_Rate = 0.91\n",
    "AntiB_Resistant_Horizontal_Gene_Transfer_Rate = .96\n",
    "list_of_values.append(Resistant_Replication_Rate)\n",
    "list_of_values.append(Resistant_Death_Rate)\n",
    "list_of_values.append(Resistant_Horizontal_Gene_Transfer_Rate)\n",
    "list_of_values.append(AntiB_Resistant_Replication_Rate)\n",
    "list_of_values.append(AntiB_Resistant_Death_Rate)\n",
    "list_of_values.append(AntiB_Resistant_Horizontal_Gene_Transfer_Rate)\n",
    "\n",
    "print list_of_values"
   ]
  },
  {
   "cell_type": "markdown",
   "metadata": {},
   "source": [
    "After list_of_values() is defined, the three classes are defined including several functions. The Suceptible class is the\n",
    "parent class. All behaviors are then inherited to the two children classes Intermediate, and Resistant. All of the classes have similar functions and are handed over and called similarly, however the content and behavior of those functions vary slightly. This includes Intermediate and Resistant having a different state etc.. The define variables function is where behvaior for the event (AntiBiotic) is set. Once this state is changed to True the define variables function will then define the antibiotic behaviors. You will also notice that dieing is setting agents state to 4. This is an undefined state which is not referenced in graphing and imagining and does not influence any of the other agent's behavior therefore in effect is \"killing\" the bacteria. The following three blocks of code therefore define our classes, define which behavior is to be inheritied and then define which beahvior is to be set the without antibiotic rate of change or the with antibiotic rate of change. \n",
    "\n"
   ]
  },
  {
   "cell_type": "code",
   "execution_count": 279,
   "metadata": {
    "collapsed": false
   },
   "outputs": [],
   "source": [
    "# Susceptible will be more suceptible to antibiotic this class which is the parent class of intermediate and resistant will\n",
    "# first define its values, then move around, mutate, and die. There is also a transfer fucntion which enables us to call \n",
    "# all of the behaviors at the same time but this is an inherited class beahvior so here it is marked as pass. \n",
    "\n",
    "class Susceptible():\n",
    "    def __init__(self,area,location_x,location_y,list_of_values,state,self_death):\n",
    "        self.state=1\n",
    "        self.x=location_x\n",
    "        self.y=location_y\n",
    "        area[self.x][self.y]=self\n",
    "        self.antibiotic_added = state\n",
    "        self.self_death=self_death\n",
    "         \n",
    "    def define_variables(self,list_of_values):\n",
    "        if self.antibiotic_added == False:\n",
    "            if (random.uniform(0,1)>list_of_values[0]):\n",
    "                self.replication_rate = True\n",
    "            else: self.replication_rate = False \n",
    "        \n",
    "\n",
    "            if (random.uniform(0,1)>list_of_values[1]): \n",
    "                self.mutation_rate = True \n",
    "            else: self.mutation_rate = False  \n",
    "        \n",
    "            if (random.uniform(0,1)>list_of_values[2]):\n",
    "                self.death_rate = True \n",
    "            else: self.death_rate = False\n",
    "     \n",
    "        else: \n",
    "            if (random.uniform(0,1)>list_of_values[3]):\n",
    "                self.replication_rate = True\n",
    "            else: self.replication_rate = False\n",
    "            \n",
    "            if (random.uniform(0,1)>list_of_values[4]): \n",
    "                self.mutation_rate = True \n",
    "            else: self.mutation_rate = False  \n",
    "      \n",
    "            if (random.uniform(0,1)>list_of_values[5]):\n",
    "                self.death_rate = True \n",
    "            else: self.death_rate = False     \n",
    "       \n",
    "    #This function looks for a surronding area if that area is not taken then it will populate that new area\n",
    "    def move_around(self,area):\n",
    "        if self.state != 4:\n",
    "            xOffset=[0,1,0,-1]\n",
    "            yOffset=[-1,0,1,0]\n",
    "            direction=random.randint(0,3)\n",
    "            tx=self.x+xOffset[direction]\n",
    "            ty=self.y+yOffset[direction]\n",
    "       \n",
    "            if tx<0 or ty<0 or tx>(len(area)-1) or ty>(len(area[0])-1):\n",
    "                pass\n",
    "            else: \n",
    "                if area[tx][ty]==None:\n",
    "                    area[self.x][self.y]=None\n",
    "                    self.x=tx\n",
    "                    self.y=ty\n",
    "                    area[self.x][self.y]=self\n",
    "    #This function looks for a surronding area similar to move_around, but if it is empty it will populate that new area with \n",
    "    # a Suceptible bacteria, which is being intialized here and appended to Bacteria__Total which has all of the Bacteria that are\n",
    "    # behaving within the grid. Also notice that we are outside of the area (grid). \n",
    "    def replicate(self,area):\n",
    "        if self.state != 4:\n",
    "            xOffset=[0,1,0,-1]\n",
    "            yOffset=[-1,0,1,0]\n",
    "            direction=random.randint(0,3)\n",
    "            tx=self.x+xOffset[direction]\n",
    "            ty=self.y+yOffset[direction]\n",
    "            if tx<0 or ty<0 or tx>(len(area)-1) or ty>(len(area[0])-1):\n",
    "                pass\n",
    "            else: \n",
    "                if (self.replication_rate == True):\n",
    "                    if (area[tx][ty]== None):\n",
    "                        S_Bacteria2=Susceptible((area),(tx),(ty),(list_of_values),(self.antibiotic_added),(False))\n",
    "                        Bacteria_Total.append(S_Bacteria2)\n",
    "                    else: \n",
    "                        pass\n",
    "    #Mutate simply has a chance to move to another class. This function sets the agent's class to 4 effectively \"killing\" it\n",
    "    #then a new Intermediate bacteria is made. For the purpose of this simulation it is assumed that mutation is step-wise.\n",
    "    #self.oldstate is used later in the program in order to keep an accurate count of the Bacteria.\n",
    "    def mutate(self,area):\n",
    "        if self.state != 4:\n",
    "            if (self.mutation_rate == True):\n",
    "                self_x2=self.x\n",
    "                self_y2=self.y\n",
    "                self.oldstate = self.state\n",
    "                area[self.x][self.y]=None\n",
    "                self.state=4\n",
    "                S_Bacteria_3=(Intermediate((area),(self_x2),(self_y2),(list_of_values),(self.antibiotic_added),(False)))\n",
    "                Bacteria_Total.append(S_Bacteria_3)\n",
    "        \n",
    "            else:\n",
    "                pass\n",
    "    #Here this function is simply pass - this is in order to ensure that all the classes have similar functions to be called\n",
    "    # at the same time, however in the following classes you will see actual code that simulates horiztonal gene transfer\n",
    "    def transfer(self,area):\n",
    "        pass \n",
    "    \n",
    "    #Sets the self.state of the bacteria to 4, which is then ignored throughout the code. \n",
    "    def die(self,area):\n",
    "        if (self.death_rate == True):\n",
    "            self.oldstate = self.state\n",
    "            self.state = 4\n",
    "            area[self.x][self.y]=None\n",
    "            self.self_death == True\n",
    "        else:\n",
    "            pass \n",
    "    #Changes antibiotic state - This is then marked as self in-order to be tracked throughout the progress of the simulation\n",
    "    #the bahvior changes are then set in define variables section of the code\n",
    "    def antibiotic_state(self):\n",
    "        self.antibiotic_added = True \n",
    "        \n",
    "    "
   ]
  },
  {
   "cell_type": "code",
   "execution_count": 280,
   "metadata": {
    "collapsed": false
   },
   "outputs": [],
   "source": [
    "class Intermediate (Susceptible):\n",
    "    #Similar to the above anything that is inherited is only written above in the Parent class. The others have slight changes, \n",
    "    #such as the self.state is now 2 here also replicate function makes another intermediate\n",
    "    # Also there transfer function, now has a funciton. \n",
    "    def __init__(self,area,location_x,location_y,list_of_values,state,self_death):\n",
    "        self.state=2\n",
    "        self.x=location_x\n",
    "        self.y=location_y\n",
    "        area[self.x][self.y]=self\n",
    "        self.antibiotic_added = state\n",
    "        self.self_death=self_death\n",
    "        \n",
    "    def define_variables(self,list_of_values):\n",
    "        \n",
    "        if self.antibiotic_added == False:\n",
    "            if (random.uniform(0,1)>list_of_values[6]):\n",
    "                self.replication_rate = True\n",
    "            else: self.replication_rate = False \n",
    "\n",
    "            if (random.uniform(0,1)>list_of_values[7]): \n",
    "                self.mutation_rate = True \n",
    "            else: self.mutation_rate = False  \n",
    "        \n",
    "            if (random.uniform(0,1)>list_of_values[8]):\n",
    "                self.death_rate = True \n",
    "            else: self.death_rate = False\n",
    "            \n",
    "            if (random.uniform(0,1)>list_of_values[9]): \n",
    "                self.hgt_mutation_rate = True\n",
    "            else: self.hgt_mutation_rate = False  \n",
    "        \n",
    "        else: \n",
    "            if (random.uniform(0,1)>list_of_values[10]):\n",
    "                self.replication_rate = True\n",
    "            else: self.replication_rate = False  \n",
    "        \n",
    "            if (random.uniform(0,1)>list_of_values[11]): \n",
    "                self.mutation_rate = True\n",
    "            else: self.mutation_rate = False  \n",
    "\n",
    "            if (random.uniform(0,1)>list_of_values[12]):\n",
    "                self.death_rate = True \n",
    "            else: self.death_rate = False\n",
    "            \n",
    "            if (random.uniform(0,1)>list_of_values[13]): \n",
    "                self.hgt_mutation_rate = True \n",
    "            else: self.hgt_mutation_rate = False  \n",
    "            \n",
    "            \n",
    "    #The only differences in the next two functions are the Replicate fucntion makes another \n",
    "    #Intermediate Bacteria and mutate produces a Resistant Bacteria\n",
    "    \n",
    "    def replicate(self,area):\n",
    "        if self.state !=4:\n",
    "            xOffset=[0,1,0,-1]\n",
    "            yOffset=[-1,0,1,0]\n",
    "            direction=random.randint(0,3)\n",
    "            tx=self.x+xOffset[direction]\n",
    "            ty=self.y+yOffset[direction]\n",
    "            if tx<0 or ty<0 or tx>(len(area)-1) or ty>(len(area[0])-1):\n",
    "                pass\n",
    "            else: \n",
    "                if (self.replication_rate == True):\n",
    "                    if (area[tx][ty]== None):\n",
    "                        I_Bacteria2=Intermediate((area),(tx),(ty),(list_of_values),(self.antibiotic_added),(False))\n",
    "                        Bacteria_Total.append(I_Bacteria2)\n",
    "                else: \n",
    "                    pass\n",
    "    \n",
    "    def mutate(self,area):\n",
    "        if self.state !=4:\n",
    "            if (self.mutation_rate == True):\n",
    "                self_x2=self.x\n",
    "                self_y2=self.y\n",
    "                area[self.x][self.y]=None\n",
    "                self.state=4\n",
    "                I_Bacteria_3=Resistant((area),(self_x2),(self_y2),(list_of_values),(self.antibiotic_added),(False))\n",
    "                Bacteria_Total.append(I_Bacteria_3)\n",
    "                \n",
    "    #This code simulates horizontal gene transfer - This code, similar to replicate, looks around it but if the area is occupied\n",
    "    #by an organism of self.state == 1. This then sets that orangism to self.state 4, again this is ignored throughout the program.\n",
    "    #The area is then set to none and an Intermediate class is made and placed in that area - similar to the replicate function.\n",
    "    \n",
    "    def transfer(self,area):\n",
    "        if self.state !=4:\n",
    "            xOffset=[0,1,0,-1]\n",
    "            yOffset=[-1,0,1,0]\n",
    "            direction=random.randint(0,3)\n",
    "            tx=self.x+xOffset[direction]\n",
    "            ty=self.y+yOffset[direction]\n",
    "            if tx<0 or ty<0 or tx>(len(area)-1) or ty>(len(area[0])-1):\n",
    "                pass\n",
    "            else:\n",
    "                if (area[tx][ty]!=None):\n",
    "                    if (area[tx][ty].state==1): #susceptible bacteria  \n",
    "                        if (self.hgt_mutation_rate == True):\n",
    "                            area[tx][ty].oldstate = self.state\n",
    "                            area[tx][ty].state=4\n",
    "                            area[tx][ty]=None\n",
    "                            I_Bacteria_4=Intermediate((area),(tx),(ty),(list_of_values),(self.antibiotic_added),(False))\n",
    "                            Bacteria_Total.append(I_Bacteria_4)\n",
    "  "
   ]
  },
  {
   "cell_type": "code",
   "execution_count": 281,
   "metadata": {
    "collapsed": false
   },
   "outputs": [],
   "source": [
    "class Resistant(Susceptible): \n",
    "     #Resistant mutant here initailizes with 3 and can transfer its state to intermediate or susceptible class    \n",
    "    def __init__(self,area,location_x,location_y,list_of_values,state,self_death):\n",
    "        self.state=3\n",
    "        self.x=location_x\n",
    "        self.y=location_y\n",
    "        area[self.x][self.y]=self\n",
    "        self.antibiotic_added = state\n",
    "        self.self_death=self_death\n",
    "        \n",
    "    def define_variables(self,list_of_values):\n",
    "        \n",
    "        if self.antibiotic_added == False:\n",
    "            if (random.uniform(0,1)>list_of_values[14]):\n",
    "                self.replication_rate = True\n",
    "            else: self.replication_rate = False   \n",
    "        \n",
    "            if (random.uniform(0,1)>list_of_values[15]):\n",
    "                self.death_rate = True\n",
    "            else: self.death_rate = False\n",
    "            \n",
    "            if (random.uniform(0,1)>list_of_values[16]): \n",
    "                self.hgt_mutation_rate = True \n",
    "            else: self.hgt_mutation_rate = False  \n",
    "        \n",
    "        else: \n",
    "            if (random.uniform(0,1)>list_of_values[17]):\n",
    "                self.replication_rate = True\n",
    "            else: self.replication_rate = False  \n",
    "\n",
    "            if (random.uniform(0,1)>list_of_values[18]):\n",
    "                self.death_rate = True \n",
    "            else: self.death_rate = False\n",
    "            \n",
    "            if (random.uniform(0,1)>list_of_values[19]): \n",
    "                self.hgt_mutation_rate = True \n",
    "            else: self.hgt_mutation_rate = False  \n",
    "    \n",
    "    \n",
    "    def replicate(self,area):\n",
    "        if self.state != 4:\n",
    "            xOffset=[0,1,0,-1]\n",
    "            yOffset=[-1,0,1,0]\n",
    "            direction=random.randint(0,3)\n",
    "            tx=self.x+xOffset[direction]\n",
    "            ty=self.y+yOffset[direction]\n",
    "            if tx<0 or ty<0 or tx>(len(area)-1) or ty>(len(area[0])-1):\n",
    "                pass\n",
    "            else: \n",
    "                if (self.replication_rate == True):\n",
    "                    if (area[tx][ty]== None):\n",
    "                        R_Bacteria2=Resistant((area),(tx),(ty),(list_of_values),(self.antibiotic_added),(False))\n",
    "                        Bacteria_Total.append(R_Bacteria2)\n",
    "                    else: \n",
    "                        pass\n",
    "    #Resistant mutants are assumed to be the last part of the mutation therefore, there is no mutations moving it to another\n",
    "    #state\n",
    "    def mutate(self,area):\n",
    "        pass\n",
    "    # Resistant mutates can also effect Intermediate class.  \n",
    "    def transfer(self,area):\n",
    "        if self.state != 4:\n",
    "            xOffset=[0,1,0,-1]\n",
    "            yOffset=[-1,0,1,0]\n",
    "            direction=random.randint(0,3)\n",
    "            tx=self.x+xOffset[direction]\n",
    "            ty=self.y+yOffset[direction]\n",
    "            if tx<0 or ty<0 or tx>len(area)-1 or ty>len(area[0])-1:\n",
    "                pass\n",
    "            else:\n",
    "                if (area[tx][ty]!=None):\n",
    "                    if (area[tx][ty].state==1): #susceptible bacteria  \n",
    "                        if (self.hgt_mutation_rate == True):\n",
    "                            area[tx][ty].oldstate=area[tx][ty].state\n",
    "                            area[tx][ty].state = 4\n",
    "                            area[tx][ty]=None\n",
    "                            R_Bacteria_3=Resistant((area),(tx),(ty),(list_of_values),(self.antibiotic_added),(False))\n",
    "                            Bacteria_Total.append(R_Bacteria_3)\n",
    "                    if (area[tx][ty].state==2): #intermediate bacteria  \n",
    "                        if (self.hgt_mutation_rate == True):\n",
    "                            area[tx][ty].oldstate=area[tx][ty].state\n",
    "                            area[tx][ty].state=4\n",
    "                            area[tx][ty]=None\n",
    "                            R_Bacteria_4=Resistant((area),(tx),(ty),(list_of_values),(self.antibiotic_added),(False))\n",
    "                            Bacteria_Total.append(R_Bacteria_4)            "
   ]
  },
  {
   "cell_type": "code",
   "execution_count": 345,
   "metadata": {
    "collapsed": false
   },
   "outputs": [],
   "source": [
    "#Creating Area for Which the Bacteria will be in. XDim and YDim are the demensions of the area and the density \n",
    "#for each of the different Bacteria are defined below. Below we fill all of the spots with the None. \n",
    "xDim=100\n",
    "yDim=100\n",
    "\n",
    "density_s=0.1\n",
    "density_i=0.1\n",
    "density_r=0.1        \n",
    "area=list()\n",
    "#image=list()\n",
    "\n",
    "for x in range(xDim):  \n",
    "    area.append(list())\n",
    "    for y in range(yDim):\n",
    "        area[x].append(None)\n"
   ]
  },
  {
   "cell_type": "code",
   "execution_count": 346,
   "metadata": {
    "collapsed": false
   },
   "outputs": [],
   "source": [
    "#This fucntion allows us to assign a random location to each of the different intialization steps. Here we create a \n",
    "# list with the demensions XDim and YDim we shuffle that list and pick a spot if there is an organism there we move to the \n",
    "#next combination of X and Y points. If it runs through the entire list it comes with an except where it will then re-run the shuffling\n",
    "#of the X and Y of the list. This was done to increase the speed when populating a largely dense grid. Before I used random.int\n",
    "# for X and Y and when the grid was densely populated it would be very difficult to find an empty spot while trying random locations\n",
    "#each time. \n",
    "def get_random_location(area,xDim,yDim):\n",
    "    tempListX=list()\n",
    "    tempListY=list()\n",
    "    for t in range(int(xDim-1)):\n",
    "        tempListX.append(t+1)\n",
    "    for t in range(int(yDim-1)):\n",
    "        tempListY.append(t+1)\n",
    "    random.shuffle(tempListX)\n",
    "    random.shuffle(tempListY)\n",
    "    x=0\n",
    "    y=0\n",
    "    self_x=tempListX[x]\n",
    "    self_y=tempListY[y] \n",
    "    while (area[self_x][self_y])!= None:\n",
    "        try:\n",
    "            while (area[self_x][self_y])!= None:\n",
    "                x=x+1\n",
    "                self_x=tempListX[x]\n",
    "                y=y+1\n",
    "                self_y=tempListY[y]\n",
    "        except IndexError:\n",
    "            random.shuffle(tempListX)\n",
    "            random.shuffle(tempListY)\n",
    "            x=0\n",
    "            y=0\n",
    "            self_x=tempListX[x]\n",
    "            self_y=tempListY[y]\n",
    "    return self_x,self_y"
   ]
  },
  {
   "cell_type": "markdown",
   "metadata": {
    "collapsed": false
   },
   "source": [
    "Below is the intialization of the program. We have a Bacteria_Total list(). Also a for loop for each class of Bacteria. The \n",
    "get_random_location function is called and a random  empty X and Y are returned; these are then put into the intialization of the Bacteria. Then this Bacterium is appended to the Bacteria_Total list. Also, False is given for the parameter State - meaning that there is no antibiotic added and when the define_variables fucntion is called it will assign the first set of behaviors to each of the different Bacteria that have been intialized. "
   ]
  },
  {
   "cell_type": "code",
   "execution_count": 317,
   "metadata": {
    "collapsed": false,
    "scrolled": true
   },
   "outputs": [],
   "source": [
    "#Intialization \n",
    "Bacteria_Total=list()\n",
    "for a in range(int(xDim*yDim*density_s)):\n",
    "    (location_x),(location_y)=(get_random_location(area,xDim,yDim))\n",
    "    S_Bacteria=Susceptible((area),(location_x),(location_y),(list_of_values),(False),(False))\n",
    "    Bacteria_Total.append(S_Bacteria)\n",
    "for a in range(int(xDim*yDim*density_i)):\n",
    "    (location_x),(location_y)=(get_random_location(area,xDim,yDim))\n",
    "    I_Bacteria=Intermediate((area),(location_x),(location_y),(list_of_values),(False),(False))\n",
    "    Bacteria_Total.append(I_Bacteria)\n",
    "for a in range(int(xDim*yDim*density_r)):\n",
    "    (location_x),(location_y)=(get_random_location(area,xDim,yDim))\n",
    "    R_Bacteria=Resistant((area),(location_x),(location_y),(list_of_values),(False),(False))\n",
    "    Bacteria_Total.append(R_Bacteria)"
   ]
  },
  {
   "cell_type": "markdown",
   "metadata": {},
   "source": [
    "Several different things are occuring in the code block below. There is a Data, Image and Count list - these are used to count\n",
    "each of the Bacterium after the program is run with the different attributes. The behaviors are set under the while loop. \n",
    "We used While i > 0 convention in order to accomidate new organisms that are being appended to Bacteria_Total during the loop (i.e with the replicate or mutate functions). Therefore when an organism is created it is also included in that round of behaviors. Finally we use the below convention to plot each of the  populations overtime and demonstrate a grid of the final behavior. \n",
    "\n",
    "To test each of the different functions for each class - i commented out the code that wasn't being tested. I set each of the parameters (i.e. replicate) to true and then tested to see if there was the desired effect. To test if behavior was changed after antibiotic was added I set parameters to False after antibiotic was added (in the define variables function) and saw if behavior changed after the effect was made. All of the functions for each of the classes were eventually sucessful. This work is not shown here. "
   ]
  },
  {
   "cell_type": "code",
   "execution_count": 323,
   "metadata": {
    "collapsed": false,
    "scrolled": true
   },
   "outputs": [
    {
     "data": {
      "text/plain": [
       "<matplotlib.image.AxesImage at 0x17279cf8>"
      ]
     },
     "execution_count": 323,
     "metadata": {},
     "output_type": "execute_result"
    },
    {
     "data": {
      "image/png": "[encoded data removed]",
      "text/plain": [
       "<matplotlib.figure.Figure at 0x2bcf29e8>"
      ]
     },
     "metadata": {},
     "output_type": "display_data"
    }
   ],
   "source": [
    "# We are testing what the behavior of the three different bacteria are over the course of time without the presence of the\n",
    "#antibiotic \n",
    "data=[[],[],[],[],[]]\n",
    "image=[]\n",
    "for x in range(xDim):\n",
    "    image.append(list())\n",
    "    for y in range(yDim):\n",
    "        image[x].append(0)\n",
    "\n",
    "#Here is how many rounds of behavior are occuring the If statement below defines when an antibiotic occurs in the system. \n",
    "for t in range(100):\n",
    "    #if t == 50 :\n",
    "        #for B in Bacteria_Total:\n",
    "            #B.antibiotic_state()\n",
    "    count=[0,0,0,0,0]\n",
    "    i=len(Bacteria_Total)-1\n",
    "    while i > 0:\n",
    "        Bacteria_Total[i].define_variables(list_of_values)\n",
    "        Bacteria_Total[i].move_around(area)\n",
    "        Bacteria_Total[i].replicate(area)\n",
    "        Bacteria_Total[i].mutate(area)\n",
    "        Bacteria_Total[i].transfer(area)\n",
    "        Bacteria_Total[i].die(area)\n",
    "        count[Bacteria_Total[i].state]=(count[Bacteria_Total[i].state])+1\n",
    "        #This bit of code is import in order to subtract bacteria from the count list which are being removed from the grid.\n",
    "        if Bacteria_Total[i].state != 4:\n",
    "            try: \n",
    "                count[Bacteria_Total[i].oldstate]=count[Bacteria_Total[i].oldstate]-1 \n",
    "            except AttributeError: \n",
    "                    pass \n",
    "        i=(i-1)\n",
    "   \n",
    "    for x in range(4):\n",
    "        data[x].append(count[x])\n",
    "        \n",
    "\n",
    "\n",
    "for B in Bacteria_Total:\n",
    "        if B.state != (4):\n",
    "            image[B.x][B.y]=B.state\n",
    "    \n",
    "figure()\n",
    "imshow(image,interpolation='nearest')\n",
    "\n",
    "        \n",
    "    "
   ]
  },
  {
   "cell_type": "code",
   "execution_count": 327,
   "metadata": {
    "collapsed": false,
    "scrolled": true
   },
   "outputs": [
    {
     "data": {
      "text/plain": [
       "<matplotlib.legend.Legend at 0x2f6ecac8>"
      ]
     },
     "execution_count": 327,
     "metadata": {},
     "output_type": "execute_result"
    },
    {
     "data": {
      "image/png": "[encoded data removed]",
      "text/plain": [
       "<matplotlib.figure.Figure at 0x1169fc18>"
      ]
     },
     "metadata": {},
     "output_type": "display_data"
    }
   ],
   "source": [
    "#Below is plottin of the data that was generated above.. \n",
    "for x in [0,1,2,3]:\n",
    "    if x == 1:\n",
    "        plot(data[1], 'r', label= Susceptible)\n",
    "    if x == 2: \n",
    "        plot(data[2], 'g', label= Intermediate)\n",
    "    if x == 3:\n",
    "        plot(data[3], 'k', label= Resistant)\n",
    "title(\"Population counts over Time\")\n",
    "xlabel(\"Time (Iterations)\")\n",
    "ylabel(\"Number of Bacteria\")\n",
    "xlim(0,100)\n",
    "ylim(0,10000)\n",
    "legend(('SIR'))"
   ]
  },
  {
   "cell_type": "markdown",
   "metadata": {
    "collapsed": false
   },
   "source": [
    "The  above shows the results of the simulation after the program ran without any anitbiotic after 100 iterations. The below shows the behavior of the similar starting situations with antibiotic added at an earlier stage ( or at iteration 5)."
   ]
  },
  {
   "cell_type": "code",
   "execution_count": 330,
   "metadata": {
    "collapsed": false,
    "scrolled": true
   },
   "outputs": [],
   "source": [
    "#Here we are testing the beahvior of the community after anitbiotic after 5 interations \n",
    "#Intialization \n",
    "Bacteria_Total=list()\n",
    "for a in range(int(xDim*yDim*density_s)):\n",
    "    (location_x),(location_y)=(get_random_location(area,xDim,yDim))\n",
    "    S_Bacteria=Susceptible((area),(location_x),(location_y),(list_of_values),(False),(False))\n",
    "    Bacteria_Total.append(S_Bacteria)\n",
    "for a in range(int(xDim*yDim*density_i)):\n",
    "    (location_x),(location_y)=(get_random_location(area,xDim,yDim))\n",
    "    I_Bacteria=Intermediate((area),(location_x),(location_y),(list_of_values),(False),(False))\n",
    "    Bacteria_Total.append(I_Bacteria)\n",
    "for a in range(int(xDim*yDim*density_r)):\n",
    "    (location_x),(location_y)=(get_random_location(area,xDim,yDim))\n",
    "    R_Bacteria=Resistant((area),(location_x),(location_y),(list_of_values),(False),(False))\n",
    "    Bacteria_Total.append(R_Bacteria)"
   ]
  },
  {
   "cell_type": "code",
   "execution_count": 331,
   "metadata": {
    "collapsed": false,
    "scrolled": true
   },
   "outputs": [
    {
     "data": {
      "text/plain": [
       "<matplotlib.image.AxesImage at 0x2e23b710>"
      ]
     },
     "execution_count": 331,
     "metadata": {},
     "output_type": "execute_result"
    },
    {
     "data": {
      "image/png": "[encoded data removed]",
      "text/plain": [
       "<matplotlib.figure.Figure at 0x1c3217b8>"
      ]
     },
     "metadata": {},
     "output_type": "display_data"
    }
   ],
   "source": [
    "data=[[],[],[],[],[]]\n",
    "image=[]\n",
    "for x in range(xDim):\n",
    "    image.append(list())\n",
    "    for y in range(yDim):\n",
    "        image[x].append(0)\n",
    "\n",
    "#Here is how many rounds of behavior are occuring the If statement below defines when an antibiotic occurs in the system. \n",
    "for t in range(100):\n",
    "    if t == 5 :\n",
    "        for B in Bacteria_Total:\n",
    "            B.antibiotic_state()\n",
    "    count=[0,0,0,0,0]\n",
    "    i=len(Bacteria_Total)-1\n",
    "    while i > 0:\n",
    "        Bacteria_Total[i].define_variables(list_of_values)\n",
    "        Bacteria_Total[i].move_around(area)\n",
    "        Bacteria_Total[i].replicate(area)\n",
    "        Bacteria_Total[i].mutate(area)\n",
    "        Bacteria_Total[i].transfer(area)\n",
    "        Bacteria_Total[i].die(area)\n",
    "        count[Bacteria_Total[i].state]=(count[Bacteria_Total[i].state])+1\n",
    "        if Bacteria_Total[i].state != 4:\n",
    "            try: \n",
    "                count[Bacteria_Total[i].oldstate]=count[Bacteria_Total[i].oldstate]-1 \n",
    "            except AttributeError: \n",
    "                    pass \n",
    "        i=(i-1)\n",
    "   \n",
    "    for x in range(4):\n",
    "        data[x].append(count[x])\n",
    "        \n",
    "\n",
    "\n",
    "for B in Bacteria_Total:\n",
    "        if B.state != (4):\n",
    "            image[B.x][B.y]=B.state\n",
    "    \n",
    "figure()\n",
    "imshow(image,interpolation='nearest')\n",
    "\n",
    "        \n",
    "    "
   ]
  },
  {
   "cell_type": "code",
   "execution_count": 332,
   "metadata": {
    "collapsed": false,
    "scrolled": false
   },
   "outputs": [
    {
     "data": {
      "text/plain": [
       "<matplotlib.legend.Legend at 0x2fdea668>"
      ]
     },
     "execution_count": 332,
     "metadata": {},
     "output_type": "execute_result"
    },
    {
     "data": {
      "image/png": "[encoded data removed]",
      "text/plain": [
       "<matplotlib.figure.Figure at 0x2fdfbe10>"
      ]
     },
     "metadata": {},
     "output_type": "display_data"
    }
   ],
   "source": [
    "#plotting for the data above\n",
    "for x in [0,1,2,3]:\n",
    "    if x == 1:\n",
    "        plot(data[1], 'r', label= Susceptible)\n",
    "    if x == 2: \n",
    "        plot(data[2], 'g', label= Intermediate)\n",
    "    if x == 3:\n",
    "        plot(data[3], 'k', label= Resistant)\n",
    "title(\"Population counts over Time\")\n",
    "xlabel(\"Time (Iterations)\")\n",
    "ylabel(\"Number of Bacteria\")\n",
    "xlim(0,100)\n",
    "ylim(0,10000)\n",
    "legend(('SIR'))"
   ]
  },
  {
   "cell_type": "code",
   "execution_count": 335,
   "metadata": {
    "collapsed": false
   },
   "outputs": [
    {
     "data": {
      "text/plain": [
       "<matplotlib.legend.Legend at 0x1c3309e8>"
      ]
     },
     "execution_count": 335,
     "metadata": {},
     "output_type": "execute_result"
    },
    {
     "data": {
      "image/png": "[encoded data removed]",
      "text/plain": [
       "<matplotlib.figure.Figure at 0xb83a780>"
      ]
     },
     "metadata": {},
     "output_type": "display_data"
    }
   ],
   "source": [
    "#A zoomed in version of the graph above\n",
    "for x in [0,1,2,3]:\n",
    "    if x == 1:\n",
    "        plot(data[1], 'r', label= Susceptible)\n",
    "    if x == 2: \n",
    "        plot(data[2], 'g', label= Intermediate)\n",
    "    if x == 3:\n",
    "        plot(data[3], 'k', label= Resistant)\n",
    "title(\"Population counts over Time\")\n",
    "xlabel(\"Time (Iterations)\")\n",
    "ylabel(\"Number of Bacteria\")\n",
    "xlim(0,20)\n",
    "ylim(0,2000)\n",
    "legend(('SIR'))"
   ]
  },
  {
   "cell_type": "markdown",
   "metadata": {},
   "source": [
    "The two above blocks shows the three populations after 100 iterations of the program. The second graph seen above shows at Iteration 5 how the Susceptible and Intermediate populations then behave. We also see a step-wise increase in the Resistant population. "
   ]
  },
  {
   "cell_type": "code",
   "execution_count": 338,
   "metadata": {
    "collapsed": false,
    "scrolled": true
   },
   "outputs": [],
   "source": [
    "#Here we are testing the community after 50 interations the antibioitic is added\n",
    "#Intialization \n",
    "Bacteria_Total=list()\n",
    "for a in range(int(xDim*yDim*density_s)):\n",
    "    (location_x),(location_y)=(get_random_location(area,xDim,yDim))\n",
    "    S_Bacteria=Susceptible((area),(location_x),(location_y),(list_of_values),(False),(False))\n",
    "    Bacteria_Total.append(S_Bacteria)\n",
    "for a in range(int(xDim*yDim*density_i)):\n",
    "    (location_x),(location_y)=(get_random_location(area,xDim,yDim))\n",
    "    I_Bacteria=Intermediate((area),(location_x),(location_y),(list_of_values),(False),(False))\n",
    "    Bacteria_Total.append(I_Bacteria)\n",
    "for a in range(int(xDim*yDim*density_r)):\n",
    "    (location_x),(location_y)=(get_random_location(area,xDim,yDim))\n",
    "    R_Bacteria=Resistant((area),(location_x),(location_y),(list_of_values),(False),(False))\n",
    "    Bacteria_Total.append(R_Bacteria)"
   ]
  },
  {
   "cell_type": "code",
   "execution_count": 339,
   "metadata": {
    "collapsed": false,
    "scrolled": true
   },
   "outputs": [
    {
     "data": {
      "text/plain": [
       "<matplotlib.image.AxesImage at 0x15ae4668>"
      ]
     },
     "execution_count": 339,
     "metadata": {},
     "output_type": "execute_result"
    },
    {
     "data": {
      "image/png": "[encoded data removed]",
      "text/plain": [
       "<matplotlib.figure.Figure at 0x2e463cf8>"
      ]
     },
     "metadata": {},
     "output_type": "display_data"
    }
   ],
   "source": [
    "data=[[],[],[],[],[]]\n",
    "image=[]\n",
    "for x in range(xDim):\n",
    "    image.append(list())\n",
    "    for y in range(yDim):\n",
    "        image[x].append(0)\n",
    "\n",
    "#Here is how many rounds of behavior are occuring the If statement below defines when an antibiotic occurs in the system. \n",
    "for t in range(100):\n",
    "    if t == 50 :\n",
    "        for B in Bacteria_Total:\n",
    "            B.antibiotic_state()\n",
    "    count=[0,0,0,0,0]\n",
    "    i=len(Bacteria_Total)-1\n",
    "    while i > 0:\n",
    "        Bacteria_Total[i].define_variables(list_of_values)\n",
    "        Bacteria_Total[i].move_around(area)\n",
    "        Bacteria_Total[i].replicate(area)\n",
    "        Bacteria_Total[i].mutate(area)\n",
    "        Bacteria_Total[i].transfer(area)\n",
    "        Bacteria_Total[i].die(area)\n",
    "        count[Bacteria_Total[i].state]=(count[Bacteria_Total[i].state])+1\n",
    "        if Bacteria_Total[i].state != 4:\n",
    "            try: \n",
    "                count[Bacteria_Total[i].oldstate]=count[Bacteria_Total[i].oldstate]-1 \n",
    "            except AttributeError: \n",
    "                    pass \n",
    "        i=(i-1)\n",
    "   \n",
    "    for x in range(4):\n",
    "        data[x].append(count[x])\n",
    "        \n",
    "\n",
    "\n",
    "for B in Bacteria_Total:\n",
    "        if B.state != (4):\n",
    "            image[B.x][B.y]=B.state\n",
    "    \n",
    "figure()\n",
    "imshow(image,interpolation='nearest')\n",
    "\n",
    "        \n",
    "    "
   ]
  },
  {
   "cell_type": "code",
   "execution_count": 340,
   "metadata": {
    "collapsed": false,
    "scrolled": false
   },
   "outputs": [
    {
     "data": {
      "text/plain": [
       "<matplotlib.legend.Legend at 0x2e8f09e8>"
      ]
     },
     "execution_count": 340,
     "metadata": {},
     "output_type": "execute_result"
    },
    {
     "data": {
      "image/png": "[encoded data removed]",
      "text/plain": [
       "<matplotlib.figure.Figure at 0x1c3218d0>"
      ]
     },
     "metadata": {},
     "output_type": "display_data"
    }
   ],
   "source": [
    "#Plot of the above data\n",
    "for x in [0,1,2,3]:\n",
    "    if x == 1:\n",
    "        plot(data[1], 'r', label= Susceptible)\n",
    "    if x == 2: \n",
    "        plot(data[2], 'g', label= Intermediate)\n",
    "    if x == 3:\n",
    "        plot(data[3], 'k', label= Resistant)\n",
    "title(\"Population counts over Time\")\n",
    "xlabel(\"Time (Iterations)\")\n",
    "ylabel(\"Number of Bacteria\")\n",
    "xlim(0,100)\n",
    "ylim(0,10000)\n",
    "legend(('SIR'))"
   ]
  },
  {
   "cell_type": "code",
   "execution_count": 344,
   "metadata": {
    "collapsed": false,
    "scrolled": true
   },
   "outputs": [
    {
     "data": {
      "text/plain": [
       "<matplotlib.legend.Legend at 0x2e8f0a90>"
      ]
     },
     "execution_count": 344,
     "metadata": {},
     "output_type": "execute_result"
    },
    {
     "data": {
      "image/png": "[encoded data removed]",
      "text/plain": [
       "<matplotlib.figure.Figure at 0x11dc6d68>"
      ]
     },
     "metadata": {},
     "output_type": "display_data"
    }
   ],
   "source": [
    "#A zoomed in version of the plot above\n",
    "for x in [0,1,2,3]:\n",
    "    if x == 1:\n",
    "        plot(data[1], 'r', label= Susceptible)\n",
    "    if x == 2: \n",
    "        plot(data[2], 'g', label= Intermediate)\n",
    "    if x == 3:\n",
    "        plot(data[3], 'k', label= Resistant)\n",
    "title(\"Population counts over Time\")\n",
    "xlabel(\"Time (Iterations)\")\n",
    "ylabel(\"Number of Bacteria\")\n",
    "xlim(0,80)\n",
    "ylim(0,5000)\n",
    "legend(('SIR'))"
   ]
  },
  {
   "cell_type": "markdown",
   "metadata": {},
   "source": [
    "The above to blocks show the when an anitbiotic is added to the system at a mid-point. "
   ]
  },
  {
   "cell_type": "code",
   "execution_count": 347,
   "metadata": {
    "collapsed": false,
    "scrolled": true
   },
   "outputs": [],
   "source": [
    "#Testing late adminstration of an anitbiotic and measure community abundance \n",
    "#(similar to the three above, but at 95 iterations the antibiotic is added)\n",
    "#Intialization \n",
    "Bacteria_Total=list()\n",
    "for a in range(int(xDim*yDim*density_s)):\n",
    "    (location_x),(location_y)=(get_random_location(area,xDim,yDim))\n",
    "    S_Bacteria=Susceptible((area),(location_x),(location_y),(list_of_values),(False),(False))\n",
    "    Bacteria_Total.append(S_Bacteria)\n",
    "for a in range(int(xDim*yDim*density_i)):\n",
    "    (location_x),(location_y)=(get_random_location(area,xDim,yDim))\n",
    "    I_Bacteria=Intermediate((area),(location_x),(location_y),(list_of_values),(False),(False))\n",
    "    Bacteria_Total.append(I_Bacteria)\n",
    "for a in range(int(xDim*yDim*density_r)):\n",
    "    (location_x),(location_y)=(get_random_location(area,xDim,yDim))\n",
    "    R_Bacteria=Resistant((area),(location_x),(location_y),(list_of_values),(False),(False))\n",
    "    Bacteria_Total.append(R_Bacteria)"
   ]
  },
  {
   "cell_type": "code",
   "execution_count": 350,
   "metadata": {
    "collapsed": false,
    "scrolled": true
   },
   "outputs": [
    {
     "data": {
      "text/plain": [
       "<matplotlib.image.AxesImage at 0x848f6080>"
      ]
     },
     "execution_count": 350,
     "metadata": {},
     "output_type": "execute_result"
    },
    {
     "data": {
      "image/png": "[encoded data removed]",
      "text/plain": [
       "<matplotlib.figure.Figure at 0x1f4d8278>"
      ]
     },
     "metadata": {},
     "output_type": "display_data"
    }
   ],
   "source": [
    "data=[[],[],[],[],[]]\n",
    "image=[]\n",
    "for x in range(xDim):\n",
    "    image.append(list())\n",
    "    for y in range(yDim):\n",
    "        image[x].append(0)\n",
    "\n",
    "#Here is how many rounds of behavior are occuring the If statement below defines when an antibiotic occurs in the system. \n",
    "for t in range(100):\n",
    "    if t == 95 :\n",
    "        for B in Bacteria_Total:\n",
    "            B.antibiotic_state()\n",
    "    count=[0,0,0,0,0]\n",
    "    i=len(Bacteria_Total)-1\n",
    "    while i > 0:\n",
    "        Bacteria_Total[i].define_variables(list_of_values)\n",
    "        Bacteria_Total[i].move_around(area)\n",
    "        Bacteria_Total[i].replicate(area)\n",
    "        Bacteria_Total[i].mutate(area)\n",
    "        Bacteria_Total[i].transfer(area)\n",
    "        Bacteria_Total[i].die(area)\n",
    "        count[Bacteria_Total[i].state]=(count[Bacteria_Total[i].state])+1\n",
    "        if Bacteria_Total[i].state != 4:\n",
    "            try: \n",
    "                count[Bacteria_Total[i].oldstate]=count[Bacteria_Total[i].oldstate]-1 \n",
    "            except AttributeError: \n",
    "                    pass \n",
    "        i=(i-1)\n",
    "   \n",
    "    for x in range(4):\n",
    "        data[x].append(count[x])\n",
    "        \n",
    "\n",
    "\n",
    "for B in Bacteria_Total:\n",
    "        if B.state != (4):\n",
    "            image[B.x][B.y]=B.state\n",
    "    \n",
    "figure()\n",
    "imshow(image,interpolation='nearest')\n",
    "\n",
    "        \n",
    "    "
   ]
  },
  {
   "cell_type": "code",
   "execution_count": 351,
   "metadata": {
    "collapsed": false,
    "scrolled": false
   },
   "outputs": [
    {
     "data": {
      "text/plain": [
       "<matplotlib.legend.Legend at 0x11dd4630>"
      ]
     },
     "execution_count": 351,
     "metadata": {},
     "output_type": "execute_result"
    },
    {
     "data": {
      "image/png": "[encoded data removed]",
      "text/plain": [
       "<matplotlib.figure.Figure at 0x2e4703c8>"
      ]
     },
     "metadata": {},
     "output_type": "display_data"
    }
   ],
   "source": [
    "#Plotting data above\n",
    "for x in [0,1,2,3]:\n",
    "    if x == 1:\n",
    "        plot(data[1], 'r', label= Susceptible)\n",
    "    if x == 2: \n",
    "        plot(data[2], 'g', label= Intermediate)\n",
    "    if x == 3:\n",
    "        plot(data[3], 'k', label= Resistant)\n",
    "title(\"Population counts over Time\")\n",
    "xlabel(\"Time (Iterations)\")\n",
    "ylabel(\"Number of Bacteria\")\n",
    "xlim(0,100)\n",
    "ylim(0,10000)\n",
    "legend(('SIR'))"
   ]
  },
  {
   "cell_type": "markdown",
   "metadata": {},
   "source": [
    "Above shows the late antibiotic administration "
   ]
  },
  {
   "cell_type": "code",
   "execution_count": null,
   "metadata": {
    "collapsed": true
   },
   "outputs": [],
   "source": []
  }
 ],
 "metadata": {
  "kernelspec": {
   "display_name": "Python 2",
   "language": "python",
   "name": "python2"
  },
  "language_info": {
   "codemirror_mode": {
    "name": "ipython",
    "version": 2
   },
   "file_extension": ".py",
   "mimetype": "text/x-python",
   "name": "python",
   "nbconvert_exporter": "python",
   "pygments_lexer": "ipython2",
   "version": "2.7.10"
  }
 },
 "nbformat": 4,
 "nbformat_minor": 0
}
