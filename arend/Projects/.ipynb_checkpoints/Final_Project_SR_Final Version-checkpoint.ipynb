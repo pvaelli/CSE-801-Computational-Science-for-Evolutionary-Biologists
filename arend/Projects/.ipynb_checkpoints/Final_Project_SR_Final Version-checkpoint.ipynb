{
 "cells": [
  {
   "cell_type": "markdown",
   "metadata": {},
   "source": [
    "# Project Proposal \n",
    "\"Modeling the sustained existence of cheating rhizobial partners in the legume-rhizobia symbiosis\" "
   ]
  },
  {
   "cell_type": "markdown",
   "metadata": {},
   "source": [
    "Legumes have evolved a symbiotic relationship with a group of bacteria known collectively as rhizobia. The basis of this interaction is the exchange of resources. Legumes are unable to use diatomic nitrogen, the most readily available form of nitrogen, directly from the soil. To aquire nitrogen, these plants develop mutualistic interactions with rhizobia in which the rhizobia infect root systems of plants and form nodules where they fix diatomic nitrogen into a biologically useful form and the plants allocate phytosynthetically produced carbon to the bacterial partners. \n",
    "\n",
    "However, some rhizobial partners are inherently less benefical and fail to produce as much if any nitrogen as their mutualistic counterparts. In order to combat this, leguminous plants have developed a response theorized as \"sanctioning.\" This process somehow restricts the growth of the cheating organisms during early stages of the mutualism. However, the process driving this dynamic is not understood. Furthermore, it is not known why cheaters are still present in soil microbial populations when legumes are preferentially allocating resources to beneficial partners. \n",
    "\n",
    "I propose to model the interaction between these two partners to begin to understand if other potentially destabilizing effects must be in play that allow the cheaters to continue propoagating. Below, I will first model the interaction showing the theorized rate of fixing (beneficial), cheating (non-beneficial), and mixed (nodules containing both types of rhizobia) infection. The goals are as follows: \n",
    "1. To see if cheating populations will be driven out in models that allow the repopulation of cheaters through mixed nodules alone. \n",
    "2. Observe how the rate of mixed infections alters the dynamic observed in goal 1. \n",
    "3. Observe if variable sanctioning mechanisms could result in further sustaining the cheating populations. "
   ]
  },
  {
   "cell_type": "markdown",
   "metadata": {},
   "source": [
    "# Expected Results\n",
    "1. Cheaters will be sustained with higher rates of mixed infection events. \n",
    "2. Sanctioning mechanisms can effectively drive rhizobial populations extinct when employed partially on mixed nodules. "
   ]
  },
  {
   "cell_type": "code",
   "execution_count": 3,
   "metadata": {
    "collapsed": false
   },
   "outputs": [
    {
     "name": "stdout",
     "output_type": "stream",
     "text": [
      "Populating the interactive namespace from numpy and matplotlib\n"
     ]
    }
   ],
   "source": [
    "%pylab inline "
   ]
  },
  {
   "cell_type": "code",
   "execution_count": 4,
   "metadata": {
    "collapsed": true
   },
   "outputs": [],
   "source": [
    "import random \n",
    "from pandas import *\n",
    "from random import shuffle  #allows * function, shuffle function, and use of randomly generated numbers"
   ]
  },
  {
   "cell_type": "markdown",
   "metadata": {},
   "source": [
    "Creates initial starting population of 50/50 cooperating rhizobia and cheating rhizobia"
   ]
  },
  {
   "cell_type": "code",
   "execution_count": 9,
   "metadata": {
    "collapsed": false
   },
   "outputs": [
    {
     "name": "stdout",
     "output_type": "stream",
     "text": [
      "5000\n",
      "5000\n"
     ]
    }
   ],
   "source": [
    "cooperators=list()\n",
    "cheaters=list()\n",
    "\n",
    "\n",
    "for i in range(5000):\n",
    "    cooperators.append(0)\n",
    "for j in range(5000):\n",
    "    cheaters.append(1)\n",
    "    \n",
    "rhizobialPopulation= (cooperators + cheaters) \n",
    "random.shuffle(rhizobialPopulation)\n",
    "\n",
    "print (rhizobialPopulation.count(0))\n",
    "print (rhizobialPopulation.count(1))"
   ]
  },
  {
   "cell_type": "code",
   "execution_count": 6,
   "metadata": {
    "collapsed": false,
    "scrolled": true
   },
   "outputs": [],
   "source": [
    "def makeNodules(popMicrobe): #generates nodules based on rhizobial population\n",
    "    nodules=list()\n",
    "    n=0\n",
    "    m=1\n",
    "    while (n<(len(popMicrobe)-1) and (m<(len(popMicrobe)-1))): #runs through for the len of pop\n",
    "        if ((popMicrobe[n])+(popMicrobe[m]))==0:\n",
    "            nodules.append(\"a\")\n",
    "        if ((popMicrobe[n])+(popMicrobe[m]))==2:\n",
    "            nodules.append(\"b\")\n",
    "        if ((popMicrobe[n])+(popMicrobe[m]))==1:\n",
    "            nodules.append(\"c\")\n",
    "        n=n+2\n",
    "        m=m+2\n",
    "    return nodules #function generates nodules (letters) based on bacteria (numbers). \n",
    "\n",
    "def makeMicrobes(nodules, coR, chR, mxR): #repopulates soil from senesced nodules\n",
    "    a=0\n",
    "    releasedRhizobia=list()\n",
    "    while(a<len(nodules)):\n",
    "        if nodules[a]==\"a\":\n",
    "            for i in range(coR):\n",
    "                releasedRhizobia.append(0)\n",
    "        if nodules[a]==\"b\":\n",
    "            for j in range(chR):\n",
    "                releasedRhizobia.append(1)\n",
    "        if nodules[a]==\"c\":\n",
    "                for k in range(mxR):\n",
    "                    releasedRhizobia.append(0)\n",
    "                    releasedRhizobia.append(1)\n",
    "        a=a+1\n",
    "    return releasedRhizobia #function generates bacteria based on nodules \n",
    "\n",
    "def limit(microbialList,popSizeLimit): #cuts list down to consistent size. Prevents expo growth\n",
    "    random.shuffle(microbialList)\n",
    "    if len(microbialList)>popSizeLimit:\n",
    "        microbialList=microbialList[:-(len(microbialList)-(popSizeLimit))]\n",
    "    return microbialList\n"
   ]
  },
  {
   "cell_type": "markdown",
   "metadata": {},
   "source": [
    "The following code operates as the \"model\" itself. Here, the for loop runs through the three base functions and allows repopulation of the microbial community based on the \"sanctioning mechanisms\" of the host plant. The way this is modeled is by manipulating the release rates of new bacteria from specific nodule types named \"CoR(coopoeraters), ChR (cheaters), and MxR (mixed nodules containing both cheaters and cooperaters).\" "
   ]
  },
  {
   "cell_type": "code",
   "execution_count": 7,
   "metadata": {
    "collapsed": false
   },
   "outputs": [
    {
     "data": {
      "image/png": "[encoded data removed]",
      "text/plain": [
       "<matplotlib.figure.Figure at 0x1078349e8>"
      ]
     },
     "metadata": {},
     "output_type": "display_data"
    }
   ],
   "source": [
    "data=[[],[]] #places data into two categories, cooperators and cheaters\n",
    "\n",
    "cooperators=list()\n",
    "cheaters=list()\n",
    "\n",
    "\n",
    "for i in range(5000):\n",
    "    cooperators.append(0)\n",
    "for j in range(5000):\n",
    "    cheaters.append(1)\n",
    "    \n",
    "rhizobialPopulation= (cooperators + cheaters) \n",
    "random.shuffle(rhizobialPopulation)\n",
    "\n",
    "for T in range(2000): #loops through to generate new rhizobial pops based on nodule distribution\n",
    "    nods=makeNodules(rhizobialPopulation)\n",
    "    rhizobialPopulation=makeMicrobes(nods,8,2,5)\n",
    "    rhizobialPopulation=limit(rhizobialPopulation,10000)\n",
    "    for i in range(2):\n",
    "        data[i].append(rhizobialPopulation.count(i)) #runs through T number of generations \n",
    "    \n",
    "\n",
    "for i in range(2): #plots data \n",
    "    plot(data[i])\n",
    "    title(\"Populations of Cooperators and Cheaters\")\n",
    "    xlabel(\"Generations\")\n",
    "    ylabel(\"Population Size (individuals)\")\n"
   ]
  },
  {
   "cell_type": "markdown",
   "metadata": {},
   "source": [
    "This code above represents a biologically inaccurate model of regenerated rhizobial populations. Here, the nodule number is dependent of the starting population composition and number as opposed to only the composition. The populations rapidly reach their equilibrium points and stabilize there due to the equal release of cooperators and cheaters from mixed nodules. "
   ]
  },
  {
   "cell_type": "markdown",
   "metadata": {},
   "source": [
    "The following cell shows a manipulation of the original model that begins to represent the fact that not all microbes will form nodules. By introducing random numbers and rejection rates for each of the nodule types I am able to indirectly control the rate at which nodules are formed. Below, the graph shows what happens when mixed nodules and cheaters are rejected at a higher rate than standard cooperating nodules. "
   ]
  },
  {
   "cell_type": "code",
   "execution_count": 208,
   "metadata": {
    "collapsed": false
   },
   "outputs": [
    {
     "name": "stdout",
     "output_type": "stream",
     "text": [
      "1000\n",
      "0\n"
     ]
    },
    {
     "data": {
      "image/png": "[encoded data removed]",
      "text/plain": [
       "<matplotlib.figure.Figure at 0x10789dc18>"
      ]
     },
     "metadata": {},
     "output_type": "display_data"
    }
   ],
   "source": [
    "popSize=1000 #limits overall population size and provides basis for code\n",
    "\n",
    "def makeNodules(popMicrobe,rejectionRateA,rejectionRateB,rejectionRateC): #generates nodules based on rhizobial population\n",
    "    nodules=list()\n",
    "    n=0\n",
    "    while ((n<(len(popMicrobe)-6))): #allows list to run smoothly by preventing access to nonexistant index values\n",
    "        if ((popMicrobe[n])+(popMicrobe[n+1]))==0:\n",
    "            if random.uniform(0.0,1.0)>rejectionRateA:\n",
    "                nodules.append(\"a\") \n",
    "                popMicrobe.pop(n)\n",
    "                popMicrobe.pop(n)\n",
    "            else:\n",
    "                n=n+2\n",
    "        if ((popMicrobe[n])+(popMicrobe[n+1]))==2:\n",
    "            if random.uniform(0.0,1.0)>rejectionRateB:\n",
    "                nodules.append(\"b\")\n",
    "                popMicrobe.pop(n)\n",
    "                popMicrobe.pop(n)\n",
    "            else:\n",
    "                n=n+2  \n",
    "        if ((popMicrobe[n])+(popMicrobe[n+1]))==1:\n",
    "            if random.uniform(0.0,1.0)>rejectionRateC:\n",
    "                nodules.append(\"c\")\n",
    "                popMicrobe.pop(n)\n",
    "                popMicrobe.pop(n)\n",
    "            else:\n",
    "                n=n+2\n",
    "  \n",
    "    return nodules,popMicrobe\n",
    "\n",
    "def makeMicrobes(nodules, coR, chR, mxR): #repopulates soil from senesced nodules\n",
    "    a=0\n",
    "    releasedRhizobia=list()\n",
    "    while(a<len(nodules)):\n",
    "        if nodules[a]==\"a\":\n",
    "            for i in range(coR):\n",
    "                releasedRhizobia.append(0)\n",
    "        if nodules[a]==\"b\":\n",
    "            for j in range(chR):\n",
    "                releasedRhizobia.append(1)\n",
    "        if nodules[a]==\"c\":\n",
    "                for k in range(mxR):\n",
    "                    releasedRhizobia.append(0)\n",
    "                    releasedRhizobia.append(1)\n",
    "        a=a+1\n",
    "    return releasedRhizobia\n",
    "\n",
    "def limit(microbialList,popSizeLimit): #cuts list down to consistent size. Prevents expo growth\n",
    "    newPop=(microbialList+rhizobialPopulation)\n",
    "    random.shuffle(newPop)\n",
    "    if len(newPop)>popSizeLimit:\n",
    "        newPop=newPop[:-(len(newPop)-(popSizeLimit))]\n",
    "    return newPop\n",
    "\n",
    "data=[[],[]] #places data into two categories, cooperators and cheaters\n",
    "\n",
    "cooperators=list()\n",
    "cheaters=list()\n",
    "\n",
    "\n",
    "for i in range(int(popSize/2)): #ensures item is an integer\n",
    "    cooperators.append(0)\n",
    "for j in range(int(popSize/2)):\n",
    "    cheaters.append(1)\n",
    "    \n",
    "rhizobialPopulation= (cooperators + cheaters) \n",
    "random.shuffle(rhizobialPopulation)\n",
    "\n",
    "\n",
    "for T in range(500):\n",
    "    nods,leftovers=makeNodules(rhizobialPopulation,0.1,0.8,0.5) #accounts for remaining population\n",
    "    #print (len(rhizobialPopulation))\n",
    "    rhizobialPopulation=makeMicrobes(nods,6,3,4)+(leftovers)\n",
    "    rhizobialPopulation=limit(rhizobialPopulation,popSize)\n",
    "    for i in range(2):\n",
    "        data[i].append(rhizobialPopulation.count(i)) #runs through T number of generations \n",
    "        \n",
    "for i in range(2): #plots data \n",
    "    print (data[i][len(data[i])-1]) #prints end values for both \n",
    "    plot (data[i])\n",
    "    title(\"Populations of Cooperators and Cheaters\")\n",
    "    xlabel(\"Generations\")\n",
    "    ylabel(\"Population Size (individuals)\")\n",
    "\n"
   ]
  },
  {
   "cell_type": "markdown",
   "metadata": {},
   "source": [
    "Here, the model has been modified to restrict the total number of nodules that are allowed to form. THis allows for the populations to reach extreme dynamics rapidly. \n"
   ]
  },
  {
   "cell_type": "code",
   "execution_count": 178,
   "metadata": {
    "collapsed": false
   },
   "outputs": [
    {
     "data": {
      "image/png": "[encoded data removed]",
      "text/plain": [
       "<matplotlib.figure.Figure at 0x19c212550>"
      ]
     },
     "metadata": {},
     "output_type": "display_data"
    }
   ],
   "source": [
    "def makeNodules(popMicrobe): #generates nodules based on rhizobial population\n",
    "    nodules=list()\n",
    "    n=0\n",
    "    m=1\n",
    "    while (n<(len(popMicrobe)-1) and (m<(len(popMicrobe)-1))): #runs through for the len of pop\n",
    "        if ((popMicrobe[n])+(popMicrobe[m]))==0:\n",
    "            nodules.append(['a'])\n",
    "        if ((popMicrobe[n])+(popMicrobe[m]))==2:\n",
    "            nodules.append(['b'])\n",
    "        if ((popMicrobe[n])+(popMicrobe[m]))==1:\n",
    "            nodules.append(['c'])\n",
    "        if ((popMicrobe[n])+(popMicrobe[m]))==1: #forms \"second type\" of mixed nod for manipulation later \n",
    "            nodules.append(['d'])\n",
    "        n=n+2\n",
    "        m=m+2\n",
    "    return nodules \n",
    "\n",
    "def makeMicrobes(nodules, coR, chR, mxCR, mxXR): #repopulates soil from senesced nodules\n",
    "    a=0\n",
    "    releasedRhizobia=list()\n",
    "    while(a<len(nodules)):\n",
    "        if nodules[a]==[\"a\"]:\n",
    "            for i in range(coR):\n",
    "                releasedRhizobia.append(0)\n",
    "        if nodules[a]==[\"b\"]:\n",
    "            for j in range(chR):\n",
    "                releasedRhizobia.append(1)\n",
    "        if nodules[a]==[\"c\"]:\n",
    "            for k in range(mxCR):\n",
    "                #separate the release rates of coops and cheaters from mixed nodules \n",
    "                releasedRhizobia.append(0)\n",
    "        if nodules[a]==[\"d\"]:\n",
    "            for l in range(mxXR):\n",
    "                releasedRhizobia.append(1)\n",
    "                    \n",
    "        a=a+1\n",
    "    return releasedRhizobia\n",
    "\n",
    "def limit(microbialList,popSizeLimit): #cuts list down to consistent size. Prevents expo growth\n",
    "    random.shuffle(microbialList)\n",
    "    if len(microbialList)>popSizeLimit:\n",
    "        microbialList=microbialList[:-(len(microbialList)-(popSizeLimit))]\n",
    "    return microbialList\n",
    "\n",
    "data=[[],[]] #places data into two categories, cooperators and cheaters\n",
    "\n",
    "cooperators=list()\n",
    "cheaters=list()\n",
    "\n",
    "\n",
    "for i in range(5000):\n",
    "    cooperators.append(0)\n",
    "for j in range(5000):\n",
    "    cheaters.append(1)\n",
    "    \n",
    "rhizobialPopulation= (cooperators + cheaters) \n",
    "random.shuffle(rhizobialPopulation)\n",
    "\n",
    "for T in range(200):\n",
    "    nods=makeNodules(rhizobialPopulation)\n",
    "    rhizobialPopulation=makeMicrobes(nods,8,2,6,4)\n",
    "    rhizobialPopulation=limit(rhizobialPopulation,10000)\n",
    "    for i in range(2):\n",
    "        data[i].append(rhizobialPopulation.count(i)) #runs through T number of generations \n",
    "    \n",
    "#print (popTrim.count(0))\n",
    "#print (popTrim.count(1))\n",
    "for i in range(2): #plots data \n",
    "    plot (data[i])\n",
    "    title(\"Populations of Cooperators and Cheaters\")\n",
    "    xlabel(\"Generations\")\n",
    "    ylabel(\"Population Size (individuals)\")\n"
   ]
  },
  {
   "cell_type": "markdown",
   "metadata": {},
   "source": [
    "This version has been updated to allow different release rates out of the mixed nodules post nodule senesence. It appears to be the case that plants being able to differentially recognize the rhizobia within a given nodule would likely rapidly drive the cheater population extinct. "
   ]
  },
  {
   "cell_type": "code",
   "execution_count": 8,
   "metadata": {
    "collapsed": false
   },
   "outputs": [
    {
     "data": {
      "image/png": "[encoded data removed]",
      "text/plain": [
       "<matplotlib.figure.Figure at 0x1078adf98>"
      ]
     },
     "metadata": {},
     "output_type": "display_data"
    }
   ],
   "source": [
    "data=[[],[]] #places data into two categories, cooperators and cheaters\n",
    "\n",
    "cooperators=list()\n",
    "cheaters=list()\n",
    "\n",
    "\n",
    "for i in range(5000):\n",
    "    cooperators.append(0)\n",
    "for j in range(5000):\n",
    "    cheaters.append(1)\n",
    "    \n",
    "rhizobialPopulation= (cooperators + cheaters) \n",
    "random.shuffle(rhizobialPopulation)\n",
    "\n",
    "def makeNodules(popMicrobe): #generates nodules based on rhizobial population\n",
    "    nodules=list()\n",
    "    n=0\n",
    "    m=1\n",
    "    while (n<(len(popMicrobe)-1) and (m<(len(popMicrobe)-1))): #runs through for the len of pop\n",
    "        if ((popMicrobe[n])+(popMicrobe[m]))==0:\n",
    "            nodules.append(\"a\")\n",
    "        if ((popMicrobe[n])+(popMicrobe[m]))==2:\n",
    "            nodules.append(\"b\")\n",
    "        if ((popMicrobe[n])+(popMicrobe[m]))==1:\n",
    "            nodules.append(\"c\")\n",
    "        n=n+2\n",
    "        m=m+2\n",
    "    return nodules \n",
    "\n",
    "def immuneResponse(microbeNods, deathRate): #potential effects of overpopulation of cheaters\n",
    "    response=list()\n",
    "    b=0\n",
    "    if (microbeNods.count(\"a\")<microbeNods.count(\"b\")) or (microbeNods.count(\"a\")<(microbeNods.count(\"c\"))):\n",
    "        #microbeNods=microbeNods[:-(len(microbeNods)-(deathRate*(len(microbeNods))))]\n",
    "        #microbeNods=(microbeNods, maxlen=((len(microbeNods))*(deathRate)))\n",
    "        if (len(microbeNods))>int((len(microbeNods)*deathRate)):\n",
    "            microbeNods=microbeNods[:-((len(microbeNods))-int(deathRate*(len(microbeNods))))]\n",
    "    return microbeNods\n",
    "        \n",
    "\n",
    "def makeMicrobes(nodules, coR, chR, mxR): #repopulates soil from senesced nodules\n",
    "    a=0\n",
    "    releasedRhizobia=list()\n",
    "    while(a<len(nodules)):\n",
    "        if nodules[a]==\"a\":\n",
    "            for i in range(coR):\n",
    "                releasedRhizobia.append(0)\n",
    "        if nodules[a]==\"b\":\n",
    "            for j in range(chR):\n",
    "                releasedRhizobia.append(1)\n",
    "        if nodules[a]==\"c\":\n",
    "            for k in range(mxR):\n",
    "                releasedRhizobia.append(0)\n",
    "                releasedRhizobia.append(1)\n",
    "        a=a+1\n",
    "    return releasedRhizobia\n",
    "\n",
    "def limit(microbialList,popSizeLimit): #cuts list down to consistent size. Prevents expo growth\n",
    "    random.shuffle(microbialList)\n",
    "    if len(microbialList)>popSizeLimit:\n",
    "        microbialList=microbialList[:-(len(microbialList)-(popSizeLimit))]\n",
    "    return microbialList\n",
    "\n",
    "\n",
    "for T in range(1000):\n",
    "    nods=makeNodules(rhizobialPopulation)\n",
    "    cutNods=immuneResponse(nods,0.5) #models a mass immune response that doesn't discriminate between types, kills 50% of population when conditions met  \n",
    "    rhizobialPopulation=makeMicrobes(cutNods,8,2,5)\n",
    "    rhizobialPopulation=limit(rhizobialPopulation,10000)\n",
    "    for i in range(2):\n",
    "        data[i].append(rhizobialPopulation.count(i)) #runs through T number of generations \n",
    "\n",
    "for i in range(2): #plots data \n",
    "    plot(data[i])\n",
    "    title(\"Populations of Cooperators and Cheaters\")\n",
    "    xlabel(\"Generations\")\n",
    "    ylabel(\"Population Size (individuals)\")\n"
   ]
  },
  {
   "cell_type": "markdown",
   "metadata": {},
   "source": [
    "This modification was made based on the widepsread immune response that may occur when overexposure to cheaters occurs. Ultimately the population dynamics appear to remain the same. "
   ]
  },
  {
   "cell_type": "markdown",
   "metadata": {
    "collapsed": true
   },
   "source": [
    "# Conclusion/ future goals"
   ]
  },
  {
   "cell_type": "markdown",
   "metadata": {},
   "source": [
    "This model sets a framework for future manipulation of the biological process known as \"sanctioning.\" Here, it is shown the cheaters will exist at low populations in the microbial communities in soil surrounding root systems of plants even when \"sanctioning\" mechanisms are implemented against the cheaters. No \"conclusions\" can be made with any sort of confidence based on the current total number of experiments and nature of the model. \n",
    "\n",
    "For future use, this model will be improved by adding additional functions that allow parameter manipulation across the model through an additional experimental function. Furthermore, this would allow more efficient comparisons between experiments and between parameter manipulations within experiments. "
   ]
  },
  {
   "cell_type": "code",
   "execution_count": null,
   "metadata": {
    "collapsed": true
   },
   "outputs": [],
   "source": []
  }
 ],
 "metadata": {
  "kernelspec": {
   "display_name": "Python 3",
   "language": "python",
   "name": "python3"
  },
  "language_info": {
   "codemirror_mode": {
    "name": "ipython",
    "version": 3
   },
   "file_extension": ".py",
   "mimetype": "text/x-python",
   "name": "python",
   "nbconvert_exporter": "python",
   "pygments_lexer": "ipython3",
   "version": "3.4.3"
  }
 },
 "nbformat": 4,
 "nbformat_minor": 0
}
