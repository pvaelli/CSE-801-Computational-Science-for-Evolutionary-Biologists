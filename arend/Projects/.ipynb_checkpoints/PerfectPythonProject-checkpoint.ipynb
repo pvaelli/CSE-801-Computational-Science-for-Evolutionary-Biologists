{
 "cells": [
  {
   "cell_type": "code",
   "execution_count": 1,
   "metadata": {
    "collapsed": false
   },
   "outputs": [
    {
     "name": "stdout",
     "output_type": "stream",
     "text": [
      "Populating the interactive namespace from numpy and matplotlib\n"
     ]
    }
   ],
   "source": [
    "%pylab inline"
   ]
  },
  {
   "cell_type": "markdown",
   "metadata": {},
   "source": [
    "## Project Description\n",
    "    Explain what the project is about. If this is a computational model, what is the hypothesis\n",
    "    or question, or what is the idea of what you do.\n",
    "    What are boundaries conditions or limitations?\n",
    "    What do you put in the model, what stays out? Why?\n",
    "    \n",
    "    You do data-analysis?\n",
    "    You have a specific function, that is okay,\n",
    "    can this applied on other data sets?\n",
    "    If you have specific file names, write the code more general\n",
    "    so that others could use your methods on other data\n",
    "    "
   ]
  },
  {
   "cell_type": "code",
   "execution_count": 2,
   "metadata": {
    "collapsed": false
   },
   "outputs": [
    {
     "name": "stdout",
     "output_type": "stream",
     "text": [
      "something\n"
     ]
    }
   ],
   "source": [
    "#use comments to say what you do\n",
    "def meaningfulFunctionName(meaningfulParametername):\n",
    "    #this function does ?\n",
    "    #it returns\n",
    "    return \"something\"\n",
    "\n",
    "#add a test to see the function is intact\n",
    "print meaningfulFunctionName(\"some parameter\")"
   ]
  },
  {
   "cell_type": "markdown",
   "metadata": {},
   "source": [
    "### Add ons\n",
    "    You need more functions? Sure explain them!\n",
    "    These comment cells are you only way to talk to me that isn't though code\n",
    "    There are things that don't work 100% or you know shortcomings,\n",
    "    mention them, otherwise I find them and then it is a mistake for sure\n",
    "   "
   ]
  },
  {
   "cell_type": "code",
   "execution_count": 3,
   "metadata": {
    "collapsed": true
   },
   "outputs": [],
   "source": [
    "# obviously your code has specifc variables, or boundary conditions\n",
    "limit=\"Define those up front\"\n",
    "dontUseAConstantNumberSomewhere=\"Define it up front\""
   ]
  },
  {
   "cell_type": "markdown",
   "metadata": {},
   "source": [
    "### Libraries\n",
    "    You need to use exotic or other libraries?\n",
    "    Cool, explain why you use them, include them somewhere prominent\n",
    "    maybe even show a test case"
   ]
  },
  {
   "cell_type": "code",
   "execution_count": 4,
   "metadata": {
    "collapsed": false
   },
   "outputs": [
    {
     "name": "stdout",
     "output_type": "stream",
     "text": [
      "0.504523177475\n"
     ]
    }
   ],
   "source": [
    "import random\n",
    "#this makes random numbers\n",
    "print random.uniform(0.0,1.0)\n",
    "#btw, random isn't an exotic library "
   ]
  },
  {
   "cell_type": "markdown",
   "metadata": {},
   "source": [
    "### Model\n",
    "    Your model has to start somewhere,\n",
    "    add a comment that points out that the important part\n",
    "    is about to follow"
   ]
  },
  {
   "cell_type": "code",
   "execution_count": 6,
   "metadata": {
    "collapsed": false
   },
   "outputs": [
    {
     "name": "stdout",
     "output_type": "stream",
     "text": [
      "1 actions done, 9 more to go\n",
      "2 actions done, 8 more to go\n",
      "3 actions done, 7 more to go\n",
      "4 actions done, 6 more to go\n",
      "5 actions done, 5 more to go\n",
      "6 actions done, 4 more to go\n",
      "7 actions done, 3 more to go\n",
      "8 actions done, 2 more to go\n",
      "9 actions done, 1 more to go\n",
      "10 actions done, 0 more to go\n"
     ]
    }
   ],
   "source": [
    "for i in range(10):\n",
    "    print \"{0} actions done, {1} more to go\".format(i+1,9-i)"
   ]
  },
  {
   "cell_type": "markdown",
   "metadata": {},
   "source": [
    "### Visualization\n",
    "    Everyone, including me wants to see pretty plots\n",
    "    Make them here.\n",
    "    Don't just plot everything, plot the actual results\n",
    "    Plots have axis, label them appropriately\n",
    "    Plots need comments that say what they plot\n",
    "    Errorbars, sure!"
   ]
  },
  {
   "cell_type": "code",
   "execution_count": 8,
   "metadata": {
    "collapsed": false
   },
   "outputs": [
    {
     "data": {
      "text/plain": [
       "<matplotlib.text.Text at 0x104465950>"
      ]
     },
     "execution_count": 8,
     "metadata": {},
     "output_type": "execute_result"
    },
    {
     "data": {
      "image/png": "[encoded data removed]",
      "text/plain": [
       "<matplotlib.figure.Figure at 0x1045da650>"
      ]
     },
     "metadata": {},
     "output_type": "display_data"
    }
   ],
   "source": [
    "plot(range(10),[1,2,3,6,7,8,1,2,3,8])\n",
    "xlabel(\"X\")\n",
    "ylabel(\"Y\")"
   ]
  },
  {
   "cell_type": "markdown",
   "metadata": {},
   "source": [
    "### Conclusions\n",
    "    You did all the work, what is the result?\n",
    "    What did you find?\n",
    "    What didn't you find?\n",
    "    Discuss possible issues"
   ]
  },
  {
   "cell_type": "markdown",
   "metadata": {},
   "source": [
    "## Grades\n",
    "    You get 0-10 points for each of the following categories:\n",
    "    Description\n",
    "    Comments\n",
    "    Clear code, comprehension\n",
    "    Model complexity, accuracy\n",
    "    Visualization\n",
    "    \n",
    "    You can get extra points for:\n",
    "    Code Sophistication\n",
    "    Object Oriented Programming\n",
    "    Exotic Libraries\n",
    "    Something I think exceeds expectations widely"
   ]
  },
  {
   "cell_type": "markdown",
   "metadata": {},
   "source": [
    "### Heads-up grades\n",
    "    You can send in your projects earlier than the deadline,\n",
    "    assuming I have time (likely to very likely) I can give you feedback\n",
    "    and I can guess the grade and tell you what to fix or improve to\n",
    "    get a better (or if you want to worse) grade \n",
    "                 ^\n",
    "                 |\n",
    "    See the parenthesis above? Computer scientists try to make \n",
    "    code anticipate all options, if they make sense is of a lesser\n",
    "    concern. This pertains to data analysis projects, where someone\n",
    "    else might want to use your code for something completely\n",
    "    different, try to be open about this idea and write\n",
    "    more general functions and don't use magic numbers"
   ]
  },
  {
   "cell_type": "code",
   "execution_count": null,
   "metadata": {
    "collapsed": true
   },
   "outputs": [],
   "source": []
  }
 ],
 "metadata": {
  "kernelspec": {
   "display_name": "Python 2",
   "language": "python",
   "name": "python2"
  },
  "language_info": {
   "codemirror_mode": {
    "name": "ipython",
    "version": 2
   },
   "file_extension": ".py",
   "mimetype": "text/x-python",
   "name": "python",
   "nbconvert_exporter": "python",
   "pygments_lexer": "ipython2",
   "version": "2.7.10"
  }
 },
 "nbformat": 4,
 "nbformat_minor": 0
}
