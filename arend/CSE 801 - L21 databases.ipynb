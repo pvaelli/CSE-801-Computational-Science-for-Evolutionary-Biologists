{
 "cells": [
  {
   "cell_type": "code",
   "execution_count": 1,
   "metadata": {
    "collapsed": true
   },
   "outputs": [],
   "source": [
    "import sqlite3"
   ]
  },
  {
   "cell_type": "code",
   "execution_count": 62,
   "metadata": {
    "collapsed": false
   },
   "outputs": [],
   "source": [
    "conn = sqlite3.connect('theNameOfTheDataBase.db')\n",
    "c =conn.cursor()\n",
    "\n",
    "c.execute('''DROP TABLE employees''')\n",
    "\n",
    "c.execute('''CREATE TABLE employees (names text unique,salary real,roomNumber int)''')\n",
    "\n",
    "conn.commit()\n",
    "conn.close()\n",
    "\n"
   ]
  },
  {
   "cell_type": "code",
   "execution_count": 64,
   "metadata": {
    "collapsed": false
   },
   "outputs": [
    {
     "ename": "IntegrityError",
     "evalue": "UNIQUE constraint failed: employees.names",
     "output_type": "error",
     "traceback": [
      "\u001b[0;31m---------------------------------------------------------------------------\u001b[0m",
      "\u001b[0;31mIntegrityError\u001b[0m                            Traceback (most recent call last)",
      "\u001b[0;32m<ipython-input-64-257c753bb6f0>\u001b[0m in \u001b[0;36m<module>\u001b[0;34m()\u001b[0m\n\u001b[1;32m      2\u001b[0m \u001b[0mc\u001b[0m \u001b[0;34m=\u001b[0m \u001b[0mconn\u001b[0m\u001b[0;34m.\u001b[0m\u001b[0mcursor\u001b[0m\u001b[0;34m(\u001b[0m\u001b[0;34m)\u001b[0m\u001b[0;34m\u001b[0m\u001b[0m\n\u001b[1;32m      3\u001b[0m \u001b[0;34m\u001b[0m\u001b[0m\n\u001b[0;32m----> 4\u001b[0;31m \u001b[0mc\u001b[0m\u001b[0;34m.\u001b[0m\u001b[0mexecute\u001b[0m\u001b[0;34m(\u001b[0m\u001b[0;34m\"INSERT INTO employees VALUES ('Philip J. Fry',1000.0,1)\"\u001b[0m\u001b[0;34m)\u001b[0m\u001b[0;34m\u001b[0m\u001b[0m\n\u001b[0m\u001b[1;32m      5\u001b[0m \u001b[0mc\u001b[0m\u001b[0;34m.\u001b[0m\u001b[0mexecute\u001b[0m\u001b[0;34m(\u001b[0m\u001b[0;34m\"INSERT INTO employees VALUES ('Turanga Leela',10000.0,2)\"\u001b[0m\u001b[0;34m)\u001b[0m\u001b[0;34m\u001b[0m\u001b[0m\n\u001b[1;32m      6\u001b[0m \u001b[0mc\u001b[0m\u001b[0;34m.\u001b[0m\u001b[0mexecute\u001b[0m\u001b[0;34m(\u001b[0m\u001b[0;34m\"INSERT INTO employees VALUES ('Bender Bending Rodriguez',100.0,3)\"\u001b[0m\u001b[0;34m)\u001b[0m\u001b[0;34m\u001b[0m\u001b[0m\n",
      "\u001b[0;31mIntegrityError\u001b[0m: UNIQUE constraint failed: employees.names"
     ]
    }
   ],
   "source": [
    "conn = sqlite3.connect('theNameOfTheDataBase.db')\n",
    "c = conn.cursor()\n",
    "\n",
    "c.execute(\"INSERT INTO employees VALUES ('Philip J. Fry',1000.0,1)\")\n",
    "c.execute(\"INSERT INTO employees VALUES ('Turanga Leela',10000.0,2)\")\n",
    "c.execute(\"INSERT INTO employees VALUES ('Bender Bending Rodriguez',100.0,3)\")\n",
    "c.execute(\"INSERT INTO employees VALUES ('Amy Wong',10000.0,2)\")\n",
    "\n",
    "conn.commit()\n",
    "conn.close()"
   ]
  },
  {
   "cell_type": "code",
   "execution_count": 26,
   "metadata": {
    "collapsed": false
   },
   "outputs": [],
   "source": [
    "conn = sqlite3.connect('theNameOfTheDataBase.db')\n",
    "c = conn.cursor()\n",
    "\n",
    "c.execute(\"UPDATE employees SET salary=2000.0 WHERE names='Philip J. Fry'\")\n",
    "\n",
    "conn.commit()\n",
    "conn.close()"
   ]
  },
  {
   "cell_type": "code",
   "execution_count": 33,
   "metadata": {
    "collapsed": false
   },
   "outputs": [
    {
     "name": "stdout",
     "output_type": "stream",
     "text": [
      "[(u'Philip J. Fry', 2000.0, 1), (u'Turanga Leela', 10000.0, 2), (u'Amy Wong', 10000.0, 2), (u'Bender Bending Rodriguez', 100.0, 3)]\n"
     ]
    }
   ],
   "source": [
    "conn = sqlite3.connect('theNameOfTheDataBase.db')\n",
    "c = conn.cursor()\n",
    "\n",
    "print list(c.execute('SELECT * FROM employees WHERE names=\"Philip J. Fry\" OR roomNumber>1 ORDER BY roomNumber'))\n",
    "\n",
    "conn.commit()\n",
    "conn.close()"
   ]
  },
  {
   "cell_type": "code",
   "execution_count": 34,
   "metadata": {
    "collapsed": false
   },
   "outputs": [
    {
     "name": "stdout",
     "output_type": "stream",
     "text": [
      "[(u'Amy Wong', 10000.0, 2), (u'Bender Bending Rodriguez', 100.0, 3), (u'Philip J. Fry', 2000.0, 1)]\n"
     ]
    }
   ],
   "source": [
    "conn = sqlite3.connect('theNameOfTheDataBase.db')\n",
    "c = conn.cursor()\n",
    "\n",
    "print list(c.execute('SELECT * FROM employees WHERE names=\"Amy Wong\" UNION SELECT * FROM employees WHERE salary<5000.0'))\n",
    "\n",
    "conn.commit()\n",
    "conn.close()"
   ]
  },
  {
   "cell_type": "markdown",
   "metadata": {},
   "source": [
    "the awesome tutorial:\n",
    "    http://www.tutorialspoint.com/sqlite/index.htm"
   ]
  },
  {
   "cell_type": "code",
   "execution_count": 44,
   "metadata": {
    "collapsed": false
   },
   "outputs": [],
   "source": [
    "conn = sqlite3.connect('theNameOfTheDataBase.db')\n",
    "c = conn.cursor()\n",
    "\n",
    "\n",
    "#c.execute('''DELETE FROM employees WHERE names=\"Philip J. Fry\"''')\n",
    "c.execute('''ALTER TABLE employees ADD COLUMN \"title\" \"text\"''')\n",
    "\n",
    "conn.commit()\n",
    "conn.close()"
   ]
  },
  {
   "cell_type": "code",
   "execution_count": 55,
   "metadata": {
    "collapsed": false
   },
   "outputs": [],
   "source": [
    "conn = sqlite3.connect('theNameOfTheDataBase.db')\n",
    "c = conn.cursor()\n",
    "\n",
    "c.execute('UPDATE employees SET title=\"regular employee\" WHERE salary>0.0')\n",
    "\n",
    "conn.commit()\n",
    "conn.close()"
   ]
  },
  {
   "cell_type": "code",
   "execution_count": 65,
   "metadata": {
    "collapsed": false
   },
   "outputs": [
    {
     "name": "stdout",
     "output_type": "stream",
     "text": [
      "[(u'Philip J. Fry', 1000.0, 1), (u'Turanga Leela', 10000.0, 2), (u'Bender Bending Rodriguez', 100.0, 3), (u'Amy Wong', 10000.0, 2)]\n"
     ]
    }
   ],
   "source": [
    "conn = sqlite3.connect('theNameOfTheDataBase.db')\n",
    "c = conn.cursor()\n",
    "\n",
    "\n",
    "print list(c.execute('SELECT * FROM employees'))\n",
    "\n",
    "conn.commit()\n",
    "conn.close()"
   ]
  },
  {
   "cell_type": "code",
   "execution_count": 66,
   "metadata": {
    "collapsed": false
   },
   "outputs": [
    {
     "name": "stdout",
     "output_type": "stream",
     "text": [
      "True\n"
     ]
    }
   ],
   "source": [
    "print True"
   ]
  },
  {
   "cell_type": "code",
   "execution_count": 70,
   "metadata": {
    "collapsed": false
   },
   "outputs": [
    {
     "name": "stdout",
     "output_type": "stream",
     "text": [
      "yeah!\n",
      "True\n"
     ]
    }
   ],
   "source": [
    "myBool=False\n",
    "if(myBool==False):\n",
    "    print \"yeah!\"\n",
    "x=12\n",
    "print (x>10)"
   ]
  },
  {
   "cell_type": "code",
   "execution_count": 73,
   "metadata": {
    "collapsed": false
   },
   "outputs": [
    {
     "name": "stdout",
     "output_type": "stream",
     "text": [
      "[0, 0, 0, 1, 1, 1, 0, 0]\n"
     ]
    }
   ],
   "source": [
    "class Agent():\n",
    "    def __init__(self):\n",
    "        self.genome=[0,0,0,1,1,1,0,0]\n",
    "\n",
    "myAgent=Agent()\n",
    "print myAgent.genome"
   ]
  },
  {
   "cell_type": "code",
   "execution_count": 74,
   "metadata": {
    "collapsed": true
   },
   "outputs": [],
   "source": [
    "population=list()\n",
    "for i in range(10):\n",
    "    population.append(Agent())"
   ]
  },
  {
   "cell_type": "code",
   "execution_count": 77,
   "metadata": {
    "collapsed": false
   },
   "outputs": [
    {
     "name": "stdout",
     "output_type": "stream",
     "text": [
      "[0, 0, 0, 1, 1, 1, 0, 0]\n"
     ]
    }
   ],
   "source": [
    "print population[0].genome"
   ]
  },
  {
   "cell_type": "code",
   "execution_count": 79,
   "metadata": {
    "collapsed": false
   },
   "outputs": [
    {
     "name": "stdout",
     "output_type": "stream",
     "text": [
      "[0, 0, 0, 0]\n",
      "[1, 0, 0, 0]\n",
      "[0, 1, 0, 0]\n",
      "[1, 1, 0, 0]\n",
      "[0, 0, 1, 0]\n",
      "[1, 0, 1, 0]\n",
      "[0, 1, 1, 0]\n",
      "[1, 1, 1, 0]\n",
      "[0, 0, 0, 1]\n",
      "[1, 0, 0, 1]\n",
      "[0, 1, 0, 1]\n",
      "[1, 1, 0, 1]\n",
      "[0, 0, 1, 1]\n",
      "[1, 0, 1, 1]\n",
      "[0, 1, 1, 1]\n",
      "[1, 1, 1, 1]\n"
     ]
    }
   ],
   "source": [
    "for i in range(16):\n",
    "    genome=list()\n",
    "    for j in range(4):\n",
    "        genome.append(((i>>j)&1))\n",
    "    print genome"
   ]
  },
  {
   "cell_type": "code",
   "execution_count": null,
   "metadata": {
    "collapsed": true
   },
   "outputs": [],
   "source": []
  }
 ],
 "metadata": {
  "kernelspec": {
   "display_name": "Python 2",
   "language": "python",
   "name": "python2"
  },
  "language_info": {
   "codemirror_mode": {
    "name": "ipython",
    "version": 2
   },
   "file_extension": ".py",
   "mimetype": "text/x-python",
   "name": "python",
   "nbconvert_exporter": "python",
   "pygments_lexer": "ipython2",
   "version": "2.7.10"
  }
 },
 "nbformat": 4,
 "nbformat_minor": 0
}
