{
 "cells": [
  {
   "cell_type": "code",
   "execution_count": 6,
   "metadata": {
    "collapsed": false
   },
   "outputs": [
    {
     "name": "stdout",
     "output_type": "stream",
     "text": [
      "Populating the interactive namespace from numpy and matplotlib\n"
     ]
    },
    {
     "name": "stderr",
     "output_type": "stream",
     "text": [
      "WARNING: pylab import has clobbered these variables: ['random']\n",
      "`%matplotlib` prevents importing * from pylab and numpy\n"
     ]
    }
   ],
   "source": [
    "%pylab inline"
   ]
  },
  {
   "cell_type": "markdown",
   "metadata": {},
   "source": [
    "### Individual Projects\n",
    "    Individual projects are supposed to test you progress in this \n",
    "    class. An IP should show your ability to solve a computational \n",
    "    problem using python. A typical problem could be a small \n",
    "    computational model, a data analysis, or some form of data\n",
    "    manipluation. Completeness of the project is more important \n",
    "    than sophistication!\n",
    "    \n",
    "    A project should typically pose a question (or hypothesis) and \n",
    "    then answer it using a model or comp. method. Keep in mind that\n",
    "    controls, parameter sweeps, and\n",
    "    plots are as important as the actual code. When you design your\n",
    "    projects, try to aim for \"solid\" \"solveable\" \"meaningful\", you can\n",
    "    always add, but you can't finish when you run out of time.\n",
    "    \n",
    "    The project should be an iPython notebook with an introduction,\n",
    "    explanation, and comments. I will read the project from top to \n",
    "    bottom and execute one thing after the other.\n",
    "    The steps should make sense, and I should comprehend what is going\n",
    "    on without additional input.\n",
    "    \n",
    "    The topic of the project will be discussed before hand. Therefor \n",
    "    you need to hand in a project proposal for the first class in\n",
    "    November, as well as you have to give a 2 minute\n",
    "    elevator pitch in class, explaining the project. Feedback from the\n",
    "    others is welcome. After that, we will finalize the project."
   ]
  },
  {
   "cell_type": "code",
   "execution_count": 18,
   "metadata": {
    "collapsed": false
   },
   "outputs": [
    {
     "name": "stdout",
     "output_type": "stream",
     "text": [
      "0.53547659868\n",
      "0.5\n",
      "0.5\n",
      "0.5\n",
      "0.5\n",
      "0.5\n",
      "0.5\n",
      "0.5\n",
      "0.590339442378\n",
      "0.594478709626\n"
     ]
    }
   ],
   "source": [
    "def applyMutation(organism,my):\n",
    "    if (random.uniform(0.0,1.0)<my):\n",
    "        return organism+random.uniform(-0.1,0.1)\n",
    "    return organism\n",
    "\n",
    "for i in range(10):\n",
    "    print applyMutation(0.5,0.2)"
   ]
  },
  {
   "cell_type": "code",
   "execution_count": 19,
   "metadata": {
    "collapsed": true
   },
   "outputs": [],
   "source": [
    "import random\n",
    "from pandas import *\n",
    "\n",
    "#create a population\n",
    "population=list()\n",
    "popSize=100\n",
    "generations=100\n",
    "mutationRate=0.1\n",
    "\n",
    "meanW=list()\n",
    "maxW=list()\n",
    "\n",
    "for n in range(popSize):\n",
    "    #each organism is a random number [0.0,1.0]\n",
    "    population.append(random.uniform(0.0,1.0))\n",
    "    \n",
    "for generation in range(generations):\n",
    "    nextGeneration=list()\n",
    "    meanW.append(mean(population))\n",
    "    maxW.append(max(population))\n",
    "    \n",
    "    while len(nextGeneration)<popSize:\n",
    "        org1=random.randint(0,popSize-1)\n",
    "        org2=random.randint(0,popSize-1)\n",
    "        #while (org1==org2):\n",
    "        #    org2=random.randint(0,popSize-1)\n",
    "        if population[org1]>population[org2]:\n",
    "            #org1 goes into the next gen\n",
    "            nextGeneration.append(applyMutation(population[org1],mutationRate))\n",
    "        else:\n",
    "            #org2 goes into the next gen\n",
    "            nextGeneration.append(applyMutation(population[org2],mutationRate))\n",
    "    population=list(nextGeneration)\n",
    "    "
   ]
  },
  {
   "cell_type": "code",
   "execution_count": 20,
   "metadata": {
    "collapsed": false
   },
   "outputs": [
    {
     "data": {
      "text/plain": [
       "[<matplotlib.lines.Line2D at 0x106071110>]"
      ]
     },
     "execution_count": 20,
     "metadata": {},
     "output_type": "execute_result"
    },
    {
     "data": {
      "image/png": "[encoded data removed]",
      "text/plain": [
       "<matplotlib.figure.Figure at 0x106071f50>"
      ]
     },
     "metadata": {},
     "output_type": "display_data"
    }
   ],
   "source": [
    "plot(meanW,'g')\n",
    "plot(maxW,'r')\n"
   ]
  },
  {
   "cell_type": "markdown",
   "metadata": {},
   "source": [
    "### Elite selection now:"
   ]
  },
  {
   "cell_type": "code",
   "execution_count": 24,
   "metadata": {
    "collapsed": false
   },
   "outputs": [
    {
     "data": {
      "text/plain": [
       "[<matplotlib.lines.Line2D at 0x106071850>]"
      ]
     },
     "execution_count": 24,
     "metadata": {},
     "output_type": "execute_result"
    },
    {
     "data": {
      "image/png": "[encoded data removed]",
      "text/plain": [
       "<matplotlib.figure.Figure at 0x10533d650>"
      ]
     },
     "metadata": {},
     "output_type": "display_data"
    }
   ],
   "source": [
    "import random\n",
    "from pandas import *\n",
    "\n",
    "#create a population\n",
    "population=list()\n",
    "popSize=100\n",
    "generations=100\n",
    "mutationRate=0.1\n",
    "\n",
    "meanW=list()\n",
    "maxW=list()\n",
    "\n",
    "for n in range(popSize):\n",
    "    #each organism is a random number [0.0,1.0]\n",
    "    population.append(random.uniform(0.0,1.0))\n",
    "    \n",
    "for generation in range(generations):\n",
    "    nextGeneration=list()\n",
    "    meanW.append(mean(population))\n",
    "    maxW.append(max(population))\n",
    "    \n",
    "    population.sort()\n",
    "    bestOrganism=population[popSize-1]\n",
    "    while len(nextGeneration)<popSize:\n",
    "        nextGeneration.append(applyMutation(bestOrganism,mutationRate))\n",
    "    population=list(nextGeneration)\n",
    "\n",
    "plot(meanW,'g')\n",
    "plot(maxW,'r')"
   ]
  },
  {
   "cell_type": "markdown",
   "metadata": {},
   "source": [
    "###Fitness proportional selection"
   ]
  },
  {
   "cell_type": "code",
   "execution_count": 27,
   "metadata": {
    "collapsed": false
   },
   "outputs": [
    {
     "data": {
      "text/plain": [
       "[<matplotlib.lines.Line2D at 0x1061abbd0>]"
      ]
     },
     "execution_count": 27,
     "metadata": {},
     "output_type": "execute_result"
    },
    {
     "data": {
      "image/png": "[encoded data removed]",
      "text/plain": [
       "<matplotlib.figure.Figure at 0x1061743d0>"
      ]
     },
     "metadata": {},
     "output_type": "display_data"
    }
   ],
   "source": [
    "import random\n",
    "from pandas import *\n",
    "\n",
    "#create a population\n",
    "population=list()\n",
    "popSize=100\n",
    "generations=100\n",
    "mutationRate=0.1\n",
    "\n",
    "meanW=list()\n",
    "maxW=list()\n",
    "\n",
    "for n in range(popSize):\n",
    "    #each organism is a random number [0.0,1.0]\n",
    "    population.append(random.uniform(0.0,1.0))\n",
    "    \n",
    "for generation in range(generations):\n",
    "    nextGeneration=list()\n",
    "    meanW.append(mean(population))\n",
    "    maxW.append(max(population))\n",
    "    \n",
    "    sumOfFitness=sum(population)\n",
    "    while len(nextGeneration)<popSize:\n",
    "        R=random.uniform(0.0,sumOfFitness)\n",
    "        who=0\n",
    "        while(R>population[who]):\n",
    "            R=R-population[who]\n",
    "            who=who+1\n",
    "        nextGeneration.append(applyMutation(population[who],mutationRate))\n",
    "    population=list(nextGeneration)\n",
    "\n",
    "plot(meanW,'g')\n",
    "plot(maxW,'r')"
   ]
  },
  {
   "cell_type": "markdown",
   "metadata": {},
   "source": [
    "### rejection method"
   ]
  },
  {
   "cell_type": "code",
   "execution_count": 28,
   "metadata": {
    "collapsed": false
   },
   "outputs": [
    {
     "data": {
      "text/plain": [
       "[<matplotlib.lines.Line2D at 0x1063cd610>]"
      ]
     },
     "execution_count": 28,
     "metadata": {},
     "output_type": "execute_result"
    },
    {
     "data": {
      "image/png": "[encoded data removed]",
      "text/plain": [
       "<matplotlib.figure.Figure at 0x106487350>"
      ]
     },
     "metadata": {},
     "output_type": "display_data"
    }
   ],
   "source": [
    "import random\n",
    "from pandas import *\n",
    "\n",
    "#create a population\n",
    "population=list()\n",
    "popSize=100\n",
    "generations=100\n",
    "mutationRate=0.1\n",
    "\n",
    "meanW=list()\n",
    "maxW=list()\n",
    "\n",
    "for n in range(popSize):\n",
    "    #each organism is a random number [0.0,1.0]\n",
    "    population.append(random.uniform(0.0,1.0))\n",
    "    \n",
    "for generation in range(generations):\n",
    "    nextGeneration=list()\n",
    "    meanW.append(mean(population))\n",
    "    highestFitness=max(population)\n",
    "    maxW.append(highestFitness)\n",
    "    \n",
    "    while len(nextGeneration)<popSize:\n",
    "        who=random.randint(0,popSize-1)\n",
    "        while (random.uniform(0.0,1.0)>(population[who]/highestFitness)):\n",
    "            who=random.randint(0,popSize-1)\n",
    "        \n",
    "        nextGeneration.append(applyMutation(population[who],mutationRate))\n",
    "    population=list(nextGeneration)\n",
    "\n",
    "plot(meanW,'g')\n",
    "plot(maxW,'r')"
   ]
  },
  {
   "cell_type": "code",
   "execution_count": 6,
   "metadata": {
    "collapsed": false
   },
   "outputs": [],
   "source": [
    "class Agent:\n",
    "    def initialize(self):\n",
    "        self.w=0.0\n",
    "        self.genome=list()"
   ]
  },
  {
   "cell_type": "code",
   "execution_count": 7,
   "metadata": {
    "collapsed": false
   },
   "outputs": [],
   "source": [
    "dude=Agent()\n",
    "dude.initialize()"
   ]
  },
  {
   "cell_type": "code",
   "execution_count": 8,
   "metadata": {
    "collapsed": false
   },
   "outputs": [
    {
     "name": "stdout",
     "output_type": "stream",
     "text": [
      "0.0\n"
     ]
    }
   ],
   "source": [
    "print dude.w"
   ]
  },
  {
   "cell_type": "code",
   "execution_count": null,
   "metadata": {
    "collapsed": true
   },
   "outputs": [],
   "source": []
  }
 ],
 "metadata": {
  "kernelspec": {
   "display_name": "Python 2",
   "language": "python",
   "name": "python2"
  },
  "language_info": {
   "codemirror_mode": {
    "name": "ipython",
    "version": 2
   },
   "file_extension": ".py",
   "mimetype": "text/x-python",
   "name": "python",
   "nbconvert_exporter": "python",
   "pygments_lexer": "ipython2",
   "version": "2.7.10"
  }
 },
 "nbformat": 4,
 "nbformat_minor": 0
}
