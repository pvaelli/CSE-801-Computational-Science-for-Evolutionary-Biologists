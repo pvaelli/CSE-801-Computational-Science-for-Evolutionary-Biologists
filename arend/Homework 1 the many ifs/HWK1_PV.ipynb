{
 "cells": [
  {
   "cell_type": "markdown",
   "metadata": {},
   "source": [
    "a is going to be a number between 0 and 2 [0,2]\n",
    "b is going to be an number between 0 and 3\n",
    "\n",
    "find the difference between both numbers without using math!\n",
    "\n",
    "Once completed save this file in the dropbox, use the follwing naming convention\n",
    "HW1_PV\n",
    "HW for homework, 1 for hwk one, and PV for Patric Vaelli\n",
    "\n",
    "Deliver until Monday evening at 5pm!"
   ]
  },
  {
   "cell_type": "code",
   "execution_count": 182,
   "metadata": {
    "collapsed": false
   },
   "outputs": [
    {
     "name": "stdout",
     "output_type": "stream",
     "text": [
      "the difference is three\n",
      "0\n",
      "3\n"
     ]
    }
   ],
   "source": [
    "import random\n",
    "a=random.randint(0,2)\n",
    "b=random.randint(0,3) # these commands give us a random integer value within set boundries and includes the boundries!\n",
    "\n",
    "if a==b:\n",
    "    print \"the difference is zero\"\n",
    "    \n",
    "else:\n",
    "    if a == 0:\n",
    "        if b == 1:\n",
    "            print \"the difference is one\"\n",
    "        elif b == 2:\n",
    "            print \"the difference is two\"\n",
    "        else:\n",
    "            print \"the difference is three\"\n",
    "    elif a == 1:\n",
    "        if b == 3:\n",
    "            print \"the difference is two\"\n",
    "        else:\n",
    "            print \"the difference is one\"\n",
    "    else:\n",
    "        if b == 0:\n",
    "            print \"the difference is two\"\n",
    "        else:\n",
    "            print \"the difference is one\"\n",
    "\n",
    "print a\n",
    "print b"
   ]
  },
  {
   "cell_type": "code",
   "execution_count": null,
   "metadata": {
    "collapsed": true
   },
   "outputs": [],
   "source": []
  },
  {
   "cell_type": "code",
   "execution_count": null,
   "metadata": {
    "collapsed": true
   },
   "outputs": [],
   "source": []
  }
 ],
 "metadata": {
  "kernelspec": {
   "display_name": "Python 2",
   "language": "python",
   "name": "python2"
  },
  "language_info": {
   "codemirror_mode": {
    "name": "ipython",
    "version": 2
   },
   "file_extension": ".py",
   "mimetype": "text/x-python",
   "name": "python",
   "nbconvert_exporter": "python",
   "pygments_lexer": "ipython2",
   "version": "2.7.10"
  }
 },
 "nbformat": 4,
 "nbformat_minor": 0
}
