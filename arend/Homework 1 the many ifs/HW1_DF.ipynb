{
 "cells": [
  {
   "cell_type": "code",
   "execution_count": 1,
   "metadata": {
    "collapsed": false
   },
   "outputs": [
    {
     "name": "stdout",
     "output_type": "stream",
     "text": [
      "a=2 b=2 difference=0\n"
     ]
    }
   ],
   "source": [
    "import random\n",
    "a=random.randint(0,2)\n",
    "b=random.randint(0,3)\n",
    "if (a==b):\n",
    "    c=0\n",
    "else:\n",
    "    if (a<2 and b<2) or (0<a<3 and 0<b<3) or (1<a<4 and 1<b<4):\n",
    "        c=1\n",
    "    else:\n",
    "        if (a<3 and b<3) or (0<a<4 and 0<b<4):\n",
    "            c=2\n",
    "        else:\n",
    "            c=3\n",
    "print \"a=\"+str(a)+\" b=\"+str(b)+\" difference=\"+str(c)"
   ]
  },
  {
   "cell_type": "code",
   "execution_count": null,
   "metadata": {
    "collapsed": true
   },
   "outputs": [],
   "source": []
  }
 ],
 "metadata": {
  "kernelspec": {
   "display_name": "Python 2",
   "language": "python",
   "name": "python2"
  },
  "language_info": {
   "codemirror_mode": {
    "name": "ipython",
    "version": 2
   },
   "file_extension": ".py",
   "mimetype": "text/x-python",
   "name": "python",
   "nbconvert_exporter": "python",
   "pygments_lexer": "ipython2",
   "version": "2.7.10"
  }
 },
 "nbformat": 4,
 "nbformat_minor": 0
}
