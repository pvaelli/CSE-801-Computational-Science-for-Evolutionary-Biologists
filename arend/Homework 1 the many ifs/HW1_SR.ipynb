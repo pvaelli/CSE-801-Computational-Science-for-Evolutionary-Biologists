{
 "cells": [
  {
   "cell_type": "code",
   "execution_count": 1,
   "metadata": {
    "collapsed": false
   },
   "outputs": [
    {
     "name": "stdout",
     "output_type": "stream",
     "text": [
      "The difference is zero\n"
     ]
    }
   ],
   "source": [
    "a=1\n",
    "b=1\n",
    "if (((a==0) and (b==0)) or ((a==1) and (b==1)) or ((a==2) and (b==2))):\n",
    "    print (\"The difference is zero\")\n",
    "else: \n",
    "    if (((a==1) and (b==0)) or ((a==2) and (b==1)) or ((b==1) and (a==0)) or ((b==2) and (a==1)) or ((b==3) and (a==2))):\n",
    "        print (\"The differnce is one\")\n",
    "    else: \n",
    "        if (((a==2) and (b==0)) or ((b==2) and (a==0)) or ((b==3) and (a==1))):\n",
    "            print (\"The difference is two\")\n",
    "        else:\n",
    "            print (\"The difference is three\")"
   ]
  }
 ],
 "metadata": {
  "kernelspec": {
   "display_name": "Python 3",
   "language": "python",
   "name": "python3"
  },
  "language_info": {
   "codemirror_mode": {
    "name": "ipython",
    "version": 3
   },
   "file_extension": ".py",
   "mimetype": "text/x-python",
   "name": "python",
   "nbconvert_exporter": "python",
   "pygments_lexer": "ipython3",
   "version": "3.4.3"
  }
 },
 "nbformat": 4,
 "nbformat_minor": 0
}
