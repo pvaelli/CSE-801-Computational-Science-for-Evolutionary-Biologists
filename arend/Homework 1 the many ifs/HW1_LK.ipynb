{
 "cells": [
  {
   "cell_type": "markdown",
   "metadata": {},
   "source": [
    "a is a number between 0 and 2 [0,2]\n",
    "    \n",
    "    means including [0,2]\n",
    "\n",
    "b is going to be a number between 0 and 3 [0,3]\n",
    "\n",
    "find the difference between both numbers without using math!"
   ]
  },
  {
   "cell_type": "code",
   "execution_count": 13,
   "metadata": {
    "collapsed": false
   },
   "outputs": [
    {
     "name": "stdout",
     "output_type": "stream",
     "text": [
      "The difference is two\n"
     ]
    }
   ],
   "source": [
    "a=2\n",
    "b=0\n",
    "if (a==b):\n",
    "    print \"The difference is zero\"\n",
    "else:\n",
    "    if (a==0) and (b==3):\n",
    "        print \"The differences is three\"\n",
    "    else:\n",
    "        if ((a==0) and (b==2)) or ((a==1) and (b==3)) or ((a==2) and (b==0)):\n",
    "            print \"The difference is two\"\n",
    "        else:\n",
    "            print \"The difference is one\""
   ]
  },
  {
   "cell_type": "code",
   "execution_count": null,
   "metadata": {
    "collapsed": true
   },
   "outputs": [],
   "source": []
  }
 ],
 "metadata": {
  "kernelspec": {
   "display_name": "Python 2",
   "language": "python",
   "name": "python2"
  },
  "language_info": {
   "codemirror_mode": {
    "name": "ipython",
    "version": 2
   },
   "file_extension": ".py",
   "mimetype": "text/x-python",
   "name": "python",
   "nbconvert_exporter": "python",
   "pygments_lexer": "ipython2",
   "version": "2.7.10"
  }
 },
 "nbformat": 4,
 "nbformat_minor": 0
}
