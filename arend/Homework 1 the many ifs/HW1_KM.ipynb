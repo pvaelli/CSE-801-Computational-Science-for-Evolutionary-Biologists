{
 "cells": [
  {
   "cell_type": "code",
   "execution_count": 18,
   "metadata": {
    "collapsed": false
   },
   "outputs": [
    {
     "name": "stdout",
     "output_type": "stream",
     "text": [
      "1\n",
      "1\n"
     ]
    }
   ],
   "source": [
    "#Homework 1, Kyle Metta \n",
    "import random\n",
    "a=random.randint(0,2)\n",
    "b=random.randint(0,3)\n",
    "c=abs(b-a) #correct answer\n",
    "if (a<1):\n",
    "    print b\n",
    "else:\n",
    "    if (b<1):\n",
    "        print a\n",
    "    else:\n",
    "        if (a==b):\n",
    "            print 0\n",
    "        else:\n",
    "            if (a==1) and (b==3):\n",
    "                print 2\n",
    "            else:\n",
    "                print 1\n",
    "print c\n",
    "#to check if answer is correct"
   ]
  },
  {
   "cell_type": "code",
   "execution_count": null,
   "metadata": {
    "collapsed": true
   },
   "outputs": [],
   "source": []
  }
 ],
 "metadata": {
  "kernelspec": {
   "display_name": "Python 2",
   "language": "python",
   "name": "python2"
  },
  "language_info": {
   "codemirror_mode": {
    "name": "ipython",
    "version": 2
   },
   "file_extension": ".py",
   "mimetype": "text/x-python",
   "name": "python",
   "nbconvert_exporter": "python",
   "pygments_lexer": "ipython2",
   "version": "2.7.10"
  }
 },
 "nbformat": 4,
 "nbformat_minor": 0
}
