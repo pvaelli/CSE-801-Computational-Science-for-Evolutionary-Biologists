{
 "cells": [
  {
   "cell_type": "code",
   "execution_count": 2,
   "metadata": {
    "collapsed": false
   },
   "outputs": [
    {
     "name": "stdout",
     "output_type": "stream",
     "text": [
      "There is no difference!\n",
      "1 1\n",
      "1 1\n",
      "set([0, 2])\n"
     ]
    }
   ],
   "source": [
    "import random\n",
    "a=random.randint(0,2)\n",
    "b=random.randint(0,3)\n",
    "\n",
    "# All options for zero difference between the pairs of numbers\n",
    "if (((a<1) and (b<1)) or (((a>0) and (a <2)) and ((b>0) and (b<2))) or ((a>1) and ((b<3) and (b>1)))):\n",
    "    print \"There is no difference!\"\n",
    "else: \n",
    "# All options for a difference of one\n",
    "    if ((a<1) and ((b<2) and (b>0))) or (((a>0) and (a <2)) and (b<1)) or (((a>0) and (a <2)) and ((b<3) and (b>1))) or ((a>1) and ((b>0) and (b<2))) or ((a>1) and (b>2)):\n",
    "        print \"There is a difference of one!\"\n",
    "    else: \n",
    "# All options for a difference of two\n",
    "            if (((a<1) and ((b>1) and (b<3))) or ((a<1) and ((b>1) and (b>3))) or ((b>2) and ((a>0) and (a<2)))):\n",
    "                print \"There is a difference of two!\"\n",
    "            else: \n",
    "                print \"There is a difference of three!\"\n",
    "print \"{0} {1}\".format(a,b)   \n",
    "print str(a)+\" \"+str(b)\n",
    "\n"
   ]
  },
  {
   "cell_type": "code",
   "execution_count": 34,
   "metadata": {
    "collapsed": true
   },
   "outputs": [],
   "source": [
    "import random\n",
    "a=random.randint(0,2)\n",
    "b=random.randint(0,3)"
   ]
  },
  {
   "cell_type": "code",
   "execution_count": null,
   "metadata": {
    "collapsed": true
   },
   "outputs": [],
   "source": []
  }
 ],
 "metadata": {
  "kernelspec": {
   "display_name": "Python 2",
   "language": "python",
   "name": "python2"
  },
  "language_info": {
   "codemirror_mode": {
    "name": "ipython",
    "version": 2
   },
   "file_extension": ".py",
   "mimetype": "text/x-python",
   "name": "python",
   "nbconvert_exporter": "python",
   "pygments_lexer": "ipython2",
   "version": "2.7.10"
  }
 },
 "nbformat": 4,
 "nbformat_minor": 0
}
