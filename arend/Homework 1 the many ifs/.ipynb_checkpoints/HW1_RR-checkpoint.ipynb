{
 "cells": [
  {
   "cell_type": "code",
   "execution_count": 10,
   "metadata": {
    "collapsed": false
   },
   "outputs": [
    {
     "name": "stdout",
     "output_type": "stream",
     "text": [
      "a=2\n",
      "b=3\n",
      "the difference is 1\n"
     ]
    }
   ],
   "source": [
    "import random\n",
    "a=random.randint(0,2)\n",
    "b=random.randint(0,3)\n",
    "print (\"a=\"+str(a))\n",
    "print (\"b=\"+str(b))\n",
    "if (a==0):\n",
    "    print(\"the difference is\"+str(b))\n",
    "if (b==0):\n",
    "    print(\"the difference is\"+str(a))\n",
    "if (a==b):\n",
    "    print (\"the difference is 0\")\n",
    "if (a==1) and (b==3):\n",
    "    print (\"the difference is 2\")\n",
    "elif (a!=0) and (b!=0):\n",
    "    print (\"the difference is 1\")\n",
    "    \n"
   ]
  },
  {
   "cell_type": "markdown",
   "metadata": {},
   "source": [
    "Couple of comments"
   ]
  },
  {
   "cell_type": "markdown",
   "metadata": {},
   "source": [
    "1. For the case where a=0 and b=0, the code results in multiple outputs. All of them are identical, but could you let us know if there are 'end of program' commands which would terminate the program at the line they are on? This would have made the program a tad bit shorter. \n",
    "2. For the last condition, I have cheated a bit by using 'elif'. I could have used:\n",
    "if ((a!=1) and (b!=3)) and ((a!=0) and (b!=0))\n",
    "However, I wanted to know if there is an 'else if' substitute in python and found that 'elif' exists. So, I used it. I hope that is not a problem. "
   ]
  },
  {
   "cell_type": "code",
   "execution_count": null,
   "metadata": {
    "collapsed": true
   },
   "outputs": [],
   "source": []
  }
 ],
 "metadata": {
  "kernelspec": {
   "display_name": "Python 2",
   "language": "python",
   "name": "python2"
  },
  "language_info": {
   "codemirror_mode": {
    "name": "ipython",
    "version": 2
   },
   "file_extension": ".py",
   "mimetype": "text/x-python",
   "name": "python",
   "nbconvert_exporter": "python",
   "pygments_lexer": "ipython2",
   "version": "2.7.10"
  }
 },
 "nbformat": 4,
 "nbformat_minor": 0
}
