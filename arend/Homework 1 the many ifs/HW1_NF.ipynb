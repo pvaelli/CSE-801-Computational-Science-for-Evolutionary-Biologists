{
 "cells": [
  {
   "cell_type": "code",
   "execution_count": 1,
   "metadata": {
    "collapsed": false
   },
   "outputs": [
    {
     "name": "stdout",
     "output_type": "stream",
     "text": [
      "B minus A = 0\n"
     ]
    }
   ],
   "source": [
    "b=0,1,2,3\n",
    "a=0,1,2\n",
    "a=2\n",
    "b=2\n",
    "if(b>a) and (a==0) and (b==3):\n",
    "    print\"B minus A = 3\"\n",
    "else: \n",
    "    if((b>a) and (a==0) and (b==2)) or (a==1) and (b==3):\n",
    "        print\"B minus A = 2\"\n",
    "    else:\n",
    "        if((b>a) and (a==0) and (b==1)) or ((a==1) and (b==2)) or ((a==2) and (b==3)):\n",
    "            print\"B minus A = 1\"\n",
    "        else:\n",
    "            if(b==a):\n",
    "                print \"B minus A = 0\"\n",
    "            else:\n",
    "                if((b<a) and (a==2) and (b==1)) or ((a==1) and (b==0)):\n",
    "                    print\"B minus A = -1\"\n",
    "                else:\n",
    "                    if(b<a) and (a==2):\n",
    "                        print\"B minus A = -2\""
   ]
  },
  {
   "cell_type": "code",
   "execution_count": null,
   "metadata": {
    "collapsed": true
   },
   "outputs": [],
   "source": []
  }
 ],
 "metadata": {
  "kernelspec": {
   "display_name": "Python 2",
   "language": "python",
   "name": "python2"
  },
  "language_info": {
   "codemirror_mode": {
    "name": "ipython",
    "version": 2
   },
   "file_extension": ".py",
   "mimetype": "text/x-python",
   "name": "python",
   "nbconvert_exporter": "python",
   "pygments_lexer": "ipython2",
   "version": "2.7.10"
  }
 },
 "nbformat": 4,
 "nbformat_minor": 0
}
