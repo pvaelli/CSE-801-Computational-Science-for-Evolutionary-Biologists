{
 "cells": [
  {
   "cell_type": "code",
   "execution_count": 1,
   "metadata": {
    "collapsed": false
   },
   "outputs": [
    {
     "name": "stdout",
     "output_type": "stream",
     "text": [
      "2\n",
      "2\n",
      "The difference between a and b is 0.\n"
     ]
    }
   ],
   "source": [
    "import random\n",
    "a=random.randint(0,2)\n",
    "b=random.randint(0,3)\n",
    "print a\n",
    "print b\n",
    "\n",
    "if (b==3) and (a==0):\n",
    "    print \"The difference between a and b is 3.\"\n",
    "else:\n",
    "    if (a==b):\n",
    "        print \"The difference between a and b is 0.\"  \n",
    "    else:\n",
    "        if ((a==2) and (b==0)) or ((a==1) and (b==3)) or ((a==0) and (b==2)):\n",
    "            print \"The difference between a and b is 2.\"\n",
    "        else:\n",
    "            print \"The difference between a and b is 1.\""
   ]
  },
  {
   "cell_type": "code",
   "execution_count": null,
   "metadata": {
    "collapsed": true
   },
   "outputs": [],
   "source": []
  }
 ],
 "metadata": {
  "kernelspec": {
   "display_name": "Python 2",
   "language": "python",
   "name": "python2"
  },
  "language_info": {
   "codemirror_mode": {
    "name": "ipython",
    "version": 2
   },
   "file_extension": ".py",
   "mimetype": "text/x-python",
   "name": "python",
   "nbconvert_exporter": "python",
   "pygments_lexer": "ipython2",
   "version": "2.7.10"
  }
 },
 "nbformat": 4,
 "nbformat_minor": 0
}
