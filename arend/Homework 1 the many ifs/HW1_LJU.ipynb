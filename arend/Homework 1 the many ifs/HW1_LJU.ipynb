{
 "cells": [
  {
   "cell_type": "markdown",
   "metadata": {},
   "source": [
    "a = [0,2]\n",
    "b = [0, 3]\n",
    "return the difference between a and b"
   ]
  },
  {
   "cell_type": "code",
   "execution_count": 36,
   "metadata": {
    "collapsed": false
   },
   "outputs": [
    {
     "name": "stdout",
     "output_type": "stream",
     "text": [
      "a=0\n",
      "b=0\n",
      "|a-b|=0\n"
     ]
    }
   ],
   "source": [
    "import random\n",
    "a=random.randint(0,2)\n",
    "b=random.randint(0,3)\n",
    "\n",
    "print \"a=\" + str(a)\n",
    "print \"b=\" + str(b)\n",
    "\n",
    "if ((a==b)):\n",
    "    print \"|a-b|=0\"\n",
    "if ((a==0) and (b==1)) or ((a==1) and (b==2)) or ((a==2) and (b==3)) or ((b==0) and (a==1)) or ((b==1) and (a==2)):\n",
    "    print \"|a-b|=1\"\n",
    "if ((a==0) and (b==2)) or ((a==1) and (b==3)) or ((b==0) and (a==2)):\n",
    "    print \"|a-b|=2\"\n",
    "if ((a==0) and (b==3)):\n",
    "    print \"|a-b|=3\""
   ]
  }
 ],
 "metadata": {
  "kernelspec": {
   "display_name": "Python 2",
   "language": "python",
   "name": "python2"
  },
  "language_info": {
   "codemirror_mode": {
    "name": "ipython",
    "version": 2
   },
   "file_extension": ".py",
   "mimetype": "text/x-python",
   "name": "python",
   "nbconvert_exporter": "python",
   "pygments_lexer": "ipython2",
   "version": "2.7.10"
  }
 },
 "nbformat": 4,
 "nbformat_minor": 0
}
