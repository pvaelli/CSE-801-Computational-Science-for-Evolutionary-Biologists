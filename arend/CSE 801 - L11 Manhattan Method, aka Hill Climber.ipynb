{
 "cells": [
  {
   "cell_type": "code",
   "execution_count": null,
   "metadata": {
    "collapsed": true
   },
   "outputs": [],
   "source": [
    "targetString=\"This is the target string\"\n",
    "currentSolution=\"This isethe1targrt strrng\"\n",
    "while targetString!=currentSolution:\n",
    "    print \"do something\""
   ]
  },
  {
   "cell_type": "code",
   "execution_count": 3,
   "metadata": {
    "collapsed": false
   },
   "outputs": [
    {
     "name": "stdout",
     "output_type": "stream",
     "text": [
      "not the same\n"
     ]
    }
   ],
   "source": [
    "targetString=\"This is the target string\"\n",
    "currentSolution=\"This isethe1targrt strrng\"\n",
    "if targetString==currentSolution:\n",
    "    print \"the same\"\n",
    "else:\n",
    "    print \"not the same\""
   ]
  },
  {
   "cell_type": "code",
   "execution_count": 7,
   "metadata": {
    "collapsed": false
   },
   "outputs": [
    {
     "name": "stdout",
     "output_type": "stream",
     "text": [
      "4\n"
     ]
    }
   ],
   "source": [
    "def difference(str1,str2):\n",
    "    #if len(str1)!=len(str2):\n",
    "    #    print \"warning\"\n",
    "    L1=list(str1)\n",
    "    L2=list(str2)\n",
    "    D=0\n",
    "    for i in range(len(L1)):\n",
    "        if L1[i]!=L2[i]:\n",
    "            D=D+1\n",
    "    return D\n",
    "\n",
    "print difference(\"hello\",\"1234o\")"
   ]
  },
  {
   "cell_type": "code",
   "execution_count": 5,
   "metadata": {
    "collapsed": false
   },
   "outputs": [
    {
     "name": "stdout",
     "output_type": "stream",
     "text": [
      "['h', 'e', 'l', 'l', 'o']\n"
     ]
    }
   ],
   "source": [
    "print list(\"hello\")"
   ]
  },
  {
   "cell_type": "code",
   "execution_count": 14,
   "metadata": {
    "collapsed": false
   },
   "outputs": [
    {
     "name": "stdout",
     "output_type": "stream",
     "text": [
      "GXVR}BDS~,\n"
     ]
    }
   ],
   "source": [
    "import random\n",
    "import string\n",
    "def makeRandomString(ofLength):\n",
    "    S=list()\n",
    "    for i in range(ofLength):\n",
    "        S.append(string.printable[random.randint(0,len(string.printable)-1)])\n",
    "    return \"\".join(S)\n",
    "\n",
    "print makeRandomString(10)"
   ]
  },
  {
   "cell_type": "code",
   "execution_count": 43,
   "metadata": {
    "collapsed": false
   },
   "outputs": [
    {
     "name": "stdout",
     "output_type": "stream",
     "text": [
      "Ar0nd\n"
     ]
    }
   ],
   "source": [
    "def mutateCharacter(templateString):\n",
    "    S=list(templateString)\n",
    "    where=random.randint(0,len(S)-1)\n",
    "    S[where]=string.printable[random.randint(0,len(string.printable)-1)]\n",
    "    return \"\".join(S)\n",
    "\n",
    "print mutateCharacter(\"Arend\")"
   ]
  },
  {
   "cell_type": "code",
   "execution_count": 9,
   "metadata": {
    "collapsed": false
   },
   "outputs": [
    {
     "name": "stdout",
     "output_type": "stream",
     "text": [
      "0123456789abcdefghijklmnopqrstuvwxyzABCDEFGHIJKLMNOPQRSTUVWXYZ!\"#$%&'()*+,-./:;<=>?@[\\]^_`{|}~ \t\n",
      "\r",
      "\u000b",
      "\f",
      "\n"
     ]
    }
   ],
   "source": [
    "print string.printable"
   ]
  },
  {
   "cell_type": "code",
   "execution_count": 11,
   "metadata": {
    "collapsed": false
   },
   "outputs": [
    {
     "data": {
      "text/plain": [
       "45"
      ]
     },
     "execution_count": 11,
     "metadata": {},
     "output_type": "execute_result"
    }
   ],
   "source": [
    "random.randint(0,len(string.printable)-1)"
   ]
  },
  {
   "cell_type": "code",
   "execution_count": 13,
   "metadata": {
    "collapsed": false
   },
   "outputs": [
    {
     "ename": "NameError",
     "evalue": "name 'join' is not defined",
     "output_type": "error",
     "traceback": [
      "\u001b[0;31m---------------------------------------------------------------------------\u001b[0m",
      "\u001b[0;31mNameError\u001b[0m                                 Traceback (most recent call last)",
      "\u001b[0;32m<ipython-input-13-c00138e5dfad>\u001b[0m in \u001b[0;36m<module>\u001b[0;34m()\u001b[0m\n\u001b[0;32m----> 1\u001b[0;31m \u001b[0;32mprint\u001b[0m \u001b[0mjoin\u001b[0m\u001b[0;34m(\u001b[0m\u001b[0;34m[\u001b[0m\u001b[0;34m\"a\"\u001b[0m\u001b[0;34m,\u001b[0m\u001b[0;34m\"b\"\u001b[0m\u001b[0;34m,\u001b[0m\u001b[0;34m\"c\"\u001b[0m\u001b[0;34m]\u001b[0m\u001b[0;34m)\u001b[0m\u001b[0;34m\u001b[0m\u001b[0m\n\u001b[0m",
      "\u001b[0;31mNameError\u001b[0m: name 'join' is not defined"
     ]
    }
   ],
   "source": [
    "print \"\".join([\"a\",\"b\",\"c\"])"
   ]
  },
  {
   "cell_type": "code",
   "execution_count": 15,
   "metadata": {
    "collapsed": false
   },
   "outputs": [
    {
     "name": "stdout",
     "output_type": "stream",
     "text": [
      "yes\n"
     ]
    }
   ],
   "source": [
    "if \" \" in string.printable:\n",
    "    print \"yes\""
   ]
  },
  {
   "cell_type": "markdown",
   "metadata": {},
   "source": [
    "    make random string\n",
    "    define a target string\n",
    "    run until currentString is the targetString\n",
    "        make a mutated string from the currentString\n",
    "        compare the currentString and the mutatedString\n",
    "        keep the better\n",
    "    "
   ]
  },
  {
   "cell_type": "code",
   "execution_count": 44,
   "metadata": {
    "collapsed": false
   },
   "outputs": [
    {
     "name": "stdout",
     "output_type": "stream",
     "text": [
      "2 25 ^*`?;/#46.4Za` L7<UkEC5nMA\n",
      "13 24 ^*`?;/#46.4Za` L7<UsEC5nMA\n",
      "62 23 ^*`?;/#46.4Za` LE<UsEC5nMA\n",
      "240 22 ^*`?;/#46.4 a` LE<UsEC5nMA\n",
      "356 21 ^*i?;/#46.4 a` LE<UsEC5nMA\n",
      "463 20 ^*i?;/#46.4 a` LE<UsEC5ngA\n",
      "600 19 ^*i?;/#46.4 aA LE<UsEC5ngA\n",
      "953 18 T*i?;/#46.4 aA LE<UsEC5ngA\n",
      "1075 17 Thi?;/#46.4 aA LE<UsEC5ngA\n",
      "1325 16 Thi?;i#46.4 aA LE<UsEC5ngA\n",
      "1373 15 Thi?;i#46.4 aA LE<UsEr5ngA\n",
      "1535 14 Thi?;i#46.4 TA LE<UsEr5ngA\n",
      "1667 13 Thi?;i#46h4 TA LE<UsEr5ngA\n",
      "1779 12 Thi?;i#46h4 TA GE<UsEr5ngA\n",
      "1892 11 Thi?;is46h4 TA GE<UsEr5ngA\n",
      "2163 10 Thi?;is4th4 TA GE<UsEr5ngA\n",
      "2630 9 Thi?;is4th4 TARGE<UsEr5ngA\n",
      "3050 8 Thi? is4th4 TARGE<UsEr5ngA\n",
      "3301 7 Thi? is th4 TARGE<UsEr5ngA\n",
      "3329 6 Thi? is the TARGE<UsEr5ngA\n",
      "3331 5 This is the TARGE<UsEr5ngA\n",
      "3932 4 This is the TARGE< sEr5ngA\n",
      "4946 3 This is the TARGE< str5ngA\n",
      "5031 2 This is the TARGE< stringA\n",
      "6408 1 This is the TARGE< string!\n",
      "9821 0 This is the TARGET string!\n"
     ]
    }
   ],
   "source": [
    "targetString=\"This is the TARGET string!\"\n",
    "currentString=makeRandomString(len(targetString))\n",
    "n=0\n",
    "diff=difference(targetString,currentString)\n",
    "while (diff!=0):\n",
    "    n=n+1\n",
    "    mutatedString=mutateCharacter(currentString)\n",
    "    mutDiff=difference(targetString,mutatedString)\n",
    "    if mutDiff<diff:\n",
    "        currentString=mutatedString\n",
    "        diff=mutDiff\n",
    "        print \"{0} {1} {2}\".format(n,diff,currentString)"
   ]
  },
  {
   "cell_type": "code",
   "execution_count": 41,
   "metadata": {
    "collapsed": false
   },
   "outputs": [
    {
     "name": "stdout",
     "output_type": "stream",
     "text": [
      "0\n"
     ]
    }
   ],
   "source": [
    "L=[1,2,3]\n",
    "print L.index(min(L))"
   ]
  },
  {
   "cell_type": "code",
   "execution_count": 36,
   "metadata": {
    "collapsed": false
   },
   "outputs": [
    {
     "name": "stdout",
     "output_type": "stream",
     "text": [
      "1\n",
      "3\n",
      "3\n"
     ]
    }
   ],
   "source": [
    "def gimmeTwo():\n",
    "    return 1,3\n",
    "a,b=gimmeTwo()\n",
    "print a\n",
    "print b\n",
    "c=gimmeTwo()\n",
    "print c[1]"
   ]
  },
  {
   "cell_type": "code",
   "execution_count": 65,
   "metadata": {
    "collapsed": false,
    "scrolled": false
   },
   "outputs": [
    {
     "name": "stdout",
     "output_type": "stream",
     "text": [
      "2 918 h\t)kSv*+3\n",
      "TR8:S>ns,n_gBE'P\n",
      "4 882 h\t)kSv*+3\n",
      "TR8:S>@s,n_gBE'P\n",
      "5 878 h\t)kSv*'3\n",
      "TR8:S>@s,n_gBE'P\n",
      "6 870 H\t)kSv*'3\n",
      "TR8:S>@s,n_gBE'P\n",
      "7 862 H\t)kSv*'3\n",
      "\\R8:S>@s,n_gBE'P\n",
      "9 824 H\t)kSv*'3\n",
      "\\R8:S>@s,n_gBE'*\n",
      "11 806 H\t)kSv*'3\n",
      "\\R8:S>@G,n_gBE'*\n",
      "13 793 H\u0016)kSv*'3\n",
      "\\R8:S>@G,n_gBE'*\n",
      "18 783 H\u0016)kSv*'3\n",
      "\\H8:S>@G,n_gBE'*\n",
      "21 770 H\u0016)kSv*'3\n",
      "\\HE:S>@G,n_gBE'*\n",
      "24 756 H\u0016)kSv*'A\n",
      "\\HE:S>@G,n_gBE'*\n",
      "29 748 H\u0016)kKv*'A\n",
      "\\HE:S>@G,n_gBE'*\n",
      "33 726 H\u0016)k5v*'A\n",
      "\\HE:S>@G,n_gBE'*\n",
      "42 710 H\u0016)k5v*'A\n",
      "\\8E:S>@G,n_gBE'*\n",
      "46 662 H\u0016)k5v*'A\n",
      "\\8E:S>@G,n_gBEW*\n",
      "48 655 H\u0016)k5v*'A\n",
      "c8E:S>@G,n_gBEW*\n",
      "49 649 H\u0016)k5v*'A\n",
      "c\u000eE:S>@G,n_gBEW*\n",
      "50 642 Y\u0016)k5v*'A\n",
      "c\u000eE:S>@G,n_gBEW*\n",
      "54 638 Y\u0016)k5v*'A\n",
      "c\u000eE:S>@G,n_gBEW\u001c",
      "\n",
      "55 620 Y\u0016;k5v*'A\n",
      "c\u000eE:S>@G,n_gBEW\u001c",
      "\n",
      "64 613 Y\u0016;k5v*'A\n",
      "c\u000eE:SI@G,n_gBEW\u001c",
      "\n",
      "67 601 Y\u0016;k5v*'M\n",
      "c\u000eE:SI@G,n_gBEW\u001c",
      "\n",
      "75 558 YA;k5v*'M\n",
      "c\u000eE:SI@G,n_gBEW\u001c",
      "\n",
      "78 554 YA;k5`*'M\n",
      "c\u000eE:SI@G,n_gBEW\u001c",
      "\n",
      "84 551 RA;k5`*'M\n",
      "c\u000eE:SI@G,n_gBEW\u001c",
      "\n",
      "85 522 RA;k5`*'M\n",
      "c\u000eE:SI@G,n_g_EW\u001c",
      "\n",
      "88 504 RA;k5`*'M\u001c",
      "c\u000eE:SI@G,n_g_EW\u001c",
      "\n",
      "89 500 RA;k5`*'M\u001c",
      "c.E:SI@G,n_g_EW\u001c",
      "\n",
      "91 475 RA;k5`*'M5c.E:SI@G,n_g_EW\u001c",
      "\n",
      "99 442 Rb;k5`*'M5c.E:SI@G,n_g_EW\u001c",
      "\n",
      "108 419 Rb;k5`*'MLc.E:SI@G,n_g_EW\u001c",
      "\n",
      "113 415 Rb;k5`*'MPc.E:SI@G,n_g_EW\u001c",
      "\n",
      "118 414 Rb;k5`*'MPc.E:SH@G,n_g_EW\u001c",
      "\n",
      "127 393 Rb;k5`*'MPc.E:SH@G,n_g_ZW\u001c",
      "\n",
      "130 390 Rb;k5`*'MPc.E:SH@G)n_g_ZW\u001c",
      "\n",
      "141 383 Rb;k5`*'MPc.EASH@G)n_g_ZW\u001c",
      "\n",
      "148 364 Rb;k5`*'Mcc.EASH@G)n_g_ZW\u001c",
      "\n",
      "149 344 Rb;k5`*'acc.EASH@G)n_g_ZW\u001c",
      "\n",
      "159 333 Rb;k5`*'acc.PASH@G)n_g_ZW\u001c",
      "\n",
      "170 325 RbCk5`*'acc.PASH@G)n_g_ZW\u001c",
      "\n",
      "176 304 RbCk `*'acc.PASH@G)n_g_ZW\u001c",
      "\n",
      "195 285 RbCk `='acc.PASH@G)n_g_ZW\u001c",
      "\n",
      "206 282 RbCk `='acc+PASH@G)n_g_ZW\u001c",
      "\n",
      "207 281 RbCk `='acd+PASH@G)n_g_ZW\u001c",
      "\n",
      "210 276 RbCk `='acd+PASH@L)n_g_ZW\u001c",
      "\n",
      "223 275 RbCk `=&acd+PASH@L)n_g_ZW\u001c",
      "\n",
      "228 269 RbCk `=&acd+PASH@L\u001d",
      "n_g_ZW\u001c",
      "\n",
      "229 261 RbKk `=&acd+PASH@L\u001d",
      "n_g_ZW\u001c",
      "\n",
      "231 259 RbKk `=&acd+PASH@L\u001d",
      "n_g_ZY\u001c",
      "\n",
      "246 257 RbKk `=&acd+PASH@L\u001d",
      "n_gaZY\u001c",
      "\n",
      "292 256 RbKk `=&acd+PASH@L\u001d",
      "n_gaZZ\u001c",
      "\n",
      "316 254 RbKk b=&acd+PASH@L\u001d",
      "n_gaZZ\u001c",
      "\n",
      "344 245 RbKk b=&acd+PASH@L\u001d",
      "n_gaZc\u001c",
      "\n",
      "359 244 RbKk b=&acd+PASH@[\u001d",
      "n_gaZc\u001c",
      "\n",
      "376 239 RbKk b=!acd+PASH@[\u001d",
      "n_gaZc\u001c",
      "\n",
      "382 238 RbKk c=!acd+PASH@[\u001d",
      "n_gaZc\u001c",
      "\n",
      "398 237 RbKk c=!acd+PASH@[\u001d",
      "n_gaZd\u001c",
      "\n",
      "403 233 RbOk c=!acd+PASH@[\u001d",
      "n_gaZd\u001c",
      "\n",
      "415 229 RbOk c=!acd+TASH@[\u001d",
      "n_gaZd\u001c",
      "\n",
      "416 199 RbOk c[!acd+TASH@[\u001d",
      "n_gaZd\u001c",
      "\n",
      "440 179 Rbck c[!acd+TASH@[\u001d",
      "n_gaZd\u001c",
      "\n",
      "455 174 Rbck c`!acd+TASH@[\u001d",
      "n_gaZd\u001c",
      "\n",
      "473 171 Rbck c`!acd+TASH@[ n_gaZd\u001c",
      "\n",
      "474 169 Rbck c`!acd+TASH@[ n_gaZd\u001e",
      "\n",
      "488 164 Rbck c`!acd+TASHE[ n_gaZd\u001e",
      "\n",
      "493 154 Rbck c`!acd\u001fTASHE[ n_gaZd\u001e",
      "\n",
      "522 153 Sbck c`!acd\u001fTASHE[ n_gaZd\u001e",
      "\n",
      "653 149 Sbck c`!acd\u001fTASHEQ n_gaZd\u001e",
      "\n",
      "714 141 Sbck c`!acd\u001fTASHEQ n_gabd\u001e",
      "\n",
      "721 140 Scck c`!acd\u001fTASHEQ n_gabd\u001e",
      "\n",
      "742 139 Scck c`!acd TASHEQ n_gabd\u001e",
      "\n",
      "813 137 Scck c`!acd TASHES n_gabd\u001e",
      "\n",
      "950 135 Scck c`!acd TASHES n_gcbd\u001e",
      "\n",
      "1000 134 Scdk c`!acd TASHES n_gcbd\u001e",
      "\n",
      "1010 133 Scdk c`!acd TASHES n_gccd\u001e",
      "\n",
      "1154 132 Scdk c`!acd TASHET n_gccd\u001e",
      "\n",
      "1253 131 Scdk c`!acd TASHET n_gccd#\n",
      "1270 130 Scdk c`!acd TASHET n_gcdd#\n",
      "1400 125 Scdk c`!acd TASHET ndgcdd#\n",
      "1538 124 Scdk c`!acd TASHET ndgcdd \n",
      "1541 122 Scdk cb!acd TASHET ndgcdd \n",
      "1680 121 Scdk cb!acd TARHET ndgcdd \n",
      "1742 119 Scdk cb!ccd TARHET ndgcdd \n",
      "1939 118 Scdk db!ccd TARHET ndgcdd \n",
      "2034 117 Scdk db!dcd TARHET ndgcdd \n",
      "2091 115 Scdk dd!dcd TARHET ndgcdd \n",
      "2105 114 Scdk dd!dcd TARGET ndgcdd \n",
      "2134 113 Scdk dd!dcd TARGET ndgddd \n",
      "2210 112 Scdk dd dcd TARGET ndgddd \n",
      "2309 111 Tcdk dd dcd TARGET ndgddd \n",
      "2947 110 Tcdk dd ddd TARGET ndgddd \n",
      "3528 109 Tddk dd ddd TARGET ndgddd \n",
      "4827 108 Tddk dd ddd TARGET ndgddd!\n"
     ]
    },
    {
     "ename": "KeyboardInterrupt",
     "evalue": "",
     "output_type": "error",
     "traceback": [
      "\u001b[0;31m---------------------------------------------------------------------------\u001b[0m",
      "\u001b[0;31mKeyboardInterrupt\u001b[0m                         Traceback (most recent call last)",
      "\u001b[0;32m<ipython-input-65-bd709be6e284>\u001b[0m in \u001b[0;36m<module>\u001b[0;34m()\u001b[0m\n\u001b[1;32m      5\u001b[0m     \u001b[0mn\u001b[0m\u001b[0;34m=\u001b[0m\u001b[0mn\u001b[0m\u001b[0;34m+\u001b[0m\u001b[0;36m1\u001b[0m\u001b[0;34m\u001b[0m\u001b[0m\n\u001b[1;32m      6\u001b[0m     \u001b[0mmutatedString\u001b[0m\u001b[0;34m=\u001b[0m\u001b[0mmutateCharacter\u001b[0m\u001b[0;34m(\u001b[0m\u001b[0mcurrentString\u001b[0m\u001b[0;34m)\u001b[0m\u001b[0;34m\u001b[0m\u001b[0m\n\u001b[0;32m----> 7\u001b[0;31m     \u001b[0mdiff_m_t\u001b[0m\u001b[0;34m=\u001b[0m\u001b[0mdifference\u001b[0m\u001b[0;34m(\u001b[0m\u001b[0mmutatedString\u001b[0m\u001b[0;34m,\u001b[0m\u001b[0mtargetString\u001b[0m\u001b[0;34m)\u001b[0m\u001b[0;34m\u001b[0m\u001b[0m\n\u001b[0m\u001b[1;32m      8\u001b[0m     \u001b[0mdiff_c_t\u001b[0m\u001b[0;34m=\u001b[0m\u001b[0mdifference\u001b[0m\u001b[0;34m(\u001b[0m\u001b[0mcurrentString\u001b[0m\u001b[0;34m,\u001b[0m\u001b[0mtargetString\u001b[0m\u001b[0;34m)\u001b[0m\u001b[0;34m\u001b[0m\u001b[0m\n\u001b[1;32m      9\u001b[0m     \u001b[0;32mif\u001b[0m \u001b[0mdiff_m_t\u001b[0m\u001b[0;34m<\u001b[0m\u001b[0mdiff_c_t\u001b[0m\u001b[0;34m:\u001b[0m\u001b[0;34m\u001b[0m\u001b[0m\n",
      "\u001b[0;32m<ipython-input-48-65a616bd5d92>\u001b[0m in \u001b[0;36mdifference\u001b[0;34m(str1, str2)\u001b[0m\n\u001b[1;32m      7\u001b[0m     \u001b[0;32mfor\u001b[0m \u001b[0mi\u001b[0m \u001b[0;32min\u001b[0m \u001b[0mrange\u001b[0m\u001b[0;34m(\u001b[0m\u001b[0mlen\u001b[0m\u001b[0;34m(\u001b[0m\u001b[0mL1\u001b[0m\u001b[0;34m)\u001b[0m\u001b[0;34m)\u001b[0m\u001b[0;34m:\u001b[0m\u001b[0;34m\u001b[0m\u001b[0m\n\u001b[1;32m      8\u001b[0m         \u001b[0ma\u001b[0m\u001b[0;34m=\u001b[0m\u001b[0mord\u001b[0m\u001b[0;34m(\u001b[0m\u001b[0mL1\u001b[0m\u001b[0;34m[\u001b[0m\u001b[0mi\u001b[0m\u001b[0;34m]\u001b[0m\u001b[0;34m)\u001b[0m\u001b[0;34m\u001b[0m\u001b[0m\n\u001b[0;32m----> 9\u001b[0;31m         \u001b[0mb\u001b[0m\u001b[0;34m=\u001b[0m\u001b[0mord\u001b[0m\u001b[0;34m(\u001b[0m\u001b[0mL2\u001b[0m\u001b[0;34m[\u001b[0m\u001b[0mi\u001b[0m\u001b[0;34m]\u001b[0m\u001b[0;34m)\u001b[0m\u001b[0;34m\u001b[0m\u001b[0m\n\u001b[0m\u001b[1;32m     10\u001b[0m         \u001b[0mD\u001b[0m\u001b[0;34m=\u001b[0m\u001b[0mD\u001b[0m\u001b[0;34m+\u001b[0m\u001b[0mabs\u001b[0m\u001b[0;34m(\u001b[0m\u001b[0ma\u001b[0m\u001b[0;34m-\u001b[0m\u001b[0mb\u001b[0m\u001b[0;34m)\u001b[0m\u001b[0;34m\u001b[0m\u001b[0m\n\u001b[1;32m     11\u001b[0m     \u001b[0;32mreturn\u001b[0m \u001b[0mD\u001b[0m\u001b[0;34m\u001b[0m\u001b[0m\n",
      "\u001b[0;31mKeyboardInterrupt\u001b[0m: "
     ]
    }
   ],
   "source": [
    "targetString=\"This is the TARGET string!\"\n",
    "currentString=makeRandomString(len(targetString))\n",
    "n=0\n",
    "while (difference(currentString,targetString)!=0):\n",
    "    n=n+1\n",
    "    mutatedString=mutateCharacter(currentString)\n",
    "    diff_m_t=difference(mutatedString,targetString)\n",
    "    diff_c_t=difference(currentString,targetString)\n",
    "    if diff_m_t<diff_c_t:\n",
    "        currentString=mutatedString\n",
    "        print \"{0} {1} {2}\".format(n,diff_m_t,currentString)\n",
    "        \n"
   ]
  },
  {
   "cell_type": "code",
   "execution_count": 51,
   "metadata": {
    "collapsed": false
   },
   "outputs": [
    {
     "name": "stdout",
     "output_type": "stream",
     "text": [
      "HhelIAZ\n",
      "HhelIAZ\n",
      "HhelIAZ\n",
      "HhelIA)\n",
      "HhelIA)\n",
      "HhmlIA)\n",
      "HhmlIA)\n",
      "HhmlIA)\n",
      "HhmlIA)\n",
      "HhmlIy)\n",
      "HhmlIy)\n",
      "HhmlIy)\n",
      "HhmlIy)\n",
      "HhmlIy)\n",
      "HhmlIg)\n",
      "HhmlIg)\n",
      "HhmlIg)\n",
      "HhmlIg)\n",
      "HhmjIg)\n",
      "HhmjIg)\n",
      "HhmjIg)\n",
      "HhmjIg)\n",
      "HhmjIg)\n",
      "~hmjIg)\n",
      "~hmjIg)\n",
      "~hmjIg)\n",
      "~hmj^g)\n",
      "~hmj^g)\n",
      "~hmj^g)\n",
      "~hmj^g)\n",
      "~hmj^g)\n",
      "~imj^g)\n",
      "~imj^g)\n",
      "~imj^g)\n",
      "~imj^g)\n",
      "~imj^g)\n",
      "~imj^g)\n",
      "~imj^g)\n",
      "~imj^g)\n",
      "~imj^g)\n",
      "~imj^g)\n",
      "~imj^g)\n",
      "~imj^g)\n",
      "~imj^g)\n",
      "~imj^g)\n",
      "~imj^g)\n",
      "~imj^g$\n",
      "~lmj^g$\n",
      "}lmj^g$\n",
      "}lmj^g$\n",
      "klmj^g$\n",
      "nlmj^g$\n",
      "nlnj^g$\n",
      "nlnj^g$\n",
      "nlnj^g$\n",
      "nlnj^g$\n",
      "nlnj^g$\n",
      "nlnj^g$\n",
      "nlnjog$\n",
      "nlnjog$\n",
      "nlnjog$\n",
      "nlnjog$\n",
      "nlnjog$\n",
      "nlnjog$\n",
      "nlnjog$\n",
      "nlnjog$\n",
      "nlnjog$\n",
      "nlnjog$\n",
      "nlnjog$\n",
      "684 75 Vgis-jt!vd`\"SDVGBU)nlnjog$\n",
      "714 74 Vgis-jt!ud`\"SDVGBU)nlnjog$\n",
      "716 67 Vgis-jt!ud`\"SDVGBU)nsnjog$\n",
      "726 65 Vgis-jt!ud`\"SDVGBU'nsnjog$\n",
      "736 64 Vgis-jt!udi\"SDVGBU'nsnjog$\n",
      "787 61 Vgis-jt!udi\"SAVGBU'nsnjog$\n",
      "840 60 Ugis-jt!udi\"SAVGBU'nsnjog$\n",
      "851 57 Ugis-jt!ugi\"SAVGBU'nsnjog$\n",
      "918 56 Ugis-jt!ugi\"SAOGBU'nsnjog$\n",
      "1021 55 Ugis-jt!ugi\"TAOGBU'nsnjog$\n",
      "1161 54 Ugis-jt!ugi\"TAOGBT'nsnjog$\n",
      "1191 53 Ugis-it!ugi\"TAOGBT'nsnjog$\n",
      "1220 50 Ugis-it!ugi\"TAOGET'nsnjog$\n",
      "1224 45 Ugis-it!ugi\"TAOGET'ssnjog$\n",
      "1232 44 Ugis-is!ugi\"TAOGET'ssnjog$\n",
      "1236 41 Ugis-is!ugi\"TAOGET$ssnjog$\n",
      "1237 31 Ugis#is!ugi\"TAOGET$ssnjog$\n",
      "1318 30 Ugis#is!ugi\"TAOGET$stnjog$\n",
      "1366 29 Ugis#is!uhi\"TAOGET$stnjog$\n",
      "1389 28 Ugis#is!uhb\"TAOGET$stnjog$\n",
      "1437 27 Ugis#is!uhb\"TAOGET$stojog$\n",
      "1477 25 Ugis#is!uhb TAOGET$stojog$\n",
      "1537 23 Ugis#is!uhb TAOGET$stojog\"\n",
      "1558 19 Ugis#is!uhb TAOGET stojog\"\n",
      "1569 18 Ugis#is uhb TAOGET stojog\"\n",
      "1658 16 Ugis#is uhf TAOGET stojog\"\n",
      "1757 15 Ugis#is uhf TAPGET stojog\"\n",
      "1774 14 Ugis#is uhf TAQGET stojog\"\n",
      "1853 13 Ugis#is uhf TAQGET stojng\"\n",
      "1879 12 Ugis#is uhf TAQGET stoing\"\n",
      "1904 9 Ugis is uhf TAQGET stoing\"\n",
      "2008 8 Uhis is uhf TAQGET stoing\"\n",
      "2175 7 Uhis is uhf TARGET stoing\"\n",
      "2363 6 Uhis is uhe TARGET stoing\"\n",
      "2473 4 Uhis is uhe TARGET stqing\"\n",
      "2510 3 Uhis is uhe TARGET string\"\n",
      "4465 2 Uhis is uhe TARGET string!\n",
      "4493 1 This is uhe TARGET string!\n",
      "6471 0 This is the TARGET string!\n"
     ]
    }
   ],
   "source": [
    "targetString=\"This is the TARGET string!\"\n",
    "currentString=makeRandomString(len(targetString))\n",
    "n=0\n",
    "diff_c_t=difference(currentString,targetString)\n",
    "while (diff_c_t!=0):\n",
    "    n=n+1\n",
    "    mutatedString=mutateCharacter(currentString)\n",
    "    diff_m_t=difference(mutatedString,targetString)\n",
    "    \n",
    "    if diff_m_t<diff_c_t:\n",
    "        diff_c_t=diff_m_t\n",
    "        currentString=mutatedString\n",
    "        print \"{0} {1} {2}\".format(n,diff_m_t,currentString)\n",
    "        \n"
   ]
  },
  {
   "cell_type": "code",
   "execution_count": 48,
   "metadata": {
    "collapsed": false
   },
   "outputs": [
    {
     "name": "stdout",
     "output_type": "stream",
     "text": [
      "219\n"
     ]
    }
   ],
   "source": [
    "def difference(str1,str2):\n",
    "    #if len(str1)!=len(str2):\n",
    "    #    print \"warning\"\n",
    "    L1=list(str1)\n",
    "    L2=list(str2)\n",
    "    D=0\n",
    "    for i in range(len(L1)):\n",
    "        a=ord(L1[i])\n",
    "        b=ord(L2[i])\n",
    "        D=D+abs(a-b)\n",
    "    return D\n",
    "\n",
    "print difference(\"hello\",\"1234o\")"
   ]
  },
  {
   "cell_type": "code",
   "execution_count": 64,
   "metadata": {
    "collapsed": false
   },
   "outputs": [
    {
     "name": "stdout",
     "output_type": "stream",
     "text": [
      "A]end\n"
     ]
    }
   ],
   "source": [
    "def mutateCharacter(templateString):\n",
    "    S=list(templateString)\n",
    "    where=random.randint(0,len(S)-1)\n",
    "    a=ord(S[where])\n",
    "    b=random.randint(a-50,a+50)\n",
    "    while(b<0) or (b>len(string.printable)):\n",
    "        b=random.randint(a-50,a+50)\n",
    "    S[where]=chr(b)\n",
    "    return \"\".join(S)\n",
    "\n",
    "print mutateCharacter(\"Arend\")"
   ]
  },
  {
   "cell_type": "code",
   "execution_count": null,
   "metadata": {
    "collapsed": true
   },
   "outputs": [],
   "source": []
  }
 ],
 "metadata": {
  "kernelspec": {
   "display_name": "Python 2",
   "language": "python",
   "name": "python2"
  },
  "language_info": {
   "codemirror_mode": {
    "name": "ipython",
    "version": 2
   },
   "file_extension": ".py",
   "mimetype": "text/x-python",
   "name": "python",
   "nbconvert_exporter": "python",
   "pygments_lexer": "ipython2",
   "version": "2.7.10"
  }
 },
 "nbformat": 4,
 "nbformat_minor": 0
}
