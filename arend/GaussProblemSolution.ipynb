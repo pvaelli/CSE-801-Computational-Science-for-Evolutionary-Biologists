{
 "cells": [
  {
   "cell_type": "code",
   "execution_count": null,
   "metadata": {
    "collapsed": false
   },
   "outputs": [],
   "source": [
    "L=list()\n",
    "L.append(1)\n",
    "L.append(3)\n",
    "L.insert(1,2)\n",
    "print L"
   ]
  },
  {
   "cell_type": "code",
   "execution_count": null,
   "metadata": {
    "collapsed": false
   },
   "outputs": [],
   "source": [
    "L.remove(2)\n",
    "print L"
   ]
  },
  {
   "cell_type": "code",
   "execution_count": null,
   "metadata": {
    "collapsed": false
   },
   "outputs": [],
   "source": [
    "L.pop(1)\n",
    "print L"
   ]
  },
  {
   "cell_type": "code",
   "execution_count": null,
   "metadata": {
    "collapsed": false
   },
   "outputs": [],
   "source": [
    "print L.index(1)\n",
    "print L.index(0)"
   ]
  },
  {
   "cell_type": "code",
   "execution_count": null,
   "metadata": {
    "collapsed": false
   },
   "outputs": [],
   "source": [
    "L=range(10)\n",
    "print L.count(3)"
   ]
  },
  {
   "cell_type": "code",
   "execution_count": null,
   "metadata": {
    "collapsed": false
   },
   "outputs": [],
   "source": [
    "L.reverse()\n",
    "print L"
   ]
  },
  {
   "cell_type": "code",
   "execution_count": null,
   "metadata": {
    "collapsed": true
   },
   "outputs": [],
   "source": [
    "L.sort()"
   ]
  },
  {
   "cell_type": "code",
   "execution_count": null,
   "metadata": {
    "collapsed": false
   },
   "outputs": [],
   "source": [
    "print L"
   ]
  },
  {
   "cell_type": "code",
   "execution_count": null,
   "metadata": {
    "collapsed": false
   },
   "outputs": [],
   "source": [
    "def gaussProblem(theList):\n",
    "    n=0\n",
    "    position=0\n",
    "    youAreDead=False\n",
    "    while(n<len(theList)):\n",
    "        position=position+theList[n]\n",
    "        n=n+1\n",
    "        if(position>1) or (position<-1):\n",
    "            youAreDead=True\n",
    "            n=len(theList)\n",
    "    return youAreDead\n",
    "          \n",
    "L=[1,-1,1]\n",
    "if gaussProblem(L):\n",
    "    print \"you are dead\"\n",
    "else:\n",
    "    print \"you are alive!\""
   ]
  },
  {
   "cell_type": "code",
   "execution_count": null,
   "metadata": {
    "collapsed": false
   },
   "outputs": [],
   "source": [
    "def gaussProblem(theList,stepSize):\n",
    "    n=0\n",
    "    position=0\n",
    "    youAreDead=False\n",
    "    while(n<len(theList)):\n",
    "        position=position+theList[n]\n",
    "        n=n+stepSize\n",
    "        if(position>1) or (position<-1):\n",
    "            youAreDead=True\n",
    "            n=len(theList)\n",
    "    return youAreDead\n",
    "          \n",
    "def nestedGaussProblem(theList):\n",
    "    n=1\n",
    "    allStepsWork=True\n",
    "    while(n<len(theList)):\n",
    "        if(gaussProblem(theList,n)):\n",
    "            allStepsWork=False\n",
    "            print \"intervall {0}\".format(n)\n",
    "        n=n+1\n",
    "    return allStepsWork\n",
    "\n",
    "print nestedGaussProblem([1,-1,1,-1,-1,1])"
   ]
  },
  {
   "cell_type": "code",
   "execution_count": null,
   "metadata": {
    "collapsed": true
   },
   "outputs": [],
   "source": []
  }
 ],
 "metadata": {
  "kernelspec": {
   "display_name": "Python 2",
   "language": "python",
   "name": "python2"
  },
  "language_info": {
   "codemirror_mode": {
    "name": "ipython",
    "version": 2
   },
   "file_extension": ".py",
   "mimetype": "text/x-python",
   "name": "python",
   "nbconvert_exporter": "python",
   "pygments_lexer": "ipython2",
   "version": "2.7.10"
  }
 },
 "nbformat": 4,
 "nbformat_minor": 0
}
