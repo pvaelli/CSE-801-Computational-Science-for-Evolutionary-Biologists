{
 "cells": [
  {
   "cell_type": "markdown",
   "metadata": {},
   "source": [
    "I think all of them work, just in case, here was my progression. Is there necessarily one that is better?"
   ]
  },
  {
   "cell_type": "code",
   "execution_count": 1,
   "metadata": {
    "collapsed": false
   },
   "outputs": [
    {
     "name": "stdout",
     "output_type": "stream",
     "text": [
      "15 days of watching netflix, schedule until the exam: [6, 5, 4, 3, 2, 1]\n"
     ]
    }
   ],
   "source": [
    "L=[1,1,1,1,1,1,1,1,1,1,1,1,1,1,1,1,1,1,1,1,1]\n",
    "dayCount=0\n",
    "\n",
    "while L[0]<(len(L)):\n",
    "    position=1\n",
    "    while position<=L[0]:\n",
    "        newTotal=L[position]+1\n",
    "        L.pop(position)\n",
    "        L.insert(position,newTotal)\n",
    "        position=position+1\n",
    "    L.pop(0)\n",
    "    dayCount=dayCount+1\n",
    "print \"{0} days of watching netflix, schedule until the exam: {1}\".format(dayCount,L)"
   ]
  },
  {
   "cell_type": "code",
   "execution_count": 2,
   "metadata": {
    "collapsed": false
   },
   "outputs": [
    {
     "name": "stdout",
     "output_type": "stream",
     "text": [
      "15 days of watching netflix, schedule until the exam: [6, 5, 4, 3, 2, 1]\n"
     ]
    }
   ],
   "source": [
    "R=[1,1,1,1,1,1,1,1,1,1,1,1,1,1,1,1,1,1,1,1,1]\n",
    "\n",
    "def distribute(L,position):\n",
    "    while position<=L[0]:\n",
    "        L.insert(position,L.pop(position)+1)\n",
    "        position=position+1\n",
    "\n",
    "def resetList(L,position,dayCount):\n",
    "    while L[0]<(len(L)):\n",
    "        distribute(L,position)\n",
    "        L.pop(0)\n",
    "        dayCount=dayCount+1\n",
    "    return dayCount\n",
    "\n",
    "print \"{0} days of watching netflix, schedule until the exam: {1}\".format(resetList(R,1,0),R)"
   ]
  },
  {
   "cell_type": "code",
   "execution_count": 3,
   "metadata": {
    "collapsed": false
   },
   "outputs": [
    {
     "name": "stdout",
     "output_type": "stream",
     "text": [
      "15 days of watching netflix, schedule until the exam: [6, 5, 4, 3, 2, 1]\n"
     ]
    }
   ],
   "source": [
    "R=[1,1,1,1,1,1,1,1,1,1,1,1,1,1,1,1,1,1,1,1,1]\n",
    "\n",
    "def distribute(L):\n",
    "    for i in range(L[0]+1):\n",
    "        L.insert(i,L.pop(i)+1)\n",
    "\n",
    "def resetList(L):\n",
    "    for i in range(L[0]-1,(len(L))):\n",
    "        if L[0]>=len(L):\n",
    "            return i\n",
    "        distribute(L)\n",
    "        L.pop(0)\n",
    "        \n",
    "print \"{0} days of watching netflix, schedule until the exam: {1}\".format(resetList(R),R)"
   ]
  },
  {
   "cell_type": "code",
   "execution_count": null,
   "metadata": {
    "collapsed": true
   },
   "outputs": [],
   "source": []
  }
 ],
 "metadata": {
  "kernelspec": {
   "display_name": "Python 2",
   "language": "python",
   "name": "python2"
  },
  "language_info": {
   "codemirror_mode": {
    "name": "ipython",
    "version": 2
   },
   "file_extension": ".py",
   "mimetype": "text/x-python",
   "name": "python",
   "nbconvert_exporter": "python",
   "pygments_lexer": "ipython2",
   "version": "2.7.10"
  }
 },
 "nbformat": 4,
 "nbformat_minor": 0
}
