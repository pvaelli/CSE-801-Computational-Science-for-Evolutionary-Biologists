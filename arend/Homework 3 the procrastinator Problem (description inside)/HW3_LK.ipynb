{
 "cells": [
  {
   "cell_type": "code",
   "execution_count": 3,
   "metadata": {
    "collapsed": false
   },
   "outputs": [
    {
     "name": "stdout",
     "output_type": "stream",
     "text": [
      "You can't keep procrastinating when there are 6 days left.\n"
     ]
    }
   ],
   "source": [
    "L=list()\n",
    "i=1\n",
    "while (i<22):\n",
    "    L.append(1)\n",
    "    i=i+1\n",
    "while (L[0]<len(L)):\n",
    "    a=L.pop(0)\n",
    "    b=0\n",
    "    while (a>0):\n",
    "        L[b]=L[b]+1\n",
    "        a=a-1\n",
    "        b=b+1\n",
    "print \"You can't keep procrastinating when there are {0} days left.\".format(len(L))"
   ]
  },
  {
   "cell_type": "code",
   "execution_count": null,
   "metadata": {
    "collapsed": true
   },
   "outputs": [],
   "source": []
  }
 ],
 "metadata": {
  "kernelspec": {
   "display_name": "Python 2",
   "language": "python",
   "name": "python2"
  },
  "language_info": {
   "codemirror_mode": {
    "name": "ipython",
    "version": 2
   },
   "file_extension": ".py",
   "mimetype": "text/x-python",
   "name": "python",
   "nbconvert_exporter": "python",
   "pygments_lexer": "ipython2",
   "version": "2.7.10"
  }
 },
 "nbformat": 4,
 "nbformat_minor": 0
}
