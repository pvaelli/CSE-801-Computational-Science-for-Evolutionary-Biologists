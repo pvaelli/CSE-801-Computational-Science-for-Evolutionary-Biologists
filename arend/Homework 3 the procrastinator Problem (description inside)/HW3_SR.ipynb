{
 "cells": [
  {
   "cell_type": "code",
   "execution_count": 1,
   "metadata": {
    "collapsed": false
   },
   "outputs": [
    {
     "name": "stdout",
     "output_type": "stream",
     "text": [
      "on the 16th day you MUST stop procrastinating. At that point there will be 6 days left\n",
      "at that degree of procrastination, you must read 6,5,4,3,2,1 chapters on the days up to the test\n"
     ]
    }
   ],
   "source": [
    "n=1\n",
    "days=[1,1,1,1,1,1,1,1,1,1,1,1,1,1,1,1,1,1,1,1,1]\n",
    "while days[0]<len(days):\n",
    "    m=1\n",
    "    for (i) in list(range(days[0])):\n",
    "        days[m]=days[m]+1\n",
    "        m=m+1\n",
    "    days.pop(0) #pop removes and returns the last item in the list\n",
    "    n=n+1\n",
    "print (\"on the {0}th day you MUST stop procrastinating. At that point there will be {1} days left\".format(n,len(days)))\n",
    "print (\"at that degree of procrastination, you must read {0},{1},{2},{3},{4},{5} chapters on the days up to the test\".format(days[0],days[1],days[2],days[3],days[4],days[5]))"
   ]
  },
  {
   "cell_type": "markdown",
   "metadata": {},
   "source": [
    "Is there a way to generate the list without putting the number 1 down 21 times? \n",
    "\n",
    "This assignment went a little better for me than the last one. I still struggled but I think the concepts are beginning to take root. Thanks!\n"
   ]
  }
 ],
 "metadata": {
  "kernelspec": {
   "display_name": "Python 3",
   "language": "python",
   "name": "python3"
  },
  "language_info": {
   "codemirror_mode": {
    "name": "ipython",
    "version": 3
   },
   "file_extension": ".py",
   "mimetype": "text/x-python",
   "name": "python",
   "nbconvert_exporter": "python",
   "pygments_lexer": "ipython3",
   "version": "3.4.3"
  }
 },
 "nbformat": 4,
 "nbformat_minor": 0
}
