{
 "cells": [
  {
   "cell_type": "markdown",
   "metadata": {},
   "source": [
    "### description\n",
    "    Imagine you have 21 Days left until exam, and exactly 21 chapters to read to pass the exam\n",
    "    You could read one chapter a day and pass the exam nicely, but you want to procrastinate\n",
    "    so instead of reading the first chapter today, you decide to read this chapter tomorrow.\n",
    "    Every day you keep moving the chapters to read this day further into the future. But you \n",
    "    do this evenly. If you would need to read 3 chapters today, you distribute those 3 chapter\n",
    "    to the next three days.\n",
    "    The workload for the first couple of days will look like this:\n",
    "    1 1 1 1 1 1 1 1 1 1 1 1 1 1 1 1 1 1 1 1 1\n",
    "    2 1 1 1 1 1 1 1 1 1 1 1 1 1 1 1 1 1 1 1\n",
    "    2 2 1 1 1 1 1 1 1 1 1 1 1 1 1 1 1 1 1\n",
    "    3 2 1 1 1 1 1 1 1 1 1 1 1 1 1 1 1 1\n",
    "    3 2 2 1 1 1 1 1 1 1 1 1 1 1 1 1 1\n",
    "    ... and so forth.\n",
    "    \n",
    "    The question is now:\n",
    "    1) At what point do you have to stop doing this, because there are fewer days left than \n",
    "    you would need to distribute todays books to?\n",
    "    2) What does your reading schedule look like for the rest of the days until the exam?"
   ]
  },
  {
   "cell_type": "code",
   "execution_count": 11,
   "metadata": {
    "collapsed": false
   },
   "outputs": [
    {
     "name": "stdout",
     "output_type": "stream",
     "text": [
      "6\n",
      "on the 16th day you MUST stop procrastinating. At that point there will be 6 days left\n"
     ]
    },
    {
     "ename": "IndexError",
     "evalue": "tuple index out of range",
     "output_type": "error",
     "traceback": [
      "\u001b[0;31m---------------------------------------------------------------------------\u001b[0m",
      "\u001b[0;31mIndexError\u001b[0m                                Traceback (most recent call last)",
      "\u001b[0;32m<ipython-input-11-ea0338e16148>\u001b[0m in \u001b[0;36m<module>\u001b[0;34m()\u001b[0m\n\u001b[1;32m     10\u001b[0m \u001b[0mprint\u001b[0m \u001b[0;34m(\u001b[0m\u001b[0mdays\u001b[0m\u001b[0;34m[\u001b[0m\u001b[0;36m0\u001b[0m\u001b[0;34m]\u001b[0m\u001b[0;34m)\u001b[0m\u001b[0;34m\u001b[0m\u001b[0m\n\u001b[1;32m     11\u001b[0m \u001b[0mprint\u001b[0m \u001b[0;34m(\u001b[0m\u001b[0;34m\"on the {0}th day you MUST stop procrastinating. At that point there will be {1} days left\"\u001b[0m\u001b[0;34m.\u001b[0m\u001b[0mformat\u001b[0m\u001b[0;34m(\u001b[0m\u001b[0mn\u001b[0m\u001b[0;34m,\u001b[0m\u001b[0mlen\u001b[0m\u001b[0;34m(\u001b[0m\u001b[0mdays\u001b[0m\u001b[0;34m)\u001b[0m\u001b[0;34m)\u001b[0m\u001b[0;34m)\u001b[0m\u001b[0;34m\u001b[0m\u001b[0m\n\u001b[0;32m---> 12\u001b[0;31m \u001b[0mprint\u001b[0m \u001b[0;34m(\u001b[0m\u001b[0;34m\"at that degree of procrastination, you must read {0},{1},{2},{3},{4},{5},{6} chapters on the days up to the test\"\u001b[0m\u001b[0;34m.\u001b[0m\u001b[0mformat\u001b[0m\u001b[0;34m(\u001b[0m\u001b[0mdays\u001b[0m\u001b[0;34m[\u001b[0m\u001b[0;36m0\u001b[0m\u001b[0;34m]\u001b[0m\u001b[0;34m,\u001b[0m\u001b[0mdays\u001b[0m\u001b[0;34m[\u001b[0m\u001b[0;36m1\u001b[0m\u001b[0;34m]\u001b[0m\u001b[0;34m,\u001b[0m\u001b[0mdays\u001b[0m\u001b[0;34m[\u001b[0m\u001b[0;36m2\u001b[0m\u001b[0;34m]\u001b[0m\u001b[0;34m,\u001b[0m\u001b[0mdays\u001b[0m\u001b[0;34m[\u001b[0m\u001b[0;36m3\u001b[0m\u001b[0;34m]\u001b[0m\u001b[0;34m,\u001b[0m\u001b[0mdays\u001b[0m\u001b[0;34m[\u001b[0m\u001b[0;36m4\u001b[0m\u001b[0;34m]\u001b[0m\u001b[0;34m,\u001b[0m\u001b[0mdays\u001b[0m\u001b[0;34m[\u001b[0m\u001b[0;36m5\u001b[0m\u001b[0;34m]\u001b[0m\u001b[0;34m)\u001b[0m\u001b[0;34m)\u001b[0m\u001b[0;34m\u001b[0m\u001b[0m\n\u001b[0m",
      "\u001b[0;31mIndexError\u001b[0m: tuple index out of range"
     ]
    }
   ],
   "source": [
    "n=1\n",
    "days=[1,1,1,1,1,1,1,1,1,1,1,1,1,1,1,1,1,1,1,1,1]\n",
    "while days[0]<len(days):\n",
    "    m=1\n",
    "    for (i) in list(range(days[0])):\n",
    "        days[m]=days[m]+1\n",
    "        m=m+1\n",
    "    days.pop(0)\n",
    "    n=n+1\n",
    "print (\"on the {0}th day you MUST stop procrastinating. At that point there will be {1} days left\".format(n,len(days)))\n",
    "print (\"at that degree of procrastination, you must read {0},{1},{2},{3},{4},{5},{6} chapters on the days up to the test\".format(days[0],days[1],days[2],days[3],days[4],days[5]))"
   ]
  },
  {
   "cell_type": "code",
   "execution_count": null,
   "metadata": {
    "collapsed": true
   },
   "outputs": [],
   "source": []
  }
 ],
 "metadata": {
  "kernelspec": {
   "display_name": "Python 3",
   "language": "python",
   "name": "python3"
  },
  "language_info": {
   "codemirror_mode": {
    "name": "ipython",
    "version": 3
   },
   "file_extension": ".py",
   "mimetype": "text/x-python",
   "name": "python",
   "nbconvert_exporter": "python",
   "pygments_lexer": "ipython3",
   "version": "3.4.3"
  }
 },
 "nbformat": 4,
 "nbformat_minor": 0
}
