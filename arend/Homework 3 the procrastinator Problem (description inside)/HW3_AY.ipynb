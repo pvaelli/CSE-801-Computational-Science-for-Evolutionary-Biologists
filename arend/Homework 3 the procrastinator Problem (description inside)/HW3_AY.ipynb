{
 "cells": [
  {
   "cell_type": "code",
   "execution_count": 4,
   "metadata": {
    "collapsed": false
   },
   "outputs": [
    {
     "name": "stdout",
     "output_type": "stream",
     "text": [
      "You have to stop procastinating on day 16, when there are 6 days left (including day 16).\n",
      "You will have to read 6 chapters on day 16, 5 chapters on day 17, 4 chapters on day 18, 3 chapters on day 19, 2 chapters on day 20, and 1 chapter on day 21.\n"
     ]
    }
   ],
   "source": [
    "L=[1,1,1,1,1,1,1,1,1,1,1,1,1,1,1,1,1,1,1,1,1]\n",
    "n=1\n",
    "\n",
    "while L[0]<len(L):\n",
    "        k=1\n",
    "        for i in range(L[0]):\n",
    "            L[k]=L[k]+1\n",
    "            k=k+1\n",
    "        L.pop(0)\n",
    "        n=n+1\n",
    "\n",
    "print \"You have to stop procastinating on day {0}, when there are {1} days left (including day {0}).\".format(n,len(L))\n",
    "\n",
    "print \"You will have to read {0} chapters on day 16, {1} chapters on day 17, {2} chapters on day 18, \\\n",
    "{3} chapters on day 19, {4} chapters on day 20, and {5} chapter on day 21.\".format(L[0],L[1],L[2],L[3],L[4],L[5])"
   ]
  },
  {
   "cell_type": "code",
   "execution_count": null,
   "metadata": {
    "collapsed": true
   },
   "outputs": [],
   "source": []
  }
 ],
 "metadata": {
  "kernelspec": {
   "display_name": "Python 2",
   "language": "python",
   "name": "python2"
  },
  "language_info": {
   "codemirror_mode": {
    "name": "ipython",
    "version": 2
   },
   "file_extension": ".py",
   "mimetype": "text/x-python",
   "name": "python",
   "nbconvert_exporter": "python",
   "pygments_lexer": "ipython2",
   "version": "2.7.10"
  }
 },
 "nbformat": 4,
 "nbformat_minor": 0
}
