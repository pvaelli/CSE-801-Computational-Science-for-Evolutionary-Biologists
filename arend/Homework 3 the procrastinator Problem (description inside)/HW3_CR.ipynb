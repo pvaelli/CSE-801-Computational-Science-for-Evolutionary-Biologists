{
 "cells": [
  {
   "cell_type": "code",
   "execution_count": 2,
   "metadata": {
    "collapsed": false
   },
   "outputs": [
    {
     "name": "stdout",
     "output_type": "stream",
     "text": [
      "[6, 5, 4, 3, 2, 1]\n",
      "The last day I can procrastinate is the 15th\n",
      "On the 16th day, I need to read 6 chapters, on the 17th day, I  need to read 5 chapters, on the 18th day, I have to read 4 chapters, on the 19th day, I have to read 3 chapters, on the 20th day, I need to read 2 chapters, and on the 21st, I'll read 1 chapter\n"
     ]
    }
   ],
   "source": [
    "L=[1]*21\n",
    "n=0\n",
    "m=0\n",
    "d=0\n",
    "\n",
    "while L[n]<len(L):\n",
    "    while (n<L[0]):\n",
    "        L[m+1]=L[m+1]+1\n",
    "        n=n+1\n",
    "        m=m+1\n",
    "    L.pop(0)\n",
    "    n=0\n",
    "    m=0\n",
    "    d=d+1\n",
    "\n",
    "print L\n",
    "print 'The last day I can procrastinate is the {0}th'.format(d)\n",
    "print \"On the 16th day, I need to read {0} chapters, on the 17th day, I  need to read {1} chapters, on the 18th day, I have to read {2} chapters, on the 19th day, I have to read {3} chapters, on the 20th day, I need to read {4} chapters, and on the 21st, I'll read {5} chapter\".format (L[0], L[1], L[2], L[3], L[4], L[5])\n",
    "        "
   ]
  },
  {
   "cell_type": "code",
   "execution_count": null,
   "metadata": {
    "collapsed": false
   },
   "outputs": [],
   "source": []
  },
  {
   "cell_type": "code",
   "execution_count": null,
   "metadata": {
    "collapsed": true
   },
   "outputs": [],
   "source": []
  }
 ],
 "metadata": {
  "kernelspec": {
   "display_name": "Python 2",
   "language": "python",
   "name": "python2"
  },
  "language_info": {
   "codemirror_mode": {
    "name": "ipython",
    "version": 2
   },
   "file_extension": ".py",
   "mimetype": "text/x-python",
   "name": "python",
   "nbconvert_exporter": "python",
   "pygments_lexer": "ipython2",
   "version": "2.7.10"
  }
 },
 "nbformat": 4,
 "nbformat_minor": 0
}
