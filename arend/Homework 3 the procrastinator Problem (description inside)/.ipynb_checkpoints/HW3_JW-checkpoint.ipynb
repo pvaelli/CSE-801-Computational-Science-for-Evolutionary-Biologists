{
 "cells": [
  {
   "cell_type": "code",
   "execution_count": 3,
   "metadata": {
    "collapsed": false
   },
   "outputs": [
    {
     "name": "stdout",
     "output_type": "stream",
     "text": [
      "[2, 1, 1, 1, 1, 1, 1, 1, 1, 1, 1, 1, 1, 1, 1, 1, 1, 1, 1, 1] 20\n",
      "[2, 2, 1, 1, 1, 1, 1, 1, 1, 1, 1, 1, 1, 1, 1, 1, 1, 1, 1] 19\n",
      "[3, 2, 1, 1, 1, 1, 1, 1, 1, 1, 1, 1, 1, 1, 1, 1, 1, 1] 18\n",
      "[3, 2, 2, 1, 1, 1, 1, 1, 1, 1, 1, 1, 1, 1, 1, 1, 1] 17\n",
      "[3, 3, 2, 1, 1, 1, 1, 1, 1, 1, 1, 1, 1, 1, 1, 1] 16\n",
      "[4, 3, 2, 1, 1, 1, 1, 1, 1, 1, 1, 1, 1, 1, 1] 15\n",
      "[4, 3, 2, 2, 1, 1, 1, 1, 1, 1, 1, 1, 1, 1] 14\n",
      "[4, 3, 3, 2, 1, 1, 1, 1, 1, 1, 1, 1, 1] 13\n",
      "[4, 4, 3, 2, 1, 1, 1, 1, 1, 1, 1, 1] 12\n",
      "[5, 4, 3, 2, 1, 1, 1, 1, 1, 1, 1] 11\n",
      "[5, 4, 3, 2, 2, 1, 1, 1, 1, 1] 10\n",
      "[5, 4, 3, 3, 2, 1, 1, 1, 1] 9\n",
      "[5, 4, 4, 3, 2, 1, 1, 1] 8\n",
      "[5, 5, 4, 3, 2, 1, 1] 7\n",
      "[6, 5, 4, 3, 2, 1] 6\n",
      "6 days with list of [6, 5, 4, 3, 2, 1]\n"
     ]
    }
   ],
   "source": [
    "\"\"\"\n",
    "CSE801 - week4\n",
    "Created on Sep 23 2015\n",
    "Procrastinate problem homework\n",
    "@author Jie Wang\n",
    "\"\"\"\n",
    "LenDays = 21\n",
    "BookChapter = [1]*LenDays\n",
    "start = 0\n",
    "days = LenDays\n",
    "while BookChapter[0] < len(BookChapter):\n",
    "    start = BookChapter.pop(0)\n",
    "    for i in range(start):\n",
    "        BookChapter[i] = BookChapter[i] + 1\n",
    "    print BookChapter,\n",
    "    days = days - 1\n",
    "    print days\n",
    "print \"{0} days with list of {1}\".format(days,BookChapter)"
   ]
  },
  {
   "cell_type": "code",
   "execution_count": null,
   "metadata": {
    "collapsed": true
   },
   "outputs": [],
   "source": []
  }
 ],
 "metadata": {
  "kernelspec": {
   "display_name": "Python 3",
   "language": "python",
   "name": "python3"
  },
  "language_info": {
   "codemirror_mode": {
    "name": "ipython",
    "version": 3
   },
   "file_extension": ".py",
   "mimetype": "text/x-python",
   "name": "python",
   "nbconvert_exporter": "python",
   "pygments_lexer": "ipython3",
   "version": "3.4.3"
  }
 },
 "nbformat": 4,
 "nbformat_minor": 0
}
