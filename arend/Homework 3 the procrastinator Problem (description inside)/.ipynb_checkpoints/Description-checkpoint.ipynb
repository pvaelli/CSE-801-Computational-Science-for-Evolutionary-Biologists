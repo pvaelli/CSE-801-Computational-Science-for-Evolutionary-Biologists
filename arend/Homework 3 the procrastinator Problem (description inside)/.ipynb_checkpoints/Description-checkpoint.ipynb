{
 "cells": [
  {
   "cell_type": "markdown",
   "metadata": {},
   "source": [
    "### description\n",
    "    Imagine you have 21 Days left until exam, and exactly 21 chapters to read to pass the exam\n",
    "    You could read one chapter a day and pass the exam nicely, but you want to procrastinate\n",
    "    so instead of reading the first chapter today, you decide to read this chapter tomorrow.\n",
    "    Every day you keep moving the chapters to read this day further into the future. But you \n",
    "    do this evenly. If you would need to read 3 chapters today, you distribute those 3 chapter\n",
    "    to the next three days.\n",
    "    The workload for the first couple of days will look like this:\n",
    "    1 1 1 1 1 1 1 1 1 1 1 1 1 1 1 1 1 1 1 1 1\n",
    "    2 1 1 1 1 1 1 1 1 1 1 1 1 1 1 1 1 1 1 1\n",
    "    2 2 1 1 1 1 1 1 1 1 1 1 1 1 1 1 1 1 1\n",
    "    3 2 1 1 1 1 1 1 1 1 1 1 1 1 1 1 1 1\n",
    "    3 2 2 1 1 1 1 1 1 1 1 1 1 1 1 1 1\n",
    "    ... and so forth.\n",
    "    \n",
    "    The question is now:\n",
    "    1) At what point do you have to stop doing this, because there are fewer days left than \n",
    "    you would need to distribute todays books to?\n",
    "    2) What does your reading schedule look like for the rest of the days until the exam?"
   ]
  },
  {
   "cell_type": "code",
   "execution_count": null,
   "metadata": {
    "collapsed": true
   },
   "outputs": [],
   "source": []
  }
 ],
 "metadata": {
  "kernelspec": {
   "display_name": "Python 2",
   "language": "python",
   "name": "python2"
  },
  "language_info": {
   "codemirror_mode": {
    "name": "ipython",
    "version": 2
   },
   "file_extension": ".py",
   "mimetype": "text/x-python",
   "name": "python",
   "nbconvert_exporter": "python",
   "pygments_lexer": "ipython2",
   "version": "2.7.10"
  }
 },
 "nbformat": 4,
 "nbformat_minor": 0
}
