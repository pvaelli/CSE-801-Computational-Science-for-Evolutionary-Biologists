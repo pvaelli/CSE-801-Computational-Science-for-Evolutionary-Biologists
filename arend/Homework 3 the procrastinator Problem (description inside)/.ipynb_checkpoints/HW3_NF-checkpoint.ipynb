{
 "cells": [
  {
   "cell_type": "code",
   "execution_count": 41,
   "metadata": {
    "collapsed": false
   },
   "outputs": [
    {
     "name": "stdout",
     "output_type": "stream",
     "text": [
      "You can procrastinate for 15 days.\n"
     ]
    }
   ],
   "source": [
    "chapters=[1, 1, 1, 1, 1, 1, 1, 1, 1, 1, 1, 1, 1, 1, 1, 1, 1, 1, 1, 1, 1]\n",
    "N=[]\n",
    "n=0\n",
    "while(sum(N)<5):\n",
    "    N.append(chapters.pop(0))  \n",
    "    for i in range(len(N)):\n",
    "        n=n+1  \n",
    "print \"You can procrastinate for {} days.\".format(n)"
   ]
  },
  {
   "cell_type": "code",
   "execution_count": 44,
   "metadata": {
    "collapsed": false
   },
   "outputs": [
    {
     "name": "stdout",
     "output_type": "stream",
     "text": [
      "You need to read 6 chapters on day 16, 5 chapters on day 17, 4 chapters on day 18, 3 chapters on day 19, 2 chapters on day 20, and 1 chapters on day 21.\n"
     ]
    }
   ],
   "source": [
    "NewList=[(sum(N)+1)]\n",
    "n=1\n",
    "h=0\n",
    "while(sum(NewList)<21):\n",
    "    NewList.append(NewList[h]-n)\n",
    "    n=n+1\n",
    "print \"You need to read {0} chapters on day 16, {1} chapters on day 17, {2} chapters on day 18, \\\n",
    "{3} chapters on day 19, {4} chapters on day 20, and \\\n",
    "{5} chapters on day 21.\".format(NewList[0],NewList[1],NewList[2],NewList[3],NewList[4],NewList[5])"
   ]
  }
 ],
 "metadata": {
  "kernelspec": {
   "display_name": "Python 2",
   "language": "python",
   "name": "python2"
  },
  "language_info": {
   "codemirror_mode": {
    "name": "ipython",
    "version": 2
   },
   "file_extension": ".py",
   "mimetype": "text/x-python",
   "name": "python",
   "nbconvert_exporter": "python",
   "pygments_lexer": "ipython2",
   "version": "2.7.10"
  }
 },
 "nbformat": 4,
 "nbformat_minor": 0
}
