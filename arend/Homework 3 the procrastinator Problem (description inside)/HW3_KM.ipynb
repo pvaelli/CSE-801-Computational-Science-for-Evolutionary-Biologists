{
 "cells": [
  {
   "cell_type": "code",
   "execution_count": 8,
   "metadata": {
    "collapsed": false
   },
   "outputs": [
    {
     "name": "stdout",
     "output_type": "stream",
     "text": [
      "You must stop dealing cards in the 15th round\n",
      "There will be 6 stacks of cards.\n",
      "    ...6 cards in the first stack.\n",
      "    ...5 cards in the second stack.\n",
      "    ...4 cards in the third stack.\n",
      "    ...3 cards in the fourth stack.\n",
      "    ...2 cards in the fifth stack.\n",
      "    ...1 cards in the sixth stack.\n"
     ]
    }
   ],
   "source": [
    "#I thought of this as cards. \n",
    "\n",
    "a=[1,1,1,1,1,1,1,1,1,1,1,1,1,1,1,1,1,1,1,1,1] # lay the cards out \n",
    "hand=0 #cards in hand\n",
    "n=0\n",
    "while a[0]<len(a): \n",
    "        hand=a.pop(0)+hand #pickup the first stack\n",
    "        deal=0\n",
    "        while hand>0: #when you have cards to deal, deal them to the other stacks\n",
    "            a[deal]=a[deal]+1\n",
    "            deal=deal+1\n",
    "            hand=hand-1\n",
    "        n=n+1\n",
    "print \"You must stop dealing cards in the {0}th round\".format(n)\n",
    "print \"There will be {0} stacks of cards.\".format(len(a))\n",
    "print \"    ...{0} cards in the first stack.\".format(a[0])\n",
    "print \"    ...{0} cards in the second stack.\".format(a[1])\n",
    "print \"    ...{0} cards in the third stack.\".format(a[2])\n",
    "print \"    ...{0} cards in the fourth stack.\".format(a[3])\n",
    "print \"    ...{0} cards in the fifth stack.\".format(a[4])\n",
    "print \"    ...{0} cards in the sixth stack.\".format(a[5])"
   ]
  },
  {
   "cell_type": "code",
   "execution_count": 9,
   "metadata": {
    "collapsed": false
   },
   "outputs": [
    {
     "name": "stdout",
     "output_type": "stream",
     "text": [
      "You should stop procrasinating on day 15\n",
      "The final chapter distribution for the last 6 days is.. 6,5,4,3,2,1\n"
     ]
    }
   ],
   "source": [
    "print \"You should stop procrasinating on day {0}\".format(n)\n",
    "print \"The final chapter distribution for the last {0} days is.. {1},{2},{3},{4},{5},{6}\".format((21-n),a[0],a[1],a[2],a[3],a[4],a[5])"
   ]
  }
 ],
 "metadata": {
  "kernelspec": {
   "display_name": "Python 2",
   "language": "python",
   "name": "python2"
  },
  "language_info": {
   "codemirror_mode": {
    "name": "ipython",
    "version": 2
   },
   "file_extension": ".py",
   "mimetype": "text/x-python",
   "name": "python",
   "nbconvert_exporter": "python",
   "pygments_lexer": "ipython2",
   "version": "2.7.10"
  }
 },
 "nbformat": 4,
 "nbformat_minor": 0
}
