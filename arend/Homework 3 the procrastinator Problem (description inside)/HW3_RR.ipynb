{
 "cells": [
  {
   "cell_type": "code",
   "execution_count": 29,
   "metadata": {
    "collapsed": false
   },
   "outputs": [
    {
     "name": "stdout",
     "output_type": "stream",
     "text": [
      "(6, [5, 4, 3, 2, 1])\n"
     ]
    }
   ],
   "source": [
    "N=21\n",
    "def solveProcastination(N): \n",
    "    L=[]\n",
    "    for i in list(range(N)):\n",
    "        L.append(1)\n",
    "    for j in list(range(N)):\n",
    "        temp = L.pop(0)\n",
    "        if (temp<=len(L)):\n",
    "            for k in list(range(temp)):\n",
    "                L[k]=L[k]+1\n",
    "        else:\n",
    "            return temp,L\n",
    "    return temp,L\n",
    "    \n",
    "print (solveProcastination(N))"
   ]
  },
  {
   "cell_type": "code",
   "execution_count": null,
   "metadata": {
    "collapsed": false
   },
   "outputs": [],
   "source": [
    "\n"
   ]
  },
  {
   "cell_type": "code",
   "execution_count": null,
   "metadata": {
    "collapsed": false
   },
   "outputs": [],
   "source": []
  },
  {
   "cell_type": "code",
   "execution_count": null,
   "metadata": {
    "collapsed": true
   },
   "outputs": [],
   "source": []
  }
 ],
 "metadata": {
  "kernelspec": {
   "display_name": "Python 3",
   "language": "python",
   "name": "python3"
  },
  "language_info": {
   "codemirror_mode": {
    "name": "ipython",
    "version": 3
   },
   "file_extension": ".py",
   "mimetype": "text/x-python",
   "name": "python",
   "nbconvert_exporter": "python",
   "pygments_lexer": "ipython3",
   "version": "3.4.3"
  }
 },
 "nbformat": 4,
 "nbformat_minor": 0
}
