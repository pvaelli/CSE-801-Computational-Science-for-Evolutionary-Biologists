{
 "cells": [
  {
   "cell_type": "code",
   "execution_count": 5,
   "metadata": {
    "collapsed": false
   },
   "outputs": [
    {
     "name": "stdout",
     "output_type": "stream",
     "text": [
      "[6, 5, 4, 3, 2, 1]\n",
      "15 is how many days you have to be a bum\n"
     ]
    }
   ],
   "source": [
    "List_of_Days=[1,1,1,1,1,1,1,1,1,1,1,1,1,1,1,1,1,1,1,1,1]\n",
    "Count_Days = 0\n",
    "while List_of_Days[0] < len(List_of_Days):\n",
    "    Day = 1\n",
    "    Count_Days= Count_Days+1    \n",
    "    while List_of_Days[0] >= Day:\n",
    "        List_of_Days[Day] = List_of_Days[Day]+1\n",
    "        Day=Day+1\n",
    "    List_of_Days.pop(0)\n",
    "print List_of_Days\n",
    "print \"{0} is how many days you have to be a bum\".format(Count_Days)\n",
    "    \n",
    "    \n",
    "    \n"
   ]
  },
  {
   "cell_type": "code",
   "execution_count": null,
   "metadata": {
    "collapsed": true
   },
   "outputs": [],
   "source": []
  }
 ],
 "metadata": {
  "kernelspec": {
   "display_name": "Python 2",
   "language": "python",
   "name": "python2"
  },
  "language_info": {
   "codemirror_mode": {
    "name": "ipython",
    "version": 2
   },
   "file_extension": ".py",
   "mimetype": "text/x-python",
   "name": "python",
   "nbconvert_exporter": "python",
   "pygments_lexer": "ipython2",
   "version": "2.7.10"
  }
 },
 "nbformat": 4,
 "nbformat_minor": 0
}
