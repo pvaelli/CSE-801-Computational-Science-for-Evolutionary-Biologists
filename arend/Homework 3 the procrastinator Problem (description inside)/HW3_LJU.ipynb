{
 "cells": [
  {
   "cell_type": "code",
   "execution_count": 1,
   "metadata": {
    "collapsed": false
   },
   "outputs": [
    {
     "data": {
      "text/plain": [
       "\"you can't procrastinate on day 16\""
      ]
     },
     "execution_count": 1,
     "metadata": {},
     "output_type": "execute_result"
    }
   ],
   "source": [
    "def procrastinate(D):\n",
    "    import numpy\n",
    "    spread = D[0]\n",
    "    c=1\n",
    "    while (spread<len(D)):\n",
    "        D.pop(0)\n",
    "        procrastinate= [1]*spread\n",
    "        for i in D[0:(len(D)-spread)]: \n",
    "            procrastinate.append(0)\n",
    "        D= list(numpy.add(D,procrastinate))\n",
    "        spread=D[0]\n",
    "        c=c+1\n",
    "    return \"you can't procrastinate on day \" + str(c)\n",
    "\n",
    "#test with current problem \n",
    "chapters = [1]*21\n",
    "procrastinate(chapters)"
   ]
  },
  {
   "cell_type": "code",
   "execution_count": null,
   "metadata": {
    "collapsed": true
   },
   "outputs": [],
   "source": []
  }
 ],
 "metadata": {
  "kernelspec": {
   "display_name": "Python 2",
   "language": "python",
   "name": "python2"
  },
  "language_info": {
   "codemirror_mode": {
    "name": "ipython",
    "version": 2
   },
   "file_extension": ".py",
   "mimetype": "text/x-python",
   "name": "python",
   "nbconvert_exporter": "python",
   "pygments_lexer": "ipython2",
   "version": "2.7.10"
  }
 },
 "nbformat": 4,
 "nbformat_minor": 0
}
