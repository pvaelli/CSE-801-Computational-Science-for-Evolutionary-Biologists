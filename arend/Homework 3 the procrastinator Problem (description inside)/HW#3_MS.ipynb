{
 "cells": [
  {
   "cell_type": "code",
   "execution_count": 2,
   "metadata": {
    "collapsed": false
   },
   "outputs": [
    {
     "name": "stdout",
     "output_type": "stream",
     "text": [
      "[6, 5, 4, 3, 2, 1]\n",
      "15 days! You have to stop procrastinating tomorrow!\n"
     ]
    }
   ],
   "source": [
    "list=[1,1,1,1,1,1,1,1,1,1,1,1,1,1,1,1,1,1,1,1,1]\n",
    "\n",
    "while list[0]<len(list):\n",
    "    n=1\n",
    "    while list[0]>=n:\n",
    "        list[n]=list[n]+1\n",
    "        n=n+1\n",
    "    list.pop(0)\n",
    "\n",
    "print list\n",
    "print\"{0} days! You have to stop procrastinating tomorrow!\".format(21-n)"
   ]
  },
  {
   "cell_type": "code",
   "execution_count": null,
   "metadata": {
    "collapsed": true
   },
   "outputs": [],
   "source": []
  }
 ],
 "metadata": {
  "kernelspec": {
   "display_name": "Python 2",
   "language": "python",
   "name": "python2"
  },
  "language_info": {
   "codemirror_mode": {
    "name": "ipython",
    "version": 2
   },
   "file_extension": ".py",
   "mimetype": "text/x-python",
   "name": "python",
   "nbconvert_exporter": "python",
   "pygments_lexer": "ipython2",
   "version": "2.7.10"
  }
 },
 "nbformat": 4,
 "nbformat_minor": 0
}
