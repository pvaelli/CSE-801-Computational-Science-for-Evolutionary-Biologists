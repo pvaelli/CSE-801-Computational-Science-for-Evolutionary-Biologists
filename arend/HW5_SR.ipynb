{
 "cells": [
  {
   "cell_type": "code",
   "execution_count": 15,
   "metadata": {
    "collapsed": false
   },
   "outputs": [
    {
     "name": "stdout",
     "output_type": "stream",
     "text": [
      "Populating the interactive namespace from numpy and matplotlib\n"
     ]
    }
   ],
   "source": [
    "%pylab inline"
   ]
  },
  {
   "cell_type": "code",
   "execution_count": 16,
   "metadata": {
    "collapsed": true
   },
   "outputs": [],
   "source": [
    "from pandas import *"
   ]
  },
  {
   "cell_type": "code",
   "execution_count": 18,
   "metadata": {
    "collapsed": false
   },
   "outputs": [
    {
     "ename": "SyntaxError",
     "evalue": "invalid syntax (<ipython-input-18-3d54e80f26a5>, line 24)",
     "output_type": "error",
     "traceback": [
      "\u001b[0;36m  File \u001b[0;32m\"<ipython-input-18-3d54e80f26a5>\"\u001b[0;36m, line \u001b[0;32m24\u001b[0m\n\u001b[0;31m    for Pa in startP:\u001b[0m\n\u001b[0m      ^\u001b[0m\n\u001b[0;31mSyntaxError\u001b[0m\u001b[0;31m:\u001b[0m invalid syntax\n"
     ]
    }
   ],
   "source": [
    "def GT(E,Pa,Pb,Pc,T,dt):\n",
    "    #generate the matrix 3x3\n",
    "    Ps=[[],[],[]]\n",
    "    for t in range(T):\n",
    "        Wa=(Pa*E[0][0])+(Pb*E[0][1])+(Pc*E[0][2])\n",
    "        Wb=(Pa*E[1][0])+(Pb*E[1][1])+(Pc*E[1][2])\n",
    "        Wc=(Pa*E[2][0])+(Pb*E[2][1])+(Pc*E[2][2])\n",
    "        Wm=(Wa+Wb+Wc)/3.0\n",
    "        Pa=Pa+(dt*(Pa*(Wa-Wm)))\n",
    "        Pb=Pb+(dt*(Pb*(Wb-Wm)))\n",
    "        Pc=Pc+(dt*(Pc*(Wc-Wm)))\n",
    "        #numerical reasons\n",
    "        Psum=Pa+Pb+Pc\n",
    "        Pa=Pa/Psum\n",
    "        Pb=Pb/Psum\n",
    "        Pc=Pc/Psum\n",
    "        Ps[0].append(float(Pa))\n",
    "        Ps[1].append(float(Pb))\n",
    "        Ps[2].append(float(Pc))\n",
    "    return Ps\n",
    "\n",
    "startP=[0.1,0.2,0.3,0.4,0.5,0.6,0.7,0.8,0.9] #assign probabilities \n",
    "EM=[[0,-1,1],[1,0,-1], [-1,1,0]\n",
    "for Pa in startP:\n",
    "    Pb=(1-Pa)/3\n",
    "    Pc=(1-Pa)/3\n",
    "    Ps=GT(EM,Pa,Pb,Pc,1000,0.01)\n",
    "    figure()\n",
    "    plot(Ps[0],'g')\n",
    "    plot(Ps[1],'r')\n",
    "    plot(Ps[2],'b')\n",
    "    axis([0,1000,0,1])"
   ]
  },
  {
   "cell_type": "markdown",
   "metadata": {},
   "source": [
    "I can't figure out why I am receiving an error. I placed the code in python tutor and received no helpful feedback. Also, the same idea in the L10 code seems to work fine.... \n"
   ]
  },
  {
   "cell_type": "markdown",
   "metadata": {},
   "source": []
  },
  {
   "cell_type": "code",
   "execution_count": 10,
   "metadata": {
    "collapsed": false
   },
   "outputs": [
    {
     "ename": "SyntaxError",
     "evalue": "invalid syntax (<ipython-input-10-98e663e78931>, line 3)",
     "output_type": "error",
     "traceback": [
      "\u001b[0;36m  File \u001b[0;32m\"<ipython-input-10-98e663e78931>\"\u001b[0;36m, line \u001b[0;32m3\u001b[0m\n\u001b[0;31m    for Pa in startP:\u001b[0m\n\u001b[0m      ^\u001b[0m\n\u001b[0;31mSyntaxError\u001b[0m\u001b[0;31m:\u001b[0m invalid syntax\n"
     ]
    }
   ],
   "source": [
    "startP=[0.1,0.2,0.3,0.4,0.5,0.6,0.7,0.8,0.9]\n",
    "EM=[[0,-1,1],[1,0,-1], [-1,1,0]\n",
    "for Pa in startP:\n",
    "    Pb=(1-Pa)/3\n",
    "    Pc=(1-Pa)/3\n",
    "    Ps=GT(EM,Pa,Pb,Pc,2000,0.0001)\n",
    "    figure()\n",
    "    plot(Ps[0],'g')\n",
    "    plot(Ps[1],'r')\n",
    "    plot(Ps[2],'b')\n",
    "    axis([0,1000,0,1])"
   ]
  },
  {
   "cell_type": "code",
   "execution_count": null,
   "metadata": {
    "collapsed": true
   },
   "outputs": [],
   "source": []
  }
 ],
 "metadata": {
  "kernelspec": {
   "display_name": "Python 3",
   "language": "python",
   "name": "python3"
  },
  "language_info": {
   "codemirror_mode": {
    "name": "ipython",
    "version": 3
   },
   "file_extension": ".py",
   "mimetype": "text/x-python",
   "name": "python",
   "nbconvert_exporter": "python",
   "pygments_lexer": "ipython3",
   "version": "3.4.3"
  }
 },
 "nbformat": 4,
 "nbformat_minor": 0
}
