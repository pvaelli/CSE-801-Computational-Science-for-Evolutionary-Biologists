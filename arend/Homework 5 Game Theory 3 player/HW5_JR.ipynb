{
 "cells": [
  {
   "cell_type": "code",
   "execution_count": 2,
   "metadata": {
    "collapsed": false
   },
   "outputs": [
    {
     "name": "stdout",
     "output_type": "stream",
     "text": [
      "Populating the interactive namespace from numpy and matplotlib\n"
     ]
    }
   ],
   "source": [
    "%pylab inline"
   ]
  },
  {
   "cell_type": "code",
   "execution_count": 3,
   "metadata": {
    "collapsed": false
   },
   "outputs": [],
   "source": [
    "from pandas import *"
   ]
  },
  {
   "cell_type": "code",
   "execution_count": 5,
   "metadata": {
    "collapsed": false
   },
   "outputs": [
    {
     "data": {
      "text/plain": [
       "[<matplotlib.lines.Line2D at 0x105678e10>]"
      ]
     },
     "execution_count": 5,
     "metadata": {},
     "output_type": "execute_result"
    },
    {
     "data": {
      "image/png": "[encoded data removed]",
      "text/plain": [
       "<matplotlib.figure.Figure at 0x1053504d0>"
      ]
     },
     "metadata": {},
     "output_type": "display_data"
    }
   ],
   "source": [
    "E=[[0.0,-1.0, 1.0],[1.0,0.0,-1.0],[-1.0,1.0,0.0]]\n",
    "\n",
    "def GT(E,Pa,Pb,Pc,T,dt):\n",
    "    Ps=[[],[],[]]\n",
    "    for t in range(2000):\n",
    "        Wa=(Pa*E[0][0])+(Pb*E[0][1])+(Pc*E[0][2])\n",
    "        Wb=(Pa*E[1][0])+(Pb*E[1][1])+(Pc*E[1][2])\n",
    "        Wc=(Pa*E[2][0])+(Pc*E[2][1])+(Pc*E[2][2]) #<- Pc in the second column must be a Pb\n",
    "        Wm=(Wa+Wb+Wc)/3.0\n",
    "        Pa=Pa+dt*(Pa*(Wa-Wm))\n",
    "        Pb=Pb+dt*(Pb*(Wb-Wm))\n",
    "        Pc=Pc+dt*(Pc*(Wc-Wm))\n",
    "        #numerical reasons\n",
    "        Psum=Pa+Pb+Pc\n",
    "        Pa=Pa/Psum\n",
    "        Pb=Pb/Psum\n",
    "        Pc=Pc/Psum\n",
    "        Ps[0].append(Pa)\n",
    "        Ps[1].append(Pb)\n",
    "        Ps[2].append(Pc)\n",
    "    return Ps\n",
    "\n",
    "Pa= .6\n",
    "Pb= (1-Pa)/2.0\n",
    "Pc=Pb\n",
    "Ps=GT(E,Pa,Pb,Pc,2000,0.01)\n",
    "figure()\n",
    "title(str(Pa))\n",
    "plot(Ps[0],'g')\n",
    "plot(Ps[1],'r')\n",
    "plot(Ps[2], 'y')"
   ]
  },
  {
   "cell_type": "markdown",
   "metadata": {},
   "source": [
    "\n"
   ]
  }
 ],
 "metadata": {
  "kernelspec": {
   "display_name": "Python 2",
   "language": "python",
   "name": "python2"
  },
  "language_info": {
   "codemirror_mode": {
    "name": "ipython",
    "version": 2
   },
   "file_extension": ".py",
   "mimetype": "text/x-python",
   "name": "python",
   "nbconvert_exporter": "python",
   "pygments_lexer": "ipython2",
   "version": "2.7.10"
  }
 },
 "nbformat": 4,
 "nbformat_minor": 0
}
