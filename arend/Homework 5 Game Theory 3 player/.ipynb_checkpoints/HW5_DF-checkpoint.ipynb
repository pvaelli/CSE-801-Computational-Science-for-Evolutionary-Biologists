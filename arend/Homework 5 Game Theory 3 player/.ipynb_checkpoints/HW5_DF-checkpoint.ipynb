{
 "cells": [
  {
   "cell_type": "code",
   "execution_count": 1,
   "metadata": {
    "collapsed": false
   },
   "outputs": [
    {
     "name": "stdout",
     "output_type": "stream",
     "text": [
      "Populating the interactive namespace from numpy and matplotlib\n"
     ]
    }
   ],
   "source": [
    "%pylab inline"
   ]
  },
  {
   "cell_type": "code",
   "execution_count": 2,
   "metadata": {
    "collapsed": true
   },
   "outputs": [],
   "source": [
    "from pandas import *"
   ]
  },
  {
   "cell_type": "code",
   "execution_count": 3,
   "metadata": {
    "collapsed": false
   },
   "outputs": [
    {
     "data": {
      "text/plain": [
       "[<matplotlib.lines.Line2D at 0x1060f4550>]"
      ]
     },
     "execution_count": 3,
     "metadata": {},
     "output_type": "execute_result"
    },
    {
     "data": {
      "image/png": "[encoded data removed]",
      "text/plain": [
       "<matplotlib.figure.Figure at 0x107023b50>"
      ]
     },
     "metadata": {},
     "output_type": "display_data"
    }
   ],
   "source": [
    "def GT(E,Pr,Pp,Ps,T,dt):\n",
    "    Pss=[[],[],[]]\n",
    "    for t in range(T):\n",
    "        # r=rock, p=paper, s=scissors\n",
    "        #the three W terms (containing three elements each) covers the entire matrix\n",
    "        Wr=(Pr*E[0][0])+(Pp*E[0][1])+(Ps*E[0][2])\n",
    "        Wp=(Pr*E[1][0])+(Pp*E[1][1])+(Ps*E[1][2])\n",
    "        Ws=(Pr*E[2][0])+(Pp*E[2][1])+(Ps*E[2][2])\n",
    "        #Average all W's\n",
    "        Wm=(Wr+Wp+Ws)/3.0\n",
    "        #Create each \"change term,\" P, with W_m and its respective W\n",
    "        Pr=Pr+(dt*(Pr*(Wr-Wm)))\n",
    "        Pp=Pp+(dt*(Pp*(Wp-Wm)))\n",
    "        Ps=Ps+(dt*(Ps*(Ws-Wm)))\n",
    "        #Normalizations\n",
    "        Psum=Pr+Pp+Ps\n",
    "        Pr=Pr/Psum\n",
    "        Pp=Pp/Psum\n",
    "        Ps=Ps/Psum\n",
    "        #Keep track of the probabilities for each of the elements by keeping them in thier own sub-list of Pss\n",
    "        Pss[0].append(Pr)\n",
    "        Pss[1].append(Pp)\n",
    "        Pss[2].append(Ps)\n",
    "    return Pss\n",
    "\n",
    "#Starting matrix comparing rock, paper, and scissors respectively\n",
    "E=[[0,-1,1],[1,0,-1],[-1,1,0]]\n",
    "Pr=(0.49)\n",
    "Pp=(0.49)\n",
    "Ps=(0.02)\n",
    "Pss=GT(E,Pr,Pp,Ps,2000,0.001)\n",
    "plot(Pss[0],'g')\n",
    "plot(Pss[1],'r')\n",
    "plot(Pss[2],'b')"
   ]
  },
  {
   "cell_type": "code",
   "execution_count": null,
   "metadata": {
    "collapsed": true
   },
   "outputs": [],
   "source": []
  }
 ],
 "metadata": {
  "kernelspec": {
   "display_name": "Python 2",
   "language": "python",
   "name": "python2"
  },
  "language_info": {
   "codemirror_mode": {
    "name": "ipython",
    "version": 2
   },
   "file_extension": ".py",
   "mimetype": "text/x-python",
   "name": "python",
   "nbconvert_exporter": "python",
   "pygments_lexer": "ipython2",
   "version": "2.7.10"
  }
 },
 "nbformat": 4,
 "nbformat_minor": 0
}
