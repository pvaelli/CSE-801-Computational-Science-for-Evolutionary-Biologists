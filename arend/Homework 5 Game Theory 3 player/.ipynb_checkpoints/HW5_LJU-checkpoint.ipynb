{
 "cells": [
  {
   "cell_type": "code",
   "execution_count": 2,
   "metadata": {
    "collapsed": false
   },
   "outputs": [
    {
     "name": "stdout",
     "output_type": "stream",
     "text": [
      "Populating the interactive namespace from numpy and matplotlib\n"
     ]
    }
   ],
   "source": [
    "%pylab inline"
   ]
  },
  {
   "cell_type": "code",
   "execution_count": 3,
   "metadata": {
    "collapsed": true
   },
   "outputs": [],
   "source": [
    "from pandas import*"
   ]
  },
  {
   "cell_type": "code",
   "execution_count": null,
   "metadata": {
    "collapsed": true
   },
   "outputs": [],
   "source": [
    "#HOMEWORK:\n",
    "#Rock, paper, scissors\n",
    "#2 players and 3 behaviors \n",
    "#    R   P    S\n",
    "#R   0  -1   +1\n",
    "#P  +1   0   -1\n",
    "#S  -1  +1    \n",
    "\n",
    "#payoff for playing rock is equal to probability of other person playing rock, paper, or scissors \n",
    "#times the payoff if they play rock paper or scissors"
   ]
  },
  {
   "cell_type": "code",
   "execution_count": 12,
   "metadata": {
    "collapsed": false
   },
   "outputs": [
    {
     "data": {
      "text/plain": [
       "[<matplotlib.lines.Line2D at 0x1075d9450>]"
      ]
     },
     "execution_count": 12,
     "metadata": {},
     "output_type": "execute_result"
    },
    {
     "data": {
      "image/png": "[encoded data removed]",
      "text/plain": [
       "<matplotlib.figure.Figure at 0x107453310>"
      ]
     },
     "metadata": {},
     "output_type": "display_data"
    }
   ],
   "source": [
    "E = [[0,-1,1],[1,0,-1],[-1,1,0]]\n",
    "Pr=0.1 #starting probability for rock\n",
    "Pp=0.33 #starting probability for paper\n",
    "Ps=1-Pr-Pp #starting probability for scissors\n",
    "Pr=0.5\n",
    "Ps=0.2\n",
    "Pp=0.3\n",
    "dt=0.001 #time function\n",
    "Ptime=[[],[],[]] #list to keep track of changes over time \n",
    "for t in range(10000):\n",
    "    Wr = Pr*E[0][0] + Pp*E[0][1] + Ps*E[0][2] #payoff for rock\n",
    "    Wp = Pr*E[1][0] + Pp*E[1][1] + Ps*E[1][2] #payoff for paper\n",
    "    Ws = Pr*E[2][0] + Pp*E[2][1] + Ps*E[2][2] #payoff for scissors\n",
    "    Wm=(Wr+Wp+Ws)/3.0 #average payoff\n",
    "    Pr=Pr+(dt*(Pr*(Wr-Wm))) #update probabilities based on your payoff divided by average payoff \n",
    "    Pp=Pp+(dt*(Pp*(Wp-Wm))) \n",
    "    Ps=Ps+(dt*(Ps*(Ws-Wm))) \n",
    "    Ptotal=Pr+Pp+Ps #bit of code that is apparently necessary\n",
    "    Pr=Pr/Ptotal \n",
    "    Pp=Pp/Ptotal\n",
    "    Ps=Ps/Ptotal\n",
    "    Ptime[0].append(Pr) #appends the list that is keeping track of probabilities over time \n",
    "    Ptime[1].append(Pp)\n",
    "    Ptime[2].append(Ps)\n",
    "plot(Ptime[0]) #will be blue for rock\n",
    "plot(Ptime[1]) #will be green paper\n",
    "plot(Ptime[2]) #will be red scissors "
   ]
  },
  {
   "cell_type": "code",
   "execution_count": 1,
   "metadata": {
    "collapsed": false
   },
   "outputs": [
    {
     "ename": "NameError",
     "evalue": "name 'figure' is not defined",
     "output_type": "error",
     "traceback": [
      "\u001b[0;31m---------------------------------------------------------------------------\u001b[0m",
      "\u001b[0;31mNameError\u001b[0m                                 Traceback (most recent call last)",
      "\u001b[0;32m<ipython-input-1-22e081f96068>\u001b[0m in \u001b[0;36m<module>\u001b[0;34m()\u001b[0m\n\u001b[1;32m     25\u001b[0m \u001b[0;32mfor\u001b[0m \u001b[0mPr\u001b[0m \u001b[0;32min\u001b[0m \u001b[0mstartPr\u001b[0m\u001b[0;34m:\u001b[0m\u001b[0;34m\u001b[0m\u001b[0m\n\u001b[1;32m     26\u001b[0m     \u001b[0mPs\u001b[0m\u001b[0;34m=\u001b[0m\u001b[0mrockpaperscissors\u001b[0m\u001b[0;34m(\u001b[0m\u001b[0mPr\u001b[0m\u001b[0;34m,\u001b[0m\u001b[0;36m0.0002\u001b[0m\u001b[0;34m,\u001b[0m\u001b[0;36m10000\u001b[0m\u001b[0;34m)\u001b[0m\u001b[0;34m\u001b[0m\u001b[0m\n\u001b[0;32m---> 27\u001b[0;31m     \u001b[0mfigure\u001b[0m\u001b[0;34m(\u001b[0m\u001b[0;34m)\u001b[0m\u001b[0;34m\u001b[0m\u001b[0m\n\u001b[0m\u001b[1;32m     28\u001b[0m     \u001b[0mtitle\u001b[0m\u001b[0;34m(\u001b[0m\u001b[0mstr\u001b[0m\u001b[0;34m(\u001b[0m\u001b[0mPr\u001b[0m\u001b[0;34m)\u001b[0m\u001b[0;34m)\u001b[0m\u001b[0;34m\u001b[0m\u001b[0m\n\u001b[1;32m     29\u001b[0m     \u001b[0mplot\u001b[0m\u001b[0;34m(\u001b[0m\u001b[0mPs\u001b[0m\u001b[0;34m[\u001b[0m\u001b[0;36m0\u001b[0m\u001b[0;34m]\u001b[0m\u001b[0;34m,\u001b[0m\u001b[0;34m'r'\u001b[0m\u001b[0;34m)\u001b[0m \u001b[0;31m#frequency of rock is red\u001b[0m\u001b[0;34m\u001b[0m\u001b[0m\n",
      "\u001b[0;31mNameError\u001b[0m: name 'figure' is not defined"
     ]
    }
   ],
   "source": [
    "#with a function to examine different probabilities \n",
    "def rockpaperscissors(Pr,dt,t):\n",
    "    E = [[0,-1,1],[1,0,-1],[-1,1,0]]\n",
    "    Pp=(1-Pr)/2 #starting probabilities for paper and scissors is the difference divided equally \n",
    "    Ps=Pp \n",
    "    Ptime=[[],[],[]] #list to keep track of changes over time \n",
    "    for t in range(10000):\n",
    "        Wr = Pr*E[0][0] + Pp*E[0][1] + Ps*E[0][2] #payoff for rock\n",
    "        Wp = Pr*E[1][0] + Pp*E[1][1] + Ps*E[1][2] #payoff for paper\n",
    "        Ws = Pr*E[2][0] + Pp*E[2][1] + Ps*E[2][2] #payoff for scissors\n",
    "        Wm=(Wr+Wp+Ws)/3.0 #average payoff\n",
    "        Pr=Pr+(dt*(Pr*(Wr-Wm))) #update probabilities based on your payoff divided by average payoff \n",
    "        Pp=Pp+(dt*(Pp*(Wp-Wm))) \n",
    "        Ps=Ps+(dt*(Ps*(Ws-Wm))) \n",
    "        Ptotal=Pr+Pp+Ps #bit of code that is apparently necessary\n",
    "        Pr=Pr/Ptotal \n",
    "        Pp=Pp/Ptotal\n",
    "        Ps=Ps/Ptotal\n",
    "        Ptime[0].append(Pr) #appends the list that is keeping track of probabilities over time \n",
    "        Ptime[1].append(Pp)\n",
    "        Ptime[2].append(Ps)\n",
    "    return Ptime\n",
    "\n",
    "startPr=[0.1,0.2,0.3,0.4,0.5,0.6,0.7,0.8,0.9]\n",
    "for Pr in startPr:\n",
    "    Ps=rockpaperscissors(Pr,0.0002,10000)\n",
    "    figure()\n",
    "    title(str(Pr))\n",
    "    plot(Ps[0],'r') #frequency of rock is red\n",
    "    plot(Ps[1],'g') #frequency of paper is green\n",
    "    plot(Ps[2],'b') #frequency of scissors is blue\n",
    "    pylab.ylim(0.0, 1.0)"
   ]
  },
  {
   "cell_type": "code",
   "execution_count": null,
   "metadata": {
    "collapsed": true
   },
   "outputs": [],
   "source": []
  }
 ],
 "metadata": {
  "kernelspec": {
   "display_name": "Python 2",
   "language": "python",
   "name": "python2"
  },
  "language_info": {
   "codemirror_mode": {
    "name": "ipython",
    "version": 2
   },
   "file_extension": ".py",
   "mimetype": "text/x-python",
   "name": "python",
   "nbconvert_exporter": "python",
   "pygments_lexer": "ipython2",
   "version": "2.7.10"
  }
 },
 "nbformat": 4,
 "nbformat_minor": 0
}
