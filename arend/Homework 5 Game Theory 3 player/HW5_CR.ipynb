{
 "cells": [
  {
   "cell_type": "code",
   "execution_count": 1,
   "metadata": {
    "collapsed": false
   },
   "outputs": [
    {
     "name": "stdout",
     "output_type": "stream",
     "text": [
      "Populating the interactive namespace from numpy and matplotlib\n"
     ]
    }
   ],
   "source": [
    "%pylab inline"
   ]
  },
  {
   "cell_type": "code",
   "execution_count": 2,
   "metadata": {
    "collapsed": true
   },
   "outputs": [],
   "source": [
    "from pandas import *"
   ]
  },
  {
   "cell_type": "code",
   "execution_count": 4,
   "metadata": {
    "collapsed": false
   },
   "outputs": [
    {
     "data": {
      "text/plain": [
       "[<matplotlib.lines.Line2D at 0x1059e5c90>]"
      ]
     },
     "execution_count": 4,
     "metadata": {},
     "output_type": "execute_result"
    },
    {
     "data": {
      "image/png": "[encoded data removed]",
      "text/plain": [
       "<matplotlib.figure.Figure at 0x105a05a50>"
      ]
     },
     "metadata": {},
     "output_type": "display_data"
    }
   ],
   "source": [
    "#creating function to visualize paper, scissors, rock game (if we can control starting probabilities)\n",
    "#a=rock b=paper c=scissors\n",
    "def RPS(E,Pa,Pb,Pc,T,dt):\n",
    "    Ps=[[],[],[]]\n",
    "    for t in range(T):\n",
    "        Wa=(Pa*E[0][0])+(Pb*E[0][1])+(Pc*E[0][2])\n",
    "        Wb=(Pa*E[1][0])+(Pb*E[1][1])+(Pc*E[1][2])\n",
    "        Wc=(Pa*E[2][0])+(Pb*E[2][1])+(Pc*E[2][2])\n",
    "        Wm=(Wa+Wb+Wc)/3.0\n",
    "        Pa=Pa+(dt*(Pa*(Wa-Wm)))\n",
    "        Pb=Pb+(dt*(Pb*(Wb-Wm)))\n",
    "        Pc=Pb+(dt*(Pc*(Wc-Wm)))\n",
    "        #numerical reasons?\n",
    "        Psum=Pa+Pb+Pc\n",
    "        Pa=Pa/Psum\n",
    "        Pb=Pb/Psum\n",
    "        Pc=Pc/Psum\n",
    "        Ps[0].append(float(Pa))\n",
    "        Ps[1].append(float(Pb))\n",
    "        Ps[2].append(float(Pc))\n",
    "    return Ps\n",
    "\n",
    "#starting matrix and probabilities (can change the starting probabilities to whatever one wants)\n",
    "EZ=[[0,-1,1],[1,0,-1], [-1,1,0]] #<- this ] was missing\n",
    "Pa=0.5\n",
    "Pb=0.2\n",
    "Pc=1-(Pa+Pb)\n",
    "dt=0.01\n",
    "Ps=RPS(EZ,Pa,Pb,Pc,1000,dt)\n",
    "#plotting probabilities of rock, paper, and scissors over T number of games\n",
    "figure()\n",
    "plot(Ps[0],'g')\n",
    "plot(Ps[1],'m')\n",
    "plot(Ps[2],'y')"
   ]
  },
  {
   "cell_type": "markdown",
   "metadata": {
    "collapsed": false
   },
   "source": [
    "Why is it given me a syntax error...\n",
    "Code looks right..."
   ]
  },
  {
   "cell_type": "code",
   "execution_count": null,
   "metadata": {
    "collapsed": true
   },
   "outputs": [],
   "source": []
  }
 ],
 "metadata": {
  "kernelspec": {
   "display_name": "Python 2",
   "language": "python",
   "name": "python2"
  },
  "language_info": {
   "codemirror_mode": {
    "name": "ipython",
    "version": 2
   },
   "file_extension": ".py",
   "mimetype": "text/x-python",
   "name": "python",
   "nbconvert_exporter": "python",
   "pygments_lexer": "ipython2",
   "version": "2.7.10"
  }
 },
 "nbformat": 4,
 "nbformat_minor": 0
}
