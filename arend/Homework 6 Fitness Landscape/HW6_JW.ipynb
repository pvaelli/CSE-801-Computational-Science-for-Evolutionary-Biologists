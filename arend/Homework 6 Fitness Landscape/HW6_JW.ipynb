{
 "cells": [
  {
   "cell_type": "markdown",
   "metadata": {},
   "source": [
    "### Homework\n",
    "    modify the code below by replacinf the fitness function.\n",
    "    You can choose one of two fitness functions, please indicate which one you work on\n",
    "    Option a:\n",
    "    Instead of doing NK, the sum of the numbers in the genome define fitness\n",
    "    This is rather easy, so once that is done, explore how large genomes (N~20, ~40, ~100)\n",
    "    perform in this environment\n",
    "    Option b:\n",
    "    Make the checkerboard fitness function. There you count how many numbers in the genome\n",
    "    sequence are identical. If the number flips you get rewarded if the next sequence of numbers\n",
    "    is as long as the first. Example:\n",
    "    Genome: 1100110011\n",
    "    Length   2 2 2 2 2\n",
    "    Fitness 10\n",
    "    \n",
    "    Genome: 1010110110\n",
    "    Length  1 1 1 1 2 1 2 1\n",
    "    Fitness 4 (the first four ones are summed then the sequence has none matching lengths)\n",
    "    \n",
    "    It becomes interesting to see what the diversity of solutions looks like"
   ]
  },
  {
   "cell_type": "code",
   "execution_count": 4,
   "metadata": {
    "collapsed": false
   },
   "outputs": [
    {
     "name": "stdout",
     "output_type": "stream",
     "text": [
      "Populating the interactive namespace from numpy and matplotlib\n"
     ]
    }
   ],
   "source": [
    "%pylab inline"
   ]
  },
  {
   "cell_type": "code",
   "execution_count": 5,
   "metadata": {
    "collapsed": true
   },
   "outputs": [],
   "source": [
    "from pandas import *\n",
    "import random"
   ]
  },
  {
   "cell_type": "code",
   "execution_count": 16,
   "metadata": {
    "collapsed": false
   },
   "outputs": [
    {
     "name": "stdout",
     "output_type": "stream",
     "text": [
      "[[0.8, 0.45, 0.53, 0.44], [0.38, 0.12, 0.79, 0.05], [0.21, 0.4, 0.64, 0.97], [0.29, 0.45, 0.9, 0.94], [0.82, 0.61, 0.45, 0.8]]\n"
     ]
    }
   ],
   "source": [
    "def makeNKTable(N,K):\n",
    "    NKTable=list()\n",
    "    for n in range(N):\n",
    "        L=list()\n",
    "        for i in range(2**K):\n",
    "            L.append(round(random.uniform(0.0,1.0),2))\n",
    "        NKTable.append(L)\n",
    "    return NKTable\n",
    "\n",
    "print makeNKTable(5,2)\n"
   ]
  },
  {
   "cell_type": "code",
   "execution_count": 17,
   "metadata": {
    "collapsed": false
   },
   "outputs": [
    {
     "name": "stdout",
     "output_type": "stream",
     "text": [
      "[[1, 0, 0, 0, 0], [1, 0, 0, 0, 0], [0, 1, 1, 1, 0], [0, 1, 1, 1, 0], [1, 0, 0, 0, 0], [0, 0, 0, 0, 0], [1, 0, 0, 1, 1], [0, 1, 0, 0, 1], [0, 0, 1, 0, 1], [0, 0, 1, 0, 1]]\n"
     ]
    }
   ],
   "source": [
    "def makePopulation(N,popSize):\n",
    "    population=list()\n",
    "    for p in range(popSize):\n",
    "        genome=list()\n",
    "        for n in range(N):\n",
    "            genome.append(random.randint(0,1))\n",
    "        population.append(genome)\n",
    "    return population\n",
    "\n",
    "print makePopulation(5,10)"
   ]
  },
  {
   "cell_type": "markdown",
   "metadata": {},
   "source": [
    "## Option A\n",
    "\n",
    "Compute fitness"
   ]
  },
  {
   "cell_type": "code",
   "execution_count": 21,
   "metadata": {
    "collapsed": false
   },
   "outputs": [],
   "source": [
    "def computeFitness(genome):\n",
    "    return sum(genome)"
   ]
  },
  {
   "cell_type": "markdown",
   "metadata": {},
   "source": [
    "## Option B\n",
    "COmpute Fitness"
   ]
  },
  {
   "cell_type": "code",
   "execution_count": null,
   "metadata": {
    "collapsed": true
   },
   "outputs": [],
   "source": [
    "def computeFitness_original(genome,NKTable,N,K):\n",
    "    fitness=1.0\n",
    "    for n in range(N):\n",
    "        c=1\n",
    "        s=0\n",
    "        for k in range(K):\n",
    "            #print n, k, s, c\n",
    "            #print \"__\"\n",
    "            s = s + genome[(n + k) % N] * c\n",
    "            c=c*2\n",
    "        #s is the row index\n",
    "        #n is the column index\n",
    "        fitness = fitness * NKTable[n][s]\n",
    "    return pow(fitness, 1.0 / float(N))"
   ]
  },
  {
   "cell_type": "code",
   "execution_count": 22,
   "metadata": {
    "collapsed": false
   },
   "outputs": [
    {
     "name": "stdout",
     "output_type": "stream",
     "text": [
      "[0, 0, 0, 1, 0]\n",
      "[0, 0, 0, 0, 0]\n",
      "[0, 0, 1, 0, 0]\n",
      "[1, 0, 0, 0, 0]\n",
      "[0, 0, 0, 0, 0]\n",
      "[1, 0, 0, 0, 0]\n",
      "[0, 0, 1, 0, 0]\n",
      "[1, 0, 0, 0, 0]\n",
      "[1, 0, 0, 1, 0]\n",
      "[0, 1, 0, 1, 0]\n"
     ]
    }
   ],
   "source": [
    "def makeMutant(genome,mutationRate):\n",
    "    newGenome=list()\n",
    "    for i in range(len(genome)):\n",
    "        if random.uniform(0.0,1.0)<mutationRate:\n",
    "            newGenome.append(1-genome[i])\n",
    "        else:\n",
    "            newGenome.append(genome[i])\n",
    "    return newGenome\n",
    "\n",
    "random.seed(0)\n",
    "\n",
    "for i in range(10):\n",
    "    print makeMutant([0,0,0,0,0],0.3)"
   ]
  },
  {
   "cell_type": "code",
   "execution_count": 14,
   "metadata": {
    "collapsed": false,
    "scrolled": false
   },
   "outputs": [
    {
     "data": {
      "text/plain": [
       "[<matplotlib.lines.Line2D at 0xba1e4a8>]"
      ]
     },
     "execution_count": 14,
     "metadata": {},
     "output_type": "execute_result"
    },
    {
     "data": {
      "image/png": "[encoded data removed]",
      "text/plain": [
       "<matplotlib.figure.Figure at 0xb64a9b0>"
      ]
     },
     "metadata": {},
     "output_type": "display_data"
    }
   ],
   "source": [
    "random.seed(0)\n",
    "\n",
    "#create a population\n",
    "N=12\n",
    "K=5\n",
    "popSize=100\n",
    "population=makePopulation(N,popSize)\n",
    "currentNKTable=makeNKTable(N,K)\n",
    "generations=50\n",
    "mutationRate=0.01\n",
    "\n",
    "meanW=list()\n",
    "maxW=list()\n",
    "    \n",
    "for generation in range(generations):\n",
    "    W=list()\n",
    "    for i in range(len(population)):\n",
    "        W.append(computeFitness(population[i]))  \n",
    "    nextGeneration=list()\n",
    "    meanW.append(mean(W))\n",
    "    highestFitness=max(W)\n",
    "    maxW.append(highestFitness)\n",
    "    \n",
    "    while len(nextGeneration)<popSize:\n",
    "        who=random.randint(0,popSize-1)\n",
    "        while (random.uniform(0.0,1.0)>(W[who]/highestFitness)):\n",
    "            who=random.randint(0,popSize-1)\n",
    "        nextGeneration.append(makeMutant(population[who],mutationRate))\n",
    "    population=list(nextGeneration)\n",
    "\n",
    "plot(meanW,'g')\n",
    "plot(maxW,'r')"
   ]
  },
  {
   "cell_type": "code",
   "execution_count": 20,
   "metadata": {
    "collapsed": false
   },
   "outputs": [
    {
     "name": "stdout",
     "output_type": "stream",
     "text": [
      "0.679960798946\n"
     ]
    }
   ],
   "source": [
    "def computeFitness_original(genome,NKTable,N,K):\n",
    "    fitness=1.0\n",
    "    for n in range(N):\n",
    "        c=1\n",
    "        s=0\n",
    "        for k in range(K):\n",
    "            #print n, k, s, c\n",
    "            #print \"__\"\n",
    "            s = s + genome[(n + k) % N] * c\n",
    "            c=c*2\n",
    "        #s is the row index\n",
    "        #n is the column index\n",
    "        fitness = fitness * NKTable[n][s]\n",
    "    return pow(fitness, 1.0 / float(N))\n",
    "\n",
    "random.seed(0)\n",
    "N=4\n",
    "K=3\n",
    "print computeFitness_original([0,0,1,0],makeNKTable(N,K),N,K)"
   ]
  }
 ],
 "metadata": {
  "kernelspec": {
   "display_name": "Python 2",
   "language": "python",
   "name": "python2"
  },
  "language_info": {
   "codemirror_mode": {
    "name": "ipython",
    "version": 2
   },
   "file_extension": ".py",
   "mimetype": "text/x-python",
   "name": "python",
   "nbconvert_exporter": "python",
   "pygments_lexer": "ipython2",
   "version": "2.7.10"
  }
 },
 "nbformat": 4,
 "nbformat_minor": 0
}
