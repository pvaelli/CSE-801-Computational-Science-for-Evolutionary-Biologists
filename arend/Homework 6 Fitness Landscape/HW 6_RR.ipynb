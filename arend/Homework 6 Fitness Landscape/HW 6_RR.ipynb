{
 "cells": [
  {
   "cell_type": "markdown",
   "metadata": {},
   "source": [
    "### Homework\n",
    "    modify the code below by replacinf the fitness function.\n",
    "    You can choose one of two fitness functions, please indicate which one you work on\n",
    "    Option a:\n",
    "    Instead of doing NK, the sum of the numbers in the genome define fitness\n",
    "    This is rather easy, so once that is done, explore how large genomes (N~20, ~40, ~100)\n",
    "    perform in this environment\n",
    "    Option b:\n",
    "    Make the checkerboard fitness function. There you count how many numbers in the genome\n",
    "    sequence are identical. If the number flips you get rewarded if the next sequence of numbers\n",
    "    is as long as the first. Example:\n",
    "    Genome: 1100110011\n",
    "    Length   2 2 2 2 2\n",
    "    Fitness 10\n",
    "    \n",
    "    Genome: 1010110110\n",
    "    Length  1 1 1 1 2 1 2 1\n",
    "    Fitness 4 (the first four ones are summed then the sequence has none matching lengths)\n",
    "    \n",
    "    It becomes interesting to see what the diversity of solutions looks like."
   ]
  },
  {
   "cell_type": "code",
   "execution_count": 2,
   "metadata": {
    "collapsed": false
   },
   "outputs": [
    {
     "name": "stdout",
     "output_type": "stream",
     "text": [
      "Populating the interactive namespace from numpy and matplotlib\n"
     ]
    }
   ],
   "source": [
    "#Option B\n",
    "%pylab inline"
   ]
  },
  {
   "cell_type": "code",
   "execution_count": 3,
   "metadata": {
    "collapsed": true
   },
   "outputs": [],
   "source": [
    "from pandas import *\n",
    "import random"
   ]
  },
  {
   "cell_type": "code",
   "execution_count": 5,
   "metadata": {
    "collapsed": false
   },
   "outputs": [
    {
     "name": "stdout",
     "output_type": "stream",
     "text": [
      "[[0.58, 0.64, 0.39, 0.18], [0.33, 0.91, 0.34, 0.55], [0.93, 0.19, 0.11, 0.75], [0.44, 0.03, 0.08, 0.29], [0.68, 0.43, 0.82, 0.16]]\n"
     ]
    }
   ],
   "source": [
    "def makeNKTable(N,K):\n",
    "    NKTable=list()\n",
    "    for n in range(N):\n",
    "        L=list()\n",
    "        for i in range(2**K):\n",
    "            L.append(round(random.uniform(0.0,1.0),2))\n",
    "        NKTable.append(L)\n",
    "    return NKTable\n",
    "\n",
    "print (makeNKTable(5,2))"
   ]
  },
  {
   "cell_type": "code",
   "execution_count": 7,
   "metadata": {
    "collapsed": false
   },
   "outputs": [
    {
     "name": "stdout",
     "output_type": "stream",
     "text": [
      "[[1, 1, 0, 1, 0], [0, 0, 0, 0, 1], [0, 0, 0, 0, 1], [0, 1, 0, 1, 1], [0, 1, 0, 1, 0], [0, 1, 0, 1, 1], [0, 0, 1, 1, 0], [1, 1, 0, 0, 0], [0, 0, 0, 1, 1], [0, 0, 0, 0, 1]]\n"
     ]
    }
   ],
   "source": [
    "def makePopulation(N,popSize):\n",
    "    population=list()\n",
    "    for p in range(popSize):\n",
    "        genome=list()\n",
    "        for n in range(N):\n",
    "            genome.append(random.randint(0,1))\n",
    "        population.append(genome)\n",
    "    return population\n",
    "\n",
    "print (makePopulation(5,10))"
   ]
  },
  {
   "cell_type": "code",
   "execution_count": 4,
   "metadata": {
    "collapsed": false
   },
   "outputs": [
    {
     "name": "stdout",
     "output_type": "stream",
     "text": [
      "[3, 2, 3, 3]\n",
      "6.0\n"
     ]
    }
   ],
   "source": [
    "def computeFitness(genome):\n",
    "    fitness=0.0\n",
    "    length=[]\n",
    "    n=0\n",
    "    while n<len(genome):\n",
    "        i=1\n",
    "        count=1\n",
    "        if n+i<len(genome):\n",
    "            while genome[n+i]==genome[n]:\n",
    "                count=count+1\n",
    "                if n+i+1<len(genome):\n",
    "                    i=i+1\n",
    "                else:\n",
    "                    break\n",
    "        if count>1 and n+i+1==len(genome):\n",
    "            length.append(count)\n",
    "            n=n+i+1\n",
    "        elif count>1 and n+i+1<len(genome):\n",
    "            length.append(count)\n",
    "            n=n+i\n",
    "        elif count==1 and n+i+1>=len(genome):\n",
    "            length.append(count)\n",
    "            n=n+i\n",
    "    print (length)\n",
    "    k=0\n",
    "    while k<len(length):\n",
    "        j=1\n",
    "        counter=1\n",
    "        if k+j<len(length):\n",
    "            while length[k+j]==length[k]:\n",
    "                counter = counter + 1\n",
    "                if k+j+1<len(length):\n",
    "                    j=j+1\n",
    "                else:\n",
    "                    break\n",
    "        if counter>1:\n",
    "            fitness = fitness + counter*length[k]\n",
    "        if j>1:\n",
    "            k=k+j\n",
    "        else:\n",
    "            k=k+1\n",
    "    #print (counter)\n",
    "    return fitness\n",
    "\n",
    "random.seed(0)\n",
    "print (computeFitness([1,1,1,0,0,1,1,1,0,0,0,1]))\n",
    "\n",
    "#This is not completely correct. I am having trouble with boundaries. If I add a 1 in the end to the genome above, it gives me the same result."
   ]
  },
  {
   "cell_type": "code",
   "execution_count": 63,
   "metadata": {
    "collapsed": false
   },
   "outputs": [
    {
     "name": "stdout",
     "output_type": "stream",
     "text": [
      "[0, 0, 0, 1, 0]\n",
      "[0, 0, 0, 0, 0]\n",
      "[0, 0, 1, 0, 0]\n",
      "[1, 0, 0, 0, 0]\n",
      "[0, 0, 0, 0, 0]\n",
      "[1, 0, 0, 0, 0]\n",
      "[0, 0, 1, 0, 0]\n",
      "[1, 0, 0, 0, 0]\n",
      "[1, 0, 0, 1, 0]\n",
      "[0, 1, 0, 1, 0]\n"
     ]
    }
   ],
   "source": [
    "def makeMutant(genome,mutationRate):\n",
    "    newGenome=list()\n",
    "    for i in range(len(genome)):\n",
    "        if random.uniform(0.0,1.0)<mutationRate:\n",
    "            newGenome.append(1-genome[i])\n",
    "        else:\n",
    "            newGenome.append(genome[i])\n",
    "    return newGenome\n",
    "random.seed(0)\n",
    "\n",
    "for i in range(10):\n",
    "    print (makeMutant([0,0,0,0,0],0.3))"
   ]
  },
  {
   "cell_type": "code",
   "execution_count": null,
   "metadata": {
    "collapsed": true
   },
   "outputs": [],
   "source": [
    "random.seed(0)\n",
    "\n",
    "#create a population\n",
    "N=12\n",
    "K=5\n",
    "popSize=100\n",
    "population=makePopulation(N,popSize)\n",
    "generations=500\n",
    "mutationRate=0.01\n",
    "\n",
    "meanW=list()\n",
    "maxW=list()\n",
    "    \n",
    "for generation in range(generations):\n",
    "    W=list()\n",
    "    for i in range(len(population)):\n",
    "        W.append(computeFitness(population[i]))\n",
    "    \n",
    "    \n",
    "    nextGeneration=list()\n",
    "    meanW.append(mean(W))\n",
    "    highestFitness=max(W)\n",
    "    maxW.append(highestFitness)\n",
    "    \n",
    "    while len(nextGeneration)<popSize:\n",
    "        who=random.randint(0,popSize-1)\n",
    "        while (random.uniform(0.0,1.0)>(W[who]/highestFitness)):\n",
    "            who=random.randint(0,popSize-1)\n",
    "        nextGeneration.append(makeMutant(population[who],mutationRate))\n",
    "    population=list(nextGeneration)\n",
    "\n",
    "plot(meanW,'g')\n",
    "plot(maxW,'r')"
   ]
  },
  {
   "cell_type": "code",
   "execution_count": 20,
   "metadata": {
    "collapsed": false
   },
   "outputs": [
    {
     "name": "stdout",
     "output_type": "stream",
     "text": [
      "[8]\n",
      "0\n"
     ]
    }
   ],
   "source": [
    "L=[0,0,0,0,0,0,0,0]\n",
    "lastE=L[0]\n",
    "position=1\n",
    "count=1\n",
    "score=[1]\n",
    "while(position<len(L)):\n",
    "    if L[position]==lastE:\n",
    "        score[len(score)-1]=score[len(score)-1]+1\n",
    "    else:\n",
    "        lastE=L[position]\n",
    "        score.append(1)\n",
    "    #print L[position]\n",
    "    position=position+1\n",
    "print score\n",
    "fitness=0\n",
    "for i in range(len(score)-1):\n",
    "    if score[i]==score[i+1]:\n",
    "        fitness=fitness+score[i]+score[i+1]\n",
    "print fitness"
   ]
  },
  {
   "cell_type": "code",
   "execution_count": null,
   "metadata": {
    "collapsed": true
   },
   "outputs": [],
   "source": []
  }
 ],
 "metadata": {
  "kernelspec": {
   "display_name": "Python 2",
   "language": "python",
   "name": "python2"
  },
  "language_info": {
   "codemirror_mode": {
    "name": "ipython",
    "version": 2
   },
   "file_extension": ".py",
   "mimetype": "text/x-python",
   "name": "python",
   "nbconvert_exporter": "python",
   "pygments_lexer": "ipython2",
   "version": "2.7.10"
  }
 },
 "nbformat": 4,
 "nbformat_minor": 0
}
