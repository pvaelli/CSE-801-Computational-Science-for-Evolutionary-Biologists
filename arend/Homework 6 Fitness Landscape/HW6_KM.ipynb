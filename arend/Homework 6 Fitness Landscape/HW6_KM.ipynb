{
 "cells": [
  {
   "cell_type": "markdown",
   "metadata": {},
   "source": []
  },
  {
   "cell_type": "markdown",
   "metadata": {},
   "source": [
    "### Homework 6 \n",
    " Option A \n",
    " \n",
    "**** Still in progress; trying to get every trial run of 'N' to plot together. Seems like it should just work the way I did it.. but I am clearly missing something. \n",
    "\n",
    "**** Without the extra for loop to run different options for 'N'; increasing N values created situations where the mean fit never achieved high fit--possibly getting stuck in local maximums. \n",
    "    "
   ]
  },
  {
   "cell_type": "code",
   "execution_count": 39,
   "metadata": {
    "collapsed": false
   },
   "outputs": [
    {
     "name": "stdout",
     "output_type": "stream",
     "text": [
      "Populating the interactive namespace from numpy and matplotlib\n"
     ]
    },
    {
     "name": "stderr",
     "output_type": "stream",
     "text": [
      "WARNING: pylab import has clobbered these variables: ['random', 'datetime', 'load', 'save', 'unique', 'who', 'info']\n",
      "`%matplotlib` prevents importing * from pylab and numpy\n"
     ]
    }
   ],
   "source": [
    "%pylab inline"
   ]
  },
  {
   "cell_type": "code",
   "execution_count": 40,
   "metadata": {
    "collapsed": true
   },
   "outputs": [],
   "source": [
    "from pandas import *\n",
    "import random"
   ]
  },
  {
   "cell_type": "code",
   "execution_count": null,
   "metadata": {
    "collapsed": false
   },
   "outputs": [],
   "source": [
    "\n"
   ]
  },
  {
   "cell_type": "code",
   "execution_count": 41,
   "metadata": {
    "collapsed": false
   },
   "outputs": [
    {
     "name": "stdout",
     "output_type": "stream",
     "text": [
      "[[0, 1, 1, 1, 1], [0, 1, 0, 1, 0], [0, 0, 0, 1, 0], [0, 1, 1, 1, 0], [1, 0, 0, 0, 1], [0, 1, 1, 1, 0], [0, 0, 1, 1, 1], [0, 1, 1, 1, 1], [1, 1, 1, 0, 0], [0, 1, 1, 0, 1]]\n"
     ]
    }
   ],
   "source": [
    "def makePopulation(N,popSize):\n",
    "    population=list()\n",
    "    for p in range(popSize):\n",
    "        genome=list()\n",
    "        for n in range(N):\n",
    "            genome.append(random.randint(0,1))\n",
    "        population.append(genome)\n",
    "    return population\n",
    "\n",
    "print makePopulation(5,10)\n",
    "\n"
   ]
  },
  {
   "cell_type": "code",
   "execution_count": null,
   "metadata": {
    "collapsed": true
   },
   "outputs": [],
   "source": []
  },
  {
   "cell_type": "code",
   "execution_count": 54,
   "metadata": {
    "collapsed": false
   },
   "outputs": [
    {
     "name": "stdout",
     "output_type": "stream",
     "text": [
      "0.75\n"
     ]
    }
   ],
   "source": [
    "def computeFitness(genome):\n",
    "    fitness=sum(genome)/float(len(genome))\n",
    "    return fitness\n",
    "print computeFitness([1,0,1,1])"
   ]
  },
  {
   "cell_type": "code",
   "execution_count": null,
   "metadata": {
    "collapsed": true
   },
   "outputs": [],
   "source": []
  },
  {
   "cell_type": "code",
   "execution_count": 45,
   "metadata": {
    "collapsed": false
   },
   "outputs": [
    {
     "name": "stdout",
     "output_type": "stream",
     "text": [
      "[0, 0, 0, 1, 0]\n",
      "[0, 0, 0, 0, 0]\n",
      "[0, 0, 1, 0, 0]\n",
      "[1, 0, 0, 0, 0]\n",
      "[0, 0, 0, 0, 0]\n",
      "[1, 0, 0, 0, 0]\n",
      "[0, 0, 1, 0, 0]\n",
      "[1, 0, 0, 0, 0]\n",
      "[1, 0, 0, 1, 0]\n",
      "[0, 1, 0, 1, 0]\n"
     ]
    }
   ],
   "source": [
    "def makeMutant(genome,mutationRate):\n",
    "    newGenome=list()\n",
    "    for i in range(len(genome)):\n",
    "        if random.uniform(0.0,1.0)<mutationRate:\n",
    "            newGenome.append(1-genome[i])\n",
    "        else:\n",
    "            newGenome.append(genome[i])\n",
    "    return newGenome\n",
    "\n",
    "random.seed(0)\n",
    "\n",
    "for i in range(10):\n",
    "    print makeMutant([0,0,0,0,0],0.3)"
   ]
  },
  {
   "cell_type": "code",
   "execution_count": 146,
   "metadata": {
    "collapsed": false,
    "scrolled": false
   },
   "outputs": [
    {
     "data": {
      "image/png": "[encoded data removed]",
      "text/plain": [
       "<matplotlib.figure.Figure at 0x10d9adc90>"
      ]
     },
     "metadata": {},
     "output_type": "display_data"
    }
   ],
   "source": [
    "random.seed(0)\n",
    "# this run is to get it to plot my different 'N' runs together..\n",
    "#create a population\n",
    "popSize=100\n",
    "population=makePopulation(N,popSize)\n",
    "generations=5\n",
    "mutationRate=0.01\n",
    "meanW=list()\n",
    "maxW=list()\n",
    "\n",
    "\n",
    "Round=[12,50,100,1000]\n",
    "for i in range(len(Round)):\n",
    "    PmeanW=list()\n",
    "    PmaxW=list()\n",
    "    N=Round[i]\n",
    "    for generation in range(generations):\n",
    "        W=list()\n",
    "        for i in range(len(population)):\n",
    "            W.append(computeFitness(population[i]))\n",
    "\n",
    "\n",
    "        nextGeneration=list()\n",
    "        meanW.append(mean(W))\n",
    "        highestFitness=max(W)\n",
    "        maxW.append(highestFitness)\n",
    "\n",
    "        while len(nextGeneration)<popSize:\n",
    "            who=random.randint(0,popSize-1)\n",
    "            while (random.uniform(0.0,1.0)>(W[who]/highestFitness)):\n",
    "                who=random.randint(0,popSize-1)\n",
    "            nextGeneration.append(makeMutant(population[who],mutationRate))\n",
    "        population=list(nextGeneration)\n",
    "        PmeanW.append(meanW)\n",
    "        PmaxW.append(maxW)\n",
    "    plot(PmeanW)\n",
    "    plot(PmaxW)"
   ]
  },
  {
   "cell_type": "code",
   "execution_count": null,
   "metadata": {
    "collapsed": false
   },
   "outputs": [],
   "source": []
  },
  {
   "cell_type": "code",
   "execution_count": null,
   "metadata": {
    "collapsed": false
   },
   "outputs": [],
   "source": []
  },
  {
   "cell_type": "code",
   "execution_count": null,
   "metadata": {
    "collapsed": false
   },
   "outputs": [],
   "source": [
    "random.seed(0)\n",
    "\n",
    "#create a population\n",
    "N=50\n",
    "popSize=10\n",
    "population=makePopulation(N,popSize)\n",
    "generations=50\n",
    "mutationRate=0.01\n",
    "meanW=list()\n",
    "maxW=list()\n",
    "\n",
    "\n",
    "for generation in range(generations):\n",
    "        W=list()\n",
    "        for i in range(len(population)):\n",
    "            W.append(computeFitness(population[i]))\n",
    "\n",
    "\n",
    "        nextGeneration=list()\n",
    "        meanW.append(mean(W))\n",
    "        highestFitness=max(W)\n",
    "        maxW.append(highestFitness)\n",
    "\n",
    "        while len(nextGeneration)<popSize:\n",
    "            who=random.randint(0,popSize-1)\n",
    "            while (random.uniform(0.0,1.0)>(W[who]/highestFitness)):\n",
    "                who=random.randint(0,popSize-1)\n",
    "            nextGeneration.append(makeMutant(population[who],mutationRate))\n",
    "        population=list(nextGeneration)\n",
    "plot(meanW,\"g\")\n",
    "plot(maxW, \"r\")\n",
    "print population"
   ]
  }
 ],
 "metadata": {
  "kernelspec": {
   "display_name": "Python 2",
   "language": "python",
   "name": "python2"
  },
  "language_info": {
   "codemirror_mode": {
    "name": "ipython",
    "version": 2
   },
   "file_extension": ".py",
   "mimetype": "text/x-python",
   "name": "python",
   "nbconvert_exporter": "python",
   "pygments_lexer": "ipython2",
   "version": "2.7.10"
  }
 },
 "nbformat": 4,
 "nbformat_minor": 0
}
