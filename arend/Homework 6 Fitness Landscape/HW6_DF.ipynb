{
 "cells": [
  {
   "cell_type": "markdown",
   "metadata": {},
   "source": [
    "This is option b:"
   ]
  },
  {
   "cell_type": "code",
   "execution_count": 1,
   "metadata": {
    "collapsed": false
   },
   "outputs": [
    {
     "name": "stdout",
     "output_type": "stream",
     "text": [
      "Populating the interactive namespace from numpy and matplotlib\n"
     ]
    }
   ],
   "source": [
    "%pylab inline"
   ]
  },
  {
   "cell_type": "code",
   "execution_count": 2,
   "metadata": {
    "collapsed": true
   },
   "outputs": [],
   "source": [
    "from pandas import *\n",
    "import random"
   ]
  },
  {
   "cell_type": "code",
   "execution_count": 3,
   "metadata": {
    "collapsed": false
   },
   "outputs": [
    {
     "name": "stdout",
     "output_type": "stream",
     "text": [
      "[[0.51, 0.07, 0.78, 0.89], [0.81, 0.87, 0.11, 0.05], [0.23, 0.91, 0.91, 0.77], [0.66, 0.73, 0.07, 0.9], [0.59, 0.3, 0.17, 0.39]]\n"
     ]
    }
   ],
   "source": [
    "def makeNKTable(N,K):\n",
    "    NKTable=list()\n",
    "    for n in range(N):\n",
    "        L=list()\n",
    "        for i in range(2**K):\n",
    "            L.append(round(random.uniform(0.0,1.0),2))\n",
    "        NKTable.append(L)\n",
    "    return NKTable\n",
    "\n",
    "print makeNKTable(5,2)"
   ]
  },
  {
   "cell_type": "code",
   "execution_count": 4,
   "metadata": {
    "collapsed": false
   },
   "outputs": [
    {
     "name": "stdout",
     "output_type": "stream",
     "text": [
      "[[1, 0, 0, 1, 1], [0, 0, 0, 1, 1], [1, 1, 0, 1, 1], [0, 0, 0, 1, 1], [1, 0, 0, 0, 1], [0, 0, 0, 0, 1], [1, 0, 0, 0, 1], [1, 1, 0, 1, 1], [0, 1, 0, 0, 0], [1, 0, 1, 0, 1]]\n"
     ]
    }
   ],
   "source": [
    "def makePopulation(N,popSize):\n",
    "    population=list()\n",
    "    for p in range(popSize):\n",
    "        genome=list()\n",
    "        for n in range(N):\n",
    "            genome.append(random.randint(0,1))\n",
    "        population.append(genome)\n",
    "    return population\n",
    "\n",
    "print makePopulation(5,10)"
   ]
  },
  {
   "cell_type": "code",
   "execution_count": 5,
   "metadata": {
    "collapsed": false
   },
   "outputs": [
    {
     "name": "stdout",
     "output_type": "stream",
     "text": [
      "10\n"
     ]
    }
   ],
   "source": [
    "def computeFitness(genome):\n",
    "    Z=list()\n",
    "    placeHolder=0\n",
    "    for n in range(len(genome)-1):\n",
    "        if genome[n]==genome[n+1]:\n",
    "            placeHolder=placeHolder+1\n",
    "        else:\n",
    "            placeHolder=placeHolder+1\n",
    "            Z.append(placeHolder)\n",
    "            placeHolder=0\n",
    "        #if it's the last number in the list, make sure to include it\n",
    "        if n==(len(genome)-2):\n",
    "            placeHolder=placeHolder+1\n",
    "            Z.append(placeHolder)\n",
    "            placeHolder=0\n",
    "    fitness=0\n",
    "    for j in range(len(Z)-1):\n",
    "        if Z[j]==Z[j+1]:\n",
    "            fitness=fitness+Z[j]\n",
    "        if j>0 and Z[j]==Z[j+1] and Z[j]!=Z[j-1]:\n",
    "            fitness=fitness+Z[j+1]\n",
    "        if j>0 and Z[j]!=Z[j+1] and Z[j]==Z[j-1]:\n",
    "            fitness=fitness+Z[j]\n",
    "        if j==len(Z)-2 and Z[j]==Z[j+1]:\n",
    "            fitness=fitness+Z[j+1]\n",
    "    return fitness\n",
    "\n",
    "random.seed(0)\n",
    "N=4\n",
    "K=3\n",
    "print computeFitness([1,1,0,0,1,1,0,0,1,1])"
   ]
  },
  {
   "cell_type": "code",
   "execution_count": 6,
   "metadata": {
    "collapsed": false
   },
   "outputs": [
    {
     "name": "stdout",
     "output_type": "stream",
     "text": [
      "[0, 0, 0, 1, 0]\n",
      "[0, 0, 0, 0, 0]\n",
      "[0, 0, 1, 0, 0]\n",
      "[1, 0, 0, 0, 0]\n",
      "[0, 0, 0, 0, 0]\n",
      "[1, 0, 0, 0, 0]\n",
      "[0, 0, 1, 0, 0]\n",
      "[1, 0, 0, 0, 0]\n",
      "[1, 0, 0, 1, 0]\n",
      "[0, 1, 0, 1, 0]\n"
     ]
    }
   ],
   "source": [
    "def makeMutant(genome,mutationRate):\n",
    "    newGenome=list()\n",
    "    for i in range(len(genome)):\n",
    "        if random.uniform(0.0,1.0)<mutationRate:\n",
    "            newGenome.append(1-genome[i])\n",
    "        else:\n",
    "            newGenome.append(genome[i])\n",
    "    return newGenome\n",
    "\n",
    "random.seed(0)\n",
    "\n",
    "for i in range(10):\n",
    "    print makeMutant([0,0,0,0,0],0.3)"
   ]
  },
  {
   "cell_type": "code",
   "execution_count": 7,
   "metadata": {
    "collapsed": false
   },
   "outputs": [
    {
     "data": {
      "text/plain": [
       "[<matplotlib.lines.Line2D at 0x1070157d0>]"
      ]
     },
     "execution_count": 7,
     "metadata": {},
     "output_type": "execute_result"
    },
    {
     "data": {
      "image/png": "[encoded data removed]",
      "text/plain": [
       "<matplotlib.figure.Figure at 0x10604efd0>"
      ]
     },
     "metadata": {},
     "output_type": "display_data"
    }
   ],
   "source": [
    "random.seed(0)\n",
    "\n",
    "#create a population\n",
    "N=100\n",
    "K=5\n",
    "popSize=100\n",
    "population=makePopulation(N,popSize)\n",
    "currentNKTable=makeNKTable(N,K)\n",
    "generations=500\n",
    "mutationRate=0.01\n",
    "\n",
    "meanW=list()\n",
    "maxW=list()\n",
    "    \n",
    "for generation in range(generations):\n",
    "    W=list()\n",
    "    for i in range(len(population)):\n",
    "        W.append(computeFitness(population[i]))\n",
    "    \n",
    "    \n",
    "    nextGeneration=list()\n",
    "    meanW.append(mean(W))\n",
    "    highestFitness=max(W)\n",
    "    maxW.append(highestFitness)\n",
    "    \n",
    "    while len(nextGeneration)<popSize:\n",
    "        who=random.randint(0,popSize-1)\n",
    "        while (random.uniform(0.0,1.0)>(W[who]/highestFitness)):\n",
    "            who=random.randint(0,popSize-1)\n",
    "        nextGeneration.append(makeMutant(population[who],mutationRate))\n",
    "    population=list(nextGeneration)\n",
    "\n",
    "plot(meanW,'g')\n",
    "plot(maxW,'r')"
   ]
  },
  {
   "cell_type": "code",
   "execution_count": null,
   "metadata": {
    "collapsed": true
   },
   "outputs": [],
   "source": []
  }
 ],
 "metadata": {
  "kernelspec": {
   "display_name": "Python 2",
   "language": "python",
   "name": "python2"
  },
  "language_info": {
   "codemirror_mode": {
    "name": "ipython",
    "version": 2
   },
   "file_extension": ".py",
   "mimetype": "text/x-python",
   "name": "python",
   "nbconvert_exporter": "python",
   "pygments_lexer": "ipython2",
   "version": "2.7.10"
  }
 },
 "nbformat": 4,
 "nbformat_minor": 0
}
