{
 "cells": [
  {
   "cell_type": "markdown",
   "metadata": {},
   "source": [
    "Option A - I keep getting an endless loop. I will continue to trouble shoot this not sure what I did wrong\n",
    "\n",
    "I wanted to make sure I submitted something... "
   ]
  },
  {
   "cell_type": "code",
   "execution_count": 2,
   "metadata": {
    "collapsed": false
   },
   "outputs": [
    {
     "name": "stdout",
     "output_type": "stream",
     "text": [
      "Populating the interactive namespace from numpy and matplotlib\n"
     ]
    }
   ],
   "source": [
    "%pylab inline"
   ]
  },
  {
   "cell_type": "code",
   "execution_count": 3,
   "metadata": {
    "collapsed": false
   },
   "outputs": [],
   "source": [
    "from pandas import *\n",
    "import random"
   ]
  },
  {
   "cell_type": "code",
   "execution_count": 4,
   "metadata": {
    "collapsed": false
   },
   "outputs": [
    {
     "name": "stdout",
     "output_type": "stream",
     "text": [
      "[[0, 1, 1, 0, 1], [0, 0, 0, 1, 1], [1, 1, 0, 0, 0], [0, 0, 0, 0, 1], [0, 1, 1, 0, 1], [0, 1, 0, 0, 0], [1, 1, 1, 0, 0], [0, 0, 0, 1, 1], [0, 1, 1, 0, 1], [0, 1, 0, 1, 0]]\n"
     ]
    }
   ],
   "source": [
    "def make_population(N,pop_size):\n",
    "    population=list()\n",
    "    for p in range(pop_size):\n",
    "        genome=list()\n",
    "        for n in range(N):\n",
    "            genome.append(random.randint(0,1))\n",
    "        population.append(genome)\n",
    "    return population\n",
    "\n",
    "my_population= make_population(5,10)\n",
    "print my_population"
   ]
  },
  {
   "cell_type": "code",
   "execution_count": 5,
   "metadata": {
    "collapsed": false
   },
   "outputs": [
    {
     "name": "stdout",
     "output_type": "stream",
     "text": [
      "2\n"
     ]
    }
   ],
   "source": [
    "N=5 \n",
    "pop_size = 10\n",
    "n=0\n",
    "def compute_fitness(pop):\n",
    "    for p in range (len(pop)):\n",
    "        fitness=sum(pop[p])\n",
    "    return fitness\n",
    "\n",
    "my_fitness = compute_fitness(my_population)\n",
    "print my_fitness"
   ]
  },
  {
   "cell_type": "code",
   "execution_count": 6,
   "metadata": {
    "collapsed": false
   },
   "outputs": [
    {
     "name": "stdout",
     "output_type": "stream",
     "text": [
      "[1, 0, 0, 0, 0]\n",
      "[1, 0, 0, 0, 1]\n",
      "[1, 0, 0, 1, 0]\n",
      "[0, 0, 0, 0, 0]\n",
      "[0, 0, 0, 0, 1]\n",
      "[0, 0, 0, 1, 1]\n",
      "[0, 1, 0, 0, 0]\n",
      "[0, 0, 0, 1, 0]\n",
      "[0, 0, 0, 1, 0]\n",
      "[0, 1, 0, 0, 1]\n"
     ]
    }
   ],
   "source": [
    "def make_mutant(genome,mutation_rate):\n",
    "    newGenome=list()\n",
    "    for i in range(len(genome)):\n",
    "        if random.uniform(0.0,1.0)<mutation_rate:\n",
    "            newGenome.append(1-genome[i])\n",
    "        else:\n",
    "            newGenome.append(genome[i])\n",
    "    return newGenome\n",
    "\n",
    "for i in range(10):\n",
    "    print make_mutant([0,0,0,0,0],0.3)"
   ]
  },
  {
   "cell_type": "code",
   "execution_count": null,
   "metadata": {
    "collapsed": true
   },
   "outputs": [],
   "source": []
  },
  {
   "cell_type": "code",
   "execution_count": 11,
   "metadata": {
    "collapsed": false
   },
   "outputs": [
    {
     "data": {
      "text/plain": [
       "[<matplotlib.lines.Line2D at 0x105d40f50>]"
      ]
     },
     "execution_count": 11,
     "metadata": {},
     "output_type": "execute_result"
    },
    {
     "data": {
      "image/png": "[encoded data removed]",
      "text/plain": [
       "<matplotlib.figure.Figure at 0x102c52b90>"
      ]
     },
     "metadata": {},
     "output_type": "display_data"
    }
   ],
   "source": [
    "#create a population\n",
    "N=12\n",
    "pop_size=100\n",
    "population=make_population(N,pop_size)\n",
    "generations=100\n",
    "mutation_rate=0.01\n",
    "\n",
    "meanW=list()\n",
    "maxW=list()\n",
    "    \n",
    "for generation in range(generations):\n",
    "    W=list()\n",
    "    for i in range(len(population)):\n",
    "        W.append(compute_fitness(population[i])) #AH: <- population[i] is needed to set an individual (you missed the [i])\n",
    "    \n",
    "    \n",
    "    next_generation=list()\n",
    "    meanW.append(mean(W))\n",
    "    highest_fitness=max(W)\n",
    "    maxW.append(highest_fitness)\n",
    "    \n",
    "    while len(next_generation)<pop_size:\n",
    "        who=random.randint(0,pop_size-1)\n",
    "        while (random.uniform(0.0,1.0)>(W[who]/highest_fitness)):\n",
    "            who=random.randint(0,pop_size-1)\n",
    "        next_generation.append(make_mutant(population[who],mutation_rate))\n",
    "    population=list(next_generation)\n",
    "\n",
    "plot(meanW,'g')\n",
    "plot(maxW,'r')"
   ]
  },
  {
   "cell_type": "code",
   "execution_count": 10,
   "metadata": {
    "collapsed": false
   },
   "outputs": [
    {
     "name": "stdout",
     "output_type": "stream",
     "text": [
      "497\n"
     ]
    }
   ],
   "source": [
    "len(W)\n",
    "print generation"
   ]
  },
  {
   "cell_type": "code",
   "execution_count": null,
   "metadata": {
    "collapsed": true
   },
   "outputs": [],
   "source": []
  }
 ],
 "metadata": {
  "kernelspec": {
   "display_name": "Python 2",
   "language": "python",
   "name": "python2"
  },
  "language_info": {
   "codemirror_mode": {
    "name": "ipython",
    "version": 2
   },
   "file_extension": ".py",
   "mimetype": "text/x-python",
   "name": "python",
   "nbconvert_exporter": "python",
   "pygments_lexer": "ipython2",
   "version": "2.7.10"
  }
 },
 "nbformat": 4,
 "nbformat_minor": 0
}
