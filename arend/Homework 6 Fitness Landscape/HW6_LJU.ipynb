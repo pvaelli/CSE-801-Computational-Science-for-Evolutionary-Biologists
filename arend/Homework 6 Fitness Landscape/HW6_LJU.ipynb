{
 "cells": [
  {
   "cell_type": "code",
   "execution_count": 1,
   "metadata": {
    "collapsed": false
   },
   "outputs": [
    {
     "name": "stdout",
     "output_type": "stream",
     "text": [
      "Populating the interactive namespace from numpy and matplotlib\n"
     ]
    }
   ],
   "source": [
    "%pylab inline"
   ]
  },
  {
   "cell_type": "code",
   "execution_count": 2,
   "metadata": {
    "collapsed": true
   },
   "outputs": [],
   "source": [
    "from pandas import*\n",
    "import random "
   ]
  },
  {
   "cell_type": "code",
   "execution_count": null,
   "metadata": {
    "collapsed": true
   },
   "outputs": [],
   "source": [
    "#HOMEWORK:\n",
    "#0,1,0,0,0,1,1\n",
    "#ex.1 fitness is the sum of these things instead of a fitness landscape \n",
    "#i.e. string full of 1s is the  best solution \n",
    "#when n is large can you get to 100% 1s\n",
    "#how long can genomes become? "
   ]
  },
  {
   "cell_type": "code",
   "execution_count": 12,
   "metadata": {
    "collapsed": false
   },
   "outputs": [
    {
     "name": "stdout",
     "output_type": "stream",
     "text": [
      "[[1, 1, 1, 0, 1], [1, 1, 0, 0, 1], [0, 1, 0, 1, 1], [1, 0, 1, 1, 0], [0, 1, 0, 0, 0], [1, 0, 0, 0, 0], [1, 1, 1, 0, 0], [1, 0, 1, 0, 1], [1, 1, 0, 0, 0], [0, 0, 0, 0, 1]]\n"
     ]
    }
   ],
   "source": [
    "def makePopulation(N,popsize):\n",
    "    population=list()\n",
    "    for p in range (popsize):\n",
    "        genome=list()\n",
    "        for n in range(N):\n",
    "            genome.append(random.randint(0,1))\n",
    "        population.append(genome)\n",
    "    return population\n",
    "\n",
    "print makePopulation(5,10)"
   ]
  },
  {
   "cell_type": "code",
   "execution_count": 13,
   "metadata": {
    "collapsed": false
   },
   "outputs": [
    {
     "data": {
      "text/plain": [
       "4"
      ]
     },
     "execution_count": 13,
     "metadata": {},
     "output_type": "execute_result"
    }
   ],
   "source": [
    "def computeFitness(genome):\n",
    "    return sum(genome)\n",
    "        \n",
    "\n",
    "#so this function basically uses the double or triple digit combo \n",
    "#and the genome spot (n column index) to find the fitness value\n",
    "#by converting the series of 0s and 1s into a single digit binary number\n",
    "#that will refer to the single digit index within the column \n",
    "#then you take all the 4 fitnesses and multiple them and the root of them\n",
    "\n",
    "computeFitness([1,1,1,1])"
   ]
  },
  {
   "cell_type": "code",
   "execution_count": 14,
   "metadata": {
    "collapsed": false
   },
   "outputs": [],
   "source": [
    "def makeMutant(genome, mutationRate):\n",
    "    newGenome=list()\n",
    "    for i in range(len(genome)):\n",
    "        if random.uniform(0.0,1.0)<mutationRate:\n",
    "            newGenome.append(1-genome[i])\n",
    "        else:\n",
    "            newGenome.append(genome[i])\n",
    "    return newGenome"
   ]
  },
  {
   "cell_type": "code",
   "execution_count": 70,
   "metadata": {
    "collapsed": false
   },
   "outputs": [
    {
     "name": "stdout",
     "output_type": "stream",
     "text": [
      "[[2, 2, 2, 2, 2, 2, 2, 2, 2, 2, 2, 2, 2, 2, 2, 2, 2, 2, 2, 2, 2, 2, 2, 2, 2, 2, 2, 2, 2, 2, 2, 2, 2, 2, 2, 2, 2, 2, 2, 2, 2, 2, 2, 2, 2, 2, 2, 2, 2, 2, 2, 2, 2, 2, 2, 2, 2, 2, 2, 2, 2, 2, 2, 2, 2, 2, 2, 2, 2, 2, 2, 2, 2, 2, 2, 2, 2, 2, 2, 2, 2, 2, 2, 2, 2, 2, 2, 2, 2, 2, 2, 2, 2, 2, 2, 2, 2, 2, 2, 2], [1.1499999999999999, 1.98, 1.99, 1.99, 1.98, 1.99, 1.9399999999999999, 1.99, 1.96, 1.98, 1.97, 1.98, 1.99, 1.95, 1.98, 1.99, 2.0, 1.99, 1.98, 1.98, 1.99, 1.97, 1.96, 1.96, 1.97, 1.99, 1.99, 1.99, 1.96, 1.98, 2.0, 1.98, 1.97, 1.96, 1.97, 1.98, 1.99, 2.0, 1.98, 1.95, 1.98, 1.96, 1.97, 1.97, 1.96, 1.98, 1.99, 1.96, 1.99, 1.98, 1.97, 2.0, 1.98, 1.99, 1.99, 2.0, 1.98, 1.9399999999999999, 1.98, 2.0, 1.98, 1.99, 1.98, 1.99, 1.99, 1.96, 1.95, 1.98, 2.0, 1.98, 2.0, 1.98, 1.97, 1.9399999999999999, 1.99, 1.95, 1.98, 2.0, 1.98, 1.99, 1.97, 1.96, 1.99, 1.98, 1.99, 1.99, 1.97, 1.97, 1.98, 1.97, 1.98, 1.98, 2.0, 2.0, 1.98, 1.97, 1.98, 1.98, 1.99, 1.95]]\n",
      "2\n",
      "2\n"
     ]
    },
    {
     "data": {
      "text/plain": [
       "2.0"
      ]
     },
     "execution_count": 70,
     "metadata": {},
     "output_type": "execute_result"
    }
   ],
   "source": [
    "def findfitness (N, popSize,generations, mutationRate):\n",
    "\n",
    "    population=makePopulation(N,popSize)\n",
    "    meanW=list()\n",
    "    maxW=list()\n",
    "\n",
    "    for generation in range(generations):\n",
    "        W=list()\n",
    "        for i in range(len(population)):\n",
    "            W.append(computeFitness(population[i]))\n",
    "\n",
    "        nextGeneration=list()\n",
    "        meanW.append(mean(W))\n",
    "        highestFitness=max(W)\n",
    "        maxW.append(highestFitness)\n",
    "   \n",
    "        while len(nextGeneration)<popSize: \n",
    "            who=random.randint(0,popSize-1)\n",
    "            while (random.uniform(0.0,1.0)>(W[who]/highestFitness)):\n",
    "                who=random.randint(0,popSize-1)\n",
    "        #nextGeneration.append(population[who])\n",
    "            nextGeneration.append(makeMutant(population[who],mutationRate))\n",
    "        population=list(nextGeneration)\n",
    "    plotinfo = [maxW,meanW]  \n",
    "    return plotinfo #plot info 0 is the maxW an organism in that generation achieved\n",
    "    \n",
    "test=findfitness(2,popSize,100,mutationRate)\n",
    "print test\n",
    "print int(test[0][99])\n",
    "print int(round(test[1][99]))\n",
    "\n",
    "mean(test[0])"
   ]
  },
  {
   "cell_type": "code",
   "execution_count": 72,
   "metadata": {
    "collapsed": false
   },
   "outputs": [
    {
     "name": "stdout",
     "output_type": "stream",
     "text": [
      "0max fitness achieved\n",
      "1max fitness achieved\n",
      "2max fitness achieved\n",
      "3max fitness achieved\n",
      "4max fitness achieved\n",
      "5max fitness achieved\n",
      "6max fitness achieved\n",
      "7max fitness achieved\n",
      "8max fitness achieved\n",
      "9max fitness achieved\n",
      "10max fitness achieved\n",
      "11max fitness achieved\n",
      "12max fitness achieved\n",
      "13max fitness achieved\n",
      "14max fitness achieved\n",
      "15max fitness achieved\n",
      "16max fitness achieved\n",
      "17max fitness achieved\n",
      "18max fitness achieved\n",
      "19max fitness achieved\n"
     ]
    }
   ],
   "source": [
    "#testing code \n",
    "\n",
    "popSize=100\n",
    "generations=100\n",
    "mutationRate=0.01\n",
    "\n",
    "for i in range(20):\n",
    "    dfitness = findfitness(i,popSize,generations,mutationRate)\n",
    "    convergence = round(mean(dfitness[0][89:100]))\n",
    "    if int(convergence)!=int(i):\n",
    "        print \"Maximum fitness could not be achieved with genome size\" + str(i)\n",
    "    else:\n",
    "        print str(i) + \"max fitness achieved\"\n",
    " \n",
    "    "
   ]
  },
  {
   "cell_type": "code",
   "execution_count": 83,
   "metadata": {
    "collapsed": false
   },
   "outputs": [
    {
     "name": "stdout",
     "output_type": "stream",
     "text": [
      "[0, 1, 2, 3, 4, 5, 6, 7, 8, 9, 10, 11, 12, 13, 14, 15, 16, 17, 18, 19, 20, 21, 22, 23, 24, 25, 26, 27, 28, 29, 30, 31, 32, 33, 34, 35, 36, 37, 38, 39, 40, 41, 42, 43, 44, 45, 46, 47, 48, 49, 50, 51, 52, 53, 54, 55, 56, 57, 58, 59, 60, 61, 62, 63, 64, 65, 66, 67, 68, 69, 70, 71, 72, 73, 74, 75, 76, 77, 78, 79, 80, 81, 82, 83, 84, 85, 86, 87, 88, 89, 90, 91, 92, 93, 94, 95, 96, 97, 98, 99, 100, 101, 102, 103, 104, 105, 106, 107, 108, 109, 110, 111, 112, 113, 114, 115, 116, 117, 118, 119, 120, 121, 122, 123, 124, 125, 126, 127, 128, 129, 130, 131, 132, 133, 134, 135, 136, 137, 138, 139, 140, 141, 142, 143, 144, 145, 146, 147, 148, 149, 150, 151, 152, 153, 154, 156, 157, 158, 159, 160, 161, 162, 164, 167, 169, 170, 171, 172, 174, 181]\n",
      "[155, 163, 165, 166, 168, 173, 175, 176, 177, 178, 179, 180, 182, 183, 184, 185, 186, 187, 188, 189, 190, 191, 192, 193, 194, 195, 196, 197, 198, 199, 200, 201, 202, 203, 204, 205, 206, 207, 208, 209, 210, 211, 212, 213, 214, 215, 216, 217, 218, 219, 220, 221, 222, 223, 224, 225, 226, 227, 228, 229, 230, 231, 232, 233, 234, 235, 236, 237, 238, 239, 240, 241, 242, 243, 244, 245, 246, 247, 248, 249, 250, 251, 252, 253, 254, 255, 256, 257, 258, 259, 260, 261, 262, 263, 264, 265, 266, 267, 268, 269, 270, 271, 272, 273, 274, 275, 276, 277, 278, 279, 280, 281, 282, 283, 284, 285, 286, 287, 288, 289, 290, 291, 292, 293, 294, 295, 296, 297, 298, 299, 300]\n"
     ]
    }
   ],
   "source": [
    "#SOLUTION: HOW MANY GENES IS TOO MANY TO REACH MAX FITNESS?? \n",
    "popSize=100\n",
    "generations=100\n",
    "mutationRate=0.02\n",
    "maxtest=300 #maximum length of genome to use in the test\n",
    "\n",
    "success=list()\n",
    "failure=list()\n",
    "for i in range(maxtest+1):\n",
    "    dfitness = findfitness(i,popSize,generations,mutationRate)\n",
    "    end=generations-10\n",
    "    convergence = round(mean(dfitness[0][end:generations])) \n",
    "    #take the mean max fitness of the last ten generations as an indication of convergence\n",
    "    if int(convergence)!=int(i): #max fitness should be equal to i \n",
    "        failure.append(i)\n",
    "    else:\n",
    "        success.append(i)\n",
    "#success[len(success)-1] #print the last time max fitness was achieved \n",
    "#failure[0] #print the first time max fitness was not achieved  \n",
    "print \"Genomes become too big to reach max fitness between {0} and {1} genes with a population size of {2} and a mutation rate of {3} in {4} generations.\".format(failure[0],success[len(success)-1],popSize,mutationRate,generations)\n",
    "\n",
    "#find some way to not need a max number of genes to look through and simply stop the first time max fitness is reached"
   ]
  },
  {
   "cell_type": "code",
   "execution_count": 87,
   "metadata": {
    "collapsed": false
   },
   "outputs": [
    {
     "name": "stdout",
     "output_type": "stream",
     "text": [
      "181\n",
      "155\n",
      "Genomes become too big to reach max fitness between 155 and 181 genes with a population size of 100 and a mutation rate of 0.02 in 100 generations.\n"
     ]
    }
   ],
   "source": [
    "#success[len(success)-1] #print the last time max fitness was achieved \n",
    "#failure[0] #print the first time max fitness was not achieved  \n",
    "print \"Genomes become too big to reach max fitness between {0} and {1} genes with a population size of {2} and a mutation rate of {3} in {4} generations.\".format(failure[0],success[len(success)-1],popSize,mutationRate,generations) "
   ]
  },
  {
   "cell_type": "code",
   "execution_count": 81,
   "metadata": {
    "collapsed": false
   },
   "outputs": [
    {
     "data": {
      "image/png": "[encoded data removed]",
      "text/plain": [
       "<matplotlib.figure.Figure at 0x10777c8d0>"
      ]
     },
     "metadata": {},
     "output_type": "display_data"
    },
    {
     "data": {
      "image/png": "[encoded data removed]",
      "text/plain": [
       "<matplotlib.figure.Figure at 0x108711c10>"
      ]
     },
     "metadata": {},
     "output_type": "display_data"
    },
    {
     "data": {
      "image/png": "[encoded data removed]",
      "text/plain": [
       "<matplotlib.figure.Figure at 0x108538990>"
      ]
     },
     "metadata": {},
     "output_type": "display_data"
    },
    {
     "data": {
      "image/png": "[encoded data removed]",
      "text/plain": [
       "<matplotlib.figure.Figure at 0x1092a3290>"
      ]
     },
     "metadata": {},
     "output_type": "display_data"
    }
   ],
   "source": [
    "popSize=100\n",
    "generations=100\n",
    "mutationRate=0.02\n",
    "\n",
    "genomes=[100,200,300,400]\n",
    "for i in genomes: \n",
    "    dfitness = plotfitness(i,popSize,generations,mutationRate)\n",
    "    figure()\n",
    "    title(str(i))\n",
    "    plot(dfitness[0], 'r') #max fitness\n",
    "    plot(dfitness[1], 'g') #mean fitness\n",
    "    ymax = i + 1\n",
    "    ylim(0,ymax)"
   ]
  },
  {
   "cell_type": "code",
   "execution_count": null,
   "metadata": {
    "collapsed": true
   },
   "outputs": [],
   "source": []
  }
 ],
 "metadata": {
  "kernelspec": {
   "display_name": "Python 2",
   "language": "python",
   "name": "python2"
  },
  "language_info": {
   "codemirror_mode": {
    "name": "ipython",
    "version": 2
   },
   "file_extension": ".py",
   "mimetype": "text/x-python",
   "name": "python",
   "nbconvert_exporter": "python",
   "pygments_lexer": "ipython2",
   "version": "2.7.10"
  }
 },
 "nbformat": 4,
 "nbformat_minor": 0
}
