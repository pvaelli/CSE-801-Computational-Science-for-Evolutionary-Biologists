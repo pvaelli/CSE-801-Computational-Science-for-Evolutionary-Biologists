{
 "cells": [
  {
   "cell_type": "code",
   "execution_count": 5,
   "metadata": {
    "collapsed": false
   },
   "outputs": [
    {
     "name": "stdout",
     "output_type": "stream",
     "text": [
      "Populating the interactive namespace from numpy and matplotlib\n"
     ]
    }
   ],
   "source": [
    "%pylab inline"
   ]
  },
  {
   "cell_type": "code",
   "execution_count": 1,
   "metadata": {
    "collapsed": false
   },
   "outputs": [
    {
     "name": "stdout",
     "output_type": "stream",
     "text": [
      "0\n",
      "1\n",
      "2\n",
      "3\n",
      "4\n",
      "5\n",
      "6\n",
      "7\n",
      "8\n",
      "9\n"
     ]
    }
   ],
   "source": [
    "for i in range(10): # loop\n",
    "    print i #stuff to happen\n",
    "    # \"incrementor\" is the last thing that happens in the loop"
   ]
  },
  {
   "cell_type": "code",
   "execution_count": 2,
   "metadata": {
    "collapsed": true
   },
   "outputs": [],
   "source": [
    "# for differs from while like so:\n",
    "n=0\n",
    "while (n<10):\n",
    "    \n",
    "    # stuff to happen\n",
    "    \n",
    "    n=n+1 # incrementor"
   ]
  },
  {
   "cell_type": "code",
   "execution_count": 3,
   "metadata": {
    "collapsed": false
   },
   "outputs": [
    {
     "name": "stdout",
     "output_type": "stream",
     "text": [
      "[0, 1, 2, 3, 4, 5, 6, 7, 8, 9]\n"
     ]
    }
   ],
   "source": [
    "print list(range(10))"
   ]
  },
  {
   "cell_type": "code",
   "execution_count": 4,
   "metadata": {
    "collapsed": false
   },
   "outputs": [
    {
     "name": "stdout",
     "output_type": "stream",
     "text": [
      "1\n",
      "2\n",
      "4\n",
      "8\n",
      "99\n"
     ]
    }
   ],
   "source": [
    "myPersonalList=[1,2,4,8,99]\n",
    "\n",
    "for i in myPersonalList: # loop\n",
    "    print i #stuff to happen"
   ]
  },
  {
   "cell_type": "code",
   "execution_count": 7,
   "metadata": {
    "collapsed": false
   },
   "outputs": [
    {
     "name": "stdout",
     "output_type": "stream",
     "text": [
      "12.3846153846\n",
      "12.0\n",
      "12\n"
     ]
    }
   ],
   "source": [
    "from pandas import *\n",
    "scores=[16,9,9,11,10,8,16,15,11,14,17,12,13]\n",
    "print mean(scores)\n",
    "print median(scores)"
   ]
  },
  {
   "cell_type": "code",
   "execution_count": 13,
   "metadata": {
    "collapsed": false
   },
   "outputs": [
    {
     "data": {
      "text/plain": [
       "12"
      ]
     },
     "execution_count": 13,
     "metadata": {},
     "output_type": "execute_result"
    }
   ],
   "source": [
    "# calculate mean without mean function\n",
    "\n",
    "sum(scores)/len(scores)"
   ]
  },
  {
   "cell_type": "code",
   "execution_count": 14,
   "metadata": {
    "collapsed": false
   },
   "outputs": [
    {
     "name": "stdout",
     "output_type": "stream",
     "text": [
      "12.3846153846\n"
     ]
    }
   ],
   "source": [
    "n=0\n",
    "mySum=0.0\n",
    "while(n<len(scores)):\n",
    "    mySum=mySum+scores[n]\n",
    "    n=n+1\n",
    "print float(mySum)/len(scores)"
   ]
  },
  {
   "cell_type": "code",
   "execution_count": 18,
   "metadata": {
    "collapsed": false
   },
   "outputs": [
    {
     "name": "stdout",
     "output_type": "stream",
     "text": [
      "1.23076923077\n",
      "0.692307692308\n",
      "0.692307692308\n",
      "0.846153846154\n",
      "0.769230769231\n",
      "0.615384615385\n",
      "1.23076923077\n",
      "1.15384615385\n",
      "0.846153846154\n",
      "1.07692307692\n",
      "1.30769230769\n",
      "0.923076923077\n",
      "1.0\n"
     ]
    }
   ],
   "source": [
    "for i in scores:\n",
    "    mean = float(sum(i))/len(scores)\n",
    "    print mean\n",
    "   # haha this doesn't work"
   ]
  },
  {
   "cell_type": "code",
   "execution_count": 21,
   "metadata": {
    "collapsed": false
   },
   "outputs": [
    {
     "name": "stdout",
     "output_type": "stream",
     "text": [
      "12.3846153846\n"
     ]
    }
   ],
   "source": [
    "mySum=0\n",
    "for i in scores:\n",
    "    mySum=mySum+i\n",
    "print float(mySum)/float(len(scores))"
   ]
  },
  {
   "cell_type": "code",
   "execution_count": 22,
   "metadata": {
    "collapsed": false
   },
   "outputs": [
    {
     "name": "stdout",
     "output_type": "stream",
     "text": [
      "12.3846153846\n"
     ]
    }
   ],
   "source": [
    "mySum=0\n",
    "for elements in scores: #doesn't matter what you use after for\n",
    "    mySum=mySum+elements\n",
    "print float(mySum)/float(len(scores))"
   ]
  },
  {
   "cell_type": "code",
   "execution_count": 24,
   "metadata": {
    "collapsed": false
   },
   "outputs": [
    {
     "name": "stdout",
     "output_type": "stream",
     "text": [
      "12.3846153846\n"
     ]
    }
   ],
   "source": [
    "mySum=0\n",
    "for index in range(len(scores)): #doesn't matter what you use after for\n",
    "    mySum=mySum+scores[index]\n",
    "print float(mySum)/float(len(scores))"
   ]
  },
  {
   "cell_type": "code",
   "execution_count": 38,
   "metadata": {
    "collapsed": false
   },
   "outputs": [
    {
     "name": "stdout",
     "output_type": "stream",
     "text": [
      "\n",
      "*\n",
      "**\n",
      "***\n",
      "****\n",
      "*****\n"
     ]
    },
    {
     "ename": "TypeError",
     "evalue": "'builtin_function_or_method' object has no attribute '__getitem__'",
     "output_type": "error",
     "traceback": [
      "\u001b[0;31m---------------------------------------------------------------------------\u001b[0m",
      "\u001b[0;31mTypeError\u001b[0m                                 Traceback (most recent call last)",
      "\u001b[0;32m<ipython-input-38-1669cbf2e771>\u001b[0m in \u001b[0;36m<module>\u001b[0;34m()\u001b[0m\n\u001b[1;32m      5\u001b[0m \u001b[0;34m\u001b[0m\u001b[0m\n\u001b[1;32m      6\u001b[0m \u001b[0;32mfor\u001b[0m \u001b[0mi\u001b[0m \u001b[0;32min\u001b[0m \u001b[0mn\u001b[0m\u001b[0;34m:\u001b[0m\u001b[0;34m\u001b[0m\u001b[0m\n\u001b[0;32m----> 7\u001b[0;31m     \u001b[0;32mprint\u001b[0m \u001b[0;34m\"*\"\u001b[0m \u001b[0;34m*\u001b[0m\u001b[0mn\u001b[0m\u001b[0;34m.\u001b[0m\u001b[0mreverse\u001b[0m\u001b[0;34m[\u001b[0m\u001b[0mi\u001b[0m\u001b[0;34m]\u001b[0m\u001b[0;34m\u001b[0m\u001b[0m\n\u001b[0m",
      "\u001b[0;31mTypeError\u001b[0m: 'builtin_function_or_method' object has no attribute '__getitem__'"
     ]
    }
   ],
   "source": [
    "n=[0,1,2,3,4,5]\n",
    "for i in n:\n",
    "    print \"*\" *n[i]\n",
    "    \n",
    "\n",
    "for i in n:\n",
    "    print \"*\" *n.reverse[i]"
   ]
  },
  {
   "cell_type": "code",
   "execution_count": 51,
   "metadata": {
    "collapsed": false
   },
   "outputs": [
    {
     "name": "stdout",
     "output_type": "stream",
     "text": [
      "*\n",
      "**\n",
      "***\n",
      "****\n",
      "*****\n",
      "*****\n",
      "****\n",
      "***\n",
      "**\n",
      "*\n"
     ]
    }
   ],
   "source": [
    "for i in range(1,6,1):\n",
    "    print \"*\"*i\n",
    "for i in range(5,0,-1):\n",
    "    print \"*\"*i    "
   ]
  },
  {
   "cell_type": "code",
   "execution_count": 54,
   "metadata": {
    "collapsed": false
   },
   "outputs": [
    {
     "name": "stdout",
     "output_type": "stream",
     "text": [
      "**********\n"
     ]
    }
   ],
   "source": [
    "def makeStringOfStars(N):\n",
    "    s=\"\"\n",
    "    for i in range(N):\n",
    "        s=s+\"*\"\n",
    "    return s\n",
    "\n",
    "print makeStringOfStars(10)"
   ]
  },
  {
   "cell_type": "code",
   "execution_count": 56,
   "metadata": {
    "collapsed": false
   },
   "outputs": [
    {
     "name": "stdout",
     "output_type": "stream",
     "text": [
      "*****\n",
      "****\n",
      "***\n",
      "**\n",
      "*\n"
     ]
    }
   ],
   "source": [
    "for i in range(5):\n",
    "    print makeStringOfStars(5-i)"
   ]
  },
  {
   "cell_type": "code",
   "execution_count": 57,
   "metadata": {
    "collapsed": false
   },
   "outputs": [
    {
     "name": "stdout",
     "output_type": "stream",
     "text": [
      "*****\n",
      "****\n",
      "***\n",
      "**\n",
      "*\n"
     ]
    }
   ],
   "source": [
    "L=range(1,6)\n",
    "L.reverse()\n",
    "for i in L:\n",
    "    print makeStringOfStars(i)"
   ]
  },
  {
   "cell_type": "code",
   "execution_count": 75,
   "metadata": {
    "collapsed": false
   },
   "outputs": [
    {
     "name": "stdout",
     "output_type": "stream",
     "text": [
      "\n",
      "+o\n",
      "+o+o\n",
      "+o+o+o\n",
      "+o+o+o+o\n",
      "+o+o+o+o+o\n"
     ]
    }
   ],
   "source": [
    "x=\"+\"\n",
    "o=\"o\"\n",
    "n=range(0,6,1)\n",
    "for i in n:\n",
    "    print (x+o)*n[i]"
   ]
  },
  {
   "cell_type": "code",
   "execution_count": 77,
   "metadata": {
    "collapsed": false
   },
   "outputs": [
    {
     "name": "stdout",
     "output_type": "stream",
     "text": [
      "\n",
      "o\n",
      "oo\n",
      "ooo\n",
      "oooo\n",
      "ooooo\n"
     ]
    }
   ],
   "source": [
    "x=\"+\"\n",
    "o=\"o\"\n",
    "n=range(0,6,1)\n",
    "for i in n:\n",
    "    if \"{0} {1}\".format(i,i&1) == 1:\n",
    "        print (x+o)*n[i]\n",
    "    else:\n",
    "        print (o)*n[i]\n",
    "        \n",
    "        # doesn't work"
   ]
  },
  {
   "cell_type": "code",
   "execution_count": 85,
   "metadata": {
    "collapsed": false
   },
   "outputs": [
    {
     "name": "stdout",
     "output_type": "stream",
     "text": [
      "      \n",
      "o+\n",
      "      +o+o\n",
      "o+o+o+\n",
      "      +o+o+o+o\n",
      "o+o+o+o+o+\n"
     ]
    }
   ],
   "source": [
    "x=\"+\"\n",
    "o=\"o\"\n",
    "n=range(0,6,1)\n",
    "for i in n:\n",
    "    if (int(i/2)==float(i/2.0)):\n",
    "        print \" \"*len(n) + ((x+o)*n[i])\n",
    "    else:\n",
    "        print (o+x)*n[i]\n",
    "        \n",
    "        # garbage"
   ]
  },
  {
   "cell_type": "code",
   "execution_count": 86,
   "metadata": {
    "collapsed": false
   },
   "outputs": [
    {
     "name": "stdout",
     "output_type": "stream",
     "text": [
      " *o*o*o*\n"
     ]
    }
   ],
   "source": [
    "def makeBranchWithNBalls(N):\n",
    "    s=' '\n",
    "    for n in range(N):\n",
    "        s=s+\"*o\"\n",
    "    s=s+\"*\"\n",
    "    return s\n",
    "print makeBranchWithNBalls(3)"
   ]
  },
  {
   "cell_type": "code",
   "execution_count": 88,
   "metadata": {
    "collapsed": false
   },
   "outputs": [
    {
     "name": "stdout",
     "output_type": "stream",
     "text": [
      "spaces: 0 width: 0 balls: 0\n",
      "\n",
      "spaces: 1 width: 1 balls: 1\n",
      "\n",
      "spaces: 2 width: 2 balls: 2\n",
      "\n",
      "spaces: 3 width: 3 balls: 3\n",
      "\n",
      "spaces: 4 width: 4 balls: 4\n",
      "\n"
     ]
    }
   ],
   "source": [
    "for i in range(5):\n",
    "    s=i #space\n",
    "    w=i #width\n",
    "    b=i #balls\n",
    "    print \"spaces: {0} width: {1} balls: {2}\".format(s,w,b)\n",
    "    spaces=\"\" # <- function right spaces number: makeSpaces(s)\n",
    "    branch=\"\" # <- function branch makeBranch(w)\n",
    "    print spaces+branch"
   ]
  },
  {
   "cell_type": "code",
   "execution_count": 92,
   "metadata": {
    "collapsed": false
   },
   "outputs": [
    {
     "ename": "NameError",
     "evalue": "global name 'N' is not defined",
     "output_type": "error",
     "traceback": [
      "\u001b[0;31m---------------------------------------------------------------------------\u001b[0m",
      "\u001b[0;31mNameError\u001b[0m                                 Traceback (most recent call last)",
      "\u001b[0;32m<ipython-input-92-a3ed6f9ef715>\u001b[0m in \u001b[0;36m<module>\u001b[0;34m()\u001b[0m\n\u001b[1;32m     21\u001b[0m     \u001b[0;32melse\u001b[0m\u001b[0;34m:\u001b[0m\u001b[0;34m\u001b[0m\u001b[0m\n\u001b[1;32m     22\u001b[0m         \u001b[0mbranch\u001b[0m\u001b[0;34m=\u001b[0m\u001b[0mmakeBranchWithNBalls\u001b[0m\u001b[0;34m(\u001b[0m\u001b[0mb\u001b[0m\u001b[0;34m)\u001b[0m\u001b[0;34m\u001b[0m\u001b[0m\n\u001b[0;32m---> 23\u001b[0;31m     \u001b[0mspaces\u001b[0m\u001b[0;34m=\u001b[0m\u001b[0mmakeNBlanks\u001b[0m\u001b[0;34m(\u001b[0m\u001b[0ms\u001b[0m\u001b[0;34m)\u001b[0m\u001b[0;34m\u001b[0m\u001b[0m\n\u001b[0m\u001b[1;32m     24\u001b[0m     \u001b[0;32mprint\u001b[0m \u001b[0mspaces\u001b[0m\u001b[0;34m+\u001b[0m\u001b[0mbranch\u001b[0m\u001b[0;34m\u001b[0m\u001b[0m\n",
      "\u001b[0;32m<ipython-input-92-a3ed6f9ef715>\u001b[0m in \u001b[0;36mmakeNBlanks\u001b[0;34m(s)\u001b[0m\n\u001b[1;32m      8\u001b[0m \u001b[0;32mdef\u001b[0m \u001b[0mmakeNBlanks\u001b[0m\u001b[0;34m(\u001b[0m\u001b[0ms\u001b[0m\u001b[0;34m)\u001b[0m\u001b[0;34m:\u001b[0m\u001b[0;34m\u001b[0m\u001b[0m\n\u001b[1;32m      9\u001b[0m     \u001b[0ms\u001b[0m\u001b[0;34m=\u001b[0m\u001b[0;34m\" \"\u001b[0m\u001b[0;34m\u001b[0m\u001b[0m\n\u001b[0;32m---> 10\u001b[0;31m     \u001b[0;32mfor\u001b[0m \u001b[0mi\u001b[0m \u001b[0;32min\u001b[0m \u001b[0mrange\u001b[0m\u001b[0;34m(\u001b[0m\u001b[0mN\u001b[0m\u001b[0;34m)\u001b[0m\u001b[0;34m:\u001b[0m\u001b[0;34m\u001b[0m\u001b[0m\n\u001b[0m\u001b[1;32m     11\u001b[0m         \u001b[0ms\u001b[0m\u001b[0;34m=\u001b[0m\u001b[0ms\u001b[0m\u001b[0;34m+\u001b[0m\u001b[0;34m\" \"\u001b[0m\u001b[0;34m\u001b[0m\u001b[0m\n\u001b[1;32m     12\u001b[0m     \u001b[0;32mreturn\u001b[0m \u001b[0ms\u001b[0m\u001b[0;34m\u001b[0m\u001b[0m\n",
      "\u001b[0;31mNameError\u001b[0m: global name 'N' is not defined"
     ]
    }
   ],
   "source": [
    "def makeBranchWithNBalls(N):\n",
    "    s=' '\n",
    "    for n in range(N):\n",
    "        s=s+\"*o\"\n",
    "    s=s+\"*\"\n",
    "    return s\n",
    "\n",
    "def makeNBlanks(s):\n",
    "    s=\" \"\n",
    "    for i in range(N):\n",
    "        s=s+\" \"\n",
    "    return s\n",
    "\n",
    "\n",
    "for i in range(5):\n",
    "    s=4-i #space\n",
    "    w=1+(i*2) #width\n",
    "    b=i #balls\n",
    "    if (i==1):\n",
    "        branch=\"***\"\n",
    "    else:\n",
    "        branch=makeBranchWithNBalls(b)\n",
    "    spaces=makeNBlanks(s)\n",
    "    print spaces+branch"
   ]
  },
  {
   "cell_type": "code",
   "execution_count": null,
   "metadata": {
    "collapsed": true
   },
   "outputs": [],
   "source": []
  }
 ],
 "metadata": {
  "kernelspec": {
   "display_name": "Python 2",
   "language": "python",
   "name": "python2"
  },
  "language_info": {
   "codemirror_mode": {
    "name": "ipython",
    "version": 2
   },
   "file_extension": ".py",
   "mimetype": "text/x-python",
   "name": "python",
   "nbconvert_exporter": "python",
   "pygments_lexer": "ipython2",
   "version": "2.7.10"
  }
 },
 "nbformat": 4,
 "nbformat_minor": 0
}
