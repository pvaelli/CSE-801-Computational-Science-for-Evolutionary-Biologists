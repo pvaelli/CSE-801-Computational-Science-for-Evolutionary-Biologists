{
 "cells": [
  {
   "cell_type": "code",
   "execution_count": 2,
   "metadata": {
    "collapsed": false
   },
   "outputs": [
    {
     "name": "stdout",
     "output_type": "stream",
     "text": [
      "alive\n"
     ]
    }
   ],
   "source": [
    "def gaussProblem(theList):\n",
    "    position=0\n",
    "    i=0\n",
    "    while(i<len(theList)):\n",
    "        position=position+theList[i]\n",
    "        if (position>1) or (position<-1):\n",
    "            return \"dead\"\n",
    "        i=i+1\n",
    "    return \"alive\"\n",
    "\n",
    "print gaussProblem([1,-1,-1,1,-1])"
   ]
  },
  {
   "cell_type": "code",
   "execution_count": 5,
   "metadata": {
    "collapsed": false
   },
   "outputs": [
    {
     "name": "stdout",
     "output_type": "stream",
     "text": [
      "[1, 2, -1]\n",
      "1\n",
      "[2, -1]\n"
     ]
    }
   ],
   "source": [
    "L=[]\n",
    "L=list()\n",
    "L.append(1)\n",
    "L.append(2)\n",
    "L.append(-1)\n",
    "print L\n",
    "print L.pop(0) #returns a value at this position/index! (first in list) ignorant of what the variable is\n",
    "print L"
   ]
  },
  {
   "cell_type": "code",
   "execution_count": 6,
   "metadata": {
    "collapsed": false
   },
   "outputs": [
    {
     "name": "stdout",
     "output_type": "stream",
     "text": [
      "[1, 2, -1]\n",
      "None\n",
      "[2, -1]\n"
     ]
    }
   ],
   "source": [
    "L=[]\n",
    "L=list()\n",
    "L.append(1)\n",
    "L.append(2)\n",
    "L.append(-1)\n",
    "print L\n",
    "print L.remove(1) # this removes everything equal to the value you enter, in this case all the 1's\n",
    "print L"
   ]
  },
  {
   "cell_type": "code",
   "execution_count": 8,
   "metadata": {
    "collapsed": false
   },
   "outputs": [
    {
     "name": "stdout",
     "output_type": "stream",
     "text": [
      "1\n"
     ]
    }
   ],
   "source": [
    "L=[\"person A\", \"dude\", \"who is it?\"]\n",
    "print L.index(\"dude\") # returns the index of the string (position 1 here )"
   ]
  },
  {
   "cell_type": "code",
   "execution_count": 9,
   "metadata": {
    "collapsed": false
   },
   "outputs": [
    {
     "name": "stdout",
     "output_type": "stream",
     "text": [
      "1\n"
     ]
    },
    {
     "ename": "ValueError",
     "evalue": "'patric' is not in list",
     "output_type": "error",
     "traceback": [
      "\u001b[0;31m---------------------------------------------------------------------------\u001b[0m",
      "\u001b[0;31mValueError\u001b[0m                                Traceback (most recent call last)",
      "\u001b[0;32m<ipython-input-9-992372a87d90>\u001b[0m in \u001b[0;36m<module>\u001b[0;34m()\u001b[0m\n\u001b[1;32m      2\u001b[0m \u001b[0mL\u001b[0m\u001b[0;34m=\u001b[0m\u001b[0;34m[\u001b[0m\u001b[0;34m\"person A\"\u001b[0m\u001b[0;34m,\u001b[0m \u001b[0;34m\"dude\"\u001b[0m\u001b[0;34m,\u001b[0m \u001b[0;34m\"who is it?\"\u001b[0m\u001b[0;34m]\u001b[0m\u001b[0;34m\u001b[0m\u001b[0m\n\u001b[1;32m      3\u001b[0m \u001b[0;32mprint\u001b[0m \u001b[0mL\u001b[0m\u001b[0;34m.\u001b[0m\u001b[0mindex\u001b[0m\u001b[0;34m(\u001b[0m\u001b[0;34m\"dude\"\u001b[0m\u001b[0;34m)\u001b[0m \u001b[0;31m# returns the index of the string (position 1 here )\u001b[0m\u001b[0;34m\u001b[0m\u001b[0m\n\u001b[0;32m----> 4\u001b[0;31m \u001b[0;32mprint\u001b[0m \u001b[0mL\u001b[0m\u001b[0;34m.\u001b[0m\u001b[0mindex\u001b[0m\u001b[0;34m(\u001b[0m\u001b[0;34m\"patric\"\u001b[0m\u001b[0;34m)\u001b[0m\u001b[0;34m\u001b[0m\u001b[0m\n\u001b[0m",
      "\u001b[0;31mValueError\u001b[0m: 'patric' is not in list"
     ]
    }
   ],
   "source": [
    "# if you look for something that's not in the list, it crashes\n",
    "L=[\"person A\", \"dude\", \"who is it?\"]\n",
    "print L.index(\"dude\") # returns the index of the string (position 1 here )\n",
    "print L.index(\"patric\")"
   ]
  },
  {
   "cell_type": "code",
   "execution_count": 10,
   "metadata": {
    "collapsed": false
   },
   "outputs": [
    {
     "name": "stdout",
     "output_type": "stream",
     "text": [
      "1\n"
     ]
    }
   ],
   "source": [
    "# can do this instead:\n",
    "L=[\"person A\", \"dude\", \"who is it?\"]\n",
    "print L.index(\"dude\") # returns the index of the string (position 1 here )\n",
    "if (\"Patric\" in L):\n",
    "    print \"Patric is in here\"\n"
   ]
  },
  {
   "cell_type": "code",
   "execution_count": 12,
   "metadata": {
    "collapsed": false
   },
   "outputs": [
    {
     "name": "stdout",
     "output_type": "stream",
     "text": [
      "['person A', 'hi', 'hi', 'dude', 'who is it?']\n"
     ]
    }
   ],
   "source": [
    "L.insert(1,\"hi\") # adding a string at position 1\n",
    "print L"
   ]
  },
  {
   "cell_type": "code",
   "execution_count": 14,
   "metadata": {
    "collapsed": false
   },
   "outputs": [
    {
     "name": "stdout",
     "output_type": "stream",
     "text": [
      "[0, 1, 2, 3, 4, 5, 6, 7, 8, 9]\n"
     ]
    }
   ],
   "source": [
    "L=range(10) # starts at zero but doesn't actually include 10\n",
    "print L"
   ]
  },
  {
   "cell_type": "code",
   "execution_count": 16,
   "metadata": {
    "collapsed": false
   },
   "outputs": [
    {
     "name": "stdout",
     "output_type": "stream",
     "text": [
      "[1, 2, 3, 4, 5, 6, 7, 8, 9]\n"
     ]
    }
   ],
   "source": [
    "L=range(1,10)\n",
    "print L"
   ]
  },
  {
   "cell_type": "code",
   "execution_count": 17,
   "metadata": {
    "collapsed": false
   },
   "outputs": [
    {
     "name": "stdout",
     "output_type": "stream",
     "text": [
      "[9, 8, 7, 6, 5, 4, 3, 2, 1]\n"
     ]
    }
   ],
   "source": [
    "L.reverse()\n",
    "print L"
   ]
  },
  {
   "cell_type": "code",
   "execution_count": 18,
   "metadata": {
    "collapsed": false
   },
   "outputs": [
    {
     "name": "stdout",
     "output_type": "stream",
     "text": [
      "[1, 2, 3, 4, 5, 6, 7, 8, 9]\n"
     ]
    }
   ],
   "source": [
    "L.sort()\n",
    "print L"
   ]
  },
  {
   "cell_type": "code",
   "execution_count": 19,
   "metadata": {
    "collapsed": false
   },
   "outputs": [
    {
     "name": "stdout",
     "output_type": "stream",
     "text": [
      "[0, 1, 1, 2, 3, 3, 3, 4, 5, 6]\n"
     ]
    }
   ],
   "source": [
    "L=[5,6,1,2,3,1,3,4,3,0]\n",
    "L.sort()\n",
    "print L"
   ]
  },
  {
   "cell_type": "code",
   "execution_count": null,
   "metadata": {
    "collapsed": true
   },
   "outputs": [],
   "source": [
    "L=[\"Arend\", \"dude\", \"b\", \"Darwin\", \"1267\", \"&#\"] \n",
    "# symbols before numbers before strings. \n",
    "# Also sorts strings by alphebetically using capitolized strings first, then lower case\n",
    "L.sort()\n",
    "print L"
   ]
  },
  {
   "cell_type": "code",
   "execution_count": 30,
   "metadata": {
    "collapsed": false
   },
   "outputs": [
    {
     "name": "stdout",
     "output_type": "stream",
     "text": [
      "[1, 2, 4, 8, 16, 32, 64, 128, 256]\n"
     ]
    }
   ],
   "source": [
    "# Exercise: create list [1,2,4,8,16.....256]\n",
    "\n",
    "L=[]\n",
    "L=list()\n",
    "i=1\n",
    "while i <= 256:\n",
    "    L.append(i)\n",
    "    i=i*2\n",
    "print L\n",
    "    "
   ]
  },
  {
   "cell_type": "code",
   "execution_count": 31,
   "metadata": {
    "collapsed": false
   },
   "outputs": [
    {
     "name": "stdout",
     "output_type": "stream",
     "text": [
      "[256, 128, 64, 32, 16, 8, 4, 2, 1]\n"
     ]
    }
   ],
   "source": [
    "# now reverse it:\n",
    "L.reverse()\n",
    "print L"
   ]
  },
  {
   "cell_type": "code",
   "execution_count": 33,
   "metadata": {
    "collapsed": false
   },
   "outputs": [
    {
     "name": "stdout",
     "output_type": "stream",
     "text": [
      "[256, 128, 64, 32, 16, 8, 4, 2, 1]\n",
      "None\n"
     ]
    }
   ],
   "source": [
    "# why doesn't this work? Lists don't behave as they should!!!\n",
    "T = L.reverse()\n",
    "print L\n",
    "print T"
   ]
  },
  {
   "cell_type": "code",
   "execution_count": 35,
   "metadata": {
    "collapsed": false
   },
   "outputs": [
    {
     "name": "stdout",
     "output_type": "stream",
     "text": [
      "9\n",
      "10\n"
     ]
    }
   ],
   "source": [
    "a=10\n",
    "b=a\n",
    "a=a-1\n",
    "print a\n",
    "print b\n",
    "# this works just fine, but this logic (making a copy) with lists doesn't work"
   ]
  },
  {
   "cell_type": "code",
   "execution_count": 60,
   "metadata": {
    "collapsed": false
   },
   "outputs": [
    {
     "name": "stdout",
     "output_type": "stream",
     "text": [
      "[256, 128, 64, 32, 16, 8, 4, 2, 1]\n",
      "[1, 2, 4, 8, 16, 32, 64, 128, 256]\n"
     ]
    }
   ],
   "source": [
    "print L\n",
    "T=L\n",
    "T.reverse()\n",
    "print T"
   ]
  },
  {
   "cell_type": "code",
   "execution_count": 61,
   "metadata": {
    "collapsed": false
   },
   "outputs": [
    {
     "name": "stdout",
     "output_type": "stream",
     "text": [
      "[1, 2, 4, 8, 16, 32, 64, 128, 256]\n",
      "[1, 2, 4, 8, 16, 32, 64, 128, 256]\n",
      "[1, 1, 2, 2, 4, 4, 8, 8, 16, 16, 32, 32, 64, 64, 128, 128, 256, 256]\n"
     ]
    }
   ],
   "source": [
    "LT=[]\n",
    "LT=list()\n",
    "i=0\n",
    "while i<len(L or T):\n",
    "    LT.append(L[i])\n",
    "    LT.append(T[i])\n",
    "    i=i+1\n",
    "print L\n",
    "print T\n",
    "print LT\n",
    "\n",
    "# this shoudl work but it doesn't"
   ]
  },
  {
   "cell_type": "markdown",
   "metadata": {},
   "source": [
    "HOMEWORK 3 PROBLEM, DUE ON THURSDAY. START THINKING ABOUT IT NOW:\n",
    "\n",
    "22 days to read a book with 21 chapters.\n",
    "Easy, I can read a chapter a day\n",
    "screw this, I can read no chapers today, 2 tomorrow, and 1 each day after that\n",
    "screw this, I will read no chapters today or tomorrow, then I'll read two chapters the following two days, then one a day after\n",
    "screw this"
   ]
  },
  {
   "cell_type": "code",
   "execution_count": null,
   "metadata": {
    "collapsed": true
   },
   "outputs": [],
   "source": []
  }
 ],
 "metadata": {
  "kernelspec": {
   "display_name": "Python 2",
   "language": "python",
   "name": "python2"
  },
  "language_info": {
   "codemirror_mode": {
    "name": "ipython",
    "version": 2
   },
   "file_extension": ".py",
   "mimetype": "text/x-python",
   "name": "python",
   "nbconvert_exporter": "python",
   "pygments_lexer": "ipython2",
   "version": "2.7.10"
  }
 },
 "nbformat": 4,
 "nbformat_minor": 0
}
