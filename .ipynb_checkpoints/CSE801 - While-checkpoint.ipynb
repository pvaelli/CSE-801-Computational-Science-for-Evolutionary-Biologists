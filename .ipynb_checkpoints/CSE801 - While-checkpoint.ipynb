{
 "cells": [
  {
   "cell_type": "code",
   "execution_count": 3,
   "metadata": {
    "collapsed": false
   },
   "outputs": [
    {
     "name": "stdout",
     "output_type": "stream",
     "text": [
      "2\n",
      "3\n",
      "4\n",
      "5\n",
      "6\n",
      "7\n",
      "8\n",
      "9\n",
      "10\n",
      "10\n"
     ]
    }
   ],
   "source": [
    "a=1\n",
    "while(a<10):\n",
    "    a=a+1\n",
    "    print a\n",
    "print a"
   ]
  },
  {
   "cell_type": "markdown",
   "metadata": {},
   "source": [
    "A major difference between IF and WHILE is that:\n",
    "===========================\n",
    "    IF will check the statement, if it's true it does something, if it's false it goes DOWNSTREAM of the IF\n",
    "    \n",
    "    WHILE will check the statement, if true it does something and goes UPSTREAM of the WHILE (if false, it skips the something; same with IF)"
   ]
  },
  {
   "cell_type": "code",
   "execution_count": 11,
   "metadata": {
    "collapsed": false
   },
   "outputs": [
    {
     "name": "stdout",
     "output_type": "stream",
     "text": [
      "days: 240\n"
     ]
    }
   ],
   "source": [
    "a=12\n",
    "b=60\n",
    "day=0\n",
    "\n",
    "# A grows 3 animals per day\n",
    "# B grows 2.8 animals per day\n",
    "# when will group A outgrow group B\n",
    "\n",
    "while(a<b):\n",
    "    a=a+3\n",
    "    b=b+2.8\n",
    "    day=day+1\n",
    "print \"days: \"+ str(day)"
   ]
  },
  {
   "cell_type": "markdown",
   "metadata": {},
   "source": [
    "Paired Programming Execise:\n",
    "===============\n",
    "\n",
    "Same situation as above, but growth rates are:\n",
    "group A grows (1.2, 2.8) uniform distribution\n",
    "group B grows gaussian distribution mean 0.2 sigma 0.4"
   ]
  },
  {
   "cell_type": "code",
   "execution_count": 12,
   "metadata": {
    "collapsed": false
   },
   "outputs": [
    {
     "name": "stdout",
     "output_type": "stream",
     "text": [
      "0.283670994823\n",
      "0.228636801515\n"
     ]
    }
   ],
   "source": [
    "import random\n",
    "print random.uniform(0.2,0.4) # here each value is border of a distribution\n",
    "print random.gauss(0.2,0.4) # here first number is mean, second is sigma"
   ]
  },
  {
   "cell_type": "code",
   "execution_count": 132,
   "metadata": {
    "collapsed": false
   },
   "outputs": [
    {
     "name": "stdout",
     "output_type": "stream",
     "text": [
      "2800\n",
      "days: 28\n"
     ]
    }
   ],
   "source": [
    "from numpy import *\n",
    "import random\n",
    "a=12\n",
    "b=60\n",
    "day=0\n",
    "while(a<b):\n",
    "    a=a+random.uniform(1.2,2.8) # here each value is border of a distribution\n",
    "    b=b+random.gauss(0.2,0.4) # here first number is mean, second is sigma\n",
    "    day=day+1 \n",
    "print \"days: \"+ str(day)"
   ]
  },
  {
   "cell_type": "code",
   "execution_count": 142,
   "metadata": {
    "collapsed": false
   },
   "outputs": [
    {
     "name": "stdout",
     "output_type": "stream",
     "text": [
      "days: 27.2426\n"
     ]
    }
   ],
   "source": [
    "n=0\n",
    "N=10000\n",
    "daysSum=0\n",
    "while n<N:\n",
    "    a=12\n",
    "    b=60\n",
    "    days=0\n",
    "    while(a<b):\n",
    "        a=a+random.uniform(1.2,2.8) # here each value is border of a distribution\n",
    "        b=b+random.gauss(0.2,0.4) # here first number is mean, second is sigma\n",
    "        days=days+1\n",
    "    daysSum=daysSum+days\n",
    "    n=n+1\n",
    "print \"days: \"+ str(float(daysSum)/float(N))"
   ]
  },
  {
   "cell_type": "markdown",
   "metadata": {},
   "source": [
    "## Home Exercise:\n",
    "    assume a random walk process starting at 0\n",
    "    keep adding or subtracting 1 until the value becomes 0 again\n",
    "    how long did this take?\n",
    "    \n",
    "### extra:\n",
    "    now that you know how long it took, how long does this take on average?"
   ]
  },
  {
   "cell_type": "code",
   "execution_count": null,
   "metadata": {
    "collapsed": true
   },
   "outputs": [],
   "source": []
  }
 ],
 "metadata": {
  "kernelspec": {
   "display_name": "Python 2",
   "language": "python",
   "name": "python2"
  },
  "language_info": {
   "codemirror_mode": {
    "name": "ipython",
    "version": 2
   },
   "file_extension": ".py",
   "mimetype": "text/x-python",
   "name": "python",
   "nbconvert_exporter": "python",
   "pygments_lexer": "ipython2",
   "version": "2.7.10"
  }
 },
 "nbformat": 4,
 "nbformat_minor": 0
}
