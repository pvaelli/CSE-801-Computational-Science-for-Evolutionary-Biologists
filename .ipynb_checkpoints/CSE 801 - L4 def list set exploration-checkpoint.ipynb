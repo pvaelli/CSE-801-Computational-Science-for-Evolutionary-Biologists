{
 "cells": [
  {
   "cell_type": "code",
   "execution_count": 3,
   "metadata": {
    "collapsed": false
   },
   "outputs": [
    {
     "name": "stdout",
     "output_type": "stream",
     "text": [
      "Populating the interactive namespace from numpy and matplotlib\n"
     ]
    },
    {
     "name": "stderr",
     "output_type": "stream",
     "text": [
      "WARNING: pylab import has clobbered these variables: ['random']\n",
      "`%matplotlib` prevents importing * from pylab and numpy\n"
     ]
    }
   ],
   "source": [
    "%pylab inline"
   ]
  },
  {
   "cell_type": "code",
   "execution_count": 8,
   "metadata": {
    "collapsed": false
   },
   "outputs": [
    {
     "name": "stdout",
     "output_type": "stream",
     "text": [
      "2\n"
     ]
    }
   ],
   "source": [
    "import random\n",
    "s=0\n",
    "n=1\n",
    "\n",
    "if random.uniform(0.0,1.0)<0.5:\n",
    "    s=s-1\n",
    "else:\n",
    "    s=s+1\n",
    "    \n",
    "while(s!=0):\n",
    "    if random.uniform(0.0,1.0)<0.5:\n",
    "        s=s-1\n",
    "    else:\n",
    "        s=s+1\n",
    "    n=n+1\n",
    "\n",
    "print n"
   ]
  },
  {
   "cell_type": "code",
   "execution_count": 9,
   "metadata": {
    "collapsed": false
   },
   "outputs": [
    {
     "name": "stdout",
     "output_type": "stream",
     "text": [
      "235\n",
      "235\n"
     ]
    }
   ],
   "source": [
    "def plusOrMinus():\n",
    "    s=0\n",
    "    if random.uniform(0.0,1.0)<0.5:\n",
    "        s=s-1\n",
    "    else:\n",
    "        s=s+1\n",
    "    return s\n",
    "      \n",
    "s=235\n",
    "print s\n",
    "plusOrMinus()\n",
    "print s"
   ]
  },
  {
   "cell_type": "code",
   "execution_count": 10,
   "metadata": {
    "collapsed": false
   },
   "outputs": [
    {
     "name": "stdout",
     "output_type": "stream",
     "text": [
      "0\n"
     ]
    }
   ],
   "source": [
    "def addOrSubtract(myVariable):\n",
    "    if random.uniform(0.0,1.0)<0.5:\n",
    "        myVariable=myVariable-1\n",
    "    else:\n",
    "        myVariable=myVariable+1\n",
    "    return myVariable\n",
    "\n",
    "v=1\n",
    "v=addOrSubtract(v)\n",
    "print v"
   ]
  },
  {
   "cell_type": "code",
   "execution_count": 11,
   "metadata": {
    "collapsed": false
   },
   "outputs": [
    {
     "name": "stdout",
     "output_type": "stream",
     "text": [
      "2\n"
     ]
    }
   ],
   "source": [
    "import random\n",
    "s=0\n",
    "n=1\n",
    "\n",
    "s=s+plusOrMinus()\n",
    "    \n",
    "while(s!=0):\n",
    "    s=s+plusOrMinus()\n",
    "    n=n+1\n",
    "\n",
    "print n"
   ]
  },
  {
   "cell_type": "code",
   "execution_count": 12,
   "metadata": {
    "collapsed": false
   },
   "outputs": [
    {
     "name": "stdout",
     "output_type": "stream",
     "text": [
      "2\n"
     ]
    }
   ],
   "source": [
    "def nUntilZero():\n",
    "    s=0\n",
    "    n=1\n",
    "\n",
    "    s=s+plusOrMinus()\n",
    "    \n",
    "    while(s!=0):\n",
    "        s=s+plusOrMinus()\n",
    "        n=n+1\n",
    "\n",
    "    return n\n",
    "\n",
    "print nUntilZero()"
   ]
  },
  {
   "cell_type": "code",
   "execution_count": 13,
   "metadata": {
    "collapsed": false
   },
   "outputs": [
    {
     "name": "stdout",
     "output_type": "stream",
     "text": [
      "in 100 samples it took 24.94 steps on average to return to 0\n"
     ]
    }
   ],
   "source": [
    "n=0\n",
    "nrOfSamples=100\n",
    "total=0\n",
    "while(n<nrOfSamples):\n",
    "    total=total+nUntilZero()\n",
    "    n=n+1\n",
    "\n",
    "print \"in {0} samples it took {1} \\\n",
    "steps on average to return to 0\".format(nrOfSamples,\n",
    "                                        float(total)/float(nrOfSamples))"
   ]
  },
  {
   "cell_type": "code",
   "execution_count": 14,
   "metadata": {
    "collapsed": false
   },
   "outputs": [
    {
     "name": "stdout",
     "output_type": "stream",
     "text": [
      "3.4\n"
     ]
    }
   ],
   "source": [
    "def sampleNTimes(nrOfSamples):\n",
    "    n=0\n",
    "    total=0\n",
    "    while(n<nrOfSamples):\n",
    "        total=total+nUntilZero()\n",
    "        n=n+1\n",
    "    return float(total)/float(nrOfSamples)\n",
    "\n",
    "print sampleNTimes(10)"
   ]
  },
  {
   "cell_type": "code",
   "execution_count": 34,
   "metadata": {
    "collapsed": false
   },
   "outputs": [
    {
     "data": {
      "text/plain": [
       "[<matplotlib.lines.Line2D at 0x106010dd0>]"
      ]
     },
     "execution_count": 34,
     "metadata": {},
     "output_type": "execute_result"
    },
    {
     "data": {
      "image/png": "[encoded data removed]",
      "text/plain": [
       "<matplotlib.figure.Figure at 0x105f4f3d0>"
      ]
     },
     "metadata": {},
     "output_type": "display_data"
    }
   ],
   "source": [
    "from pandas import *\n",
    "n=10\n",
    "L=[]\n",
    "while (n<500):\n",
    "    L.append(sampleNTimes(n))\n",
    "    n=n+10\n",
    "\n",
    "plot(L)"
   ]
  },
  {
   "cell_type": "code",
   "execution_count": 35,
   "metadata": {
    "collapsed": false
   },
   "outputs": [
    {
     "data": {
      "text/plain": [
       "[<matplotlib.lines.Line2D at 0x106272150>]"
      ]
     },
     "execution_count": 35,
     "metadata": {},
     "output_type": "execute_result"
    },
    {
     "data": {
      "image/png": "[encoded data removed]",
      "text/plain": [
       "<matplotlib.figure.Figure at 0x1050a3e10>"
      ]
     },
     "metadata": {},
     "output_type": "display_data"
    }
   ],
   "source": [
    "plot(log(L))\n"
   ]
  },
  {
   "cell_type": "code",
   "execution_count": 40,
   "metadata": {
    "collapsed": false
   },
   "outputs": [
    {
     "name": "stdout",
     "output_type": "stream",
     "text": [
      "[2, 4, 4, 5, 1, 1, 2, 5]\n",
      "set([2, 4, 5])\n"
     ]
    }
   ],
   "source": [
    "L=list()\n",
    "S=set()\n",
    "n=0\n",
    "while(n<8):\n",
    "    L.append(random.randint(1,6))\n",
    "    S.add(random.randint(1,6))\n",
    "    n=n+1\n",
    "\n",
    "print L\n",
    "print S\n"
   ]
  },
  {
   "cell_type": "code",
   "execution_count": 41,
   "metadata": {
    "collapsed": false
   },
   "outputs": [
    {
     "name": "stdout",
     "output_type": "stream",
     "text": [
      "set([2])\n"
     ]
    }
   ],
   "source": [
    "S=set()\n",
    "S.add(2)\n",
    "S.add(2)\n",
    "print S"
   ]
  },
  {
   "cell_type": "code",
   "execution_count": 46,
   "metadata": {
    "collapsed": false
   },
   "outputs": [
    {
     "ename": "AttributeError",
     "evalue": "'set' object has no attribute 'append'",
     "output_type": "error",
     "traceback": [
      "\u001b[0;31m---------------------------------------------------------------------------\u001b[0m",
      "\u001b[0;31mAttributeError\u001b[0m                            Traceback (most recent call last)",
      "\u001b[0;32m<ipython-input-46-17f0bf5e3c80>\u001b[0m in \u001b[0;36m<module>\u001b[0;34m()\u001b[0m\n\u001b[1;32m      4\u001b[0m \u001b[0;32mwhile\u001b[0m\u001b[0;34m(\u001b[0m\u001b[0mn\u001b[0m\u001b[0;34m<\u001b[0m\u001b[0;36m8\u001b[0m\u001b[0;34m)\u001b[0m\u001b[0;34m:\u001b[0m\u001b[0;34m\u001b[0m\u001b[0m\n\u001b[1;32m      5\u001b[0m     \u001b[0mx\u001b[0m\u001b[0;34m=\u001b[0m\u001b[0mrandom\u001b[0m\u001b[0;34m.\u001b[0m\u001b[0mrandint\u001b[0m\u001b[0;34m(\u001b[0m\u001b[0;36m1\u001b[0m\u001b[0;34m,\u001b[0m\u001b[0;36m6\u001b[0m\u001b[0;34m)\u001b[0m\u001b[0;34m\u001b[0m\u001b[0m\n\u001b[0;32m----> 6\u001b[0;31m     \u001b[0mS\u001b[0m\u001b[0;34m.\u001b[0m\u001b[0mappend\u001b[0m\u001b[0;34m(\u001b[0m\u001b[0mx\u001b[0m\u001b[0;34m)\u001b[0m\u001b[0;34m\u001b[0m\u001b[0m\n\u001b[0m\u001b[1;32m      7\u001b[0m     \u001b[0mL\u001b[0m\u001b[0;34m.\u001b[0m\u001b[0madd\u001b[0m\u001b[0;34m(\u001b[0m\u001b[0mx\u001b[0m\u001b[0;34m)\u001b[0m\u001b[0;34m\u001b[0m\u001b[0m\n\u001b[1;32m      8\u001b[0m     \u001b[0mn\u001b[0m\u001b[0;34m=\u001b[0m\u001b[0mn\u001b[0m\u001b[0;34m+\u001b[0m\u001b[0;36m1\u001b[0m\u001b[0;34m\u001b[0m\u001b[0m\n",
      "\u001b[0;31mAttributeError\u001b[0m: 'set' object has no attribute 'append'"
     ]
    }
   ],
   "source": [
    "L=list()\n",
    "S=set()\n",
    "n=0\n",
    "while(n<8):\n",
    "    x=random.randint(1,6)\n",
    "    S.append(x)\n",
    "    L.add(x)\n",
    "    n=n+1\n",
    "\n",
    "print L\n",
    "print S"
   ]
  },
  {
   "cell_type": "code",
   "execution_count": 44,
   "metadata": {
    "collapsed": false
   },
   "outputs": [
    {
     "name": "stdout",
     "output_type": "stream",
     "text": [
      "[21, 2]\n"
     ]
    }
   ],
   "source": [
    "L=[]\n",
    "L.append(21)\n",
    "L.append(2)\n",
    "print L"
   ]
  },
  {
   "cell_type": "code",
   "execution_count": 54,
   "metadata": {
    "collapsed": false
   },
   "outputs": [
    {
     "name": "stdout",
     "output_type": "stream",
     "text": [
      "[2, [], 'This is a string', True, 3.1415]\n"
     ]
    }
   ],
   "source": [
    "L=list()\n",
    "T=list()\n",
    "L.append(2)\n",
    "L.append(T)\n",
    "L.append(\"This is a string\")\n",
    "L.append(True)\n",
    "L.append(3.1415)\n",
    "print L"
   ]
  },
  {
   "cell_type": "code",
   "execution_count": 66,
   "metadata": {
    "collapsed": false
   },
   "outputs": [
    {
     "name": "stdout",
     "output_type": "stream",
     "text": [
      "8978\n",
      "[2, [2, 2, 2, 2, []], 8978, [5], 3.1415]\n"
     ]
    }
   ],
   "source": [
    "L[2]=8978\n",
    "n=2\n",
    "print L[n]\n",
    "L[1].append(2)\n",
    "L[3]=[]\n",
    "L[3].append(5)\n",
    "L[1].append([])\n",
    "print L"
   ]
  },
  {
   "cell_type": "code",
   "execution_count": 68,
   "metadata": {
    "collapsed": true
   },
   "outputs": [],
   "source": [
    "L[1][4].append([])\n",
    "L[1][4][0].append(1)\n"
   ]
  },
  {
   "cell_type": "code",
   "execution_count": 69,
   "metadata": {
    "collapsed": false
   },
   "outputs": [
    {
     "name": "stdout",
     "output_type": "stream",
     "text": [
      "[2, [2, 2, 2, 2, [[1], []]], 8978, [5], 3.1415]\n"
     ]
    }
   ],
   "source": [
    "print L"
   ]
  },
  {
   "cell_type": "code",
   "execution_count": 73,
   "metadata": {
    "collapsed": false
   },
   "outputs": [
    {
     "name": "stdout",
     "output_type": "stream",
     "text": [
      "[1, 2, 3, 4, 5, 2, 3, 4, 23, 23, 2332, 1, 0]\n",
      "13\n"
     ]
    }
   ],
   "source": [
    "L=[1,2,3,4,5,2,3,4,23,23,2332,1,0]\n",
    "print L\n",
    "print len(L)"
   ]
  },
  {
   "cell_type": "code",
   "execution_count": 77,
   "metadata": {
    "collapsed": false
   },
   "outputs": [
    {
     "name": "stdout",
     "output_type": "stream",
     "text": [
      "2332\n"
     ]
    }
   ],
   "source": [
    "L=[1,2,3,4,5,2,3,4,23,23,2332,1,0]\n",
    "n=0\n",
    "h=0\n",
    "while(n<len(L)):\n",
    "    if(L[h]<L[n]):\n",
    "        h=n\n",
    "    n=n+1\n",
    "    \n",
    "print L[h]"
   ]
  },
  {
   "cell_type": "code",
   "execution_count": 75,
   "metadata": {
    "collapsed": false
   },
   "outputs": [
    {
     "name": "stdout",
     "output_type": "stream",
     "text": [
      "[1, 2, 3, 4, 5, 2, 3, 4, 23, 23, 2332, 1, 0]\n",
      "2332\n"
     ]
    }
   ],
   "source": [
    "L=[1,2,3,4,5,2,3,4,23,23,2332,1,0]\n",
    "print L\n",
    "n=0\n",
    "while(n<100000):\n",
    "    j=random.randint(0,len(L)-1)\n",
    "    if(L[0]<L[j]):\n",
    "        u=L[j]\n",
    "        L[j]=L[0]\n",
    "        L[0]=u\n",
    "    n=n+1\n",
    "print L[0]"
   ]
  },
  {
   "cell_type": "markdown",
   "metadata": {},
   "source": [
    "# Homework 2:\n",
    "    Write a function that takes one parameter,\n",
    "    this parameter must be and integer between 0 and 99\n",
    "    if this is below 0 or above 99 then make the function complain\n",
    "    if the number is between 0 and 99 devise a method to guess the number\n",
    "    and return how many trials that took"
   ]
  },
  {
   "cell_type": "markdown",
   "metadata": {},
   "source": [
    "# Homework 2:\n",
    "    The Gauss problem:\n",
    "    Imagine you are standing on a small peak of a mountain, and you can\n",
    "    only take one step forward or one step backwards before falling off\n",
    "    If I know give you a sequence of + and - which tell you to go forward\n",
    "    or backward, you now need to tell me if this sequence kills you or not\n",
    "    Example +-+-+-+- is toally fine\n",
    "    while +-++ kills you\n",
    "    "
   ]
  },
  {
   "cell_type": "code",
   "execution_count": null,
   "metadata": {
    "collapsed": true
   },
   "outputs": [],
   "source": []
  }
 ],
 "metadata": {
  "kernelspec": {
   "display_name": "Python 2",
   "language": "python",
   "name": "python2"
  },
  "language_info": {
   "codemirror_mode": {
    "name": "ipython",
    "version": 2
   },
   "file_extension": ".py",
   "mimetype": "text/x-python",
   "name": "python",
   "nbconvert_exporter": "python",
   "pygments_lexer": "ipython2",
   "version": "2.7.10"
  }
 },
 "nbformat": 4,
 "nbformat_minor": 0
}
