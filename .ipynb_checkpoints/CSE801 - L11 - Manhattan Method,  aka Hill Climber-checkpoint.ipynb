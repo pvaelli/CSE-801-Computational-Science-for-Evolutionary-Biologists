{
 "cells": [
  {
   "cell_type": "raw",
   "metadata": {},
   "source": [
    "MMP + Bunnies/Raptors\n",
    "\n",
    "Both are Monte Carlo Simulation problems, with statistical analysis.\n",
    "\n",
    "Lotka-Volterra and Game Theory (both are math)\n",
    "    LV are dynamics between two entities\n",
    "    GT creates a matrix of pay-offs (or costs) for managing multiple interactions\n",
    "   \n",
    "Evolution:\n",
    "    Inheritance (heredity) -> already present in game theory; you inherit your parental strategy\n",
    "    Variance -> when I create offspring, there's a probability it will behave differently\n",
    "    Selection -> \n",
    "    \n",
    "problem when adding variance: we create variants and increase our interaction matrix (pay-off matrix) without extinction of species. (we need selection!)\n",
    "    Address this with a specific type of Monte Carlo simulation, called Manhatten Method. Create a solution -> compare an alternative -> determine which is better and take it -> then create an alternative and compare which is better -> then take the better -> keep going.\n",
    "    \n",
    "    \n"
   ]
  },
  {
   "cell_type": "code",
   "execution_count": 3,
   "metadata": {
    "collapsed": false
   },
   "outputs": [],
   "source": [
    "targetString=\"This machine kills puppies\"\n",
    "currentSolution=\"This isethe1targrt strrng\" # Manhattan method assumes we know which solution is better than the other.\n",
    "#while targetString!=currentSolution:\n",
    "    #print \"do something\""
   ]
  },
  {
   "cell_type": "code",
   "execution_count": 4,
   "metadata": {
    "collapsed": false
   },
   "outputs": [
    {
     "name": "stdout",
     "output_type": "stream",
     "text": [
      "not the same\n"
     ]
    }
   ],
   "source": [
    "# Manhattan method assumes we know which solution is better than the other.\n",
    "# How do we tell which is better?\n",
    "\n",
    "if targetString==currentSolution:\n",
    "    print \"the same\"\n",
    "else:\n",
    "    print \"not the same\""
   ]
  },
  {
   "cell_type": "code",
   "execution_count": 21,
   "metadata": {
    "collapsed": false
   },
   "outputs": [
    {
     "name": "stdout",
     "output_type": "stream",
     "text": [
      "4\n"
     ]
    }
   ],
   "source": [
    "def difference(str1,str2):\n",
    "    L1=list(str1)\n",
    "    L2=list(str2)\n",
    "    D=0\n",
    "    for i in range(len(L1)):\n",
    "        if L1[i]!=L2[i]:\n",
    "            D=D+1\n",
    "    return D\n",
    "    \n",
    "print difference(\"hello\",\"1234o\")"
   ]
  },
  {
   "cell_type": "code",
   "execution_count": 22,
   "metadata": {
    "collapsed": false
   },
   "outputs": [
    {
     "name": "stdout",
     "output_type": "stream",
     "text": [
      "['h', 'e', 'l', 'l', 'o']\n"
     ]
    }
   ],
   "source": [
    "print list(\"hello\")"
   ]
  },
  {
   "cell_type": "code",
   "execution_count": 37,
   "metadata": {
    "collapsed": false
   },
   "outputs": [
    {
     "name": "stdout",
     "output_type": "stream",
     "text": [
      "9^6pvkH4%@\n"
     ]
    }
   ],
   "source": [
    "import random\n",
    "import string\n",
    "def makeRandomString(ofLength):\n",
    "    S=list()\n",
    "    for i in range(ofLength):\n",
    "        S.append(string.printable[random.randint(0,len(string.printable)-1)])\n",
    "    return \"\".join(S)\n",
    "\n",
    "print makeRandomString(10)"
   ]
  },
  {
   "cell_type": "code",
   "execution_count": 49,
   "metadata": {
    "collapsed": false
   },
   "outputs": [
    {
     "name": "stdout",
     "output_type": "stream",
     "text": [
      "Pa5ric\n"
     ]
    }
   ],
   "source": [
    "def randomCharacter():\n",
    "    return string.printable[random.randint(0,len(string.printable)-1)]\n",
    "\n",
    "\n",
    "def mutateCharacter(templateString):\n",
    "    S=list(templateString)\n",
    "    where=random.randint(0,len(S)-1)\n",
    "    #S[where]=string.printable[random.randint(0,len(string.printable)-1)]\n",
    "    S[where]=randomCharacter()\n",
    "    return \"\".join(S)\n",
    "\n",
    "print mutateCharacter(\"Patric\")"
   ]
  },
  {
   "cell_type": "code",
   "execution_count": 24,
   "metadata": {
    "collapsed": false
   },
   "outputs": [
    {
     "name": "stdout",
     "output_type": "stream",
     "text": [
      "0123456789abcdefghijklmnopqrstuvwxyzABCDEFGHIJKLMNOPQRSTUVWXYZ!\"#$%&'()*+,-./:;<=>?@[\\]^_`{|}~ \t\n",
      "\r",
      "\u000b",
      "\f",
      "\n"
     ]
    }
   ],
   "source": [
    "print string.printable #prints all characters including space bar at the end"
   ]
  },
  {
   "cell_type": "code",
   "execution_count": 25,
   "metadata": {
    "collapsed": false
   },
   "outputs": [
    {
     "data": {
      "text/plain": [
       "48"
      ]
     },
     "execution_count": 25,
     "metadata": {},
     "output_type": "execute_result"
    }
   ],
   "source": [
    "random.randint(0,len(string.printable)-1)"
   ]
  },
  {
   "cell_type": "code",
   "execution_count": 27,
   "metadata": {
    "collapsed": false
   },
   "outputs": [
    {
     "name": "stdout",
     "output_type": "stream",
     "text": [
      "abc\n"
     ]
    }
   ],
   "source": [
    "print \"\".join([\"a\", \"b\", \"c\"]) # takes characters, forms a string. Need the quotes ahead to tell function it's using strings"
   ]
  },
  {
   "cell_type": "raw",
   "metadata": {},
   "source": [
    "make random string\n",
    "define a target string\n",
    "run until currentString is the targetSTring\n",
    "    compare the currentString and the mutatedString\n",
    "    keep the better"
   ]
  },
  {
   "cell_type": "code",
   "execution_count": 1,
   "metadata": {
    "collapsed": false
   },
   "outputs": [
    {
     "name": "stdout",
     "output_type": "stream",
     "text": [
      "6\n",
      "Patric\n",
      "oZ$-z3\n"
     ]
    }
   ],
   "source": [
    "import random\n",
    "import string\n",
    "\n",
    "def makeRandomString(ofLength):\n",
    "    S=list()\n",
    "    for i in range(ofLength):\n",
    "        S.append(string.printable[random.randint(0,len(string.printable)-1)])\n",
    "    return \"\".join(S)\n",
    "\n",
    "def randomCharacter():\n",
    "    return string.printable[random.randint(0,len(string.printable)-1)]\n",
    "\n",
    "def mutateCharacter(templateString):\n",
    "    S=list(templateString)\n",
    "    where=random.randint(0,len(S)-1)\n",
    "    #S[where]=string.printable[random.randint(0,len(string.printable)-1)]\n",
    "    S[where]=randomCharacter()\n",
    "    return \"\".join(S)\n",
    "\n",
    "def difference(str1,str2):\n",
    "    L1=list(str1)\n",
    "    L2=list(str2)\n",
    "    D=0\n",
    "    for i in range(len(L1)):\n",
    "        if L1[i]!=L2[i]:\n",
    "            D=D+1\n",
    "    return D\n",
    "\n",
    "targetString=\"Patric\"\n",
    "currentString=makeRandomString(len(targetString))\n",
    "\n",
    "print difference(targetString,currentString)\n",
    "print targetString\n",
    "print currentString"
   ]
  },
  {
   "cell_type": "code",
   "execution_count": 2,
   "metadata": {
    "collapsed": false
   },
   "outputs": [
    {
     "name": "stdout",
     "output_type": "stream",
     "text": [
      "26\n",
      "This machine kills puppies\n",
      "V\f",
      "<w\\r)^'.7@Rt\n",
      ")E<&emf0eNp\n"
     ]
    }
   ],
   "source": [
    "targetString=\"This machine kills puppies\"\n",
    "currentString=makeRandomString(len(targetString))\n",
    "\n",
    "print difference(targetString,currentString)\n",
    "print targetString\n",
    "print currentString"
   ]
  },
  {
   "cell_type": "code",
   "execution_count": 7,
   "metadata": {
    "collapsed": false
   },
   "outputs": [
    {
     "name": "stdout",
     "output_type": "stream",
     "text": [
      "26\n",
      "This machine kills puppies\n",
      ",-+Cp*Nv%9%iIn{b,Vq RtRo\t\f",
      "\n",
      "127 25 ,-+Cp*Nv%9%iIn{b,Vq RtRi\t\f",
      "\n",
      "214 24 ,-+Cp*Nv%9%iIn{blVq RtRi\t\f",
      "\n",
      "332 23 ,-+Cp*Nv%9%iIn{blVq utRi\t\f",
      "\n",
      "411 22 ,-+Cp*av%9%iIn{blVq utRi\t\f",
      "\n",
      "802 21 ,-+Cp*ac%9%iIn{blVq utRi\t\f",
      "\n",
      "869 20 ,-+Cp*ac%9%iIn{blVq utRi\ts\n",
      "1447 19 ,-+Cp*ac%9%iIn{blV  utRi\ts\n",
      "1516 18 ,-+Cp*ac%9%iIn{bls  utRi\ts\n",
      "1573 17 ,-+Cp*ac%9%iIn{bls  utpi\ts\n",
      "1772 16 ,-iCp*ac%9%iIn{bls  utpi\ts\n",
      "1954 15 ,-iCp*ac%9%i n{bls  utpi\ts\n",
      "2305 14 ,-iCpmac%9%i n{bls  utpi\ts\n",
      "2803 13 ,hiCpmac%9%i n{bls  utpi\ts\n",
      "2816 12 ,hiCpmac%9ni n{bls  utpi\ts\n",
      "2863 11 ,hiCpmach9ni n{bls  utpi\ts\n",
      "3051 10 ,hispmach9ni n{bls  utpi\ts\n",
      "4078 9 ,hispmach9ni n{bls putpi\ts\n",
      "4169 8 ,hispmach9ni nibls putpi\ts\n",
      "4734 7 ,hispmach9ni nibls putpies\n",
      "5100 6 Thispmach9ni nibls putpies\n",
      "5128 5 Thispmachini nibls putpies\n",
      "5182 4 Thispmachine nibls putpies\n",
      "7535 3 Thispmachine nills putpies\n",
      "7722 2 Thispmachine nills puppies\n",
      "7943 1 Thispmachine kills puppies\n",
      "11986 0 This machine kills puppies\n"
     ]
    }
   ],
   "source": [
    "#This one works!\n",
    "\n",
    "targetString=\"This machine kills puppies\"\n",
    "currentString=makeRandomString(len(targetString))\n",
    "\n",
    "print difference(targetString,currentString)\n",
    "print targetString\n",
    "print currentString\n",
    "\n",
    "\n",
    "D1=difference(targetString,currentString)\n",
    "n=0\n",
    "while D1>0:\n",
    "    n=n+1\n",
    "    mutantString=mutateCharacter(currentString)\n",
    "    D2=difference(targetString,mutantString)\n",
    "    if D2<D1:\n",
    "        currentString=mutantString\n",
    "        D1=D2\n",
    "        print \"{0} {1} {2}\".format(n,D1,currentString)\n"
   ]
  },
  {
   "cell_type": "code",
   "execution_count": null,
   "metadata": {
    "collapsed": true
   },
   "outputs": [],
   "source": []
  }
 ],
 "metadata": {
  "kernelspec": {
   "display_name": "Python 2",
   "language": "python",
   "name": "python2"
  },
  "language_info": {
   "codemirror_mode": {
    "name": "ipython",
    "version": 2
   },
   "file_extension": ".py",
   "mimetype": "text/x-python",
   "name": "python",
   "nbconvert_exporter": "python",
   "pygments_lexer": "ipython2",
   "version": "2.7.10"
  }
 },
 "nbformat": 4,
 "nbformat_minor": 0
}
