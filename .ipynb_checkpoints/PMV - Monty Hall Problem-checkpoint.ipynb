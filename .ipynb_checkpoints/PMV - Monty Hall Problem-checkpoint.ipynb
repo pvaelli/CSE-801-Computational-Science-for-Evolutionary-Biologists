{
 "cells": [
  {
   "cell_type": "code",
   "execution_count": 1,
   "metadata": {
    "collapsed": false
   },
   "outputs": [
    {
     "name": "stdout",
     "output_type": "stream",
     "text": [
      "Populating the interactive namespace from numpy and matplotlib\n"
     ]
    }
   ],
   "source": [
    "%pylab inline\n",
    "from pandas import *\n",
    "import random"
   ]
  },
  {
   "cell_type": "code",
   "execution_count": 184,
   "metadata": {
    "collapsed": false
   },
   "outputs": [
    {
     "name": "stdout",
     "output_type": "stream",
     "text": [
      "If we stay:\n",
      "WINNER WINNER CHICKEN DINNER: 33357\n",
      "LOSERRRRR: 66643\n",
      "\n",
      "If we switch:\n",
      "WINNER WINNER CHICKEN DINNER: 66643\n",
      "LOSERRRRR: 33357\n"
     ]
    }
   ],
   "source": [
    "# First we need three doors and we need to pick a door. We can use a function that randomly picks a door (1,2,or 3)\n",
    "\n",
    "def pick_door():\n",
    "    door = random.randint(1,3)\n",
    "    return door\n",
    "\n",
    "switch_wins=0\n",
    "switch_losses=0\n",
    "stay_wins=0\n",
    "stay_losses=0\n",
    "\n",
    "for i in range(100000):\n",
    "    my_door = pick_door()\n",
    "\n",
    "# Now we need a prize door\n",
    "\n",
    "    prize_door = pick_door()\n",
    "\n",
    "# Now we need to open a donkey door that is neither of the above\n",
    "\n",
    "    donkey_door = pick_door()\n",
    "    while(donkey_door == prize_door) or (donkey_door==my_door):\n",
    "        donkey_door = pick_door()\n",
    "    \n",
    "# If we stay\n",
    "    if my_door == prize_door:\n",
    "        stay_wins=stay_wins+1\n",
    "    else:\n",
    "        stay_losses=stay_losses+1\n",
    "\n",
    "# If we switch doors\n",
    "    switch_door = random.randint(1,3)\n",
    "    while(switch_door == my_door) or (switch_door==donkey_door):\n",
    "        switch_door = random.randint(1,3)\n",
    "        \n",
    "# Let's tally up the score..\n",
    "    if switch_door == prize_door:\n",
    "        switch_wins=switch_wins+1\n",
    "    else:\n",
    "        switch_losses=switch_losses+1\n",
    "\n",
    "print \"If we stay:\"\n",
    "print \"WINNER WINNER CHICKEN DINNER: \"+str(stay_wins)\n",
    "print \"LOSERRRRR: \"+str(stay_losses)        \n",
    "print \"\"       \n",
    "print \"If we switch:\"\n",
    "print \"WINNER WINNER CHICKEN DINNER: \"+str(switch_wins)\n",
    "print \"LOSERRRRR: \"+str(switch_losses)"
   ]
  },
  {
   "cell_type": "code",
   "execution_count": 191,
   "metadata": {
    "collapsed": false
   },
   "outputs": [
    {
     "name": "stdout",
     "output_type": "stream",
     "text": [
      "If we stay:\n",
      "WINNER WINNER CHICKEN DINNER: 33290\n",
      "LOSERRRRR: 66710\n",
      "\n",
      "If we switch:\n",
      "WINNER WINNER CHICKEN DINNER: 66690\n",
      "LOSERRRRR: 33310\n"
     ]
    }
   ],
   "source": [
    "# Same as above, but running the switch and the stay separately \n",
    "\n",
    "# First we need three doors and we need to pick a door. We can use a function that randomly picks a door (1,2,or 3)\n",
    "\n",
    "def pick_door():\n",
    "    door = random.randint(1,3)\n",
    "    return door\n",
    "\n",
    "switch_wins=0\n",
    "switch_losses=0\n",
    "stay_wins=0\n",
    "stay_losses=0\n",
    "\n",
    "# Stay:\n",
    "\n",
    "for i in range(100000):\n",
    "    my_door = pick_door()\n",
    "\n",
    "# Now we need a prize door\n",
    "\n",
    "    prize_door = pick_door()\n",
    "\n",
    "# Now we need to open a donkey door that is neither of the above\n",
    "\n",
    "    donkey_door = pick_door()\n",
    "    while(donkey_door == prize_door) or (donkey_door==my_door):\n",
    "        donkey_door = pick_door()\n",
    "        \n",
    "# If we stay\n",
    "    if my_door == prize_door:\n",
    "        stay_wins=stay_wins+1\n",
    "    else:\n",
    "        stay_losses=stay_losses+1\n",
    "\n",
    "        \n",
    "# Switch:\n",
    "\n",
    "for i in range(100000):\n",
    "    my_door = pick_door()\n",
    "\n",
    "# Now we need a prize door\n",
    "\n",
    "    prize_door = pick_door()\n",
    "\n",
    "# Now we need to open a donkey door that is neither of the above\n",
    "\n",
    "    donkey_door = pick_door()\n",
    "    while(donkey_door == prize_door) or (donkey_door==my_door):\n",
    "        donkey_door = pick_door()\n",
    "        \n",
    "# Switch doors\n",
    "    switch_door = random.randint(1,3)\n",
    "    while(switch_door == my_door) or (switch_door==donkey_door):\n",
    "        switch_door = random.randint(1,3)\n",
    "        \n",
    "# Let's tally up the score..\n",
    "    if switch_door == prize_door:\n",
    "        switch_wins=switch_wins+1\n",
    "    else:\n",
    "        switch_losses=switch_losses+1\n",
    "\n",
    "\n",
    "print \"If we stay:\"\n",
    "print \"WINNER WINNER CHICKEN DINNER: \"+str(stay_wins)\n",
    "print \"LOSERRRRR: \"+str(stay_losses)        \n",
    "print \"\"       \n",
    "print \"If we switch:\"\n",
    "print \"WINNER WINNER CHICKEN DINNER: \"+str(switch_wins)\n",
    "print \"LOSERRRRR: \"+str(switch_losses)"
   ]
  },
  {
   "cell_type": "code",
   "execution_count": null,
   "metadata": {
    "collapsed": true
   },
   "outputs": [],
   "source": []
  }
 ],
 "metadata": {
  "kernelspec": {
   "display_name": "Python 2",
   "language": "python",
   "name": "python2"
  },
  "language_info": {
   "codemirror_mode": {
    "name": "ipython",
    "version": 2
   },
   "file_extension": ".py",
   "mimetype": "text/x-python",
   "name": "python",
   "nbconvert_exporter": "python",
   "pygments_lexer": "ipython2",
   "version": "2.7.10"
  }
 },
 "nbformat": 4,
 "nbformat_minor": 0
}
