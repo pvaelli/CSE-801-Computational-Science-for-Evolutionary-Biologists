{
 "cells": [
  {
   "cell_type": "code",
   "execution_count": 5,
   "metadata": {
    "collapsed": false
   },
   "outputs": [
    {
     "name": "stdout",
     "output_type": "stream",
     "text": [
      "A was larger than B, yeah!\n",
      "A wasn't larger than B, too bad!\n"
     ]
    }
   ],
   "source": [
    "b=10\n",
    "a=20\n",
    "if a>b:\n",
    "    print \"A was larger than B, yeah!\"\n",
    "print \"A wasn't larger than B, too bad!\"\n",
    "#the second print statement is still printed because it's not part of the if statement"
   ]
  },
  {
   "cell_type": "code",
   "execution_count": 7,
   "metadata": {
    "collapsed": false
   },
   "outputs": [
    {
     "name": "stdout",
     "output_type": "stream",
     "text": [
      "A was larger than B, yeah!\n"
     ]
    }
   ],
   "source": [
    "b=10\n",
    "a=20\n",
    "if a>b:\n",
    "    print \"A was larger than B, yeah!\"\n",
    "if a<b:\n",
    "    print \"A wasn't larger than B, too bad!\"\n",
    "#we could add another if statement, but this is a little primitive\n",
    "# this doesn't work if they're equal!!"
   ]
  },
  {
   "cell_type": "code",
   "execution_count": 9,
   "metadata": {
    "collapsed": false
   },
   "outputs": [
    {
     "name": "stdout",
     "output_type": "stream",
     "text": [
      "they are equal!\n"
     ]
    }
   ],
   "source": [
    "b=10\n",
    "a=10\n",
    "if a>b:\n",
    "    print \"A was larger than B, yeah!\"\n",
    "if a<b:\n",
    "    print \"A wasn't larger than B, too bad!\"\n",
    "if b==a:\n",
    "    print \"they are equal!\"\n",
    "    \n",
    "    # using == isn't very powerful because it then returns what could be complicated information into a TRUE or FALSE"
   ]
  },
  {
   "cell_type": "code",
   "execution_count": 10,
   "metadata": {
    "collapsed": false
   },
   "outputs": [
    {
     "name": "stdout",
     "output_type": "stream",
     "text": [
      "A was larger than B, yeah!\n",
      "they are unequal!\n"
     ]
    }
   ],
   "source": [
    "b=10\n",
    "a=100\n",
    "if a>b:\n",
    "    print \"A was larger than B, yeah!\"\n",
    "if a<b:\n",
    "    print \"A wasn't larger than B, too bad!\"\n",
    "if b==a:\n",
    "    print \"they are equal!\"\n",
    "if b!=a:\n",
    "    print \"they are unequal!\""
   ]
  },
  {
   "cell_type": "code",
   "execution_count": 11,
   "metadata": {
    "collapsed": false
   },
   "outputs": [
    {
     "name": "stdout",
     "output_type": "stream",
     "text": [
      "A wasn't larger than B, too bad!\n"
     ]
    }
   ],
   "source": [
    "a=10\n",
    "b=100\n",
    "if a>b:\n",
    "    print \"A was larger than B, yeah!\"\n",
    "else: # common syntax error is to forget the colon!\n",
    "    print \"A wasn't larger than B, too bad!\"\n",
    "    \n",
    "    # this is much smoother. think of a logic tree. we start at a node \"IF\", then as if a condition is TRUE, \n",
    "    # do something, otherwise do something else."
   ]
  },
  {
   "cell_type": "code",
   "execution_count": 12,
   "metadata": {
    "collapsed": false
   },
   "outputs": [
    {
     "ename": "IndentationError",
     "evalue": "expected an indented block (<ipython-input-12-cc532b10985e>, line 4)",
     "output_type": "error",
     "traceback": [
      "\u001b[0;36m  File \u001b[0;32m\"<ipython-input-12-cc532b10985e>\"\u001b[0;36m, line \u001b[0;32m4\u001b[0m\n\u001b[0;31m    print \"A was larger than B, yeah!\"\u001b[0m\n\u001b[0m        ^\u001b[0m\n\u001b[0;31mIndentationError\u001b[0m\u001b[0;31m:\u001b[0m expected an indented block\n"
     ]
    }
   ],
   "source": [
    "a=10\n",
    "b=100\n",
    "if a>b:\n",
    "print \"A was larger than B, yeah!\"\n",
    "else:\n",
    "print \"A wasn't larger than B, too bad!\"\n",
    "\n",
    "# this doesn't work because of blocking!! blocks belong to the IF or ELSE statements"
   ]
  },
  {
   "cell_type": "code",
   "execution_count": 13,
   "metadata": {
    "collapsed": false
   },
   "outputs": [
    {
     "name": "stdout",
     "output_type": "stream",
     "text": [
      "A was larger than B, yeah!\n",
      "This line belongs to the upper block\n"
     ]
    }
   ],
   "source": [
    "a=20\n",
    "b=10\n",
    "c=30\n",
    "if a>b:\n",
    "    print \"A was larger than B, yeah!\"\n",
    "    print \"This line belongs to the upper block\"\n",
    "else:\n",
    "    print \"A wasn't larger than B, too bad!\"\n",
    "    print \"I am in the other block\"\n",
    "    if a==c:\n",
    "        print \"a is equal to c\"\n",
    "    else:\n",
    "        print \"a isn't equal to c\"\n",
    "\n"
   ]
  },
  {
   "cell_type": "code",
   "execution_count": 17,
   "metadata": {
    "collapsed": false
   },
   "outputs": [
    {
     "name": "stdout",
     "output_type": "stream",
     "text": [
      "a equals 1\n"
     ]
    }
   ],
   "source": [
    "a=1\n",
    "if a>1:\n",
    "    if a ==2:\n",
    "        print \"a equals 2\"\n",
    "    else:\n",
    "        print \"a equals 3\"\n",
    "if a<=1:\n",
    "    if a ==1:\n",
    "        print \"a equals 1\"\n",
    "    else:\n",
    "        print \"a equals 0\"\n",
    "        \n",
    "        # this was my method, purposefully convoluted. Arend also proposed this in class as an option, said\n",
    "        # it was probably the best option of these examples."
   ]
  },
  {
   "cell_type": "code",
   "execution_count": 23,
   "metadata": {
    "collapsed": false
   },
   "outputs": [
    {
     "name": "stdout",
     "output_type": "stream",
     "text": [
      "two\n"
     ]
    }
   ],
   "source": [
    "a=2\n",
    "if a == 0:\n",
    "    print \"zero\"\n",
    "if a == 1:\n",
    "    print \"one\"\n",
    "if a == 2:\n",
    "    print \"two\"\n",
    "if a == 3:\n",
    "    print \"three\"\n",
    "    \n",
    "    # very simple option"
   ]
  },
  {
   "cell_type": "code",
   "execution_count": 24,
   "metadata": {
    "collapsed": false
   },
   "outputs": [
    {
     "name": "stdout",
     "output_type": "stream",
     "text": [
      "was three\n"
     ]
    }
   ],
   "source": [
    "a=3\n",
    "if a==0:\n",
    "    print \"was zero\"\n",
    "else:\n",
    "    if a==1:\n",
    "        print \"was one\"\n",
    "    else:\n",
    "        if a==2:\n",
    "            print \"was two\"\n",
    "        else:\n",
    "            print \"was three\"\n",
    "        \n",
    "        # Arend example, this works but also convoluted"
   ]
  },
  {
   "cell_type": "code",
   "execution_count": 27,
   "metadata": {
    "collapsed": false
   },
   "outputs": [
    {
     "name": "stdout",
     "output_type": "stream",
     "text": [
      "one of them is equal to ten\n"
     ]
    }
   ],
   "source": [
    "a=10\n",
    "b=20\n",
    "c=10\n",
    "if (a==10) or (b==10) or (c==10):\n",
    "    print \"one of them is equal to ten\""
   ]
  },
  {
   "cell_type": "code",
   "execution_count": 28,
   "metadata": {
    "collapsed": false
   },
   "outputs": [
    {
     "name": "stdout",
     "output_type": "stream",
     "text": [
      "both of them are equal to ten\n"
     ]
    }
   ],
   "source": [
    "a=10\n",
    "b=10\n",
    "if (a==10) and (b==10):\n",
    "    print \"both of them are equal to ten\""
   ]
  },
  {
   "cell_type": "code",
   "execution_count": 30,
   "metadata": {
    "collapsed": false
   },
   "outputs": [
    {
     "name": "stdout",
     "output_type": "stream",
     "text": [
      "one of them is equal to ten\n",
      "(a==10 AND b==10) or c==20\n",
      "a==10 AND (b==10 or c==20)\n"
     ]
    }
   ],
   "source": [
    "a=10\n",
    "b=20\n",
    "c=20\n",
    "if (a==10) or (b==10) or (c==10):\n",
    "    print \"one of them is equal to ten\"\n",
    "if ((a==10) and (b==10)) or (c==20):\n",
    "    print \"(a==10 AND b==10) or c==20\"\n",
    "if (a==10) and ((b==10) or (c==20)):\n",
    "    print \"a==10 AND (b==10 or c==20)\""
   ]
  },
  {
   "cell_type": "code",
   "execution_count": 32,
   "metadata": {
    "collapsed": true
   },
   "outputs": [],
   "source": [
    "a=10\n",
    "if (a!=10) and not (a!=10):\n",
    "    print \"what?\"\n",
    "    # doesn't work"
   ]
  },
  {
   "cell_type": "code",
   "execution_count": 34,
   "metadata": {
    "collapsed": false
   },
   "outputs": [
    {
     "name": "stdout",
     "output_type": "stream",
     "text": [
      "what?\n"
     ]
    }
   ],
   "source": [
    "a=10\n",
    "if (a!=10) or not (a!=10):\n",
    "    print \"what?\"\n",
    "    # use OR not AND"
   ]
  },
  {
   "cell_type": "code",
   "execution_count": 35,
   "metadata": {
    "collapsed": false
   },
   "outputs": [
    {
     "name": "stdout",
     "output_type": "stream",
     "text": [
      "YESS!!\n"
     ]
    }
   ],
   "source": [
    "b=10\n",
    "a=20\n",
    "if (a>=10) and (b<=20):\n",
    "    print \"YESS!!\""
   ]
  },
  {
   "cell_type": "markdown",
   "metadata": {},
   "source": [
    "a is going to be a number between 0 and 2 [0,2]\n",
    "b is going to be an number between 0 and 3\n",
    "\n",
    "find the difference between both numbers without using math!"
   ]
  },
  {
   "cell_type": "code",
   "execution_count": 41,
   "metadata": {
    "collapsed": false
   },
   "outputs": [
    {
     "name": "stdout",
     "output_type": "stream",
     "text": [
      "1.0\n"
     ]
    }
   ],
   "source": [
    "from numpy import *\n",
    "a=2\n",
    "b=1\n",
    "print sqrt((a-b)*(a-b))"
   ]
  },
  {
   "cell_type": "markdown",
   "metadata": {},
   "source": [
    "Once completed save this file in the dropbox, use the follwing naming convention\n",
    "HW1_PV\n",
    "HW for homework, 1 for hwk one, and PV for Patric Vaelli\n",
    "\n",
    "Deliver until Monday evening at 5pm!"
   ]
  },
  {
   "cell_type": "code",
   "execution_count": 49,
   "metadata": {
    "collapsed": true
   },
   "outputs": [],
   "source": [
    "import random\n",
    "a=random.randint(0,2)\n",
    "b=random.randint(0,3) # these commands give us a random integer value within set boundries and includes the boundries!"
   ]
  },
  {
   "cell_type": "code",
   "execution_count": 50,
   "metadata": {
    "collapsed": false
   },
   "outputs": [
    {
     "name": "stdout",
     "output_type": "stream",
     "text": [
      "1\n",
      "2\n"
     ]
    }
   ],
   "source": [
    "print a\n",
    "print b"
   ]
  },
  {
   "cell_type": "code",
   "execution_count": null,
   "metadata": {
    "collapsed": true
   },
   "outputs": [],
   "source": []
  }
 ],
 "metadata": {
  "kernelspec": {
   "display_name": "Python 2",
   "language": "python",
   "name": "python2"
  },
  "language_info": {
   "codemirror_mode": {
    "name": "ipython",
    "version": 2
   },
   "file_extension": ".py",
   "mimetype": "text/x-python",
   "name": "python",
   "nbconvert_exporter": "python",
   "pygments_lexer": "ipython2",
   "version": "2.7.10"
  }
 },
 "nbformat": 4,
 "nbformat_minor": 0
}
